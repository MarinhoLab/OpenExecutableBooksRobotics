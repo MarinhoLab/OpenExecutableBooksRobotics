{
 "cells": [
  {
   "cell_type": "markdown",
   "metadata": {},
   "source": [
    "# About this Notebook\n",
    "\n",
    "*License: CC-BY-NC-SA 4.0*\n",
    "\n",
    "*Author: Murilo M. Marinho (murilo.marinho@manchester.ac.uk)*\n",
    "\n",
    "### Pre-requisites\n",
    "The user of this notebook is expected to have prior knowledge in\n",
    "- Basic Python [[Tutorial]](https://docs.python.org/3/tutorial/index.html)\n",
    "- Numpy \n",
    "    - [[Tutorial: basics for beginners]](https://numpy.org/doc/stable/user/absolute_beginners.html)\n",
    "    - [[Tutorial: for MATLAB users]](https://numpy.org/doc/stable/user/numpy-for-matlab-users.html)\n",
    "- Jupyter Notebook Basics [[Tutorial]](https://docs.jupyter.org/en/latest/)\n",
    "\n",
    "### I found an issue\n",
    "Thank you! Please report it at https://github.com/MarinhoLab/OpenExecutableBooksRobotics/issues\n",
    "\n",
    "### Macros (do not touch these)"
   ]
  },
  {
   "cell_type": "markdown",
   "metadata": {
    "vscode": {
     "languageId": "latex"
    }
   },
   "source": [
    "$\\providecommand{\\myvec}[1]{{\\mathbf{\\boldsymbol{{#1}}}}}$\n",
    "$\\providecommand{\\mymatrix}[1]{{\\mathbf{\\boldsymbol{{#1}}}}}$"
   ]
  },
  {
   "cell_type": "raw",
   "metadata": {
    "vscode": {
     "languageId": "raw"
    }
   },
   "source": [
    "\\providecommand{\\myvec}[1]{{\\mathbf{\\boldsymbol{{#1}}}}}\n",
    "\\providecommand{\\mymatrix}[1]{{\\mathbf{\\boldsymbol{{#1}}}}}"
   ]
  },
  {
   "cell_type": "raw",
   "metadata": {
    "vscode": {
     "languageId": "raw"
    }
   },
   "source": [
    "\\(\n",
    "   \\def\\myvec#1{{\\mathbf{\\boldsymbol{{#1}}}}}\n",
    "   \\def\\mymatrix#1{{\\mathbf{\\boldsymbol{{#1}}}}}\n",
    "\\)"
   ]
  },
  {
   "cell_type": "markdown",
   "metadata": {},
   "source": [
    "# A quick Python refresher"
   ]
  },
  {
   "cell_type": "markdown",
   "metadata": {},
   "source": [
    "## Variable assignment \n",
    "\n",
    "Let\n",
    "\n",
    "$$a\\triangleq 10,b\\triangleq 5.$$\n",
    "\n",
    "We can replicate the above in Python with"
   ]
  },
  {
   "cell_type": "code",
   "execution_count": 1,
   "metadata": {},
   "outputs": [],
   "source": [
    "a = 10\n",
    "b = 5"
   ]
  },
  {
   "cell_type": "markdown",
   "metadata": {},
   "source": [
    "## Output variables\n",
    "Variables can be output using `print`. For example, for $a$"
   ]
  },
  {
   "cell_type": "code",
   "execution_count": 2,
   "metadata": {},
   "outputs": [
    {
     "name": "stdout",
     "output_type": "stream",
     "text": [
      "10\n"
     ]
    }
   ],
   "source": [
    "print(a)"
   ]
  },
  {
   "cell_type": "markdown",
   "metadata": {},
   "source": [
    "\n",
    "### Output text and variables using f-strings\n",
    "To output $a$ and $b$ within a string, we can use `print` and f-strings as follows"
   ]
  },
  {
   "cell_type": "code",
   "execution_count": 3,
   "metadata": {},
   "outputs": [
    {
     "name": "stdout",
     "output_type": "stream",
     "text": [
      "The value of a = 10 and b = 5.\n"
     ]
    }
   ],
   "source": [
    "print(f'The value of a = {a} and b = {b}.')"
   ]
  },
  {
   "cell_type": "markdown",
   "metadata": {},
   "source": [
    "# Basic Arithmetics\n",
    "\n",
    "Basic mathematical operations are trivially performed as follows.\n",
    "\n",
    "#### Sum\n",
    "\n",
    "$$c = a + b.$$"
   ]
  },
  {
   "cell_type": "code",
   "execution_count": 4,
   "metadata": {},
   "outputs": [
    {
     "name": "stdout",
     "output_type": "stream",
     "text": [
      "c=15\n"
     ]
    }
   ],
   "source": [
    "c = a + b\n",
    "\n",
    "print(f'c={c}')"
   ]
  },
  {
   "cell_type": "markdown",
   "metadata": {},
   "source": [
    "#### Subtraction\n",
    "$$c = a - b.$$"
   ]
  },
  {
   "cell_type": "code",
   "execution_count": 5,
   "metadata": {},
   "outputs": [
    {
     "name": "stdout",
     "output_type": "stream",
     "text": [
      "c=5\n"
     ]
    }
   ],
   "source": [
    "c = a - b\n",
    "\n",
    "print(f'c={c}')"
   ]
  },
  {
   "cell_type": "markdown",
   "metadata": {},
   "source": [
    "#### Multiplication\n",
    "$$c=a.b$$"
   ]
  },
  {
   "cell_type": "code",
   "execution_count": 6,
   "metadata": {},
   "outputs": [
    {
     "name": "stdout",
     "output_type": "stream",
     "text": [
      "c=50\n"
     ]
    }
   ],
   "source": [
    "c = a * b\n",
    "\n",
    "print(f'c={c}')"
   ]
  },
  {
   "cell_type": "markdown",
   "metadata": {},
   "source": [
    "#### Division\n",
    "$$c = \\frac{a}{b}$$"
   ]
  },
  {
   "cell_type": "code",
   "execution_count": 7,
   "metadata": {},
   "outputs": [
    {
     "name": "stdout",
     "output_type": "stream",
     "text": [
      "c=2.0\n"
     ]
    }
   ],
   "source": [
    "c = a / b\n",
    "\n",
    "print(f'c={c}')"
   ]
  },
  {
   "cell_type": "markdown",
   "metadata": {},
   "source": [
    "### Exponentiation\n",
    "$$c = a^{b}$$"
   ]
  },
  {
   "cell_type": "code",
   "execution_count": 8,
   "metadata": {},
   "outputs": [
    {
     "name": "stdout",
     "output_type": "stream",
     "text": [
      "c=100000\n"
     ]
    }
   ],
   "source": [
    "c = a ** b\n",
    "\n",
    "print(f'c={c}')"
   ]
  },
  {
   "cell_type": "markdown",
   "metadata": {},
   "source": [
    "### Square root\n",
    "\n",
    "$$c = \\sqrt{a}$$"
   ]
  },
  {
   "cell_type": "code",
   "execution_count": 9,
   "metadata": {},
   "outputs": [],
   "source": [
    "from math import sqrt # Note that the import needs only, in general, be called once per script\n",
    "\n",
    "c = sqrt(a)"
   ]
  },
  {
   "cell_type": "markdown",
   "metadata": {},
   "source": [
    "### n-th root\n",
    "The nth root,\n",
    "\n",
    "$$c= \\sqrt[n]{a}, n \\in \\mathbb{N},$$\n",
    "\n",
    "does not seem to have a shorthanded version in Python, but can computed through simple properties such as\n",
    "\n",
    "$$c = \\sqrt[n]{a} = a^{\\frac{1}{n}} = e^{\\frac{ln(a)}{n}}.$$\n",
    "\n",
    "For example, suppose that\n",
    "\n",
    "$$n = 3.$$ \n",
    "\n",
    "Then,"
   ]
  },
  {
   "cell_type": "code",
   "execution_count": 10,
   "metadata": {},
   "outputs": [],
   "source": [
    "n=3"
   ]
  },
  {
   "cell_type": "markdown",
   "metadata": {},
   "source": [
    "and we can calculate the n-th root like so"
   ]
  },
  {
   "cell_type": "code",
   "execution_count": 11,
   "metadata": {},
   "outputs": [
    {
     "name": "stdout",
     "output_type": "stream",
     "text": [
      "c=2.154434690031884\n"
     ]
    }
   ],
   "source": [
    "# n-th root using fractional exponent. Might be easier but most languages do not support a similar syntax\n",
    "c = a ** (1/n)\n",
    "\n",
    "print(f'c={c}')"
   ]
  },
  {
   "cell_type": "markdown",
   "metadata": {},
   "source": [
    "or like so"
   ]
  },
  {
   "cell_type": "code",
   "execution_count": 12,
   "metadata": {},
   "outputs": [
    {
     "name": "stdout",
     "output_type": "stream",
     "text": [
      "c=2.154434690031884\n"
     ]
    }
   ],
   "source": [
    "# n-th root using exp/log\n",
    "from math import exp, log\n",
    "\n",
    "c = exp(log(a)/n)\n",
    "\n",
    "print(f'c={c}')"
   ]
  },
  {
   "cell_type": "markdown",
   "metadata": {},
   "source": [
    "and both should output the same value.\n",
    "\n",
    "### Trigonometric functions\n",
    "\n",
    "$$ \\phi = \\frac{\\pi}{4},$$\n",
    "$$ s_{\\phi} = \\sin \\left( \\phi \\right),$$\n",
    "$$ c_{\\phi} = \\cos \\left( \\phi \\right),$$\n",
    "$$ t_{\\phi} = \\tan \\left( \\phi \\right).$$"
   ]
  },
  {
   "cell_type": "code",
   "execution_count": 13,
   "metadata": {},
   "outputs": [
    {
     "name": "stdout",
     "output_type": "stream",
     "text": [
      "phi=0.7853981633974483\n",
      "s_phi=0.7071067811865475\n",
      "c_phi=0.7071067811865476\n",
      "t_phi=0.9999999999999999\n"
     ]
    }
   ],
   "source": [
    "from math import pi, sin, cos, tan\n",
    "\n",
    "phi = pi/4.0\n",
    "s_phi = sin(phi)\n",
    "c_phi = cos(phi)\n",
    "t_phi = tan(phi)\n",
    "\n",
    "print(f'phi={phi}')\n",
    "print(f's_phi={s_phi}')\n",
    "print(f'c_phi={c_phi}')\n",
    "print(f't_phi={t_phi}')"
   ]
  },
  {
   "cell_type": "markdown",
   "metadata": {},
   "source": [
    "# Linear Algebra with Numpy\n",
    "\n",
    "### Installing the library\n",
    "\n",
    "Just in case `numpy` is not already installed, we can install it with the following command. Nothing will happen if the library is already installed."
   ]
  },
  {
   "cell_type": "code",
   "execution_count": 14,
   "metadata": {},
   "outputs": [
    {
     "name": "stdout",
     "output_type": "stream",
     "text": [
      "Requirement already satisfied: numpy in /opt/homebrew/lib/python3.12/site-packages (1.26.4)\n",
      "\n",
      "\u001b[1m[\u001b[0m\u001b[34;49mnotice\u001b[0m\u001b[1;39;49m]\u001b[0m\u001b[39;49m A new release of pip is available: \u001b[0m\u001b[31;49m24.3.1\u001b[0m\u001b[39;49m -> \u001b[0m\u001b[32;49m25.0\u001b[0m\n",
      "\u001b[1m[\u001b[0m\u001b[34;49mnotice\u001b[0m\u001b[1;39;49m]\u001b[0m\u001b[39;49m To update, run: \u001b[0m\u001b[32;49mpython3.12 -m pip install --upgrade pip\u001b[0m\n",
      "Note: you may need to restart the kernel to use updated packages.\n",
      "\n",
      "\u001b[1m[\u001b[0m\u001b[34;49mnotice\u001b[0m\u001b[1;39;49m]\u001b[0m\u001b[39;49m A new release of pip is available: \u001b[0m\u001b[31;49m24.3.1\u001b[0m\u001b[39;49m -> \u001b[0m\u001b[32;49m25.0\u001b[0m\n",
      "\u001b[1m[\u001b[0m\u001b[34;49mnotice\u001b[0m\u001b[1;39;49m]\u001b[0m\u001b[39;49m To update, run: \u001b[0m\u001b[32;49mpython3.12 -m pip install --upgrade pip\u001b[0m\n",
      "\u001b[1;31merror\u001b[0m: \u001b[1mexternally-managed-environment\u001b[0m\n",
      "\n",
      "\u001b[31m×\u001b[0m This environment is externally managed\n",
      "\u001b[31m╰─>\u001b[0m To install Python packages system-wide, try brew install\n",
      "\u001b[31m   \u001b[0m xyz, where xyz is the package you are trying to\n",
      "\u001b[31m   \u001b[0m install.\n",
      "\u001b[31m   \u001b[0m \n",
      "\u001b[31m   \u001b[0m If you wish to install a Python library that isn't in Homebrew,\n",
      "\u001b[31m   \u001b[0m use a virtual environment:\n",
      "\u001b[31m   \u001b[0m \n",
      "\u001b[31m   \u001b[0m python3 -m venv path/to/venv\n",
      "\u001b[31m   \u001b[0m source path/to/venv/bin/activate\n",
      "\u001b[31m   \u001b[0m python3 -m pip install xyz\n",
      "\u001b[31m   \u001b[0m \n",
      "\u001b[31m   \u001b[0m If you wish to install a Python application that isn't in Homebrew,\n",
      "\u001b[31m   \u001b[0m it may be easiest to use 'pipx install xyz', which will manage a\n",
      "\u001b[31m   \u001b[0m virtual environment for you. You can install pipx with\n",
      "\u001b[31m   \u001b[0m \n",
      "\u001b[31m   \u001b[0m brew install pipx\n",
      "\u001b[31m   \u001b[0m \n",
      "\u001b[31m   \u001b[0m You may restore the old behavior of pip by passing\n",
      "\u001b[31m   \u001b[0m the '--break-system-packages' flag to pip, or by adding\n",
      "\u001b[31m   \u001b[0m 'break-system-packages = true' to your pip.conf file. The latter\n",
      "\u001b[31m   \u001b[0m will permanently disable this error.\n",
      "\u001b[31m   \u001b[0m \n",
      "\u001b[31m   \u001b[0m If you disable this error, we STRONGLY recommend that you additionally\n",
      "\u001b[31m   \u001b[0m pass the '--user' flag to pip, or set 'user = true' in your pip.conf\n",
      "\u001b[31m   \u001b[0m file. Failure to do this can result in a broken Homebrew installation.\n",
      "\u001b[31m   \u001b[0m \n",
      "\u001b[31m   \u001b[0m Read more about this behavior here: <https://peps.python.org/pep-0668/>\n",
      "\n",
      "\u001b[1;35mnote\u001b[0m: If you believe this is a mistake, please contact your Python installation or OS distribution provider. You can override this, at the risk of breaking your Python installation or OS, by passing --break-system-packages.\n",
      "\u001b[1;36mhint\u001b[0m: See PEP 668 for the detailed specification.\n",
      "Note: you may need to restart the kernel to use updated packages.\n"
     ]
    }
   ],
   "source": [
    "%pip install numpy --break-system-packages\n",
    "%pip install numpy"
   ]
  },
  {
   "cell_type": "markdown",
   "metadata": {},
   "source": [
    "### Importing the library\n",
    "\n",
    "<div class=\"alert alert-block alert-info\">\n",
    "In this notebook we will import the module each time we use it, for clarity. However, for a regular Python script, you only need to do that once in general.\n",
    "</div>"
   ]
  },
  {
   "cell_type": "code",
   "execution_count": 15,
   "metadata": {},
   "outputs": [],
   "source": [
    "import numpy as np"
   ]
  },
  {
   "cell_type": "markdown",
   "metadata": {},
   "source": [
    "### Instantiating vectors\n",
    "A row vector can be instanteated from a list of list. For instance, for \n",
    "$$\\myvec{v} = \\left[\\begin{array}{ccc}\n",
    "         1 & 2 \n",
    "        \\end{array}\\right],\n",
    "$$ \n",
    "we have"
   ]
  },
  {
   "cell_type": "code",
   "execution_count": 16,
   "metadata": {},
   "outputs": [
    {
     "name": "stdout",
     "output_type": "stream",
     "text": [
      "v=[[1 2]]\n"
     ]
    }
   ],
   "source": [
    "import numpy as np \n",
    "\n",
    "# Note the double [[]] to instanteate a vector with explicit row shape.\n",
    "v = np.array([[1, 2]])\n",
    "\n",
    "print(f'v={v}')"
   ]
  },
  {
   "cell_type": "markdown",
   "metadata": {},
   "source": [
    "A column vector can be instanted from a list of singleton *lists*. For instance, for \n",
    "$$\\myvec{u} = \\left[\\begin{array}{ccc}\n",
    "         1 \\\\\n",
    "         2\n",
    "        \\end{array}\\right],$$ \n",
    "we have"
   ]
  },
  {
   "cell_type": "code",
   "execution_count": 17,
   "metadata": {},
   "outputs": [
    {
     "name": "stdout",
     "output_type": "stream",
     "text": [
      "u=[[1]\n",
      " [2]]\n"
     ]
    }
   ],
   "source": [
    "import numpy as np \n",
    "\n",
    "# Note that each row is defined by a single element within a [], while the whole vector is within an external []\n",
    "u = np.array([[1],\n",
    "              [2]])\n",
    "\n",
    "print(f'u={u}')"
   ]
  },
  {
   "cell_type": "markdown",
   "metadata": {},
   "source": [
    "### Dot product\n",
    "\n",
    "$$\\myvec{c} = <\\myvec{u},\\myvec{u}>$$ "
   ]
  },
  {
   "cell_type": "code",
   "execution_count": 18,
   "metadata": {},
   "outputs": [
    {
     "name": "stdout",
     "output_type": "stream",
     "text": [
      "c=5\n"
     ]
    }
   ],
   "source": [
    "import numpy as np\n",
    "\n",
    "c = np.vdot(u,u)\n",
    "\n",
    "print(f'c={c}')"
   ]
  },
  {
   "cell_type": "markdown",
   "metadata": {},
   "source": [
    "### Euclidean norm\n",
    "\n",
    "$$\\myvec{c} = ||\\myvec{u}||$$ \n",
    "\n",
    "<div class=\"alert alert-block alert-info\">\n",
    "Note that the function is np.<b>linalg</b>.norm, as the norm calculation is within the module <b>linalg</b>.\n",
    "</div>"
   ]
  },
  {
   "cell_type": "code",
   "execution_count": 19,
   "metadata": {},
   "outputs": [
    {
     "name": "stdout",
     "output_type": "stream",
     "text": [
      "c=2.23606797749979\n"
     ]
    }
   ],
   "source": [
    "import numpy as np\n",
    "\n",
    "c = np.linalg.norm(u)\n",
    "\n",
    "print(f'c={c}')"
   ]
  },
  {
   "cell_type": "markdown",
   "metadata": {},
   "source": [
    "### Instantiating matrices\n",
    "For instance, suppose that we want to instanteate two real square matrices\n",
    "$$\\mymatrix{A} = \\left[\\begin{array}{ccc}\n",
    "         1 & 2 \\\\\n",
    "         3 & 4 \n",
    "        \\end{array}\\right],\n",
    "\\mymatrix{B} = \\left[\\begin{array}{ccc}\n",
    "        5 & 6 \\\\\n",
    "        7 & 8 \n",
    "        \\end{array}\\right] \n",
    "$$"
   ]
  },
  {
   "cell_type": "code",
   "execution_count": 20,
   "metadata": {},
   "outputs": [
    {
     "name": "stdout",
     "output_type": "stream",
     "text": [
      "A=[[1 2]\n",
      " [3 4]],\n",
      "\n",
      "B=[[5 6]\n",
      " [7 8]]\n"
     ]
    }
   ],
   "source": [
    "import numpy as np \n",
    "\n",
    "A = np.array([[1, 2], \n",
    "              [3, 4]])\n",
    "B = np.array([[5, 6], \n",
    "              [7, 8]])\n",
    "\n",
    "print(f'A={A},\\n\\nB={B}')"
   ]
  },
  {
   "cell_type": "markdown",
   "metadata": {},
   "source": [
    "### Transpose\n",
    "\n",
    "$$\\mymatrix{C} = \\mymatrix{A}^T$$ "
   ]
  },
  {
   "cell_type": "code",
   "execution_count": 21,
   "metadata": {},
   "outputs": [
    {
     "name": "stdout",
     "output_type": "stream",
     "text": [
      "C=[[1 3]\n",
      " [2 4]]\n"
     ]
    }
   ],
   "source": [
    "import numpy as np \n",
    "\n",
    "C = A.T\n",
    "\n",
    "print(f'C={C}')"
   ]
  },
  {
   "cell_type": "markdown",
   "metadata": {},
   "source": [
    "### Sum\n",
    "\n",
    "$$ \\mymatrix{C} = \\mymatrix{A} + \\mymatrix{B} $$"
   ]
  },
  {
   "cell_type": "code",
   "execution_count": 22,
   "metadata": {},
   "outputs": [
    {
     "name": "stdout",
     "output_type": "stream",
     "text": [
      "C=[[ 6  8]\n",
      " [10 12]]\n"
     ]
    }
   ],
   "source": [
    "import numpy as np \n",
    "\n",
    "C = A + B\n",
    "\n",
    "print(f'C={C}')"
   ]
  },
  {
   "cell_type": "markdown",
   "metadata": {},
   "source": [
    "### Subtraction\n",
    "\n",
    "$$ \\mymatrix{C} = \\mymatrix{A} - \\mymatrix{B} $$"
   ]
  },
  {
   "cell_type": "code",
   "execution_count": 23,
   "metadata": {},
   "outputs": [
    {
     "name": "stdout",
     "output_type": "stream",
     "text": [
      "C=[[-4 -4]\n",
      " [-4 -4]]\n"
     ]
    }
   ],
   "source": [
    "import numpy as np \n",
    "\n",
    "C = A - B\n",
    "\n",
    "print(f'C={C}')"
   ]
  },
  {
   "cell_type": "markdown",
   "metadata": {},
   "source": [
    "### Matrix multiplication\n",
    "\n",
    "For instance,\n",
    "$$C = A.B$$\n",
    "is implemented with\n",
    "\n",
    "<div class=\"alert alert-block alert-info\">\n",
    "The matrix multiplication operator, <b>@</b>, is very unusual. Pay close attention.\n",
    "Mistaking this can be a major source of bugs and confusion.\n",
    "</div>"
   ]
  },
  {
   "cell_type": "code",
   "execution_count": 24,
   "metadata": {},
   "outputs": [
    {
     "name": "stdout",
     "output_type": "stream",
     "text": [
      "C=[[19 22]\n",
      " [43 50]]\n"
     ]
    }
   ],
   "source": [
    "import numpy as np \n",
    "\n",
    "C = A @ B # Alternatively C = np.matmul(A,B), but that is too verbose\n",
    "\n",
    "print(f'C={C}')"
   ]
  },
  {
   "cell_type": "markdown",
   "metadata": {},
   "source": [
    "which will naturally work for the vectors we defined. For example\n",
    "$$\\myvec{c} = \\myvec{u}.\\myvec{v} = \\left[\\begin{array}{ccc}\n",
    "         1 & 2 \\\\\n",
    "         2 & 4 \n",
    "        \\end{array}\\right],\n",
    "$$\n",
    "$$ \\myvec{d} = \\myvec{v}.\\myvec{u} = 5.\n",
    "$$"
   ]
  },
  {
   "cell_type": "code",
   "execution_count": 25,
   "metadata": {},
   "outputs": [
    {
     "name": "stdout",
     "output_type": "stream",
     "text": [
      "c=[[1 2]\n",
      " [2 4]],\n",
      "\n",
      "d=[[5]]\n"
     ]
    }
   ],
   "source": [
    "import numpy as np \n",
    "\n",
    "c = u @ v \n",
    "d = v @ u \n",
    "\n",
    "print(f'c={c},\\n\\nd={d}')"
   ]
  },
  {
   "cell_type": "markdown",
   "metadata": {},
   "source": [
    "and, of course, matrices and vectors\n",
    "\n",
    "$$ \\myvec{c} = \\myvec{A}\\myvec{u} $$\n",
    "\n",
    "<div class=\"alert alert-block alert-info\">\n",
    "We only use the \".\" sign to denote matrix multiplication when otherwise it would be difficult to read the equation.\n",
    "</div>"
   ]
  },
  {
   "cell_type": "code",
   "execution_count": 26,
   "metadata": {},
   "outputs": [
    {
     "name": "stdout",
     "output_type": "stream",
     "text": [
      "c=[[ 5]\n",
      " [11]],\n",
      "\n"
     ]
    }
   ],
   "source": [
    "import numpy as np \n",
    "\n",
    "c = A @ u \n",
    "\n",
    "print(f'c={c},\\n')"
   ]
  },
  {
   "cell_type": "markdown",
   "metadata": {},
   "source": [
    "### Diagonal matrices\n",
    "\n",
    "Diagonal matrices get increasingly sparse with size, so it is important to have shorthanded commands for creating them. For instance, suppose that we have the following diagonal matrix\n",
    "\n",
    "$$\\mymatrix{D} = \\left[\\begin{array}{ccc}\n",
    "         1 & 0 & 0 \\\\\n",
    "         0 & 2 & 0 \\\\\n",
    "         0 & 0 & 3   \n",
    "        \\end{array}\\right] ,\n",
    "$$\n",
    "\n",
    "this can be instanteated in `numpy` with"
   ]
  },
  {
   "cell_type": "code",
   "execution_count": 27,
   "metadata": {},
   "outputs": [
    {
     "name": "stdout",
     "output_type": "stream",
     "text": [
      "D=[[1 0 0]\n",
      " [0 2 0]\n",
      " [0 0 3]].\n"
     ]
    }
   ],
   "source": [
    "import numpy as np \n",
    "\n",
    "D = np.diag([1, 2, 3])\n",
    "\n",
    "print(f'D={D}.')"
   ]
  },
  {
   "cell_type": "markdown",
   "metadata": {},
   "source": [
    "### Identity matrix\n",
    "\n",
    "Among frequently used diagonal matrices, the identity matrix appears frequently. For instance, \n",
    "\n",
    "$$ \\mymatrix{I}_3 = \\left[\\begin{array}{ccc}\n",
    "         1 & 0 & 0 \\\\\n",
    "         0 & 1 & 0 \\\\\n",
    "         0 & 0 & 1   \n",
    "        \\end{array}\\right],\n",
    "$$ \n",
    "\n",
    "can be instanteated in `numpy` with"
   ]
  },
  {
   "cell_type": "code",
   "execution_count": 28,
   "metadata": {},
   "outputs": [
    {
     "name": "stdout",
     "output_type": "stream",
     "text": [
      "I_3=[[1. 0. 0.]\n",
      " [0. 1. 0.]\n",
      " [0. 0. 1.]].\n"
     ]
    }
   ],
   "source": [
    "import numpy as np \n",
    "\n",
    "I_3 = np.eye(3)\n",
    "\n",
    "print(f'I_3={I_3}.')"
   ]
  },
  {
   "cell_type": "markdown",
   "metadata": {},
   "source": [
    "### Zero matrix\n",
    "\n",
    "Another frequently used matrix is the zero matrix. For instance,\n",
    "\n",
    "$$ \\mymatrix{O}_3 = \\left[\\begin{array}{ccc}\n",
    "         0 & 0 & 0 \\\\\n",
    "         0 & 0 & 0 \\\\\n",
    "         0 & 0 & 0   \n",
    "        \\end{array}\\right],\n",
    "$$ \n",
    "\n",
    "<div class=\"alert alert-block alert-info\">\n",
    "The <b>np.zeros</b> function takes a tuple to generate a properly sized matrix. Do not confuse it with <b>np.eye</b> that accepts a scalar.\n",
    "</div>"
   ]
  },
  {
   "cell_type": "code",
   "execution_count": 29,
   "metadata": {},
   "outputs": [
    {
     "name": "stdout",
     "output_type": "stream",
     "text": [
      "O_3=[[0. 0. 0.]\n",
      " [0. 0. 0.]\n",
      " [0. 0. 0.]].\n"
     ]
    }
   ],
   "source": [
    "import numpy as np \n",
    "\n",
    "O_3 = np.zeros((3,3))\n",
    "\n",
    "print(f'O_3={O_3}.')"
   ]
  },
  {
   "cell_type": "markdown",
   "metadata": {},
   "source": [
    "# The Robotics Toobox for Python\n",
    "In this unit, we will frequently rely on [`Robotics Toolbox for Python`](https://github.com/petercorke/robotics-toolbox-python), by Peter Corke and contributors.\n",
    "\n",
    "This powerful toolbox will allow to perform robotics operations. "
   ]
  },
  {
   "cell_type": "code",
   "execution_count": 30,
   "metadata": {},
   "outputs": [
    {
     "name": "stdout",
     "output_type": "stream",
     "text": [
      "Requirement already satisfied: roboticstoolbox-python in /opt/homebrew/lib/python3.12/site-packages (1.1.1)\n",
      "Requirement already satisfied: numpy>=1.17.4 in /opt/homebrew/lib/python3.12/site-packages (from roboticstoolbox-python) (1.26.4)\n",
      "Requirement already satisfied: spatialmath-python>=1.1.5 in /opt/homebrew/lib/python3.12/site-packages (from roboticstoolbox-python) (1.1.13)\n",
      "Requirement already satisfied: spatialgeometry>=1.0.0 in /opt/homebrew/lib/python3.12/site-packages (from roboticstoolbox-python) (1.1.0)\n",
      "Requirement already satisfied: pgraph-python in /opt/homebrew/lib/python3.12/site-packages (from roboticstoolbox-python) (0.6.3)\n",
      "Requirement already satisfied: scipy in /opt/homebrew/lib/python3.12/site-packages (from roboticstoolbox-python) (1.15.1)\n",
      "Requirement already satisfied: matplotlib in /opt/homebrew/lib/python3.12/site-packages (from roboticstoolbox-python) (3.5.1)\n",
      "Requirement already satisfied: ansitable in /opt/homebrew/lib/python3.12/site-packages (from roboticstoolbox-python) (0.11.4)\n",
      "Requirement already satisfied: swift-sim>=1.0.0 in /opt/homebrew/lib/python3.12/site-packages (from roboticstoolbox-python) (1.1.0)\n",
      "Requirement already satisfied: rtb-data in /opt/homebrew/lib/python3.12/site-packages (from roboticstoolbox-python) (1.0.1)\n",
      "Requirement already satisfied: progress in /opt/homebrew/lib/python3.12/site-packages (from roboticstoolbox-python) (1.6)\n",
      "Requirement already satisfied: typing-extensions in /opt/homebrew/lib/python3.12/site-packages (from roboticstoolbox-python) (4.12.2)\n",
      "Requirement already satisfied: pre-commit in /opt/homebrew/lib/python3.12/site-packages (from spatialmath-python>=1.1.5->roboticstoolbox-python) (4.1.0)\n",
      "Requirement already satisfied: cycler>=0.10 in /opt/homebrew/lib/python3.12/site-packages (from matplotlib->roboticstoolbox-python) (0.12.1)\n",
      "Requirement already satisfied: fonttools>=4.22.0 in /opt/homebrew/lib/python3.12/site-packages (from matplotlib->roboticstoolbox-python) (4.55.7)\n",
      "Requirement already satisfied: kiwisolver>=1.0.1 in /opt/homebrew/lib/python3.12/site-packages (from matplotlib->roboticstoolbox-python) (1.4.8)\n",
      "Requirement already satisfied: packaging>=20.0 in /Users/user/Library/Python/3.12/lib/python/site-packages (from matplotlib->roboticstoolbox-python) (24.1)\n",
      "Requirement already satisfied: pillow>=6.2.0 in /opt/homebrew/lib/python3.12/site-packages (from matplotlib->roboticstoolbox-python) (11.1.0)\n",
      "Requirement already satisfied: pyparsing>=2.2.1 in /opt/homebrew/lib/python3.12/site-packages (from matplotlib->roboticstoolbox-python) (3.2.1)\n",
      "Requirement already satisfied: python-dateutil>=2.7 in /Users/user/Library/Python/3.12/lib/python/site-packages (from matplotlib->roboticstoolbox-python) (2.9.0.post0)\n",
      "Requirement already satisfied: websockets in /opt/homebrew/lib/python3.12/site-packages (from swift-sim>=1.0.0->roboticstoolbox-python) (14.2)\n",
      "Requirement already satisfied: colored in /opt/homebrew/lib/python3.12/site-packages (from ansitable->roboticstoolbox-python) (2.2.5)\n",
      "Requirement already satisfied: six>=1.5 in /Users/user/Library/Python/3.12/lib/python/site-packages (from python-dateutil>=2.7->matplotlib->roboticstoolbox-python) (1.16.0)\n",
      "Requirement already satisfied: cfgv>=2.0.0 in /opt/homebrew/lib/python3.12/site-packages (from pre-commit->spatialmath-python>=1.1.5->roboticstoolbox-python) (3.4.0)\n",
      "Requirement already satisfied: identify>=1.0.0 in /opt/homebrew/lib/python3.12/site-packages (from pre-commit->spatialmath-python>=1.1.5->roboticstoolbox-python) (2.6.6)\n",
      "Requirement already satisfied: nodeenv>=0.11.1 in /opt/homebrew/lib/python3.12/site-packages (from pre-commit->spatialmath-python>=1.1.5->roboticstoolbox-python) (1.9.1)\n",
      "Requirement already satisfied: pyyaml>=5.1 in /opt/homebrew/lib/python3.12/site-packages (from pre-commit->spatialmath-python>=1.1.5->roboticstoolbox-python) (6.0.2)\n",
      "Requirement already satisfied: virtualenv>=20.10.0 in /opt/homebrew/lib/python3.12/site-packages (from pre-commit->spatialmath-python>=1.1.5->roboticstoolbox-python) (20.29.1)\n",
      "Requirement already satisfied: distlib<1,>=0.3.7 in /opt/homebrew/lib/python3.12/site-packages (from virtualenv>=20.10.0->pre-commit->spatialmath-python>=1.1.5->roboticstoolbox-python) (0.3.9)\n",
      "Requirement already satisfied: filelock<4,>=3.12.2 in /opt/homebrew/lib/python3.12/site-packages (from virtualenv>=20.10.0->pre-commit->spatialmath-python>=1.1.5->roboticstoolbox-python) (3.17.0)\n",
      "Requirement already satisfied: platformdirs<5,>=3.9.1 in /Users/user/Library/Python/3.12/lib/python/site-packages (from virtualenv>=20.10.0->pre-commit->spatialmath-python>=1.1.5->roboticstoolbox-python) (4.3.6)\n",
      "\n",
      "\u001b[1m[\u001b[0m\u001b[34;49mnotice\u001b[0m\u001b[1;39;49m]\u001b[0m\u001b[39;49m A new release of pip is available: \u001b[0m\u001b[31;49m24.3.1\u001b[0m\u001b[39;49m -> \u001b[0m\u001b[32;49m25.0\u001b[0m\n",
      "\u001b[1m[\u001b[0m\u001b[34;49mnotice\u001b[0m\u001b[1;39;49m]\u001b[0m\u001b[39;49m To update, run: \u001b[0m\u001b[32;49mpython3.12 -m pip install --upgrade pip\u001b[0m\n",
      "Note: you may need to restart the kernel to use updated packages.\n"
     ]
    }
   ],
   "source": [
    "%pip install roboticstoolbox-python --break-system-packages"
   ]
  }
 ],
 "metadata": {
  "kernelspec": {
   "display_name": "Python 3",
   "language": "python",
   "name": "python3"
  },
  "language_info": {
   "codemirror_mode": {
    "name": "ipython",
    "version": 3
   },
   "file_extension": ".py",
   "mimetype": "text/x-python",
   "name": "python",
   "nbconvert_exporter": "python",
   "pygments_lexer": "ipython3",
   "version": "3.12.8"
  }
 },
 "nbformat": 4,
 "nbformat_minor": 2
}
