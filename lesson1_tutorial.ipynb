{
 "cells": [
  {
   "cell_type": "markdown",
   "metadata": {},
   "source": [
    "# A quick Python refresher\n",
    "\n",
    "*License: CC-BY-NC-SA 4.0*\n",
    "\n",
    "*Author: Murilo M. Marinho (murilo.marinho@manchester.ac.uk)*\n",
    "\n",
    "### Pre-requisites\n",
    "The user of this notebook is expected to have prior knowledge in\n",
    "- Basic Python [[Tutorial]](https://docs.python.org/3/tutorial/index.html)\n",
    "- Numpy \n",
    "    - [[Tutorial: basics for beginners]](https://numpy.org/doc/stable/user/absolute_beginners.html)\n",
    "    - [[Tutorial: for MATLAB users]](https://numpy.org/doc/stable/user/numpy-for-matlab-users.html)\n",
    "- Jupyter Notebook Basics [[Tutorial]](https://docs.jupyter.org/en/latest/)\n",
    "\n",
    "### I found an issue\n",
    "Thank you! Please report it at https://github.com/MarinhoLab/OpenExecutableBooksRobotics/issues\n",
    "\n",
    "### Macros (do not touch these)"
   ]
  },
  {
   "cell_type": "markdown",
   "metadata": {
    "vscode": {
     "languageId": "latex"
    }
   },
   "source": [
    "$\\providecommand{\\myvec}[1]{{\\mathbf{\\boldsymbol{{#1}}}}}$\n",
    "$\\providecommand{\\mymatrix}[1]{{\\mathbf{\\boldsymbol{{#1}}}}}$"
   ]
  },
  {
   "cell_type": "raw",
   "metadata": {
    "vscode": {
     "languageId": "raw"
    }
   },
   "source": [
    "\\providecommand{\\myvec}[1]{{\\mathbf{\\boldsymbol{{#1}}}}}\n",
    "\\providecommand{\\mymatrix}[1]{{\\mathbf{\\boldsymbol{{#1}}}}}"
   ]
  },
  {
   "cell_type": "raw",
   "metadata": {
    "vscode": {
     "languageId": "raw"
    }
   },
   "source": []
  },
  {
   "cell_type": "markdown",
   "metadata": {},
   "source": [
    "# A quick Python refresher"
   ]
  },
  {
   "cell_type": "markdown",
   "metadata": {},
   "source": [
    "## Variable assignment \n",
    "\n",
    "Let\n",
    "\n",
    "$$a\\triangleq 10,b\\triangleq 5.$$\n",
    "\n",
    "We can replicate the above in Python with"
   ]
  },
  {
   "cell_type": "code",
   "execution_count": null,
   "metadata": {},
   "outputs": [],
   "source": [
    "a = 10\n",
    "b = 5"
   ]
  },
  {
   "cell_type": "markdown",
   "metadata": {},
   "source": [
    "## Output variables\n",
    "Variables can be output using `print`. For example, for $a$"
   ]
  },
  {
   "cell_type": "code",
   "execution_count": null,
   "metadata": {},
   "outputs": [],
   "source": [
    "print(a)"
   ]
  },
  {
   "cell_type": "markdown",
   "metadata": {},
   "source": [
    "\n",
    "### Output text and variables using f-strings\n",
    "To output $a$ and $b$ within a string, we can use `print` and f-strings as follows"
   ]
  },
  {
   "cell_type": "code",
   "execution_count": null,
   "metadata": {},
   "outputs": [],
   "source": [
    "print(f'The value of a = {a} and b = {b}.')"
   ]
  },
  {
   "cell_type": "markdown",
   "metadata": {},
   "source": [
    "# Basic Arithmetics\n",
    "\n",
    "Basic mathematical operations are trivially performed as follows.\n",
    "\n",
    "#### Sum\n",
    "\n",
    "$$c = a + b.$$"
   ]
  },
  {
   "cell_type": "code",
   "execution_count": null,
   "metadata": {},
   "outputs": [],
   "source": [
    "c = a + b\n",
    "\n",
    "print(f'c={c}')"
   ]
  },
  {
   "cell_type": "markdown",
   "metadata": {},
   "source": [
    "#### Subtraction\n",
    "$$c = a - b.$$"
   ]
  },
  {
   "cell_type": "code",
   "execution_count": null,
   "metadata": {},
   "outputs": [],
   "source": [
    "c = a - b\n",
    "\n",
    "print(f'c={c}')"
   ]
  },
  {
   "cell_type": "markdown",
   "metadata": {},
   "source": [
    "#### Multiplication\n",
    "$$c=a.b$$"
   ]
  },
  {
   "cell_type": "code",
   "execution_count": null,
   "metadata": {},
   "outputs": [],
   "source": [
    "c = a * b\n",
    "\n",
    "print(f'c={c}')"
   ]
  },
  {
   "cell_type": "markdown",
   "metadata": {},
   "source": [
    "#### Division\n",
    "$$c = \\frac{a}{b}$$"
   ]
  },
  {
   "cell_type": "code",
   "execution_count": null,
   "metadata": {},
   "outputs": [],
   "source": [
    "c = a / b\n",
    "\n",
    "print(f'c={c}')"
   ]
  },
  {
   "cell_type": "markdown",
   "metadata": {},
   "source": [
    "### Exponentiation\n",
    "$$c = a^{b}$$"
   ]
  },
  {
   "cell_type": "code",
   "execution_count": null,
   "metadata": {},
   "outputs": [],
   "source": [
    "c = a ** b\n",
    "\n",
    "print(f'c={c}')"
   ]
  },
  {
   "cell_type": "markdown",
   "metadata": {},
   "source": [
    "### Square root\n",
    "\n",
    "$$c = \\sqrt{a}$$"
   ]
  },
  {
   "cell_type": "code",
   "execution_count": null,
   "metadata": {},
   "outputs": [],
   "source": [
    "from math import sqrt # Note that the import needs only, in general, be called once per script\n",
    "\n",
    "c = sqrt(a)"
   ]
  },
  {
   "cell_type": "markdown",
   "metadata": {},
   "source": [
    "### n-th root\n",
    "The nth root,\n",
    "\n",
    "$$c= \\sqrt[n]{a}, n \\in \\mathbb{N},$$\n",
    "\n",
    "does not seem to have a shorthanded version in Python, but can computed through simple properties such as\n",
    "\n",
    "$$c = \\sqrt[n]{a} = a^{\\frac{1}{n}} = e^{\\frac{ln(a)}{n}}.$$\n",
    "\n",
    "For example, suppose that\n",
    "\n",
    "$$n = 3.$$ \n",
    "\n",
    "Then,"
   ]
  },
  {
   "cell_type": "code",
   "execution_count": null,
   "metadata": {},
   "outputs": [],
   "source": [
    "n=3"
   ]
  },
  {
   "cell_type": "markdown",
   "metadata": {},
   "source": [
    "and we can calculate the n-th root like so"
   ]
  },
  {
   "cell_type": "code",
   "execution_count": null,
   "metadata": {},
   "outputs": [],
   "source": [
    "# n-th root using fractional exponent. Might be easier but most languages do not support a similar syntax\n",
    "c = a ** (1/n)\n",
    "\n",
    "print(f'c={c}')"
   ]
  },
  {
   "cell_type": "markdown",
   "metadata": {},
   "source": [
    "or like so"
   ]
  },
  {
   "cell_type": "code",
   "execution_count": null,
   "metadata": {},
   "outputs": [],
   "source": [
    "# n-th root using exp/log\n",
    "from math import exp, log\n",
    "\n",
    "c = exp(log(a)/n)\n",
    "\n",
    "print(f'c={c}')"
   ]
  },
  {
   "cell_type": "markdown",
   "metadata": {},
   "source": [
    "and both should output the same value.\n",
    "\n",
    "### Trigonometric functions\n",
    "\n",
    "$$ \\phi = \\frac{\\pi}{4},$$\n",
    "$$ s_{\\phi} = \\sin \\left( \\phi \\right),$$\n",
    "$$ c_{\\phi} = \\cos \\left( \\phi \\right),$$\n",
    "$$ t_{\\phi} = \\tan \\left( \\phi \\right).$$"
   ]
  },
  {
   "cell_type": "code",
   "execution_count": null,
   "metadata": {},
   "outputs": [],
   "source": [
    "from math import pi, sin, cos, tan\n",
    "\n",
    "phi = pi/4.0\n",
    "s_phi = sin(phi)\n",
    "c_phi = cos(phi)\n",
    "t_phi = tan(phi)\n",
    "\n",
    "print(f'phi={phi}')\n",
    "print(f's_phi={s_phi}')\n",
    "print(f'c_phi={c_phi}')\n",
    "print(f't_phi={t_phi}')"
   ]
  },
  {
   "cell_type": "markdown",
   "metadata": {},
   "source": [
    "# Linear Algebra with Numpy\n",
    "\n",
    "### Installing the library\n",
    "\n",
    "Just in case `numpy` is not already installed, we can install it with the following command. Nothing will happen if the library is already installed."
   ]
  },
  {
   "cell_type": "code",
   "execution_count": null,
   "metadata": {},
   "outputs": [],
   "source": [
    "%%capture\n",
    "%pip install numpy --break-system-packages\n",
    "%pip install numpy"
   ]
  },
  {
   "cell_type": "markdown",
   "metadata": {},
   "source": [
    "### Importing the library\n",
    "\n",
    "<div class=\"alert alert-block alert-info\">\n",
    "In this notebook we will import the module each time we use it, for clarity. However, for a regular Python script, you only need to do that once in general.\n",
    "</div>"
   ]
  },
  {
   "cell_type": "code",
   "execution_count": null,
   "metadata": {},
   "outputs": [],
   "source": [
    "import numpy as np"
   ]
  },
  {
   "cell_type": "markdown",
   "metadata": {},
   "source": [
    "### Instantiating vectors\n",
    "A row vector can be instanteated from a list of list. For instance, for \n",
    "$$\\myvec{v} = \\left[\\begin{array}{ccc}\n",
    "         1 & 2 \n",
    "        \\end{array}\\right],\n",
    "$$ \n",
    "we have"
   ]
  },
  {
   "cell_type": "code",
   "execution_count": null,
   "metadata": {},
   "outputs": [],
   "source": [
    "import numpy as np \n",
    "\n",
    "# Note the double [[]] to instanteate a vector with explicit row shape.\n",
    "v = np.array([[1, 2]])\n",
    "\n",
    "print(f'v={v}')"
   ]
  },
  {
   "cell_type": "markdown",
   "metadata": {},
   "source": [
    "A column vector can be instanted from a list of singleton *lists*. For instance, for \n",
    "$$\\myvec{u} = \\left[\\begin{array}{ccc}\n",
    "         1 \\\\\n",
    "         2\n",
    "        \\end{array}\\right],$$ \n",
    "we have"
   ]
  },
  {
   "cell_type": "code",
   "execution_count": null,
   "metadata": {},
   "outputs": [],
   "source": [
    "import numpy as np \n",
    "\n",
    "# Note that each row is defined by a single element within a [], while the whole vector is within an external []\n",
    "u = np.array([[1],\n",
    "              [2]])\n",
    "\n",
    "print(f'u={u}')"
   ]
  },
  {
   "cell_type": "markdown",
   "metadata": {},
   "source": [
    "### Dot product\n",
    "\n",
    "$$\\myvec{c} = <\\myvec{u},\\myvec{u}>$$ "
   ]
  },
  {
   "cell_type": "code",
   "execution_count": null,
   "metadata": {},
   "outputs": [],
   "source": [
    "import numpy as np\n",
    "\n",
    "c = np.vdot(u,u)\n",
    "\n",
    "print(f'c={c}')"
   ]
  },
  {
   "cell_type": "markdown",
   "metadata": {},
   "source": [
    "### Euclidean norm\n",
    "\n",
    "$$\\myvec{c} = ||\\myvec{u}||$$ \n",
    "\n",
    "<div class=\"alert alert-block alert-info\">\n",
    "Note that the function is np.<b>linalg</b>.norm, as the norm calculation is within the module <b>linalg</b>.\n",
    "</div>"
   ]
  },
  {
   "cell_type": "code",
   "execution_count": null,
   "metadata": {},
   "outputs": [],
   "source": [
    "import numpy as np\n",
    "\n",
    "c = np.linalg.norm(u)\n",
    "\n",
    "print(f'c={c}')"
   ]
  },
  {
   "cell_type": "markdown",
   "metadata": {},
   "source": [
    "### Instantiating matrices\n",
    "For instance, suppose that we want to instanteate two real square matrices\n",
    "$$\\mymatrix{A} = \\left[\\begin{array}{ccc}\n",
    "         1 & 2 \\\\\n",
    "         3 & 4 \n",
    "        \\end{array}\\right],\n",
    "\\mymatrix{B} = \\left[\\begin{array}{ccc}\n",
    "        5 & 6 \\\\\n",
    "        7 & 8 \n",
    "        \\end{array}\\right] \n",
    "$$"
   ]
  },
  {
   "cell_type": "code",
   "execution_count": null,
   "metadata": {},
   "outputs": [],
   "source": [
    "import numpy as np \n",
    "\n",
    "A = np.array([[1, 2], \n",
    "              [3, 4]])\n",
    "B = np.array([[5, 6], \n",
    "              [7, 8]])\n",
    "\n",
    "print(f'A={A},\\n\\nB={B}')"
   ]
  },
  {
   "cell_type": "markdown",
   "metadata": {},
   "source": [
    "### Transpose\n",
    "\n",
    "$$\\mymatrix{C} = \\mymatrix{A}^T$$ "
   ]
  },
  {
   "cell_type": "code",
   "execution_count": null,
   "metadata": {},
   "outputs": [],
   "source": [
    "import numpy as np \n",
    "\n",
    "C = A.T\n",
    "\n",
    "print(f'C={C}')"
   ]
  },
  {
   "cell_type": "markdown",
   "metadata": {},
   "source": [
    "### Sum\n",
    "\n",
    "$$ \\mymatrix{C} = \\mymatrix{A} + \\mymatrix{B} $$"
   ]
  },
  {
   "cell_type": "code",
   "execution_count": null,
   "metadata": {},
   "outputs": [],
   "source": [
    "import numpy as np \n",
    "\n",
    "C = A + B\n",
    "\n",
    "print(f'C={C}')"
   ]
  },
  {
   "cell_type": "markdown",
   "metadata": {},
   "source": [
    "### Subtraction\n",
    "\n",
    "$$ \\mymatrix{C} = \\mymatrix{A} - \\mymatrix{B} $$"
   ]
  },
  {
   "cell_type": "code",
   "execution_count": null,
   "metadata": {},
   "outputs": [],
   "source": [
    "import numpy as np \n",
    "\n",
    "C = A - B\n",
    "\n",
    "print(f'C={C}')"
   ]
  },
  {
   "cell_type": "markdown",
   "metadata": {},
   "source": [
    "### Matrix multiplication\n",
    "\n",
    "For instance,\n",
    "$$C = A.B$$\n",
    "is implemented with\n",
    "\n",
    "<div class=\"alert alert-block alert-info\">\n",
    "The matrix multiplication operator, <b>@</b>, is very unusual. Pay close attention.\n",
    "Mistaking this can be a major source of bugs and confusion.\n",
    "</div>"
   ]
  },
  {
   "cell_type": "code",
   "execution_count": null,
   "metadata": {},
   "outputs": [],
   "source": [
    "import numpy as np \n",
    "\n",
    "C = A @ B # Alternatively C = np.matmul(A,B), but that is too verbose\n",
    "\n",
    "print(f'C={C}')"
   ]
  },
  {
   "cell_type": "markdown",
   "metadata": {},
   "source": [
    "which will naturally work for the vectors we defined. For example\n",
    "$$\\myvec{c} = \\myvec{u}.\\myvec{v} = \\left[\\begin{array}{ccc}\n",
    "         1 & 2 \\\\\n",
    "         2 & 4 \n",
    "        \\end{array}\\right],\n",
    "$$\n",
    "$$ \\myvec{d} = \\myvec{v}.\\myvec{u} = 5.\n",
    "$$"
   ]
  },
  {
   "cell_type": "code",
   "execution_count": null,
   "metadata": {},
   "outputs": [],
   "source": [
    "import numpy as np \n",
    "\n",
    "c = u @ v \n",
    "d = v @ u \n",
    "\n",
    "print(f'c={c},\\n\\nd={d}')"
   ]
  },
  {
   "cell_type": "markdown",
   "metadata": {},
   "source": [
    "and, of course, matrices and vectors\n",
    "\n",
    "$$ \\myvec{c} = \\myvec{A}\\myvec{u} $$\n",
    "\n",
    "<div class=\"alert alert-block alert-info\">\n",
    "We only use the \".\" sign to denote matrix multiplication when otherwise it would be difficult to read the equation.\n",
    "</div>"
   ]
  },
  {
   "cell_type": "code",
   "execution_count": null,
   "metadata": {},
   "outputs": [],
   "source": [
    "import numpy as np \n",
    "\n",
    "c = A @ u \n",
    "\n",
    "print(f'c={c},\\n')"
   ]
  },
  {
   "cell_type": "markdown",
   "metadata": {},
   "source": [
    "### Diagonal matrices\n",
    "\n",
    "Diagonal matrices get increasingly sparse with size, so it is important to have shorthanded commands for creating them. For instance, suppose that we have the following diagonal matrix\n",
    "\n",
    "$$\\mymatrix{D} = \\left[\\begin{array}{ccc}\n",
    "         1 & 0 & 0 \\\\\n",
    "         0 & 2 & 0 \\\\\n",
    "         0 & 0 & 3   \n",
    "        \\end{array}\\right] ,\n",
    "$$\n",
    "\n",
    "this can be instanteated in `numpy` with"
   ]
  },
  {
   "cell_type": "code",
   "execution_count": null,
   "metadata": {},
   "outputs": [],
   "source": [
    "import numpy as np \n",
    "\n",
    "D = np.diag([1, 2, 3])\n",
    "\n",
    "print(f'D={D}.')"
   ]
  },
  {
   "cell_type": "markdown",
   "metadata": {},
   "source": [
    "### Identity matrix\n",
    "\n",
    "Among frequently used diagonal matrices, the identity matrix appears frequently. For instance, \n",
    "\n",
    "$$ \\mymatrix{I}_3 = \\left[\\begin{array}{ccc}\n",
    "         1 & 0 & 0 \\\\\n",
    "         0 & 1 & 0 \\\\\n",
    "         0 & 0 & 1   \n",
    "        \\end{array}\\right],\n",
    "$$ \n",
    "\n",
    "can be instanteated in `numpy` with"
   ]
  },
  {
   "cell_type": "code",
   "execution_count": null,
   "metadata": {},
   "outputs": [],
   "source": [
    "import numpy as np \n",
    "\n",
    "I_3 = np.eye(3)\n",
    "\n",
    "print(f'I_3={I_3}.')"
   ]
  },
  {
   "cell_type": "markdown",
   "metadata": {},
   "source": [
    "### Zero matrix\n",
    "\n",
    "Another frequently used matrix is the zero matrix. For instance,\n",
    "\n",
    "$$ \\mymatrix{O}_3 = \\left[\\begin{array}{ccc}\n",
    "         0 & 0 & 0 \\\\\n",
    "         0 & 0 & 0 \\\\\n",
    "         0 & 0 & 0   \n",
    "        \\end{array}\\right],\n",
    "$$ \n",
    "\n",
    "<div class=\"alert alert-block alert-info\">\n",
    "The <b>np.zeros</b> function takes a tuple to generate a properly sized matrix. Do not confuse it with <b>np.eye</b> that accepts a scalar.\n",
    "</div>"
   ]
  },
  {
   "cell_type": "code",
   "execution_count": null,
   "metadata": {},
   "outputs": [],
   "source": [
    "import numpy as np \n",
    "\n",
    "O_3 = np.zeros((3,3))\n",
    "\n",
    "print(f'O_3={O_3}.')"
   ]
  },
  {
   "cell_type": "markdown",
   "metadata": {},
   "source": [
    "# The Robotics Toobox for Python\n",
    "In this unit, we will frequently rely on [`Robotics Toolbox for Python`](https://github.com/petercorke/robotics-toolbox-python), by Peter Corke and contributors.\n",
    "\n",
    "This powerful toolbox will allow to perform robotics operations. "
   ]
  },
  {
   "cell_type": "code",
   "execution_count": null,
   "metadata": {},
   "outputs": [],
   "source": [
    "%%capture\n",
    "%pip install roboticstoolbox-python\n",
    "%pip install roboticstoolbox-python --break-system-packages"
   ]
  }
 ],
 "metadata": {
  "kernelspec": {
   "display_name": ".venv",
   "language": "python",
   "name": "python3"
  },
  "language_info": {
   "codemirror_mode": {
    "name": "ipython",
    "version": 3
   },
   "file_extension": ".py",
   "mimetype": "text/x-python",
   "name": "python",
   "nbconvert_exporter": "python",
   "pygments_lexer": "ipython3",
   "version": "3.12.8"
  }
 },
 "nbformat": 4,
 "nbformat_minor": 2
}
