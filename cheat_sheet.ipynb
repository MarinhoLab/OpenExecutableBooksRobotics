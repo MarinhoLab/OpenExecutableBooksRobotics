{
 "cells": [
  {
   "cell_type": "markdown",
   "metadata": {},
   "source": [
    "# Cheatsheet\n",
    "\n",
    "*License: CC-BY-NC-SA 4.0*\n",
    "\n",
    "*Author: Murilo M. Marinho (murilo.marinho@manchester.ac.uk)*\n",
    "\n",
    "## Installation"
   ]
  },
  {
   "cell_type": "code",
   "execution_count": null,
   "metadata": {},
   "outputs": [],
   "source": [
    "%%capture\n",
    "%pip install numpy\n",
    "%pip install roboticstoolbox-python\n",
    "%pip install numpy --break-system-packages\n",
    "%pip install roboticstoolbox-python --break-system-packages"
   ]
  },
  {
   "cell_type": "markdown",
   "metadata": {},
   "source": [
    "## Imports"
   ]
  },
  {
   "cell_type": "code",
   "execution_count": null,
   "metadata": {},
   "outputs": [],
   "source": [
    "import numpy as np\n",
    "import spatialmath as sm\n",
    "from math import pi"
   ]
  },
  {
   "cell_type": "markdown",
   "metadata": {},
   "source": [
    "## Converting from `spatialmath` to `numpy`\n",
    "\n",
    "### SE(2)"
   ]
  },
  {
   "cell_type": "code",
   "execution_count": null,
   "metadata": {},
   "outputs": [],
   "source": [
    "import numpy as np\n",
    "import spatialmath as sm\n",
    "from math import pi\n",
    "\n",
    "# SE(2)\n",
    "HA = sm.SE2(1,2,pi/2)\n",
    "print(HA)\n",
    "\n",
    "# Useful conversions\n",
    "# Rotation\n",
    "RA_np = HA.R\n",
    "# Position\n",
    "pA_np = HA.t\n",
    "# (full) Transformation\n",
    "HA_np = HA.A\n",
    "\n",
    "print(f\"The original SE(2) object was \\n{HA}\\n and can be converted to: \")\n",
    "print(f\"\\tA rotation matrix \\n{RA_np}\\n that has size = {RA_np.shape}.\")\n",
    "print(f\"\\tA position vector \\n{pA_np}\\n that has size = {pA_np.shape}.\")\n",
    "print(f\"\\tA homogenous transformation matrix \\n{HA_np}\\n that has size = {HA_np.shape}.\")\n",
    "\n"
   ]
  },
  {
   "cell_type": "markdown",
   "metadata": {},
   "source": [
    "### SE(3)"
   ]
  },
  {
   "cell_type": "code",
   "execution_count": null,
   "metadata": {},
   "outputs": [],
   "source": [
    "import numpy as np\n",
    "import spatialmath as sm\n",
    "from math import pi\n",
    "\n",
    "# SE(3)\n",
    "HB = sm.SE3(1,2,3) * sm.SE3().Rz(pi/2)\n",
    "print(HB)\n",
    "\n",
    "# Useful conversions\n",
    "# Rotation\n",
    "RB_np = HB.R\n",
    "# Position\n",
    "pB_np = HB.t\n",
    "# (full) Transformation\n",
    "HB_np = HB.A\n",
    "\n",
    "print(f\"The original SE(2) object was \\n{HB}\\n and can be converted to: \")\n",
    "print(f\"\\tA rotation matrix \\n{RB_np}\\n that has size = {RB_np.shape}.\")\n",
    "print(f\"\\tA position vector \\n{pB_np}\\n that has size = {pB_np.shape}.\")\n",
    "print(f\"\\tA homogenous transformation matrix \\n{HB_np}\\n that has size = {HB_np.shape}.\")"
   ]
  },
  {
   "cell_type": "markdown",
   "metadata": {},
   "source": [
    "## Comparing `numpy` matrices\n",
    "\n",
    "Owing to floating point limitations of computers, use, in general, `numpy.allclose`."
   ]
  },
  {
   "cell_type": "code",
   "execution_count": null,
   "metadata": {},
   "outputs": [],
   "source": [
    "import numpy as np\n",
    "import spatialmath as sm\n",
    "from math import pi, sin, cos\n",
    "\n",
    "# SE(2) with spatialmath\n",
    "HC = sm.SE2(1,2,pi/2)\n",
    "\n",
    "# SE(2) directly from numpy\n",
    "HC_np = np.array(\n",
    "        [[cos(pi/2), -sin(pi/2),  1],\n",
    "         [sin(pi/2),  cos(pi/2),  2],\n",
    "         [0,            0,        1]]\n",
    ")\n",
    "\n",
    "# Compare HC.A and HC_np\n",
    "print(np.allclose(HC.A, HC_np))"
   ]
  }
 ],
 "metadata": {
  "kernelspec": {
   "display_name": "Python 3",
   "language": "python",
   "name": "python3"
  },
  "language_info": {
   "codemirror_mode": {
    "name": "ipython",
    "version": 3
   },
   "file_extension": ".py",
   "mimetype": "text/x-python",
   "name": "python",
   "nbconvert_exporter": "python",
   "pygments_lexer": "ipython3",
   "version": "3.12.9"
  }
 },
 "nbformat": 4,
 "nbformat_minor": 2
}
