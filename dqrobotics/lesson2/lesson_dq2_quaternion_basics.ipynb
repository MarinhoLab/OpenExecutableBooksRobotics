{
 "cells": [
  {
   "cell_type": "code",
   "execution_count": null,
   "metadata": {},
   "outputs": [],
   "source": [
    "%%capture\n",
    "'''\n",
    "(C) Copyright 2020-2025 Murilo Marques Marinho (murilomarinho@ieee.org)\n",
    "\n",
    "     This file is licensed in the terms of the\n",
    "     Attribution-NonCommercial-ShareAlike 4.0 International (CC BY-NC-SA 4.0)\n",
    "     license.\n",
    "\n",
    " Derivative work of:\n",
    " https://github.com/dqrobotics/learning-dqrobotics-in-matlab/tree/master/robotic_manipulators\n",
    " Contributors to this file:\n",
    "     Murilo Marques Marinho (murilomarinho@ieee.org)\n",
    "'''"
   ]
  },
  {
   "cell_type": "markdown",
   "metadata": {},
   "source": [
    "\n",
    "# Quaternion Basics using DQ Robotics\n",
    "\n",
    "## Introduction\n",
    "\n",
    "Before going into the topic of quaternions, it is important to review some high-school level math. And, of course, we need to install the library!\n",
    "This is easy to do. The library is available in [PyPI](https://pypi.org/project/dqrobotics/)."
   ]
  },
  {
   "cell_type": "code",
   "execution_count": null,
   "metadata": {},
   "outputs": [],
   "source": [
    "%%capture\n",
    "%pip install dqrobotics\n",
    "%pip install dqrobotics --break-system-packages"
   ]
  },
  {
   "cell_type": "markdown",
   "metadata": {},
   "source": [
    "\n",
    "\n",
    "<a name=\"H_7DF2A060\"></a>\n",
    "## Quick review on complex numbers\n",
    "\n",
    "The set of complex numbers $\\mathbb{C}$ ,  can be understood as an extention of the set of real numbers $\\mathbb{R}$ . Any complex number can always be written in the form\n",
    "\n",
    "\n",
    "$$\\mathit{\\mathbf{c}}=a+b\\hat{\\;\\imath \\;,}$$\n",
    "\n",
    "where $a,b\\in \\;$ $\\mathbb{R}$ . In addition, the imaginary unit, $\\hat{\\;\\imath \\;}$ has the following property\n",
    "\n",
    "\n",
    "$${\\hat{\\;\\imath \\;} }^2 =-1\\ldotp$$\n",
    "\n",
    "For instance, the complex number\n",
    "\n",
    "\n",
    "$${\\mathit{\\mathbf{c}}}_1 =5+28\\hat{\\imath \\;} \\;$$\n",
    "\n",
    "can be written using DQ Robotics as follows.\n"
   ]
  },
  {
   "cell_type": "code",
   "execution_count": null,
   "metadata": {},
   "outputs": [],
   "source": [
    "# Import essential DQ algebra\n",
    "from dqrobotics import *\n",
    "\n",
    "# Define c1\n",
    "c1 = 5 + 28*i_\n",
    "print(f\"c1 = {c1}\")"
   ]
  },
  {
   "cell_type": "markdown",
   "metadata": {},
   "source": [
    "\n",
    "Notice that the imaginary unit property holds:\n"
   ]
  },
  {
   "cell_type": "code",
   "execution_count": null,
   "metadata": {},
   "outputs": [],
   "source": [
    "# Imaginary unit property\n",
    "i_*i_"
   ]
  },
  {
   "cell_type": "markdown",
   "metadata": {},
   "source": [
    "\n",
    "***Note: Do not confuse Python's \"j\" with DQ Robotics \"j_\". They are different***"
   ]
  },
  {
   "cell_type": "code",
   "execution_count": null,
   "metadata": {},
   "outputs": [],
   "source": [
    "import numpy as np\n",
    "\n",
    "if j_ != 1j:\n",
    "    print(\"DQ Robotics j_ is not equal to Python's j\")"
   ]
  },
  {
   "cell_type": "markdown",
   "metadata": {},
   "source": [
    "<a name=\"H_69A90DBD\"></a>\n",
    "### **Operations on complex numbers**\n",
    "\n",
    "The operations on complex numbers are very similar to the operations on real numbers. We just need to respect the property ${\\hat{\\;\\imath \\;} }^2 =-1\\ldotp$\n",
    "\n",
    "\n",
    "For instance, for the complex numbers\n",
    "\n",
    "\n",
    "$$c_1 =a_1 +b_1 \\hat{\\imath \\;}$$\n",
    "\n",
    " $c_2 =a_2 +b_2 \\hat{\\imath \\;}$ ,\n"
   ]
  },
  {
   "cell_type": "code",
   "execution_count": null,
   "metadata": {},
   "outputs": [],
   "source": [
    "c1 = 5  + 28*i_\n",
    "print(f\"c1 = {c1}\")"
   ]
  },
  {
   "cell_type": "code",
   "execution_count": null,
   "metadata": {},
   "outputs": [],
   "source": [
    "c2 = 25 + 88*i_\n",
    "print(f\"c2 = {c2}\")"
   ]
  },
  {
   "cell_type": "markdown",
   "metadata": {},
   "source": [
    "<a name=\"H_03DC8E14\"></a>\n",
    "#### Sum/Subtraction\n",
    "\n",
    "$$c_3 =c_1 +c_2 =\\left(a_1 +a_2 \\right)+\\left(b_1 +b_2 \\right)\\hat{\\;\\imath \\;} \\ldotp$$"
   ]
  },
  {
   "cell_type": "code",
   "execution_count": null,
   "metadata": {},
   "outputs": [],
   "source": [
    "c3 = c1+c2\n",
    "print(f\"c3 = {c3}\")"
   ]
  },
  {
   "cell_type": "markdown",
   "metadata": {},
   "source": [
    "\n",
    "The subtraction is defined accordingly.\n",
    "\n",
    "\n",
    "$${\\;c}_1 -c_2 =\\left(a_1 -a_2 \\right)+\\left(b_1 -b_2 \\right)\\hat{\\;\\imath \\;} \\ldotp$$"
   ]
  },
  {
   "cell_type": "code",
   "execution_count": null,
   "metadata": {},
   "outputs": [],
   "source": [
    "c1-c2"
   ]
  },
  {
   "cell_type": "markdown",
   "metadata": {},
   "source": [
    "<a name=\"H_42FA8EEB\"></a>\n",
    "#### Product\n",
    "\n",
    "The product will be\n",
    "\n",
    "\n",
    "$${\\;c}_1 c_2 =\\left(a_1 a_2 -b_1 b_2 \\right)+\\left(a_1 b_2 +b_1 a_2 \\right)\\hat{\\;\\imath \\;}$$"
   ]
  },
  {
   "cell_type": "code",
   "execution_count": null,
   "metadata": {},
   "outputs": [],
   "source": [
    "c1*c2"
   ]
  },
  {
   "cell_type": "markdown",
   "metadata": {},
   "source": [
    "<a name=\"H_643BB6A0\"></a>\n",
    "#### **Conjugation**\n",
    "\n",
    "The conjugate of a complex number is defined as\n",
    "\n",
    "\n",
    "$${\\left(c_1 \\right)}^* =a-b\\hat{\\;\\imath \\;}$$"
   ]
  },
  {
   "cell_type": "code",
   "execution_count": null,
   "metadata": {},
   "outputs": [],
   "source": [
    "conj(c1)"
   ]
  },
  {
   "cell_type": "markdown",
   "metadata": {},
   "source": [
    "<a name=\"H_EFB74034\"></a>\n",
    "#### Norm\n",
    "\n",
    "The norm of a complex number can be obtained as\n",
    "\n",
    "\n",
    "$$\\left|\\right|c_1 \\left|\\right|=\\sqrt{c_1 c_1^* \\;}=\\sqrt{\\left(a_1 +b_1 \\hat{\\imath \\;} \\right)\\left(a_1 -b_1 \\hat{\\imath \\;} \\right)\\;}=\\sqrt{a_1^2 +b_1^2 }$$"
   ]
  },
  {
   "cell_type": "code",
   "execution_count": null,
   "metadata": {},
   "outputs": [],
   "source": [
    "norm(c1)"
   ]
  },
  {
   "cell_type": "markdown",
   "metadata": {},
   "source": [
    "<a name=\"H_EF08C35C\"></a>\n",
    "#### **Imaginary part**\n",
    "\n",
    "The imaginary part is\n",
    "\n",
    "\n",
    "$$\\textrm{Im}\\left(c_1 \\right)=b\\hat{\\;\\imath \\;}$$"
   ]
  },
  {
   "cell_type": "code",
   "execution_count": null,
   "metadata": {},
   "outputs": [],
   "source": [
    "Im(c1)"
   ]
  },
  {
   "cell_type": "markdown",
   "metadata": {},
   "source": [
    "<a name=\"H_79B4805D\"></a>\n",
    "#### Real\n",
    "\n",
    "The real part is\n",
    "\n",
    "\n",
    "$$\\textrm{Re}\\left(c_1 \\right)=a$$"
   ]
  },
  {
   "cell_type": "code",
   "execution_count": null,
   "metadata": {},
   "outputs": [],
   "source": [
    "Re(c1)"
   ]
  },
  {
   "cell_type": "markdown",
   "metadata": {},
   "source": [
    "<a name=\"H_F9DE6A6F\"></a>\n",
    "## **Quaternions**\n",
    "\n",
    "When we extend the concept of complex numbers to four dimensions, we have what we call quaternions. They compose the set $\\mathbb{H}$ and can always be written in the form\n",
    "\n",
    "\n",
    "$$\\mathit{\\mathbf{h}}=a+b\\hat{\\;\\imath \\;} +c\\hat{\\;\\jmath \\;} +d\\hat{\\;k}$$\n",
    "\n",
    "where $a,b,c,d\\in \\;$ $\\mathbb{R}$ . In addition, the imaginary units $\\hat{\\;\\imath \\;}$ , $\\hat{\\;\\jmath \\;}$ , and $\\hat{\\;k\\;}$ have the following properties\n",
    "\n",
    "\n",
    "$${\\hat{\\;\\imath \\;} }^2 ={\\hat{\\;\\jmath \\;} }^2 ={\\hat{\\;k} }^2 =\\hat{\\;\\imath \\;} \\hat{\\;\\jmath \\;} \\hat{\\;k} =-1$$\n",
    "\n",
    "Note that every complex number is a quaternion, but not every quaternion is a complex number ( $\\mathbb{C}\\subset \\mathbb{H}$ ).\n",
    "\n",
    "\n",
    "For instance, the quaternion\n",
    "\n",
    "\n",
    "$${\\mathit{\\mathbf{c}}}_1 =5+28\\hat{\\imath \\;} +85\\hat{\\;\\jmath \\;} +99\\hat{\\;k}$$\n",
    "\n",
    "can be written using DQ Robotics as follows\n"
   ]
  },
  {
   "cell_type": "code",
   "execution_count": null,
   "metadata": {},
   "outputs": [],
   "source": [
    "# Define c1\n",
    "c1 = 5 + 28*i_ + 86*j_ + 99*k_\n",
    "print(f\"c1 = {c1}\")"
   ]
  },
  {
   "cell_type": "markdown",
   "metadata": {},
   "source": [
    "\n",
    "We can verify the properties of the imaginary units in DQ Robotics as follows\n"
   ]
  },
  {
   "cell_type": "code",
   "execution_count": null,
   "metadata": {},
   "outputs": [],
   "source": [
    "i_*i_"
   ]
  },
  {
   "cell_type": "code",
   "execution_count": null,
   "metadata": {},
   "outputs": [],
   "source": [
    "j_*j_"
   ]
  },
  {
   "cell_type": "code",
   "execution_count": null,
   "metadata": {},
   "outputs": [],
   "source": [
    "k_*k_"
   ]
  },
  {
   "cell_type": "code",
   "execution_count": null,
   "metadata": {},
   "outputs": [],
   "source": [
    "i_*j_*k_"
   ]
  },
  {
   "cell_type": "markdown",
   "metadata": {},
   "source": [
    "<a name=\"H_582FD121\"></a>\n",
    "### Operations on quaternions\n",
    "\n",
    "Considering ${\\mathit{\\mathbf{h}}}_1 ,{\\mathit{\\mathbf{h}}}_2 \\in \\;$ $\\mathbb{H}$ , for example\n"
   ]
  },
  {
   "cell_type": "code",
   "execution_count": null,
   "metadata": {},
   "outputs": [],
   "source": [
    "h1 = 5 + 28*i_ + 86*j_ + 99*k_\n",
    "print(f\"h1 = {h1}\")"
   ]
  },
  {
   "cell_type": "code",
   "execution_count": null,
   "metadata": {},
   "outputs": [],
   "source": [
    "h2 = -2 + 25*k_\n",
    "print(f\"h2 = {h1}\")"
   ]
  },
  {
   "cell_type": "markdown",
   "metadata": {},
   "source": [
    "<a name=\"H_02F5F344\"></a>\n",
    "#### Sum/Subtraction\n",
    "\n",
    "$${\\mathit{\\mathbf{h}}}_1 \\pm {\\mathit{\\mathbf{h}}}_2 =\\left(a_1 \\pm a_2 \\right)+\\left(b_1 \\pm b_2 \\right)\\hat{\\;\\imath \\;} +\\left(c_1 \\pm c_2 \\right)\\hat{\\;\\jmath \\;} +\\left(d_1 \\pm d_2 \\right)\\hat{\\;k\\;}$$"
   ]
  },
  {
   "cell_type": "code",
   "execution_count": null,
   "metadata": {},
   "outputs": [],
   "source": [
    "h1+h2"
   ]
  },
  {
   "cell_type": "code",
   "execution_count": null,
   "metadata": {},
   "outputs": [],
   "source": [
    "h1-h2"
   ]
  },
  {
   "cell_type": "markdown",
   "metadata": {},
   "source": [
    "<a name=\"H_F3B0C065\"></a>\n",
    "#### **Multiplication**\n",
    "\n",
    "$${\\mathit{\\mathbf{h}}}_1 {\\mathit{\\mathbf{h}}}_2 =\\textrm{See}\\;\\textrm{Bonus}\\;\\textrm{Homework}\\;1\\ldotp$$"
   ]
  },
  {
   "cell_type": "code",
   "execution_count": null,
   "metadata": {},
   "outputs": [],
   "source": [
    "h1*h2"
   ]
  },
  {
   "cell_type": "markdown",
   "metadata": {},
   "source": [
    "\n",
    "Notice that the multiplication between quaternions is, ***in general***, NOT COMMUTATIVE.\n",
    "\n",
    "\n",
    "$${\\mathit{\\mathbf{h}}}_1 {\\mathit{\\mathbf{h}}}_2 \\not= {{\\mathit{\\mathbf{h}}}_2 \\mathit{\\mathbf{h}}}_1$$"
   ]
  },
  {
   "cell_type": "code",
   "execution_count": null,
   "metadata": {},
   "outputs": [],
   "source": [
    "h3 = h1*h2"
   ]
  },
  {
   "cell_type": "code",
   "execution_count": null,
   "metadata": {},
   "outputs": [],
   "source": [
    "h4 = h2*h1"
   ]
  },
  {
   "cell_type": "code",
   "execution_count": null,
   "metadata": {},
   "outputs": [],
   "source": [
    "if h3==h4:\n",
    "    print('h1*h2 is equal to h2*h1')\n",
    "else:\n",
    "    print('h1*h2 is not equal to h2*h1')"
   ]
  },
  {
   "cell_type": "markdown",
   "metadata": {},
   "source": [
    "\n",
    "It can be communitative in some cases. For instance, consider the trivial case in which $h_1 =h_2$ .\n",
    "\n",
    "<a name=\"H_94462E57\"></a>\n",
    "#### Real part\n",
    "\n",
    "$$\\textrm{Re}\\left({\\mathit{\\mathbf{h}}}_1 \\right)=a$$"
   ]
  },
  {
   "cell_type": "code",
   "execution_count": null,
   "metadata": {},
   "outputs": [],
   "source": [
    "Re(h1)"
   ]
  },
  {
   "cell_type": "markdown",
   "metadata": {},
   "source": [
    "\n",
    "If the real part of a quaternion is zero, it is called a *pure quaternion*, and belongs to the set ${\\mathbb{H}}_p$ .\n",
    "\n",
    "<a name=\"H_8ACC88AF\"></a>\n",
    "#### Imaginary part\n",
    "\n",
    "$$\\textrm{Im}\\left({\\mathit{\\mathbf{h}}}_1 \\right)=b\\hat{\\;\\imath \\;} +c\\hat{\\;\\jmath \\;} +d\\hat{\\;k}$$"
   ]
  },
  {
   "cell_type": "code",
   "execution_count": null,
   "metadata": {},
   "outputs": [],
   "source": [
    "Im(h1)"
   ]
  },
  {
   "cell_type": "markdown",
   "metadata": {},
   "source": [
    "<a name=\"H_2242E6F0\"></a>\n",
    "#### Conjugation\n",
    "\n",
    "$${\\left({\\mathit{\\mathbf{h}}}_1 \\right)}^* =\\textrm{Re}\\left({\\mathit{\\mathbf{h}}}_1 \\right)-\\textrm{Im}\\left({\\mathit{\\mathbf{h}}}_1 \\right)=a-b\\hat{\\;\\imath \\;} -c\\hat{\\;\\jmath \\;} -d\\hat{\\;k}$$"
   ]
  },
  {
   "cell_type": "code",
   "execution_count": null,
   "metadata": {},
   "outputs": [],
   "source": [
    "conj(h1)"
   ]
  },
  {
   "cell_type": "markdown",
   "metadata": {},
   "source": [
    "\n",
    "**Norm**\n",
    "\n",
    "\n",
    "$$\\left|\\right|{\\mathit{\\mathbf{h}}}_1 \\left|\\right|=\\sqrt{{\\mathit{\\mathbf{h}}}_1 {\\mathit{\\mathbf{h}}}_1^* \\;}=\\textrm{See}\\;\\textrm{Bonus}\\;\\textrm{Homework}\\;2\\ldotp$$"
   ]
  },
  {
   "cell_type": "code",
   "execution_count": null,
   "metadata": {},
   "outputs": [],
   "source": [
    "norm(h1)"
   ]
  },
  {
   "cell_type": "markdown",
   "metadata": {},
   "source": [
    "<a name=\"H_E2D9BC8C\"></a>\n",
    "#### Vec3\n",
    "\n",
    "The imaginary part of the quaternion can be mapped to ${\\mathbb{R}}^3$ as follows\n",
    "\n",
    "\n",
    "$${\\textrm{vec}}_3 \\left({\\mathit{\\mathbf{h}}}_1 \\right)=\\left\\lbrack \\begin{array}{c} b\\\\ c\\\\ d \\end{array}\\right\\rbrack$$"
   ]
  },
  {
   "cell_type": "code",
   "execution_count": null,
   "metadata": {},
   "outputs": [],
   "source": [
    "vec3(h1)"
   ]
  },
  {
   "cell_type": "markdown",
   "metadata": {},
   "source": [
    "<a name=\"H_75053EE9\"></a>\n",
    "#### Vec4\n",
    "\n",
    "Quaternions can be mapped to ${\\mathbb{R}}^4$ as follows\n",
    "\n",
    "\n",
    "$${\\textrm{vec}}_4 \\left({\\mathit{\\mathbf{h}}}_1 \\right)=\\left\\lbrack \\begin{array}{c} a\\\\ b\\\\ c\\\\ d \\end{array}\\right\\rbrack$$"
   ]
  },
  {
   "cell_type": "code",
   "execution_count": null,
   "metadata": {},
   "outputs": [],
   "source": [
    "vec4(h1)"
   ]
  },
  {
   "cell_type": "markdown",
   "metadata": {},
   "source": [
    "<a name=\"H_271E2BFF\"></a>\n",
    "#### Hamilton Operators\n",
    "\n",
    "The hamilton operators are useful to provide a form of commutativity in the quaternion multiplication.\n",
    "\n",
    "\n",
    "$${\\textrm{vec}}_4 \\left({\\mathit{\\mathbf{h}}}_1 {\\mathit{\\mathbf{h}}}_2 \\right)=\\overset{+}{{\\mathit{\\mathbf{H}}}_4 } \\left({\\mathit{\\mathbf{h}}}_1 \\right){\\textrm{vec}}_4 \\left({\\mathit{\\mathbf{h}}}_2 \\right)=\\overset{-}{{\\mathit{\\mathbf{H}}}_4 } \\left({\\mathit{\\mathbf{h}}}_2 \\right){\\textrm{vec}}_4 \\left({\\mathit{\\mathbf{h}}}_1 \\right)$$"
   ]
  },
  {
   "cell_type": "code",
   "execution_count": null,
   "metadata": {},
   "outputs": [],
   "source": [
    "vec4(h1*h2)"
   ]
  },
  {
   "cell_type": "code",
   "execution_count": null,
   "metadata": {},
   "outputs": [],
   "source": [
    "hamiplus4(h1)*vec4(h2)"
   ]
  },
  {
   "cell_type": "code",
   "execution_count": null,
   "metadata": {},
   "outputs": [],
   "source": [
    "haminus4(h2)*vec4(h1)"
   ]
  },
  {
   "cell_type": "markdown",
   "metadata": {},
   "source": [
    "<a name=\"H_BA5B2E63\"></a>\n",
    "#### Conjugate mapping matrix\n",
    "\n",
    "The following matrix is useful when the quaternion conjugate is used. For quaternions it is defined as,\n",
    "\n",
    "\n",
    "$${\\mathit{\\mathbf{C}}}_4 =\\left\\lbrack \\begin{array}{cccc} 1 & 0 & 0 & 0\\\\ 0 & -1 & 0 & 0\\\\ 0 & 0 & -1 & 0\\\\ 0 & 0 & 0 & -1 \\end{array}\\right\\rbrack$$\n",
    "\n",
    "and has the following property\n",
    "\n",
    "\n",
    "$${\\mathit{\\mathbf{C}}}_4 {\\textrm{vec}}_4 \\left({\\mathit{\\mathbf{h}}}_1 \\right)={\\textrm{vec}}_4 \\left({\\mathit{\\mathbf{h}}}_1^* \\right)\\ldotp$$\n",
    "<a name=\"H_CC4D2A23\"></a>\n",
    "## Unit quaternions and the rotation of rigid bodies\n",
    "\n",
    "Unit quaternions compose the set ${\\mathbb{S}}^3$ , which represent rotations of the reference frame of rigid bodies in three dimensional space. A unit quaternion can always be written in the form\n",
    "\n",
    "\n",
    "$$\\mathit{\\mathbf{r}}=\\cos \\left(\\frac{\\phi }{2}\\right)+\\textrm{vsin}\\left(\\frac{\\;\\phi \\;}{2}\\right)\\left(\\textrm{See}\\;\\textrm{Bonus}\\;\\textrm{Homework}\\;3\\right)$$\n",
    "\n",
    "where $\\phi \\in$ $\\mathbb{R}$ is the rotation angle around the rotation axis $v\\in$ ${\\mathbb{S}}^3 \\cap {\\mathbb{H}}_p$ (Remember that ${\\mathbb{H}}_p$ are pure quaternions, that is, quaternions for which the real part is zero).\n",
    "\n",
    "\n",
    "Unit-norm quaternions, as the name says, have unit norm\n",
    "\n",
    "\n",
    "$$\\left|\\right|r\\left|\\right|=1\\ldotp$$\n",
    "\n",
    "For instance, to represent the rotation of $\\frac{\\pi }{2}$ rad about the x-axis, the following quaternion can be used\n",
    "\n",
    "\n",
    "$$r_1 =\\cos \\left(\\frac{\\;\\pi \\;}{4}\\right)+\\hat{\\;\\imath \\;} \\sin \\left(\\frac{\\;\\pi \\;}{4}\\right)$$"
   ]
  },
  {
   "cell_type": "code",
   "execution_count": null,
   "metadata": {},
   "outputs": [],
   "source": [
    "from math import pi, cos, sin\n",
    "\n",
    "r1 = cos(pi/4) + i_*sin(pi/4)"
   ]
  },
  {
   "cell_type": "markdown",
   "metadata": {},
   "source": [
    "\n",
    "We can check that $r_1$ indeed has unit norm\n"
   ]
  },
  {
   "cell_type": "code",
   "execution_count": null,
   "metadata": {},
   "outputs": [],
   "source": [
    "norm(r1)"
   ]
  },
  {
   "cell_type": "markdown",
   "metadata": {},
   "source": [
    "<a name=\"H_35D1DED6\"></a>\n",
    "#### Unit quaternion double-cover property\n",
    "\n",
    "Note that the same rotation can be represented by two different quaternions, because\n",
    "\n",
    "\n",
    "$${\\mathit{\\mathbf{r}}}_1$$\n",
    "\n",
    "and\n",
    "\n",
    "\n",
    "$$-{\\mathit{\\mathbf{r}}}_1$$\n",
    "\n",
    "represent the same resulting rotation but are different quaternions. For instance, see that even though the following two quaternions represent the same rotation,\n"
   ]
  },
  {
   "cell_type": "code",
   "execution_count": null,
   "metadata": {},
   "outputs": [],
   "source": [
    "r1 = 1"
   ]
  },
  {
   "cell_type": "code",
   "execution_count": null,
   "metadata": {},
   "outputs": [],
   "source": [
    "from math import pi, cos, sin\n",
    "\n",
    "r2 = cos(pi) + i_*sin(pi)"
   ]
  },
  {
   "cell_type": "markdown",
   "metadata": {},
   "source": [
    "\n",
    "they have opposite signs.\n",
    "\n",
    "\n",
    "This is called the \"double-cover\" property. We will not address this now, but it is important to know that this property exists.\n",
    "\n",
    "<a name=\"H_C67278B0\"></a>\n",
    "#### No rotation\n",
    "\n",
    "The quaternion that represents that there is no rotation is\n",
    "\n",
    "\n",
    "$$r_1 =1$$"
   ]
  },
  {
   "cell_type": "code",
   "execution_count": null,
   "metadata": {},
   "outputs": [],
   "source": [
    "r1 = 1"
   ]
  },
  {
   "cell_type": "markdown",
   "metadata": {},
   "source": [
    "<a name=\"H_FC487DD7\"></a>\n",
    "#### Plotting quaternions\n",
    "\n",
    "Using DQ Robotics, the rotation quaternions can be plotted on screen. See, for example\n",
    "\n",
    "\n",
    " *Note: for the unit quaternion* $r_1 =1$ *, you have to explicitly initialize it using the DQ constructor before plotting, otherwise MATLAB will not use the correct plot function.*\n"
   ]
  },
  {
   "cell_type": "code",
   "execution_count": null,
   "metadata": {},
   "outputs": [],
   "source": [
    "#disp('Displaying 1 as a quaternion')"
   ]
  },
  {
   "cell_type": "code",
   "execution_count": null,
   "metadata": {},
   "outputs": [],
   "source": [
    "#r1 = DQ(1)"
   ]
  },
  {
   "cell_type": "code",
   "execution_count": null,
   "metadata": {},
   "outputs": [],
   "source": [
    "#plot(r1);"
   ]
  },
  {
   "cell_type": "markdown",
   "metadata": {},
   "source": [
    "<a name=\"H_C909BC72\"></a>\n",
    "#### Sequential rotations\n",
    "\n",
    "Sequential rotations are obtained by post-multiplication. For example, the transformation between the neutral reference frame by ${r_1 }$ followed by ${r_2 }$  is\n",
    "\n",
    "\n",
    "$${\\mathit{\\mathbf{r}}}_3 ={\\mathit{\\mathbf{r}}}_1 {\\mathit{\\mathbf{r}}}_2$$\n",
    "\n",
    "For example\n"
   ]
  },
  {
   "cell_type": "code",
   "execution_count": null,
   "metadata": {},
   "outputs": [],
   "source": [
    "#clear all;\n",
    "#include_namespace_dq\n",
    "#disp('Displaying the result of the sequential multiplication r3=r1*r2')"
   ]
  },
  {
   "cell_type": "code",
   "execution_count": null,
   "metadata": {},
   "outputs": [],
   "source": [
    "from math import pi, cos, sin\n",
    "\n",
    "r1 = cos(pi/16) + i_*sin(pi/16)\n",
    "r2 = cos(pi/4) + i_*sin(pi/4)\n",
    "r3 = r1*r2\n",
    "#plot(r3);"
   ]
  },
  {
   "cell_type": "markdown",
   "metadata": {},
   "source": [
    "\n",
    "We can also plot all intermediary rotations using subplot.\n"
   ]
  },
  {
   "cell_type": "code",
   "execution_count": null,
   "metadata": {},
   "outputs": [],
   "source": [
    "#disp('Displaying the result of the sequential multiplication using subplot')"
   ]
  },
  {
   "cell_type": "code",
   "execution_count": null,
   "metadata": {},
   "outputs": [],
   "source": [
    "from math import pi, cos, sin\n",
    "\n",
    "r1 = cos(pi/16) + i_*sin(pi/16)\n",
    "r2 = cos(pi/32) + i_*sin(pi/32)\n",
    "r3 = r1*r2\n",
    "\n",
    "#subplot(1,3,1);\n",
    "#plot(r1);\n",
    "#title('r1');\n",
    "#subplot(1,3,2);\n",
    "#plot(r2);\n",
    "#title('r2');\n",
    "#subplot(1,3,3);\n",
    "#plot(r3);\n",
    "#title('Rotation of r1 by r2');"
   ]
  },
  {
   "cell_type": "markdown",
   "metadata": {},
   "source": [
    "<a name=\"H_625A2B4B\"></a>\n",
    "#### Reverse rotation\n",
    "\n",
    "The reverse rotation can be obtained using the conjugate operation, because unit quaternions have unit norm. Hence,\n",
    "\n",
    "\n",
    "$$\\mathit{\\mathbf{r}}{\\left(\\mathit{\\mathbf{r}}\\right)}^* =1$$\n",
    "\n",
    "For example, for a given rotation quaternion\n"
   ]
  },
  {
   "cell_type": "code",
   "execution_count": null,
   "metadata": {},
   "outputs": [],
   "source": [
    "from math import pi, cos, sin\n",
    "\n",
    "r1 = cos(pi/16) + i_*sin(pi/16)"
   ]
  },
  {
   "cell_type": "markdown",
   "metadata": {},
   "source": [
    "\n",
    "The rotation quaternion that corresponds to the reverse rotation is given by its conjugate.\n"
   ]
  },
  {
   "cell_type": "code",
   "execution_count": null,
   "metadata": {},
   "outputs": [],
   "source": [
    "conj(r1)"
   ]
  },
  {
   "cell_type": "markdown",
   "metadata": {},
   "source": [
    "\n",
    "We can verify that sequentially multiplying one by the other gives us a \"no rotation\" quaternion.\n"
   ]
  },
  {
   "cell_type": "code",
   "execution_count": null,
   "metadata": {},
   "outputs": [],
   "source": [
    "r1*conj(r1)"
   ]
  },
  {
   "cell_type": "markdown",
   "metadata": {},
   "source": [
    "<a name=\"T_98D69E51\"></a>\n",
    "# <span style=\"color:rgb(213,80,0)\">Homework</span>\n"
   ]
  },
  {
   "cell_type": "markdown",
   "metadata": {},
   "source": [
    "\n",
    "in the beginning of your script.\n",
    "\n",
    "1.  Create a MATLAB script called [quaternion_basics_homework.m]. On it, do the following tasks.\n",
    "2. Store, in $r_1$ , the value of a rotation of $\\phi =\\frac{\\pi \\;\\;}{8}\\;\\textrm{rad}$ about the x-axis.\n",
    "3. Store, in $r_2$ , the value of a rotation of $\\phi =\\frac{\\pi \\;\\;}{16}\\;\\textrm{rad}$ about the y-axis.\n",
    "4. Store, in $r_3$ , the value of a rotation of $\\phi =\\frac{\\pi \\;\\;}{32}\\;\\textrm{rad}$ about the z-axis.\n",
    "5. Calculate the result of the sequential rotation of the neutral reference-frame by $r_1$ , followed by $r_2$ , followed by $r_3$ , and store it in ${\\mathit{\\mathbf{r}}}_4$ . Plot ${\\mathit{\\mathbf{r}}}_4$ .\n",
    "6. Find the reverse rotation of ${\\mathit{\\mathbf{r}}}_4$ and store it in ${\\mathit{\\mathbf{r}}}_5$ .\n",
    "7. Rotate ${\\mathit{\\mathbf{r}}}_5$ by ${360}^{\\circ \\;}$ about the x-axis and store it in ${\\mathit{\\mathbf{r}}}_6$ . Is ${\\mathit{\\mathbf{r}}}_5 =-{\\mathit{\\mathbf{r}}}_6$ ? Plot ${\\mathit{\\mathbf{r}}}_5$ and ${\\mathit{\\mathbf{r}}}_6$ to confirm that they represent the same rotation.\n",
    "<a name=\"T_B6A9D8F3\"></a>\n",
    "# <span style=\"color:rgb(213,80,0)\">Bonus Homework</span>\n",
    "1.  What is the general form of the quaternion multiplication? Multiply ${\\mathit{\\mathbf{h}}}_1 =a_1 +b_1 \\hat{\\;\\imath \\;} +c_1 \\hat{\\;\\jmath \\;} +d_1 \\hat{\\;k}$ and ${\\mathit{\\mathbf{h}}}_2 =a_2 +b_2 \\hat{\\;\\imath \\;} +c_2 \\hat{\\;\\jmath \\;} +d_2 \\hat{\\;k}$ on pen and paper and find ${\\mathit{\\mathbf{h}}}_3 =a_3 +b_3 \\hat{\\;\\imath \\;} +c_3 \\hat{\\;\\jmath \\;} +d_3 \\hat{\\;k}$ .\n",
    "2. What is the general form of the quaternion norm? Simplify $\\sqrt{\\;{\\mathit{\\mathbf{h}}}_1 {\\mathit{\\mathbf{h}}}_1^* }$ on pen and paper.\n",
    "3. Show that every unit quaternion, written as $\\mathit{\\mathbf{r}}=\\cos \\left(\\frac{\\phi }{2}\\right)+\\textrm{vsin}\\left(\\frac{\\;\\phi \\;}{2}\\right)$ , has unit norm. Do that on pen and paper.\n"
   ]
  }
 ],
 "metadata": {
  "kernelspec": {
   "display_name": ".venv",
   "language": "python",
   "name": "python3"
  },
  "language_info": {
   "codemirror_mode": {
    "name": "ipython",
    "version": 3
   },
   "file_extension": ".py",
   "mimetype": "text/x-python",
   "name": "python",
   "nbconvert_exporter": "python",
   "pygments_lexer": "ipython3",
   "version": "3.12.9"
  }
 },
 "nbformat": 4,
 "nbformat_minor": 4
}
