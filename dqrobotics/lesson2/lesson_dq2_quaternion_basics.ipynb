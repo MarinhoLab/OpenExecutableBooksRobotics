{
 "cells": [
  {
   "cell_type": "code",
   "execution_count": null,
   "metadata": {},
   "outputs": [],
   "source": [
    "%%capture\n",
    "'''\n",
    "(C) Copyright 2020-2025 Murilo Marques Marinho (murilomarinho@ieee.org)\n",
    "\n",
    "     This file is licensed in the terms of the\n",
    "     Attribution-NonCommercial-ShareAlike 4.0 International (CC BY-NC-SA 4.0)\n",
    "     license.\n",
    "\n",
    " Derivative work of:\n",
    " https://github.com/dqrobotics/learning-dqrobotics-in-matlab/tree/master/robotic_manipulators\n",
    " Contributors to this file:\n",
    "     Murilo Marques Marinho (murilomarinho@ieee.org)\n",
    "'''"
   ]
  },
  {
   "cell_type": "markdown",
   "metadata": {},
   "source": [
    "<a name=\"T_D05B1C6B\"></a>\n",
    "# <span style=\"color:rgb(213,80,0)\">Quaternion Basics using DQ Robotics</span>\n",
    "<a name=\"beginToc\"></a>\n",
    "## Table of Contents\n",
    "[Quaternion Basics using DQ Robotics](#T_D05B1C6B)\n",
    "\n",
    "&emsp;[Introduction](#H_CE335F4C)\n",
    "\n",
    "&emsp;[Quick review on complex numbers](#H_7DF2A060)\n",
    "\n",
    "&emsp;&emsp;&emsp;[Sum/Subtraction](#H_03DC8E14)\n",
    "\n",
    "&emsp;&emsp;&emsp;[Product](#H_42FA8EEB)\n",
    "\n",
    "&emsp;&emsp;&emsp;[Norm](#H_EFB74034)\n",
    "\n",
    "&emsp;&emsp;&emsp;[Real](#H_79B4805D)\n",
    "\n",
    "&emsp;&emsp;[Operations on quaternions](#H_582FD121)\n",
    "\n",
    "&emsp;&emsp;&emsp;[Sum/Subtraction](#H_02F5F344)\n",
    "\n",
    "&emsp;&emsp;&emsp;[Real part](#H_94462E57)\n",
    "\n",
    "&emsp;&emsp;&emsp;[Imaginary part](#H_8ACC88AF)\n",
    "\n",
    "&emsp;&emsp;&emsp;[Conjugation](#H_2242E6F0)\n",
    "\n",
    "&emsp;&emsp;&emsp;[Vec3](#H_E2D9BC8C)\n",
    "\n",
    "&emsp;&emsp;&emsp;[Vec4](#H_75053EE9)\n",
    "\n",
    "&emsp;&emsp;&emsp;[Hamilton Operators](#H_271E2BFF)\n",
    "\n",
    "&emsp;&emsp;&emsp;[Conjugate mapping matrix](#H_BA5B2E63)\n",
    "\n",
    "&emsp;[Unit quaternions and the rotation of rigid bodies](#H_CC4D2A23)\n",
    "\n",
    "&emsp;&emsp;&emsp;[Unit quaternion double-cover property](#H_35D1DED6)\n",
    "\n",
    "&emsp;&emsp;&emsp;[No rotation](#H_C67278B0)\n",
    "\n",
    "&emsp;&emsp;&emsp;[Plotting quaternions](#H_FC487DD7)\n",
    "\n",
    "&emsp;&emsp;&emsp;[Sequential rotations](#H_C909BC72)\n",
    "\n",
    "&emsp;&emsp;&emsp;[Reverse rotation](#H_625A2B4B)\n",
    "\n",
    "[Homework](#T_98D69E51)\n",
    "\n",
    "[Bonus Homework](#T_B6A9D8F3)\n",
    "\n",
    "<a name=\"endToc\"></a>\n",
    "<a name=\"H_CE335F4C\"></a>\n",
    "## Introduction\n",
    "\n",
    "Before going into the topic of quaternions, it is important to review some high-school level math.\n",
    "\n",
    "<a name=\"H_7DF2A060\"></a>\n",
    "## Quick review on complex numbers\n",
    "\n",
    "The set of complex numbers $\\mathbb{C}$ ,  can be understood as an extention of the set of real numbers $\\mathbb{R}$ . Any complex number can always be written in the form\n",
    "\n",
    "\n",
    "$$\\mathit{\\mathbf{c}}=a+b\\hat{\\;\\imath \\;,}$$\n",
    "\n",
    "where $a,b\\in \\;$ $\\mathbb{R}$ . In addition, the imaginary unit, $\\hat{\\;\\imath \\;}$ has the following property\n",
    "\n",
    "\n",
    "$${\\hat{\\;\\imath \\;} }^2 =-1\\ldotp$$\n",
    "\n",
    "For instance, the complex number\n",
    "\n",
    "\n",
    "$${\\mathit{\\mathbf{c}}}_1 =5+28\\hat{\\imath \\;} \\;$$\n",
    "\n",
    "can be written using DQ Robotics as follows.\n"
   ]
  },
  {
   "cell_type": "code",
   "execution_count": 2,
   "metadata": {},
   "outputs": [
    {
     "data": {
      "text/plain": [
       "c1 = \n",
       "         5 + 28i"
      ]
     },
     "execution_count": 2,
     "metadata": {},
     "output_type": "execute_result"
    }
   ],
   "source": [
    "%% Include the namespace. Probably a good idea to add to all scripts.\n",
    "include_namespace_dq\n",
    "\n",
    "%% Define c1\n",
    "c1 = 5 + 28*i_"
   ]
  },
  {
   "cell_type": "markdown",
   "metadata": {},
   "source": [
    "\n",
    "Notice that the imaginary unit property holds:\n"
   ]
  },
  {
   "cell_type": "code",
   "execution_count": 3,
   "metadata": {},
   "outputs": [
    {
     "data": {
      "text/plain": [
       "ans = \n",
       "          - 1"
      ]
     },
     "execution_count": 3,
     "metadata": {},
     "output_type": "execute_result"
    }
   ],
   "source": [
    "%% Imaginary unit property\n",
    "i_*i_"
   ]
  },
  {
   "cell_type": "markdown",
   "metadata": {},
   "source": [
    "\n",
    "***Note: Do not confuse MATLAB's \"i\" with DQ Robotics \"i_\". They are different***\n"
   ]
  },
  {
   "cell_type": "code",
   "execution_count": 4,
   "metadata": {},
   "outputs": [
    {
     "data": {
      "text/plain": [
       "DQ Robotics i_ is not equal to MATLAB i"
      ]
     },
     "execution_count": 4,
     "metadata": {},
     "output_type": "execute_result"
    }
   ],
   "source": [
    "if i_ ~= i\n",
    "    disp('DQ Robotics i_ is not equal to MATLAB i')\n",
    "end"
   ]
  },
  {
   "cell_type": "markdown",
   "metadata": {},
   "source": [
    "<a name=\"H_69A90DBD\"></a>\n",
    "### **Operations on complex numbers**\n",
    "\n",
    "The operations on complex numbers are very similar to the operations on real numbers. We just need to respect the property ${\\hat{\\;\\imath \\;} }^2 =-1\\ldotp$\n",
    "\n",
    "\n",
    "For instance, for the complex numbers\n",
    "\n",
    "\n",
    "$$c_1 =a_1 +b_1 \\hat{\\imath \\;}$$\n",
    "\n",
    " $c_2 =a_2 +b_2 \\hat{\\imath \\;}$ ,\n"
   ]
  },
  {
   "cell_type": "code",
   "execution_count": 5,
   "metadata": {},
   "outputs": [
    {
     "data": {
      "text/plain": [
       "c1 = \n",
       "         5 + 28i"
      ]
     },
     "execution_count": 5,
     "metadata": {},
     "output_type": "execute_result"
    }
   ],
   "source": [
    "c1 = 5  + 28*i_"
   ]
  },
  {
   "cell_type": "code",
   "execution_count": 6,
   "metadata": {},
   "outputs": [
    {
     "data": {
      "text/plain": [
       "c2 = \n",
       "         25 + 88i"
      ]
     },
     "execution_count": 6,
     "metadata": {},
     "output_type": "execute_result"
    }
   ],
   "source": [
    "c2 = 25 + 88*i_"
   ]
  },
  {
   "cell_type": "markdown",
   "metadata": {},
   "source": [
    "<a name=\"H_03DC8E14\"></a>\n",
    "#### Sum/Subtraction\n",
    "\n",
    "$$c_3 =c_1 +c_2 =\\left(a_1 +a_2 \\right)+\\left(b_1 +b_2 \\right)\\hat{\\;\\imath \\;} \\ldotp$$"
   ]
  },
  {
   "cell_type": "code",
   "execution_count": 7,
   "metadata": {},
   "outputs": [
    {
     "data": {
      "text/plain": [
       "c3 = \n",
       "         30 + 116i"
      ]
     },
     "execution_count": 7,
     "metadata": {},
     "output_type": "execute_result"
    }
   ],
   "source": [
    "c3 = c1+c2"
   ]
  },
  {
   "cell_type": "markdown",
   "metadata": {},
   "source": [
    "\n",
    "The subtraction is defined accordingly.\n",
    "\n",
    "\n",
    "$${\\;c}_1 -c_2 =\\left(a_1 -a_2 \\right)+\\left(b_1 -b_2 \\right)\\hat{\\;\\imath \\;} \\ldotp$$"
   ]
  },
  {
   "cell_type": "code",
   "execution_count": 8,
   "metadata": {},
   "outputs": [
    {
     "data": {
      "text/plain": [
       "ans = \n",
       "          - 20 - 60i"
      ]
     },
     "execution_count": 8,
     "metadata": {},
     "output_type": "execute_result"
    }
   ],
   "source": [
    "c1-c2"
   ]
  },
  {
   "cell_type": "markdown",
   "metadata": {},
   "source": [
    "<a name=\"H_42FA8EEB\"></a>\n",
    "#### Product\n",
    "\n",
    "The product will be\n",
    "\n",
    "\n",
    "$${\\;c}_1 c_2 =\\left(a_1 a_2 -b_1 b_2 \\right)+\\left(a_1 b_2 +b_1 a_2 \\right)\\hat{\\;\\imath \\;}$$"
   ]
  },
  {
   "cell_type": "code",
   "execution_count": 9,
   "metadata": {},
   "outputs": [
    {
     "data": {
      "text/plain": [
       "ans = \n",
       "          - 2339 + 1140i"
      ]
     },
     "execution_count": 9,
     "metadata": {},
     "output_type": "execute_result"
    }
   ],
   "source": [
    "c1*c2"
   ]
  },
  {
   "cell_type": "markdown",
   "metadata": {},
   "source": [
    "<a name=\"H_643BB6A0\"></a>\n",
    "#### **Conjugation**\n",
    "\n",
    "The conjugate of a complex number is defined as\n",
    "\n",
    "\n",
    "$${\\left(c_1 \\right)}^* =a-b\\hat{\\;\\imath \\;}$$"
   ]
  },
  {
   "cell_type": "code",
   "execution_count": 10,
   "metadata": {},
   "outputs": [
    {
     "data": {
      "text/plain": [
       "ans = \n",
       "         5 - 28i"
      ]
     },
     "execution_count": 10,
     "metadata": {},
     "output_type": "execute_result"
    }
   ],
   "source": [
    "conj(c1)"
   ]
  },
  {
   "cell_type": "markdown",
   "metadata": {},
   "source": [
    "<a name=\"H_EFB74034\"></a>\n",
    "#### Norm\n",
    "\n",
    "The norm of a complex number can be obtained as\n",
    "\n",
    "\n",
    "$$\\left|\\right|c_1 \\left|\\right|=\\sqrt{c_1 c_1^* \\;}=\\sqrt{\\left(a_1 +b_1 \\hat{\\imath \\;} \\right)\\left(a_1 -b_1 \\hat{\\imath \\;} \\right)\\;}=\\sqrt{a_1^2 +b_1^2 }$$"
   ]
  },
  {
   "cell_type": "code",
   "execution_count": 11,
   "metadata": {},
   "outputs": [
    {
     "data": {
      "text/plain": [
       "ans = \n",
       "         28.4429"
      ]
     },
     "execution_count": 11,
     "metadata": {},
     "output_type": "execute_result"
    }
   ],
   "source": [
    "norm(c1)"
   ]
  },
  {
   "cell_type": "markdown",
   "metadata": {},
   "source": [
    "<a name=\"H_EF08C35C\"></a>\n",
    "#### **Imaginary part**\n",
    "\n",
    "The imaginary part is\n",
    "\n",
    "\n",
    "$$\\textrm{Im}\\left(c_1 \\right)=b\\hat{\\;\\imath \\;}$$"
   ]
  },
  {
   "cell_type": "code",
   "execution_count": 12,
   "metadata": {},
   "outputs": [
    {
     "data": {
      "text/plain": [
       "ans = \n",
       "         28i"
      ]
     },
     "execution_count": 12,
     "metadata": {},
     "output_type": "execute_result"
    }
   ],
   "source": [
    "Im(c1)"
   ]
  },
  {
   "cell_type": "markdown",
   "metadata": {},
   "source": [
    "<a name=\"H_79B4805D\"></a>\n",
    "#### Real\n",
    "\n",
    "The real part is\n",
    "\n",
    "\n",
    "$$\\textrm{Re}\\left(c_1 \\right)=a$$"
   ]
  },
  {
   "cell_type": "code",
   "execution_count": 13,
   "metadata": {},
   "outputs": [
    {
     "data": {
      "text/plain": [
       "ans = \n",
       "         5"
      ]
     },
     "execution_count": 13,
     "metadata": {},
     "output_type": "execute_result"
    }
   ],
   "source": [
    "Re(c1)"
   ]
  },
  {
   "cell_type": "markdown",
   "metadata": {},
   "source": [
    "<a name=\"H_F9DE6A6F\"></a>\n",
    "## **Quaternions**\n",
    "\n",
    "When we extend the concept of complex numbers to four dimensions, we have what we call quaternions. They compose the set $\\mathbb{H}$ and can always be written in the form\n",
    "\n",
    "\n",
    "$$\\mathit{\\mathbf{h}}=a+b\\hat{\\;\\imath \\;} +c\\hat{\\;\\jmath \\;} +d\\hat{\\;k}$$\n",
    "\n",
    "where $a,b,c,d\\in \\;$ $\\mathbb{R}$ . In addition, the imaginary units $\\hat{\\;\\imath \\;}$ , $\\hat{\\;\\jmath \\;}$ , and $\\hat{\\;k\\;}$ have the following properties\n",
    "\n",
    "\n",
    "$${\\hat{\\;\\imath \\;} }^2 ={\\hat{\\;\\jmath \\;} }^2 ={\\hat{\\;k} }^2 =\\hat{\\;\\imath \\;} \\hat{\\;\\jmath \\;} \\hat{\\;k} =-1$$\n",
    "\n",
    "Note that every complex number is a quaternion, but not every quaternion is a complex number ( $\\mathbb{C}\\subset \\mathbb{H}$ ).\n",
    "\n",
    "\n",
    "For instance, the quaternion\n",
    "\n",
    "\n",
    "$${\\mathit{\\mathbf{c}}}_1 =5+28\\hat{\\imath \\;} +85\\hat{\\;\\jmath \\;} +99\\hat{\\;k}$$\n",
    "\n",
    "can be written using DQ Robotics as follows\n"
   ]
  },
  {
   "cell_type": "code",
   "execution_count": 14,
   "metadata": {},
   "outputs": [
    {
     "data": {
      "text/plain": [
       "c1 = \n",
       "         5 + 28i + 86j + 99k"
      ]
     },
     "execution_count": 14,
     "metadata": {},
     "output_type": "execute_result"
    }
   ],
   "source": [
    "%% Include the namespace. Probably a good idea to add to all scripts.\n",
    "include_namespace_dq\n",
    "\n",
    "%% Define c1\n",
    "c1 = 5 + 28*i_ + 86*j_ + 99*k_"
   ]
  },
  {
   "cell_type": "markdown",
   "metadata": {},
   "source": [
    "\n",
    "We can verify the properties of the imaginary units in DQ Robotics as follows\n"
   ]
  },
  {
   "cell_type": "code",
   "execution_count": 15,
   "metadata": {},
   "outputs": [
    {
     "data": {
      "text/plain": [
       "ans = \n",
       "          - 1"
      ]
     },
     "execution_count": 15,
     "metadata": {},
     "output_type": "execute_result"
    }
   ],
   "source": [
    "i_^2"
   ]
  },
  {
   "cell_type": "code",
   "execution_count": 16,
   "metadata": {},
   "outputs": [
    {
     "data": {
      "text/plain": [
       "ans = \n",
       "          - 1"
      ]
     },
     "execution_count": 16,
     "metadata": {},
     "output_type": "execute_result"
    }
   ],
   "source": [
    "j_^2"
   ]
  },
  {
   "cell_type": "code",
   "execution_count": 17,
   "metadata": {},
   "outputs": [
    {
     "data": {
      "text/plain": [
       "ans = \n",
       "          - 1"
      ]
     },
     "execution_count": 17,
     "metadata": {},
     "output_type": "execute_result"
    }
   ],
   "source": [
    "k_^2"
   ]
  },
  {
   "cell_type": "code",
   "execution_count": 18,
   "metadata": {},
   "outputs": [
    {
     "data": {
      "text/plain": [
       "ans = \n",
       "          - 1"
      ]
     },
     "execution_count": 18,
     "metadata": {},
     "output_type": "execute_result"
    }
   ],
   "source": [
    "i_*j_*k_"
   ]
  },
  {
   "cell_type": "markdown",
   "metadata": {},
   "source": [
    "\n",
    "***Note: Do not confuse MATLAB's \"i\" and \"j\" with DQ Robotics \"i_\" and \"j_\". They are not equal.***\n"
   ]
  },
  {
   "cell_type": "code",
   "execution_count": 19,
   "metadata": {},
   "outputs": [
    {
     "data": {
      "text/plain": [
       "DQ Robotics i_ is not equal to MATLAB i"
      ]
     },
     "execution_count": 19,
     "metadata": {},
     "output_type": "execute_result"
    }
   ],
   "source": [
    "if i_ ~= i\n",
    "    disp('DQ Robotics i_ is not equal to MATLAB i')\n",
    "end"
   ]
  },
  {
   "cell_type": "code",
   "execution_count": 20,
   "metadata": {},
   "outputs": [
    {
     "data": {
      "text/plain": [
       "DQ Robotics j_ is not equal to MATLAB j"
      ]
     },
     "execution_count": 20,
     "metadata": {},
     "output_type": "execute_result"
    }
   ],
   "source": [
    "if j_ ~= j\n",
    "    disp('DQ Robotics j_ is not equal to MATLAB j')\n",
    "end"
   ]
  },
  {
   "cell_type": "markdown",
   "metadata": {},
   "source": [
    "<a name=\"H_582FD121\"></a>\n",
    "### Operations on quaternions\n",
    "\n",
    "Considering ${\\mathit{\\mathbf{h}}}_1 ,{\\mathit{\\mathbf{h}}}_2 \\in \\;$ $\\mathbb{H}$ , for example\n"
   ]
  },
  {
   "cell_type": "code",
   "execution_count": 21,
   "metadata": {},
   "outputs": [
    {
     "data": {
      "text/plain": [
       "h1 = \n",
       "         5 + 28i + 86j + 99k"
      ]
     },
     "execution_count": 21,
     "metadata": {},
     "output_type": "execute_result"
    }
   ],
   "source": [
    "h1 = 5 + 28*i_ + 86*j_ + 99*k_"
   ]
  },
  {
   "cell_type": "code",
   "execution_count": 22,
   "metadata": {},
   "outputs": [
    {
     "data": {
      "text/plain": [
       "h2 = \n",
       "          - 2 + 25k"
      ]
     },
     "execution_count": 22,
     "metadata": {},
     "output_type": "execute_result"
    }
   ],
   "source": [
    "h2 = -2 + 25*k_"
   ]
  },
  {
   "cell_type": "markdown",
   "metadata": {},
   "source": [
    "<a name=\"H_02F5F344\"></a>\n",
    "#### Sum/Subtraction\n",
    "\n",
    "$${\\mathit{\\mathbf{h}}}_1 \\pm {\\mathit{\\mathbf{h}}}_2 =\\left(a_1 \\pm a_2 \\right)+\\left(b_1 \\pm b_2 \\right)\\hat{\\;\\imath \\;} +\\left(c_1 \\pm c_2 \\right)\\hat{\\;\\jmath \\;} +\\left(d_1 \\pm d_2 \\right)\\hat{\\;k\\;}$$"
   ]
  },
  {
   "cell_type": "code",
   "execution_count": 23,
   "metadata": {},
   "outputs": [
    {
     "data": {
      "text/plain": [
       "ans = \n",
       "         3 + 28i + 86j + 124k"
      ]
     },
     "execution_count": 23,
     "metadata": {},
     "output_type": "execute_result"
    }
   ],
   "source": [
    "h1+h2"
   ]
  },
  {
   "cell_type": "code",
   "execution_count": 24,
   "metadata": {},
   "outputs": [
    {
     "data": {
      "text/plain": [
       "ans = \n",
       "         7 + 28i + 86j + 74k"
      ]
     },
     "execution_count": 24,
     "metadata": {},
     "output_type": "execute_result"
    }
   ],
   "source": [
    "h1-h2"
   ]
  },
  {
   "cell_type": "markdown",
   "metadata": {},
   "source": [
    "<a name=\"H_F3B0C065\"></a>\n",
    "#### **Multiplication**\n",
    "\n",
    "$${\\mathit{\\mathbf{h}}}_1 {\\mathit{\\mathbf{h}}}_2 =\\textrm{See}\\;\\textrm{Bonus}\\;\\textrm{Homework}\\;1\\ldotp$$"
   ]
  },
  {
   "cell_type": "code",
   "execution_count": 25,
   "metadata": {},
   "outputs": [
    {
     "data": {
      "text/plain": [
       "ans = \n",
       "          - 2485 + 2094i - 872j - 73k"
      ]
     },
     "execution_count": 25,
     "metadata": {},
     "output_type": "execute_result"
    }
   ],
   "source": [
    "h1*h2"
   ]
  },
  {
   "cell_type": "markdown",
   "metadata": {},
   "source": [
    "\n",
    "Notice that the multiplication between quaternions is, ***in general***, NOT COMMUTATIVE.\n",
    "\n",
    "\n",
    "$${\\mathit{\\mathbf{h}}}_1 {\\mathit{\\mathbf{h}}}_2 \\not= {{\\mathit{\\mathbf{h}}}_2 \\mathit{\\mathbf{h}}}_1$$"
   ]
  },
  {
   "cell_type": "code",
   "execution_count": 26,
   "metadata": {},
   "outputs": [
    {
     "data": {
      "text/plain": [
       "h3 = \n",
       "          - 2485 + 2094i - 872j - 73k"
      ]
     },
     "execution_count": 26,
     "metadata": {},
     "output_type": "execute_result"
    }
   ],
   "source": [
    "h3 = h1*h2"
   ]
  },
  {
   "cell_type": "code",
   "execution_count": 27,
   "metadata": {},
   "outputs": [
    {
     "data": {
      "text/plain": [
       "h4 = \n",
       "          - 2485 - 2206i + 528j - 73k"
      ]
     },
     "execution_count": 27,
     "metadata": {},
     "output_type": "execute_result"
    }
   ],
   "source": [
    "h4 = h2*h1"
   ]
  },
  {
   "cell_type": "code",
   "execution_count": 28,
   "metadata": {},
   "outputs": [
    {
     "data": {
      "text/plain": [
       "h1*h2 is not equal to h2*h1"
      ]
     },
     "execution_count": 28,
     "metadata": {},
     "output_type": "execute_result"
    }
   ],
   "source": [
    "if h3==h4\n",
    "    disp('h1*h2 is equal to h2*h1')\n",
    "else\n",
    "    disp('h1*h2 is not equal to h2*h1')\n",
    "end"
   ]
  },
  {
   "cell_type": "markdown",
   "metadata": {},
   "source": [
    "\n",
    "It can be communitative in some cases. For instance, consider the trivial case in which $h_1 =h_2$ .\n",
    "\n",
    "<a name=\"H_94462E57\"></a>\n",
    "#### Real part\n",
    "\n",
    "$$\\textrm{Re}\\left({\\mathit{\\mathbf{h}}}_1 \\right)=a$$"
   ]
  },
  {
   "cell_type": "code",
   "execution_count": 29,
   "metadata": {},
   "outputs": [
    {
     "data": {
      "text/plain": [
       "ans = \n",
       "         5"
      ]
     },
     "execution_count": 29,
     "metadata": {},
     "output_type": "execute_result"
    }
   ],
   "source": [
    "Re(h1)"
   ]
  },
  {
   "cell_type": "markdown",
   "metadata": {},
   "source": [
    "\n",
    "If the real part of a quaternion is zero, it is called a *pure quaternion*, and belongs to the set ${\\mathbb{H}}_p$ .\n",
    "\n",
    "<a name=\"H_8ACC88AF\"></a>\n",
    "#### Imaginary part\n",
    "\n",
    "$$\\textrm{Im}\\left({\\mathit{\\mathbf{h}}}_1 \\right)=b\\hat{\\;\\imath \\;} +c\\hat{\\;\\jmath \\;} +d\\hat{\\;k}$$"
   ]
  },
  {
   "cell_type": "code",
   "execution_count": 30,
   "metadata": {},
   "outputs": [
    {
     "data": {
      "text/plain": [
       "ans = \n",
       "         28i + 86j + 99k"
      ]
     },
     "execution_count": 30,
     "metadata": {},
     "output_type": "execute_result"
    }
   ],
   "source": [
    "Im(h1)"
   ]
  },
  {
   "cell_type": "markdown",
   "metadata": {},
   "source": [
    "<a name=\"H_2242E6F0\"></a>\n",
    "#### Conjugation\n",
    "\n",
    "$${\\left({\\mathit{\\mathbf{h}}}_1 \\right)}^* =\\textrm{Re}\\left({\\mathit{\\mathbf{h}}}_1 \\right)-\\textrm{Im}\\left({\\mathit{\\mathbf{h}}}_1 \\right)=a-b\\hat{\\;\\imath \\;} -c\\hat{\\;\\jmath \\;} -d\\hat{\\;k}$$"
   ]
  },
  {
   "cell_type": "code",
   "execution_count": 31,
   "metadata": {},
   "outputs": [
    {
     "data": {
      "text/plain": [
       "ans = \n",
       "         5 - 28i - 86j - 99k"
      ]
     },
     "execution_count": 31,
     "metadata": {},
     "output_type": "execute_result"
    }
   ],
   "source": [
    "conj(h1)"
   ]
  },
  {
   "cell_type": "markdown",
   "metadata": {},
   "source": [
    "\n",
    "**Norm**\n",
    "\n",
    "\n",
    "$$\\left|\\right|{\\mathit{\\mathbf{h}}}_1 \\left|\\right|=\\sqrt{{\\mathit{\\mathbf{h}}}_1 {\\mathit{\\mathbf{h}}}_1^* \\;}=\\textrm{See}\\;\\textrm{Bonus}\\;\\textrm{Homework}\\;2\\ldotp$$"
   ]
  },
  {
   "cell_type": "code",
   "execution_count": 32,
   "metadata": {},
   "outputs": [
    {
     "data": {
      "text/plain": [
       "ans = \n",
       "         134.1864"
      ]
     },
     "execution_count": 32,
     "metadata": {},
     "output_type": "execute_result"
    }
   ],
   "source": [
    "norm(h1)"
   ]
  },
  {
   "cell_type": "markdown",
   "metadata": {},
   "source": [
    "<a name=\"H_E2D9BC8C\"></a>\n",
    "#### Vec3\n",
    "\n",
    "The imaginary part of the quaternion can be mapped to ${\\mathbb{R}}^3$ as follows\n",
    "\n",
    "\n",
    "$${\\textrm{vec}}_3 \\left({\\mathit{\\mathbf{h}}}_1 \\right)=\\left\\lbrack \\begin{array}{c} b\\\\ c\\\\ d \\end{array}\\right\\rbrack$$"
   ]
  },
  {
   "cell_type": "code",
   "execution_count": 33,
   "metadata": {},
   "outputs": [
    {
     "data": {
      "text/plain": [
       "ans = 3x1    \n",
       "    28\n",
       "    86\n",
       "    99"
      ]
     },
     "execution_count": 33,
     "metadata": {},
     "output_type": "execute_result"
    }
   ],
   "source": [
    "vec3(h1)"
   ]
  },
  {
   "cell_type": "markdown",
   "metadata": {},
   "source": [
    "<a name=\"H_75053EE9\"></a>\n",
    "#### Vec4\n",
    "\n",
    "Quaternions can be mapped to ${\\mathbb{R}}^4$ as follows\n",
    "\n",
    "\n",
    "$${\\textrm{vec}}_4 \\left({\\mathit{\\mathbf{h}}}_1 \\right)=\\left\\lbrack \\begin{array}{c} a\\\\ b\\\\ c\\\\ d \\end{array}\\right\\rbrack$$"
   ]
  },
  {
   "cell_type": "code",
   "execution_count": 34,
   "metadata": {},
   "outputs": [
    {
     "data": {
      "text/plain": [
       "ans = 4x1    \n",
       "     5\n",
       "    28\n",
       "    86\n",
       "    99"
      ]
     },
     "execution_count": 34,
     "metadata": {},
     "output_type": "execute_result"
    }
   ],
   "source": [
    "vec4(h1)"
   ]
  },
  {
   "cell_type": "markdown",
   "metadata": {},
   "source": [
    "<a name=\"H_271E2BFF\"></a>\n",
    "#### Hamilton Operators\n",
    "\n",
    "The hamilton operators are useful to provide a form of commutativity in the quaternion multiplication.\n",
    "\n",
    "\n",
    "$${\\textrm{vec}}_4 \\left({\\mathit{\\mathbf{h}}}_1 {\\mathit{\\mathbf{h}}}_2 \\right)=\\overset{+}{{\\mathit{\\mathbf{H}}}_4 } \\left({\\mathit{\\mathbf{h}}}_1 \\right){\\textrm{vec}}_4 \\left({\\mathit{\\mathbf{h}}}_2 \\right)=\\overset{-}{{\\mathit{\\mathbf{H}}}_4 } \\left({\\mathit{\\mathbf{h}}}_2 \\right){\\textrm{vec}}_4 \\left({\\mathit{\\mathbf{h}}}_1 \\right)$$"
   ]
  },
  {
   "cell_type": "code",
   "execution_count": 35,
   "metadata": {},
   "outputs": [
    {
     "data": {
      "text/plain": [
       "ans = 4x1    \n",
       "       -2485\n",
       "        2094\n",
       "        -872\n",
       "         -73"
      ]
     },
     "execution_count": 35,
     "metadata": {},
     "output_type": "execute_result"
    }
   ],
   "source": [
    "vec4(h1*h2)"
   ]
  },
  {
   "cell_type": "code",
   "execution_count": 36,
   "metadata": {},
   "outputs": [
    {
     "data": {
      "text/plain": [
       "ans = 4x1    \n",
       "       -2485\n",
       "        2094\n",
       "        -872\n",
       "         -73"
      ]
     },
     "execution_count": 36,
     "metadata": {},
     "output_type": "execute_result"
    }
   ],
   "source": [
    "hamiplus4(h1)*vec4(h2)"
   ]
  },
  {
   "cell_type": "code",
   "execution_count": 37,
   "metadata": {},
   "outputs": [
    {
     "data": {
      "text/plain": [
       "ans = 4x1    \n",
       "       -2485\n",
       "        2094\n",
       "        -872\n",
       "         -73"
      ]
     },
     "execution_count": 37,
     "metadata": {},
     "output_type": "execute_result"
    }
   ],
   "source": [
    "haminus4(h2)*vec4(h1)"
   ]
  },
  {
   "cell_type": "markdown",
   "metadata": {},
   "source": [
    "<a name=\"H_BA5B2E63\"></a>\n",
    "#### Conjugate mapping matrix\n",
    "\n",
    "The following matrix is useful when the quaternion conjugate is used. For quaternions it is defined as,\n",
    "\n",
    "\n",
    "$${\\mathit{\\mathbf{C}}}_4 =\\left\\lbrack \\begin{array}{cccc} 1 & 0 & 0 & 0\\\\ 0 & -1 & 0 & 0\\\\ 0 & 0 & -1 & 0\\\\ 0 & 0 & 0 & -1 \\end{array}\\right\\rbrack$$\n",
    "\n",
    "and has the following property\n",
    "\n",
    "\n",
    "$${\\mathit{\\mathbf{C}}}_4 {\\textrm{vec}}_4 \\left({\\mathit{\\mathbf{h}}}_1 \\right)={\\textrm{vec}}_4 \\left({\\mathit{\\mathbf{h}}}_1^* \\right)\\ldotp$$\n",
    "<a name=\"H_CC4D2A23\"></a>\n",
    "## Unit quaternions and the rotation of rigid bodies\n",
    "\n",
    "Unit quaternions compose the set ${\\mathbb{S}}^3$ , which represent rotations of the reference frame of rigid bodies in three dimensional space. A unit quaternion can always be written in the form\n",
    "\n",
    "\n",
    "$$\\mathit{\\mathbf{r}}=\\cos \\left(\\frac{\\phi }{2}\\right)+\\textrm{vsin}\\left(\\frac{\\;\\phi \\;}{2}\\right)\\left(\\textrm{See}\\;\\textrm{Bonus}\\;\\textrm{Homework}\\;3\\right)$$\n",
    "\n",
    "where $\\phi \\in$ $\\mathbb{R}$ is the rotation angle around the rotation axis $v\\in$ ${\\mathbb{S}}^3 \\cap {\\mathbb{H}}_p$ (Remember that ${\\mathbb{H}}_p$ are pure quaternions, that is, quaternions for which the real part is zero).\n",
    "\n",
    "\n",
    "Unit-norm quaternions, as the name says, have unit norm\n",
    "\n",
    "\n",
    "$$\\left|\\right|r\\left|\\right|=1\\ldotp$$\n",
    "\n",
    "For instance, to represent the rotation of $\\frac{\\pi }{2}$ rad about the x-axis, the following quaternion can be used\n",
    "\n",
    "\n",
    "$$r_1 =\\cos \\left(\\frac{\\;\\pi \\;}{4}\\right)+\\hat{\\;\\imath \\;} \\sin \\left(\\frac{\\;\\pi \\;}{4}\\right)$$"
   ]
  },
  {
   "cell_type": "code",
   "execution_count": 38,
   "metadata": {},
   "outputs": [
    {
     "data": {
      "text/plain": [
       "r1 = \n",
       "         0.70711 + 0.70711i"
      ]
     },
     "execution_count": 38,
     "metadata": {},
     "output_type": "execute_result"
    }
   ],
   "source": [
    "r1 = cos(pi/4) + i_*sin(pi/4)"
   ]
  },
  {
   "cell_type": "markdown",
   "metadata": {},
   "source": [
    "\n",
    "We can check that $r_1$ indeed has unit norm\n"
   ]
  },
  {
   "cell_type": "code",
   "execution_count": 39,
   "metadata": {},
   "outputs": [
    {
     "data": {
      "text/plain": [
       "ans = \n",
       "         1"
      ]
     },
     "execution_count": 39,
     "metadata": {},
     "output_type": "execute_result"
    }
   ],
   "source": [
    "norm(r1)"
   ]
  },
  {
   "cell_type": "markdown",
   "metadata": {},
   "source": [
    "<a name=\"H_35D1DED6\"></a>\n",
    "#### Unit quaternion double-cover property\n",
    "\n",
    "Note that the same rotation can be represented by two different quaternions, because\n",
    "\n",
    "\n",
    "$${\\mathit{\\mathbf{r}}}_1$$\n",
    "\n",
    "and\n",
    "\n",
    "\n",
    "$$-{\\mathit{\\mathbf{r}}}_1$$\n",
    "\n",
    "represent the same resulting rotation but are different quaternions. For instance, see that even though the following two quaternions represent the same rotation,\n"
   ]
  },
  {
   "cell_type": "code",
   "execution_count": 40,
   "metadata": {},
   "outputs": [
    {
     "data": {
      "text/plain": [
       "r1 = 1"
      ]
     },
     "execution_count": 40,
     "metadata": {},
     "output_type": "execute_result"
    }
   ],
   "source": [
    "r1 = 1"
   ]
  },
  {
   "cell_type": "code",
   "execution_count": 41,
   "metadata": {},
   "outputs": [
    {
     "data": {
      "text/plain": [
       "r2 = \n",
       "          - 1"
      ]
     },
     "execution_count": 41,
     "metadata": {},
     "output_type": "execute_result"
    }
   ],
   "source": [
    "r2 = cos(pi) + i_*sin(pi)"
   ]
  },
  {
   "cell_type": "markdown",
   "metadata": {},
   "source": [
    "\n",
    "they have opposite signs.\n",
    "\n",
    "\n",
    "This is called the \"double-cover\" property. We will not address this now, but it is important to know that this property exists.\n",
    "\n",
    "<a name=\"H_C67278B0\"></a>\n",
    "#### No rotation\n",
    "\n",
    "The quaternion that represents that there is no rotation is\n",
    "\n",
    "\n",
    "$$r_1 =1$$"
   ]
  },
  {
   "cell_type": "code",
   "execution_count": 42,
   "metadata": {},
   "outputs": [
    {
     "data": {
      "text/plain": [
       "r1 = 1"
      ]
     },
     "execution_count": 42,
     "metadata": {},
     "output_type": "execute_result"
    }
   ],
   "source": [
    "r1 = 1"
   ]
  },
  {
   "cell_type": "markdown",
   "metadata": {},
   "source": [
    "<a name=\"H_FC487DD7\"></a>\n",
    "#### Plotting quaternions\n",
    "\n",
    "Using DQ Robotics, the rotation quaternions can be plotted on screen. See, for example\n",
    "\n",
    "\n",
    " *Note: for the unit quaternion* $r_1 =1$ *, you have to explicitly initialize it using the DQ constructor before plotting, otherwise MATLAB will not use the correct plot function.*\n"
   ]
  },
  {
   "cell_type": "code",
   "execution_count": 43,
   "metadata": {},
   "outputs": [
    {
     "data": {
      "text/plain": [
       "Displaying 1 as a quaternion"
      ]
     },
     "execution_count": 43,
     "metadata": {},
     "output_type": "execute_result"
    }
   ],
   "source": [
    "clear all;\n",
    "include_namespace_dq\n",
    "disp('Displaying 1 as a quaternion')"
   ]
  },
  {
   "cell_type": "code",
   "execution_count": 44,
   "metadata": {},
   "outputs": [
    {
     "data": {
      "text/plain": [
       "r1 = \n",
       "         1"
      ]
     },
     "execution_count": 44,
     "metadata": {},
     "output_type": "execute_result"
    }
   ],
   "source": [
    "r1 = DQ(1)"
   ]
  },
  {
   "cell_type": "code",
   "execution_count": 45,
   "metadata": {},
   "outputs": [
    {
     "data": {
      "text/html": [
       "<center><img src=\"data:image/png;base64,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\" width=\"562\" alt=\"figure_0.png\"></center>"
      ]
     },
     "execution_count": 45,
     "metadata": {},
     "output_type": "execute_result"
    }
   ],
   "source": [
    "plot(r1);"
   ]
  },
  {
   "cell_type": "markdown",
   "metadata": {},
   "source": [
    "<a name=\"H_C909BC72\"></a>\n",
    "#### Sequential rotations\n",
    "\n",
    "Sequential rotations are obtained by post-multiplication. For example, the transformation between the neutral reference frame by ${r_1 }$ followed by ${r_2 }$  is\n",
    "\n",
    "\n",
    "$${\\mathit{\\mathbf{r}}}_3 ={\\mathit{\\mathbf{r}}}_1 {\\mathit{\\mathbf{r}}}_2$$\n",
    "\n",
    "For example\n"
   ]
  },
  {
   "cell_type": "code",
   "execution_count": 46,
   "metadata": {},
   "outputs": [
    {
     "data": {
      "text/plain": [
       "Displaying the result of the sequential multiplication r3=r1*r2"
      ]
     },
     "execution_count": 46,
     "metadata": {},
     "output_type": "execute_result"
    }
   ],
   "source": [
    "clear all;\n",
    "include_namespace_dq\n",
    "disp('Displaying the result of the sequential multiplication r3=r1*r2')"
   ]
  },
  {
   "cell_type": "code",
   "execution_count": 47,
   "metadata": {},
   "outputs": [
    {
     "data": {
      "text/html": [
       "<center><img src=\"data:image/png;base64,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\" width=\"562\" alt=\"figure_1.png\"></center>"
      ]
     },
     "execution_count": 47,
     "metadata": {},
     "output_type": "execute_result"
    }
   ],
   "source": [
    "r1 = cos(pi/16) + i_*sin(pi/16);\n",
    "r2 = cos(pi/4) + i_*sin(pi/4);\n",
    "r3 = r1*r2;\n",
    "plot(r3);"
   ]
  },
  {
   "cell_type": "markdown",
   "metadata": {},
   "source": [
    "\n",
    "We can also plot all intermediary rotations using subplot.\n"
   ]
  },
  {
   "cell_type": "code",
   "execution_count": 48,
   "metadata": {},
   "outputs": [
    {
     "data": {
      "text/plain": [
       "Displaying the result of the sequential multiplication using subplot"
      ]
     },
     "execution_count": 48,
     "metadata": {},
     "output_type": "execute_result"
    }
   ],
   "source": [
    "clear all;\n",
    "include_namespace_dq\n",
    "disp('Displaying the result of the sequential multiplication using subplot')"
   ]
  },
  {
   "cell_type": "code",
   "execution_count": 49,
   "metadata": {},
   "outputs": [
    {
     "data": {
      "text/html": [
       "<center><img src=\"data:image/png;base64,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\" width=\"562\" alt=\"figure_2.png\"></center>"
      ]
     },
     "execution_count": 49,
     "metadata": {},
     "output_type": "execute_result"
    }
   ],
   "source": [
    "r1 = cos(pi/16) + i_*sin(pi/16);\n",
    "r2 = cos(pi/32) + i_*sin(pi/32);\n",
    "r3 = r1*r2;\n",
    "\n",
    "subplot(1,3,1);\n",
    "plot(r1);\n",
    "title('r1');\n",
    "subplot(1,3,2);\n",
    "plot(r2);\n",
    "title('r2');\n",
    "subplot(1,3,3);\n",
    "plot(r3);\n",
    "title('Rotation of r1 by r2');"
   ]
  },
  {
   "cell_type": "markdown",
   "metadata": {},
   "source": [
    "<a name=\"H_625A2B4B\"></a>\n",
    "#### Reverse rotation\n",
    "\n",
    "The reverse rotation can be obtained using the conjugate operation, because unit quaternions have unit norm. Hence,\n",
    "\n",
    "\n",
    "$$\\mathit{\\mathbf{r}}{\\left(\\mathit{\\mathbf{r}}\\right)}^* =1$$\n",
    "\n",
    "For example, for a given rotation quaternion\n"
   ]
  },
  {
   "cell_type": "code",
   "execution_count": 50,
   "metadata": {},
   "outputs": [],
   "source": [
    "r1 = cos(pi/16) + i_*sin(pi/16);"
   ]
  },
  {
   "cell_type": "markdown",
   "metadata": {},
   "source": [
    "\n",
    "The rotation quaternion that corresponds to the reverse rotation is given by its conjugate.\n"
   ]
  },
  {
   "cell_type": "code",
   "execution_count": 51,
   "metadata": {},
   "outputs": [
    {
     "data": {
      "text/plain": [
       "ans = \n",
       "         0.98079 - 0.19509i"
      ]
     },
     "execution_count": 51,
     "metadata": {},
     "output_type": "execute_result"
    }
   ],
   "source": [
    "conj(r1)"
   ]
  },
  {
   "cell_type": "markdown",
   "metadata": {},
   "source": [
    "\n",
    "We can verify that sequentially multiplying one by the other gives us a \"no rotation\" quaternion.\n"
   ]
  },
  {
   "cell_type": "code",
   "execution_count": 52,
   "metadata": {},
   "outputs": [
    {
     "data": {
      "text/plain": [
       "ans = \n",
       "         1"
      ]
     },
     "execution_count": 52,
     "metadata": {},
     "output_type": "execute_result"
    }
   ],
   "source": [
    "r1*conj(r1)"
   ]
  },
  {
   "cell_type": "markdown",
   "metadata": {},
   "source": [
    "<a name=\"T_98D69E51\"></a>\n",
    "# <span style=\"color:rgb(213,80,0)\">Homework</span>\n",
    "\n",
    "Note: Dont forget to add\n"
   ]
  },
  {
   "cell_type": "code",
   "execution_count": 53,
   "metadata": {},
   "outputs": [],
   "source": [
    "include_namespace_dq"
   ]
  },
  {
   "cell_type": "markdown",
   "metadata": {},
   "source": [
    "\n",
    "in the beginning of your script.\n",
    "\n",
    "1.  Create a MATLAB script called [quaternion_basics_homework.m]. On it, do the following tasks.\n",
    "2. Store, in $r_1$ , the value of a rotation of $\\phi =\\frac{\\pi \\;\\;}{8}\\;\\textrm{rad}$ about the x-axis.\n",
    "3. Store, in $r_2$ , the value of a rotation of $\\phi =\\frac{\\pi \\;\\;}{16}\\;\\textrm{rad}$ about the y-axis.\n",
    "4. Store, in $r_3$ , the value of a rotation of $\\phi =\\frac{\\pi \\;\\;}{32}\\;\\textrm{rad}$ about the z-axis.\n",
    "5. Calculate the result of the sequential rotation of the neutral reference-frame by $r_1$ , followed by $r_2$ , followed by $r_3$ , and store it in ${\\mathit{\\mathbf{r}}}_4$ . Plot ${\\mathit{\\mathbf{r}}}_4$ .\n",
    "6. Find the reverse rotation of ${\\mathit{\\mathbf{r}}}_4$ and store it in ${\\mathit{\\mathbf{r}}}_5$ .\n",
    "7. Rotate ${\\mathit{\\mathbf{r}}}_5$ by ${360}^{\\circ \\;}$ about the x-axis and store it in ${\\mathit{\\mathbf{r}}}_6$ . Is ${\\mathit{\\mathbf{r}}}_5 =-{\\mathit{\\mathbf{r}}}_6$ ? Plot ${\\mathit{\\mathbf{r}}}_5$ and ${\\mathit{\\mathbf{r}}}_6$ to confirm that they represent the same rotation.\n",
    "<a name=\"T_B6A9D8F3\"></a>\n",
    "# <span style=\"color:rgb(213,80,0)\">Bonus Homework</span>\n",
    "1.  What is the general form of the quaternion multiplication? Multiply ${\\mathit{\\mathbf{h}}}_1 =a_1 +b_1 \\hat{\\;\\imath \\;} +c_1 \\hat{\\;\\jmath \\;} +d_1 \\hat{\\;k}$ and ${\\mathit{\\mathbf{h}}}_2 =a_2 +b_2 \\hat{\\;\\imath \\;} +c_2 \\hat{\\;\\jmath \\;} +d_2 \\hat{\\;k}$ on pen and paper and find ${\\mathit{\\mathbf{h}}}_3 =a_3 +b_3 \\hat{\\;\\imath \\;} +c_3 \\hat{\\;\\jmath \\;} +d_3 \\hat{\\;k}$ .\n",
    "2. What is the general form of the quaternion norm? Simplify $\\sqrt{\\;{\\mathit{\\mathbf{h}}}_1 {\\mathit{\\mathbf{h}}}_1^* }$ on pen and paper.\n",
    "3. Show that every unit quaternion, written as $\\mathit{\\mathbf{r}}=\\cos \\left(\\frac{\\phi }{2}\\right)+\\textrm{vsin}\\left(\\frac{\\;\\phi \\;}{2}\\right)$ , has unit norm. Do that on pen and paper.\n"
   ]
  }
 ],
 "metadata": {
  "kernelspec": {
   "display_name": "MATLAB (matlabkernel)",
   "language": "matlab",
   "name": "matlab"
  },
  "language_info": {
   "file_extension": ".m",
   "mimetype": "text/matlab",
   "name": "matlab",
   "nbconvert_exporter": "matlab",
   "pygments_lexer": "matlab",
   "version": "23.2.0.2485118"
  }
 },
 "nbformat": 4,
 "nbformat_minor": 4
}
