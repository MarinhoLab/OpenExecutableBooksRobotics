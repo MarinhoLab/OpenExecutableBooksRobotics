{
 "cells": [
  {
   "cell_type": "code",
   "metadata": {
    "ExecuteTime": {
     "end_time": "2025-04-16T13:18:02.310458Z",
     "start_time": "2025-04-16T13:18:02.301619Z"
    }
   },
   "source": [
    "%%capture\n",
    "'''\n",
    "(C) Copyright 2020-2025 Murilo Marques Marinho (murilomarinho@ieee.org)\n",
    "\n",
    "     This file is licensed in the terms of the\n",
    "     Attribution-NonCommercial-ShareAlike 4.0 International (CC BY-NC-SA 4.0)\n",
    "     license.\n",
    "\n",
    " Derivative work of:\n",
    " https://github.com/dqrobotics/learning-dqrobotics-in-matlab/tree/master/robotic_manipulators\n",
    " Contributors to this file:\n",
    "     Murilo Marques Marinho (murilomarinho@ieee.org)\n",
    "'''"
   ],
   "outputs": [],
   "execution_count": 1
  },
  {
   "cell_type": "markdown",
   "metadata": {},
   "source": [
    "# DQ2 Quaternion Basics using DQ Robotics\n",
    "\n",
    "## I found an issue\n",
    "Thank you! Please report it at https://github.com/MarinhoLab/OpenExecutableBooksRobotics/issues\n",
    "\n",
    "## Introduction\n",
    "\n",
    "Before going into the topic of quaternions, it is important to review some high-school level math. And, of course, we need to install the library!\n",
    "This is easy to do. The library is available in [PyPI](https://pypi.org/project/dqrobotics/)."
   ]
  },
  {
   "cell_type": "code",
   "metadata": {
    "ExecuteTime": {
     "end_time": "2025-04-16T13:18:07.491437Z",
     "start_time": "2025-04-16T13:18:02.628268Z"
    }
   },
   "source": [
    "%%capture\n",
    "%pip install dqrobotics dqrobotics-pyplot\n",
    "%pip install dqrobotics dqrobotics-pyplot --break-system-packages"
   ],
   "outputs": [],
   "execution_count": 2
  },
  {
   "cell_type": "markdown",
   "metadata": {},
   "source": [
    "```{attention}\n",
    "The current release version of dqrobotics does not have a plot function. Temporarily we will use the package dqrobotics-pyplot for it.\n",
    "```"
   ]
  },
  {
   "cell_type": "code",
   "metadata": {
    "ExecuteTime": {
     "end_time": "2025-04-16T13:18:09.715661Z",
     "start_time": "2025-04-16T13:18:07.535044Z"
    }
   },
   "source": [
    "from dqrobotics_extensions.pyplot import plot\n",
    "import matplotlib.pyplot as plt\n",
    "from math import pi, cos, sin"
   ],
   "outputs": [],
   "execution_count": 3
  },
  {
   "cell_type": "markdown",
   "metadata": {},
   "source": [
    "\n",
    "\n",
    "<a name=\"H_7DF2A060\"></a>\n",
    "## Quick review on complex numbers\n",
    "\n",
    "The set of complex numbers $\\mathbb{C}$ ,  can be understood as an extention of the set of real numbers $\\mathbb{R}$ . Any complex number can always be written in the form\n",
    "\n",
    "\n",
    "$$\\mathit{\\mathbf{c}}=a+b\\hat{\\;\\imath \\;,}$$\n",
    "\n",
    "where $a,b\\in \\;$ $\\mathbb{R}$ . In addition, the imaginary unit, $\\hat{\\;\\imath \\;}$ has the following property\n",
    "\n",
    "\n",
    "$${\\hat{\\;\\imath \\;} }^2 =-1\\ldotp$$\n",
    "\n",
    "For instance, the complex number\n",
    "\n",
    "\n",
    "$${\\mathit{\\mathbf{c}}}_1 =5+28\\hat{\\imath \\;} \\;$$\n",
    "\n",
    "can be written using DQ Robotics as follows.\n"
   ]
  },
  {
   "cell_type": "code",
   "metadata": {
    "ExecuteTime": {
     "end_time": "2025-04-16T13:18:09.725994Z",
     "start_time": "2025-04-16T13:18:09.723938Z"
    }
   },
   "source": [
    "# Import essential DQ algebra\n",
    "from dqrobotics import *\n",
    "\n",
    "# Define c1\n",
    "c1 = 5 + 28*i_\n",
    "print(f\"c1 = {c1}\")"
   ],
   "outputs": [
    {
     "name": "stdout",
     "output_type": "stream",
     "text": [
      "c1 = 5 + 28i\n"
     ]
    }
   ],
   "execution_count": 4
  },
  {
   "cell_type": "markdown",
   "metadata": {},
   "source": [
    "\n",
    "Notice that the imaginary unit property holds:\n"
   ]
  },
  {
   "cell_type": "code",
   "metadata": {
    "ExecuteTime": {
     "end_time": "2025-04-16T13:18:09.750195Z",
     "start_time": "2025-04-16T13:18:09.747994Z"
    }
   },
   "source": [
    "# Imaginary unit property\n",
    "i_ * i_"
   ],
   "outputs": [
    {
     "data": {
      "text/plain": [
       " - 1"
      ]
     },
     "execution_count": 5,
     "metadata": {},
     "output_type": "execute_result"
    }
   ],
   "execution_count": 5
  },
  {
   "cell_type": "markdown",
   "metadata": {},
   "source": [
    "\n",
    "***Note: Do not confuse Python's \"j\" with DQ Robotics \"j_\". They are different.***"
   ]
  },
  {
   "cell_type": "code",
   "metadata": {
    "ExecuteTime": {
     "end_time": "2025-04-16T13:18:09.777200Z",
     "start_time": "2025-04-16T13:18:09.774563Z"
    }
   },
   "source": [
    "import numpy as np\n",
    "\n",
    "if j_ != 1j:\n",
    "    print(\"DQ Robotics j_ is not equal to Python's j\")"
   ],
   "outputs": [
    {
     "name": "stdout",
     "output_type": "stream",
     "text": [
      "DQ Robotics j_ is not equal to Python's j\n"
     ]
    }
   ],
   "execution_count": 6
  },
  {
   "cell_type": "markdown",
   "metadata": {},
   "source": [
    "<a name=\"H_69A90DBD\"></a>\n",
    "### **Operations on complex numbers**\n",
    "\n",
    "The operations on complex numbers are very similar to the operations on real numbers. We just need to respect the property ${\\hat{\\;\\imath \\;} }^2 =-1\\ldotp$\n",
    "\n",
    "\n",
    "For instance, for the complex numbers\n",
    "\n",
    "\n",
    "$$c_1 =a_1 +b_1 \\hat{\\imath \\;},$$\n",
    "\n",
    "$$c_2 =a_2 +b_2 \\hat{\\imath \\;}.$$\n"
   ]
  },
  {
   "cell_type": "code",
   "metadata": {
    "ExecuteTime": {
     "end_time": "2025-04-16T13:18:09.801103Z",
     "start_time": "2025-04-16T13:18:09.799066Z"
    }
   },
   "source": [
    "c1 = 5  + 28*i_\n",
    "print(f\"c1 = {c1}\")"
   ],
   "outputs": [
    {
     "name": "stdout",
     "output_type": "stream",
     "text": [
      "c1 = 5 + 28i\n"
     ]
    }
   ],
   "execution_count": 7
  },
  {
   "cell_type": "code",
   "metadata": {
    "ExecuteTime": {
     "end_time": "2025-04-16T13:18:09.824438Z",
     "start_time": "2025-04-16T13:18:09.822194Z"
    }
   },
   "source": [
    "c2 = 25 + 88*i_\n",
    "print(f\"c2 = {c2}\")"
   ],
   "outputs": [
    {
     "name": "stdout",
     "output_type": "stream",
     "text": [
      "c2 = 25 + 88i\n"
     ]
    }
   ],
   "execution_count": 8
  },
  {
   "cell_type": "markdown",
   "metadata": {},
   "source": [
    "<a name=\"H_03DC8E14\"></a>\n",
    "#### Sum/Subtraction\n",
    "\n",
    "$$c_3 =c_1 +c_2 =\\left(a_1 +a_2 \\right)+\\left(b_1 +b_2 \\right)\\hat{\\;\\imath \\;} \\ldotp$$"
   ]
  },
  {
   "cell_type": "code",
   "metadata": {
    "ExecuteTime": {
     "end_time": "2025-04-16T13:18:09.851567Z",
     "start_time": "2025-04-16T13:18:09.848823Z"
    }
   },
   "source": [
    "c3 = c1 + c2\n",
    "print(f\"c3 = {c3}\")"
   ],
   "outputs": [
    {
     "name": "stdout",
     "output_type": "stream",
     "text": [
      "c3 = 30 + 116i\n"
     ]
    }
   ],
   "execution_count": 9
  },
  {
   "cell_type": "markdown",
   "metadata": {},
   "source": [
    "\n",
    "The subtraction is defined accordingly.\n",
    "\n",
    "\n",
    "$${\\;c}_1 -c_2 =\\left(a_1 -a_2 \\right)+\\left(b_1 -b_2 \\right)\\hat{\\;\\imath \\;} \\ldotp$$"
   ]
  },
  {
   "cell_type": "code",
   "metadata": {
    "ExecuteTime": {
     "end_time": "2025-04-16T13:18:09.873011Z",
     "start_time": "2025-04-16T13:18:09.869733Z"
    }
   },
   "source": [
    "c1 - c2"
   ],
   "outputs": [
    {
     "data": {
      "text/plain": [
       " - 20 - 60i"
      ]
     },
     "execution_count": 10,
     "metadata": {},
     "output_type": "execute_result"
    }
   ],
   "execution_count": 10
  },
  {
   "cell_type": "markdown",
   "metadata": {},
   "source": [
    "<a name=\"H_42FA8EEB\"></a>\n",
    "#### Product\n",
    "\n",
    "The product will be\n",
    "\n",
    "\n",
    "$${\\;c}_1 c_2 =\\left(a_1 a_2 -b_1 b_2 \\right)+\\left(a_1 b_2 +b_1 a_2 \\right)\\hat{\\;\\imath \\;}.$$"
   ]
  },
  {
   "cell_type": "code",
   "metadata": {
    "ExecuteTime": {
     "end_time": "2025-04-16T13:18:09.893948Z",
     "start_time": "2025-04-16T13:18:09.890699Z"
    }
   },
   "source": [
    "c1 * c2"
   ],
   "outputs": [
    {
     "data": {
      "text/plain": [
       " - 2339 + 1140i"
      ]
     },
     "execution_count": 11,
     "metadata": {},
     "output_type": "execute_result"
    }
   ],
   "execution_count": 11
  },
  {
   "cell_type": "markdown",
   "metadata": {},
   "source": [
    "<a name=\"H_643BB6A0\"></a>\n",
    "#### **Conjugation**\n",
    "\n",
    "The conjugate of a complex number is defined as\n",
    "\n",
    "\n",
    "$${\\left(c_1 \\right)}^* =a-b\\hat{\\;\\imath \\;}.$$"
   ]
  },
  {
   "cell_type": "code",
   "metadata": {
    "ExecuteTime": {
     "end_time": "2025-04-16T13:18:09.912600Z",
     "start_time": "2025-04-16T13:18:09.909564Z"
    }
   },
   "source": [
    "conj(c1)"
   ],
   "outputs": [
    {
     "data": {
      "text/plain": [
       "5 - 28i"
      ]
     },
     "execution_count": 12,
     "metadata": {},
     "output_type": "execute_result"
    }
   ],
   "execution_count": 12
  },
  {
   "cell_type": "markdown",
   "metadata": {},
   "source": [
    "<a name=\"H_EFB74034\"></a>\n",
    "#### Norm\n",
    "\n",
    "The norm of a complex number can be obtained as\n",
    "\n",
    "\n",
    "$$\\left|\\right|c_1 \\left|\\right|=\\sqrt{c_1 c_1^* \\;}=\\sqrt{\\left(a_1 +b_1 \\hat{\\imath \\;} \\right)\\left(a_1 -b_1 \\hat{\\imath \\;} \\right)\\;}=\\sqrt{a_1^2 +b_1^2 }.$$"
   ]
  },
  {
   "cell_type": "code",
   "metadata": {
    "ExecuteTime": {
     "end_time": "2025-04-16T13:18:09.933981Z",
     "start_time": "2025-04-16T13:18:09.931047Z"
    }
   },
   "source": [
    "norm(c1)"
   ],
   "outputs": [
    {
     "data": {
      "text/plain": [
       "28.442925"
      ]
     },
     "execution_count": 13,
     "metadata": {},
     "output_type": "execute_result"
    }
   ],
   "execution_count": 13
  },
  {
   "cell_type": "markdown",
   "metadata": {},
   "source": [
    "<a name=\"H_EF08C35C\"></a>\n",
    "#### **Imaginary part**\n",
    "\n",
    "The imaginary part is\n",
    "\n",
    "\n",
    "$$\\textrm{Im}\\left(c_1 \\right)=b\\hat{\\;\\imath \\;}.$$"
   ]
  },
  {
   "cell_type": "code",
   "metadata": {
    "ExecuteTime": {
     "end_time": "2025-04-16T13:18:09.957734Z",
     "start_time": "2025-04-16T13:18:09.954842Z"
    }
   },
   "source": [
    "Im(c1)"
   ],
   "outputs": [
    {
     "data": {
      "text/plain": [
       "28i"
      ]
     },
     "execution_count": 14,
     "metadata": {},
     "output_type": "execute_result"
    }
   ],
   "execution_count": 14
  },
  {
   "cell_type": "markdown",
   "metadata": {},
   "source": [
    "<a name=\"H_79B4805D\"></a>\n",
    "#### Real\n",
    "\n",
    "The real part is\n",
    "\n",
    "\n",
    "$$\\textrm{Re}\\left(c_1 \\right)=a.$$"
   ]
  },
  {
   "cell_type": "code",
   "metadata": {
    "ExecuteTime": {
     "end_time": "2025-04-16T13:18:09.977458Z",
     "start_time": "2025-04-16T13:18:09.974114Z"
    }
   },
   "source": [
    "Re(c1)"
   ],
   "outputs": [
    {
     "data": {
      "text/plain": [
       "5"
      ]
     },
     "execution_count": 15,
     "metadata": {},
     "output_type": "execute_result"
    }
   ],
   "execution_count": 15
  },
  {
   "cell_type": "markdown",
   "metadata": {},
   "source": [
    "<a name=\"H_F9DE6A6F\"></a>\n",
    "## **Quaternions**\n",
    "\n",
    "When we extend the concept of complex numbers to four dimensions, we have what we call quaternions. They compose the set $\\mathbb{H}$ and can always be written in the form\n",
    "\n",
    "\n",
    "$$\\mathit{\\mathbf{h}}=a+b\\hat{\\;\\imath \\;} +c\\hat{\\;\\jmath \\;} +d\\hat{\\;k},$$\n",
    "\n",
    "where $a,b,c,d\\in \\;$ $\\mathbb{R}$ . In addition, the imaginary units $\\hat{\\;\\imath \\;}$ , $\\hat{\\;\\jmath \\;}$ , and $\\hat{\\;k\\;}$ have the following properties\n",
    "\n",
    "\n",
    "$${\\hat{\\;\\imath \\;} }^2 ={\\hat{\\;\\jmath \\;} }^2 ={\\hat{\\;k} }^2 =\\hat{\\;\\imath \\;} \\hat{\\;\\jmath \\;} \\hat{\\;k} =-1.$$\n",
    "\n",
    "Note that every complex number is a quaternion, but not every quaternion is a complex number ( $\\mathbb{C}\\subset \\mathbb{H}$ ).\n",
    "\n",
    "\n",
    "For instance, the quaternion\n",
    "\n",
    "\n",
    "$${\\mathit{\\mathbf{c}}}_1 =5+28\\hat{\\imath \\;} +85\\hat{\\;\\jmath \\;} +99\\hat{\\;k}$$\n",
    "\n",
    "can be written using DQ Robotics as follows\n"
   ]
  },
  {
   "cell_type": "code",
   "metadata": {
    "ExecuteTime": {
     "end_time": "2025-04-16T13:18:09.995123Z",
     "start_time": "2025-04-16T13:18:09.992685Z"
    }
   },
   "source": [
    "# Define c1\n",
    "c1 = 5 + 28*i_ + 86*j_ + 99*k_\n",
    "print(f\"c1 = {c1}\")"
   ],
   "outputs": [
    {
     "name": "stdout",
     "output_type": "stream",
     "text": [
      "c1 = 5 + 28i + 86j + 99k\n"
     ]
    }
   ],
   "execution_count": 16
  },
  {
   "cell_type": "markdown",
   "metadata": {},
   "source": [
    "\n",
    "We can verify the properties of the imaginary units in DQ Robotics as follows\n"
   ]
  },
  {
   "cell_type": "code",
   "metadata": {
    "ExecuteTime": {
     "end_time": "2025-04-16T13:18:10.016504Z",
     "start_time": "2025-04-16T13:18:10.013778Z"
    }
   },
   "source": [
    "i_ * i_"
   ],
   "outputs": [
    {
     "data": {
      "text/plain": [
       " - 1"
      ]
     },
     "execution_count": 17,
     "metadata": {},
     "output_type": "execute_result"
    }
   ],
   "execution_count": 17
  },
  {
   "cell_type": "code",
   "metadata": {
    "ExecuteTime": {
     "end_time": "2025-04-16T13:18:10.035563Z",
     "start_time": "2025-04-16T13:18:10.032958Z"
    }
   },
   "source": [
    "j_ * j_"
   ],
   "outputs": [
    {
     "data": {
      "text/plain": [
       " - 1"
      ]
     },
     "execution_count": 18,
     "metadata": {},
     "output_type": "execute_result"
    }
   ],
   "execution_count": 18
  },
  {
   "cell_type": "code",
   "metadata": {
    "ExecuteTime": {
     "end_time": "2025-04-16T13:18:10.047189Z",
     "start_time": "2025-04-16T13:18:10.043690Z"
    }
   },
   "source": [
    "k_ * k_"
   ],
   "outputs": [
    {
     "data": {
      "text/plain": [
       " - 1"
      ]
     },
     "execution_count": 19,
     "metadata": {},
     "output_type": "execute_result"
    }
   ],
   "execution_count": 19
  },
  {
   "cell_type": "code",
   "metadata": {
    "ExecuteTime": {
     "end_time": "2025-04-16T13:18:10.060251Z",
     "start_time": "2025-04-16T13:18:10.057122Z"
    }
   },
   "source": [
    "i_ * j_ * k_"
   ],
   "outputs": [
    {
     "data": {
      "text/plain": [
       " - 1"
      ]
     },
     "execution_count": 20,
     "metadata": {},
     "output_type": "execute_result"
    }
   ],
   "execution_count": 20
  },
  {
   "cell_type": "markdown",
   "metadata": {},
   "source": [
    "<a name=\"H_582FD121\"></a>\n",
    "### Operations on quaternions\n",
    "\n",
    "Considering ${\\mathit{\\mathbf{h}}}_1 ,{\\mathit{\\mathbf{h}}}_2 \\in \\;$ $\\mathbb{H}$ , for example\n"
   ]
  },
  {
   "cell_type": "code",
   "metadata": {
    "ExecuteTime": {
     "end_time": "2025-04-16T13:18:10.077455Z",
     "start_time": "2025-04-16T13:18:10.074993Z"
    }
   },
   "source": [
    "h1 = 5 + 28*i_ + 86*j_ + 99*k_\n",
    "print(f\"h1 = {h1}\")"
   ],
   "outputs": [
    {
     "name": "stdout",
     "output_type": "stream",
     "text": [
      "h1 = 5 + 28i + 86j + 99k\n"
     ]
    }
   ],
   "execution_count": 21
  },
  {
   "cell_type": "code",
   "metadata": {
    "ExecuteTime": {
     "end_time": "2025-04-16T13:18:10.095369Z",
     "start_time": "2025-04-16T13:18:10.092472Z"
    }
   },
   "source": [
    "h2 = -2 + 25*k_\n",
    "print(f\"h2 = {h1}\")"
   ],
   "outputs": [
    {
     "name": "stdout",
     "output_type": "stream",
     "text": [
      "h2 = 5 + 28i + 86j + 99k\n"
     ]
    }
   ],
   "execution_count": 22
  },
  {
   "cell_type": "markdown",
   "metadata": {},
   "source": [
    "<a name=\"H_02F5F344\"></a>\n",
    "#### Sum/Subtraction\n",
    "\n",
    "$${\\mathit{\\mathbf{h}}}_1 \\pm {\\mathit{\\mathbf{h}}}_2 =\\left(a_1 \\pm a_2 \\right)+\\left(b_1 \\pm b_2 \\right)\\hat{\\;\\imath \\;} +\\left(c_1 \\pm c_2 \\right)\\hat{\\;\\jmath \\;} +\\left(d_1 \\pm d_2 \\right)\\hat{\\;k\\;}.$$"
   ]
  },
  {
   "cell_type": "code",
   "metadata": {
    "ExecuteTime": {
     "end_time": "2025-04-16T13:18:10.106836Z",
     "start_time": "2025-04-16T13:18:10.104192Z"
    }
   },
   "source": [
    "h1 + h2"
   ],
   "outputs": [
    {
     "data": {
      "text/plain": [
       "3 + 28i + 86j + 124k"
      ]
     },
     "execution_count": 23,
     "metadata": {},
     "output_type": "execute_result"
    }
   ],
   "execution_count": 23
  },
  {
   "cell_type": "code",
   "metadata": {
    "ExecuteTime": {
     "end_time": "2025-04-16T13:18:10.122243Z",
     "start_time": "2025-04-16T13:18:10.119864Z"
    }
   },
   "source": [
    "h1 - h2"
   ],
   "outputs": [
    {
     "data": {
      "text/plain": [
       "7 + 28i + 86j + 74k"
      ]
     },
     "execution_count": 24,
     "metadata": {},
     "output_type": "execute_result"
    }
   ],
   "execution_count": 24
  },
  {
   "cell_type": "markdown",
   "metadata": {},
   "source": [
    "<a name=\"H_F3B0C065\"></a>\n",
    "#### **Multiplication**\n",
    "\n",
    "$${\\mathit{\\mathbf{h}}}_1 {\\mathit{\\mathbf{h}}}_2 =\\textrm{See}\\;\\textrm{Bonus}\\;\\textrm{Homework}\\;1\\ldotp$$"
   ]
  },
  {
   "cell_type": "code",
   "metadata": {
    "ExecuteTime": {
     "end_time": "2025-04-16T13:18:10.132860Z",
     "start_time": "2025-04-16T13:18:10.130643Z"
    }
   },
   "source": [
    "h1 * h2"
   ],
   "outputs": [
    {
     "data": {
      "text/plain": [
       " - 2485 + 2094i - 872j - 73k"
      ]
     },
     "execution_count": 25,
     "metadata": {},
     "output_type": "execute_result"
    }
   ],
   "execution_count": 25
  },
  {
   "cell_type": "markdown",
   "metadata": {},
   "source": [
    "\n",
    "Notice that the multiplication between quaternions is, ***in general***, NOT COMMUTATIVE.\n",
    "\n",
    "\n",
    "$${\\mathit{\\mathbf{h}}}_1 {\\mathit{\\mathbf{h}}}_2 \\not= {{\\mathit{\\mathbf{h}}}_2 \\mathit{\\mathbf{h}}}_1.$$"
   ]
  },
  {
   "cell_type": "code",
   "metadata": {
    "ExecuteTime": {
     "end_time": "2025-04-16T13:18:10.147555Z",
     "start_time": "2025-04-16T13:18:10.145726Z"
    }
   },
   "source": [
    "h3 = h1 * h2"
   ],
   "outputs": [],
   "execution_count": 26
  },
  {
   "cell_type": "code",
   "metadata": {
    "ExecuteTime": {
     "end_time": "2025-04-16T13:18:10.161492Z",
     "start_time": "2025-04-16T13:18:10.159852Z"
    }
   },
   "source": [
    "h4 = h2 * h1"
   ],
   "outputs": [],
   "execution_count": 27
  },
  {
   "cell_type": "code",
   "metadata": {
    "ExecuteTime": {
     "end_time": "2025-04-16T13:18:10.172436Z",
     "start_time": "2025-04-16T13:18:10.169167Z"
    }
   },
   "source": [
    "if h3==h4:\n",
    "    print('h1*h2 is equal to h2*h1')\n",
    "else:\n",
    "    print('h1*h2 is not equal to h2*h1')"
   ],
   "outputs": [
    {
     "name": "stdout",
     "output_type": "stream",
     "text": [
      "h1*h2 is not equal to h2*h1\n"
     ]
    }
   ],
   "execution_count": 28
  },
  {
   "cell_type": "markdown",
   "metadata": {},
   "source": [
    "\n",
    "It can be commutative in some cases. For instance, consider the trivial case in which $h_1 =h_2$ .\n",
    "\n",
    "#### Real part\n",
    "\n",
    "$$\\textrm{Re}\\left({\\mathit{\\mathbf{h}}}_1 \\right)=a.$$"
   ]
  },
  {
   "cell_type": "code",
   "metadata": {
    "ExecuteTime": {
     "end_time": "2025-04-16T13:18:10.193339Z",
     "start_time": "2025-04-16T13:18:10.190854Z"
    }
   },
   "source": [
    "Re(h1)"
   ],
   "outputs": [
    {
     "data": {
      "text/plain": [
       "5"
      ]
     },
     "execution_count": 29,
     "metadata": {},
     "output_type": "execute_result"
    }
   ],
   "execution_count": 29
  },
  {
   "cell_type": "markdown",
   "metadata": {},
   "source": [
    "\n",
    "If the real part of a quaternion is zero, it is called a *pure quaternion*, and belongs to the set ${\\mathbb{H}}_p$ .\n",
    "\n",
    "<a name=\"H_8ACC88AF\"></a>\n",
    "#### Imaginary part\n",
    "\n",
    "$$\\textrm{Im}\\left({\\mathit{\\mathbf{h}}}_1 \\right)=b\\hat{\\;\\imath \\;} +c\\hat{\\;\\jmath \\;} +d\\hat{\\;k}.$$"
   ]
  },
  {
   "cell_type": "code",
   "metadata": {
    "ExecuteTime": {
     "end_time": "2025-04-16T13:18:10.217142Z",
     "start_time": "2025-04-16T13:18:10.213185Z"
    }
   },
   "source": [
    "Im(h1)"
   ],
   "outputs": [
    {
     "data": {
      "text/plain": [
       "28i + 86j + 99k"
      ]
     },
     "execution_count": 30,
     "metadata": {},
     "output_type": "execute_result"
    }
   ],
   "execution_count": 30
  },
  {
   "cell_type": "markdown",
   "metadata": {},
   "source": [
    "<a name=\"H_2242E6F0\"></a>\n",
    "#### Conjugation\n",
    "\n",
    "$${\\left({\\mathit{\\mathbf{h}}}_1 \\right)}^* =\\textrm{Re}\\left({\\mathit{\\mathbf{h}}}_1 \\right)-\\textrm{Im}\\left({\\mathit{\\mathbf{h}}}_1 \\right)=a-b\\hat{\\;\\imath \\;} -c\\hat{\\;\\jmath \\;} -d\\hat{\\;k}.$$"
   ]
  },
  {
   "cell_type": "code",
   "metadata": {
    "ExecuteTime": {
     "end_time": "2025-04-16T13:18:10.237295Z",
     "start_time": "2025-04-16T13:18:10.234777Z"
    }
   },
   "source": [
    "conj(h1)"
   ],
   "outputs": [
    {
     "data": {
      "text/plain": [
       "5 - 28i - 86j - 99k"
      ]
     },
     "execution_count": 31,
     "metadata": {},
     "output_type": "execute_result"
    }
   ],
   "execution_count": 31
  },
  {
   "cell_type": "markdown",
   "metadata": {},
   "source": [
    "\n",
    "**Norm**\n",
    "\n",
    "\n",
    "$$\\left|\\right|{\\mathit{\\mathbf{h}}}_1 \\left|\\right|=\\sqrt{{\\mathit{\\mathbf{h}}}_1 {\\mathit{\\mathbf{h}}}_1^* \\;}=\\textrm{See}\\;\\textrm{Bonus}\\;\\textrm{Homework}\\;2\\ldotp$$"
   ]
  },
  {
   "cell_type": "code",
   "metadata": {
    "ExecuteTime": {
     "end_time": "2025-04-16T13:18:10.255670Z",
     "start_time": "2025-04-16T13:18:10.252538Z"
    }
   },
   "source": [
    "norm(h1)"
   ],
   "outputs": [
    {
     "data": {
      "text/plain": [
       "134.186437"
      ]
     },
     "execution_count": 32,
     "metadata": {},
     "output_type": "execute_result"
    }
   ],
   "execution_count": 32
  },
  {
   "cell_type": "markdown",
   "metadata": {},
   "source": [
    "<a name=\"H_E2D9BC8C\"></a>\n",
    "#### Vec3\n",
    "\n",
    "The imaginary part of the quaternion can be mapped to ${\\mathbb{R}}^3$ as follows\n",
    "\n",
    "\n",
    "$${\\textrm{vec}}_3 \\left({\\mathit{\\mathbf{h}}}_1 \\right)=\\left\\lbrack \\begin{array}{c} b\\\\ c\\\\ d \\end{array}\\right\\rbrack.$$"
   ]
  },
  {
   "cell_type": "code",
   "metadata": {
    "ExecuteTime": {
     "end_time": "2025-04-16T13:18:10.268549Z",
     "start_time": "2025-04-16T13:18:10.265890Z"
    }
   },
   "source": [
    "vec3(h1)"
   ],
   "outputs": [
    {
     "data": {
      "text/plain": [
       "array([28., 86., 99.])"
      ]
     },
     "execution_count": 33,
     "metadata": {},
     "output_type": "execute_result"
    }
   ],
   "execution_count": 33
  },
  {
   "cell_type": "markdown",
   "metadata": {},
   "source": [
    "<a name=\"H_75053EE9\"></a>\n",
    "#### Vec4\n",
    "\n",
    "Quaternions can be mapped to ${\\mathbb{R}}^4$ as follows\n",
    "\n",
    "\n",
    "$${\\textrm{vec}}_4 \\left({\\mathit{\\mathbf{h}}}_1 \\right)=\\left\\lbrack \\begin{array}{c} a\\\\ b\\\\ c\\\\ d \\end{array}\\right\\rbrack.$$"
   ]
  },
  {
   "cell_type": "code",
   "metadata": {
    "ExecuteTime": {
     "end_time": "2025-04-16T13:18:10.292753Z",
     "start_time": "2025-04-16T13:18:10.287187Z"
    }
   },
   "source": [
    "vec4(h1)"
   ],
   "outputs": [
    {
     "data": {
      "text/plain": [
       "array([ 5., 28., 86., 99.])"
      ]
     },
     "execution_count": 34,
     "metadata": {},
     "output_type": "execute_result"
    }
   ],
   "execution_count": 34
  },
  {
   "cell_type": "markdown",
   "metadata": {},
   "source": [
    "<a name=\"H_271E2BFF\"></a>\n",
    "#### Hamilton Operators\n",
    "\n",
    "The hamilton operators are useful to provide a form of commutativity in the quaternion multiplication.\n",
    "\n",
    "\n",
    "$${\\textrm{vec}}_4 \\left({\\mathit{\\mathbf{h}}}_1 {\\mathit{\\mathbf{h}}}_2 \\right)=\\overset{+}{{\\mathit{\\mathbf{H}}}_4 } \\left({\\mathit{\\mathbf{h}}}_1 \\right){\\textrm{vec}}_4 \\left({\\mathit{\\mathbf{h}}}_2 \\right)=\\overset{-}{{\\mathit{\\mathbf{H}}}_4 } \\left({\\mathit{\\mathbf{h}}}_2 \\right){\\textrm{vec}}_4 \\left({\\mathit{\\mathbf{h}}}_1 \\right).$$"
   ]
  },
  {
   "cell_type": "code",
   "metadata": {
    "ExecuteTime": {
     "end_time": "2025-04-16T13:18:10.313327Z",
     "start_time": "2025-04-16T13:18:10.310583Z"
    }
   },
   "source": [
    "vec4(h1*h2)"
   ],
   "outputs": [
    {
     "data": {
      "text/plain": [
       "array([-2485.,  2094.,  -872.,   -73.])"
      ]
     },
     "execution_count": 35,
     "metadata": {},
     "output_type": "execute_result"
    }
   ],
   "execution_count": 35
  },
  {
   "cell_type": "code",
   "metadata": {
    "ExecuteTime": {
     "end_time": "2025-04-16T13:18:10.328420Z",
     "start_time": "2025-04-16T13:18:10.325086Z"
    }
   },
   "source": [
    "hamiplus4(h1)*vec4(h2)"
   ],
   "outputs": [
    {
     "data": {
      "text/plain": [
       "array([[  -10.,    -0.,    -0., -2475.],\n",
       "       [  -56.,     0.,    -0.,  2150.],\n",
       "       [ -172.,     0.,     0.,  -700.],\n",
       "       [ -198.,    -0.,     0.,   125.]])"
      ]
     },
     "execution_count": 36,
     "metadata": {},
     "output_type": "execute_result"
    }
   ],
   "execution_count": 36
  },
  {
   "cell_type": "code",
   "metadata": {
    "ExecuteTime": {
     "end_time": "2025-04-16T13:18:10.366131Z",
     "start_time": "2025-04-16T13:18:10.362315Z"
    }
   },
   "source": [
    "haminus4(h2)*vec4(h1)"
   ],
   "outputs": [
    {
     "data": {
      "text/plain": [
       "array([[  -10.,    -0.,    -0., -2475.],\n",
       "       [    0.,   -56.,  2150.,    -0.],\n",
       "       [    0.,  -700.,  -172.,     0.],\n",
       "       [  125.,     0.,    -0.,  -198.]])"
      ]
     },
     "execution_count": 37,
     "metadata": {},
     "output_type": "execute_result"
    }
   ],
   "execution_count": 37
  },
  {
   "cell_type": "markdown",
   "metadata": {},
   "source": [
    "<a name=\"H_BA5B2E63\"></a>\n",
    "#### Conjugate mapping matrix\n",
    "\n",
    "The following matrix is useful when the quaternion conjugate is used. For quaternions it is defined as,\n",
    "\n",
    "\n",
    "$${\\mathit{\\mathbf{C}}}_4 =\\left\\lbrack \\begin{array}{cccc} 1 & 0 & 0 & 0\\\\ 0 & -1 & 0 & 0\\\\ 0 & 0 & -1 & 0\\\\ 0 & 0 & 0 & -1 \\end{array}\\right\\rbrack$$\n",
    "\n",
    "and has the following property\n",
    "\n",
    "\n",
    "$${\\mathit{\\mathbf{C}}}_4 {\\textrm{vec}}_4 \\left({\\mathit{\\mathbf{h}}}_1 \\right)={\\textrm{vec}}_4 \\left({\\mathit{\\mathbf{h}}}_1^* \\right)\\ldotp$$\n",
    "<a name=\"H_CC4D2A23\"></a>\n",
    "## Unit quaternions and the rotation of rigid bodies\n",
    "\n",
    "Unit quaternions compose the set ${\\mathbb{S}}^3$ , which represent rotations of the reference frame of rigid bodies in three-dimensional space. A unit quaternion can always be written in the form\n",
    "\n",
    "\n",
    "$$\\mathit{\\mathbf{r}}=\\cos \\left(\\frac{\\phi }{2}\\right)+\\textrm{vsin}\\left(\\frac{\\;\\phi \\;}{2}\\right)\\left(\\textrm{See}\\;\\textrm{Bonus}\\;\\textrm{Homework}\\;3\\right),$$\n",
    "\n",
    "where $\\phi \\in$ $\\mathbb{R}$ is the rotation angle around the rotation axis $v\\in$ ${\\mathbb{S}}^3 \\cap {\\mathbb{H}}_p$ (Remember that ${\\mathbb{H}}_p$ are pure quaternions, that is, quaternions for which the real part is zero).\n",
    "\n",
    "\n",
    "Unit-norm quaternions, as the name says, have unit norm\n",
    "\n",
    "\n",
    "$$\\left|\\right|r\\left|\\right|=1\\ldotp$$\n",
    "\n",
    "For instance, to represent the rotation of $\\frac{\\pi }{2}$ rad about the x-axis, the following quaternion can be used\n",
    "\n",
    "\n",
    "$$r_1 =\\cos \\left(\\frac{\\;\\pi \\;}{4}\\right)+\\hat{\\;\\imath \\;} \\sin \\left(\\frac{\\;\\pi \\;}{4}\\right).$$"
   ]
  },
  {
   "cell_type": "code",
   "metadata": {
    "ExecuteTime": {
     "end_time": "2025-04-16T13:18:10.384263Z",
     "start_time": "2025-04-16T13:18:10.382516Z"
    }
   },
   "source": [
    "r1 = cos(pi/4) + i_*sin(pi/4)"
   ],
   "outputs": [],
   "execution_count": 38
  },
  {
   "cell_type": "markdown",
   "metadata": {},
   "source": [
    "\n",
    "We can check that $r_1$ indeed has unit norm\n"
   ]
  },
  {
   "cell_type": "code",
   "metadata": {
    "ExecuteTime": {
     "end_time": "2025-04-16T13:18:10.473733Z",
     "start_time": "2025-04-16T13:18:10.471600Z"
    }
   },
   "source": [
    "norm(r1)"
   ],
   "outputs": [
    {
     "data": {
      "text/plain": [
       "1"
      ]
     },
     "execution_count": 39,
     "metadata": {},
     "output_type": "execute_result"
    }
   ],
   "execution_count": 39
  },
  {
   "cell_type": "markdown",
   "metadata": {},
   "source": [
    "<a name=\"H_35D1DED6\"></a>\n",
    "#### Unit quaternion double-cover property\n",
    "\n",
    "Note that the same rotation can be represented by two different quaternions, because\n",
    "\n",
    "\n",
    "$${\\mathit{\\mathbf{r}}}_1$$\n",
    "\n",
    "and\n",
    "\n",
    "\n",
    "$$-{\\mathit{\\mathbf{r}}}_1$$\n",
    "\n",
    "represent the same resulting rotation but are different quaternions. For instance, see that even though the following two quaternions represent the same rotation.\n"
   ]
  },
  {
   "cell_type": "code",
   "metadata": {
    "ExecuteTime": {
     "end_time": "2025-04-16T13:18:10.758118Z",
     "start_time": "2025-04-16T13:18:10.755906Z"
    }
   },
   "source": [
    "r1 = 1\n",
    "print(f\"r1 = {r1}\")"
   ],
   "outputs": [
    {
     "name": "stdout",
     "output_type": "stream",
     "text": [
      "r1 = 1\n"
     ]
    }
   ],
   "execution_count": 40
  },
  {
   "cell_type": "code",
   "metadata": {
    "ExecuteTime": {
     "end_time": "2025-04-16T13:18:10.830984Z",
     "start_time": "2025-04-16T13:18:10.828238Z"
    }
   },
   "source": [
    "r2 = cos(pi) + i_*sin(pi)\n",
    "print(f\"r2 = {r2}\")"
   ],
   "outputs": [
    {
     "name": "stdout",
     "output_type": "stream",
     "text": [
      "r2 =  - 1\n"
     ]
    }
   ],
   "execution_count": 41
  },
  {
   "cell_type": "markdown",
   "metadata": {},
   "source": [
    "\n",
    "they have opposite signs.\n",
    "\n",
    "\n",
    "This is called the \"double-cover\" property. We will not address this now, but it is important to know that this property exists.\n",
    "\n",
    "<a name=\"H_C67278B0\"></a>\n",
    "#### No rotation\n",
    "\n",
    "The quaternion that represents that there is no rotation is\n",
    "\n",
    "\n",
    "$$r_1 = 1.$$"
   ]
  },
  {
   "cell_type": "code",
   "metadata": {
    "ExecuteTime": {
     "end_time": "2025-04-16T13:18:10.860051Z",
     "start_time": "2025-04-16T13:18:10.857618Z"
    }
   },
   "source": [
    "r1 = DQ([1])"
   ],
   "outputs": [],
   "execution_count": 42
  },
  {
   "cell_type": "markdown",
   "metadata": {},
   "source": [
    "<a name=\"H_FC487DD7\"></a>\n",
    "#### Plotting quaternions\n",
    "\n",
    "Using DQ Robotics, the rotation quaternions can be plotted on screen. See, for example\n",
    "\n",
    "\n",
    " *Note: for the unit quaternion* $r_1 =1$ *, you have to explicitly initialize it using the DQ constructor before plotting, otherwise MATLAB will not use the correct plot function.*\n"
   ]
  },
  {
   "cell_type": "code",
   "metadata": {
    "ExecuteTime": {
     "end_time": "2025-04-16T13:18:10.995888Z",
     "start_time": "2025-04-16T13:18:10.878419Z"
    }
   },
   "source": [
    "print(f'Printing 1 as a quaternion: {r1}')\n",
    "plt.figure()\n",
    "ax = plt.axes(projection='3d')\n",
    "plot(r1)\n",
    "plt.show()"
   ],
   "outputs": [
    {
     "name": "stdout",
     "output_type": "stream",
     "text": [
      "Printing 1 as a quaternion: 1\n"
     ]
    },
    {
     "data": {
      "text/plain": [
       "<Figure size 640x480 with 1 Axes>"
      ],
      "image/png": "[encoded data removed]"
     },
     "metadata": {},
     "output_type": "display_data"
    }
   ],
   "execution_count": 43
  },
  {
   "cell_type": "markdown",
   "metadata": {},
   "source": [
    "<a name=\"H_C909BC72\"></a>\n",
    "#### Sequential rotations\n",
    "\n",
    "Sequential rotations are obtained by post-multiplication. For example, the transformation between the neutral reference frame by ${r_1 }$ followed by ${r_2 }$  is\n",
    "\n",
    "\n",
    "$${\\mathit{\\mathbf{r}}}_3 ={\\mathit{\\mathbf{r}}}_1 {\\mathit{\\mathbf{r}}}_2.$$\n",
    "\n",
    "For example\n"
   ]
  },
  {
   "cell_type": "code",
   "metadata": {
    "ExecuteTime": {
     "end_time": "2025-04-16T13:18:11.054981Z",
     "start_time": "2025-04-16T13:18:11.006525Z"
    }
   },
   "source": [
    "from math import pi, cos, sin\n",
    "\n",
    "r1 = cos(pi/16) + i_*sin(pi/16)\n",
    "r2 = cos(pi/4) + i_*sin(pi/4)\n",
    "r3 = r1*r2\n",
    "\n",
    "plt.figure()\n",
    "ax = plt.axes(projection='3d')\n",
    "plot(r3)\n",
    "plt.show()"
   ],
   "outputs": [
    {
     "data": {
      "text/plain": [
       "<Figure size 640x480 with 1 Axes>"
      ],
      "image/png": "[encoded data removed]"
     },
     "metadata": {},
     "output_type": "display_data"
    }
   ],
   "execution_count": 44
  },
  {
   "cell_type": "markdown",
   "metadata": {},
   "source": [
    "\n",
    "We can also plot all intermediary rotations using subplot.\n"
   ]
  },
  {
   "cell_type": "code",
   "metadata": {
    "ExecuteTime": {
     "end_time": "2025-04-16T13:18:11.203191Z",
     "start_time": "2025-04-16T13:18:11.064730Z"
    }
   },
   "source": [
    "from math import pi, cos, sin\n",
    "\n",
    "r1 = cos(pi/16) + i_*sin(pi/16)\n",
    "r2 = cos(pi/32) + i_*sin(pi/32)\n",
    "r3 = r1*r2\n",
    "\n",
    "plt.figure(figsize=(15,5))\n",
    "ax1 = plt.subplot(1,3,1, projection='3d')\n",
    "plot(r1)\n",
    "ax1.title.set_text('r1')\n",
    "ax2 = plt.subplot(1,3,2, projection='3d')\n",
    "plot(r2)\n",
    "ax2.title.set_text('r2')\n",
    "ax3 = plt.subplot(1,3,3, projection='3d')\n",
    "plot(r3)\n",
    "ax3.title.set_text('Rotation of r1 by r2')\n",
    "plt.show()"
   ],
   "outputs": [
    {
     "data": {
      "text/plain": [
       "<Figure size 1500x500 with 3 Axes>"
      ],
      "image/png": "[encoded data removed]"
     },
     "metadata": {},
     "output_type": "display_data"
    }
   ],
   "execution_count": 45
  },
  {
   "cell_type": "markdown",
   "metadata": {},
   "source": [
    "<a name=\"H_625A2B4B\"></a>\n",
    "#### Reverse rotation\n",
    "\n",
    "The reverse rotation can be obtained using the conjugate operation, because unit quaternions have unit norm. Hence,\n",
    "\n",
    "\n",
    "$$\\mathit{\\mathbf{r}}{\\left(\\mathit{\\mathbf{r}}\\right)}^* = 1.$$\n",
    "\n",
    "For example, for a given rotation quaternion\n"
   ]
  },
  {
   "cell_type": "code",
   "metadata": {
    "ExecuteTime": {
     "end_time": "2025-04-16T13:18:11.215646Z",
     "start_time": "2025-04-16T13:18:11.213831Z"
    }
   },
   "source": [
    "r1 = cos(pi/16) + i_*sin(pi/16)"
   ],
   "outputs": [],
   "execution_count": 46
  },
  {
   "cell_type": "markdown",
   "metadata": {},
   "source": [
    "\n",
    "The rotation quaternion that corresponds to the reverse rotation is given by its conjugate.\n"
   ]
  },
  {
   "cell_type": "code",
   "metadata": {
    "ExecuteTime": {
     "end_time": "2025-04-16T13:18:11.228202Z",
     "start_time": "2025-04-16T13:18:11.224816Z"
    }
   },
   "source": [
    "conj(r1)"
   ],
   "outputs": [
    {
     "data": {
      "text/plain": [
       "0.980785 - 0.19509i"
      ]
     },
     "execution_count": 47,
     "metadata": {},
     "output_type": "execute_result"
    }
   ],
   "execution_count": 47
  },
  {
   "cell_type": "markdown",
   "metadata": {},
   "source": [
    "\n",
    "We can verify that sequentially multiplying one by the other gives us a \"no rotation\" quaternion.\n"
   ]
  },
  {
   "cell_type": "code",
   "metadata": {
    "ExecuteTime": {
     "end_time": "2025-04-16T13:18:11.242646Z",
     "start_time": "2025-04-16T13:18:11.239329Z"
    }
   },
   "source": [
    "r1 * conj(r1)"
   ],
   "outputs": [
    {
     "data": {
      "text/plain": [
       "1"
      ]
     },
     "execution_count": 48,
     "metadata": {},
     "output_type": "execute_result"
    }
   ],
   "execution_count": 48
  },
  {
   "cell_type": "markdown",
   "metadata": {},
   "source": [
    "# Homework"
   ]
  },
  {
   "cell_type": "markdown",
   "metadata": {},
   "source": [
    "\n",
    "in the beginning of your script.\n",
    "\n",
    "1.  Create a MATLAB script called [quaternion_basics_homework.m]. On it, do the following tasks.\n",
    "2. Store, in $r_1$ , the value of a rotation of $\\phi =\\frac{\\pi \\;\\;}{8}\\;\\textrm{rad}$ about the x-axis.\n",
    "3. Store, in $r_2$ , the value of a rotation of $\\phi =\\frac{\\pi \\;\\;}{16}\\;\\textrm{rad}$ about the y-axis.\n",
    "4. Store, in $r_3$ , the value of a rotation of $\\phi =\\frac{\\pi \\;\\;}{32}\\;\\textrm{rad}$ about the z-axis.\n",
    "5. Calculate the result of the sequential rotation of the neutral reference-frame by $r_1$ , followed by $r_2$ , followed by $r_3$ , and store it in ${\\mathit{\\mathbf{r}}}_4$ . Plot ${\\mathit{\\mathbf{r}}}_4$ .\n",
    "6. Find the reverse rotation of ${\\mathit{\\mathbf{r}}}_4$ and store it in ${\\mathit{\\mathbf{r}}}_5$ .\n",
    "7. Rotate ${\\mathit{\\mathbf{r}}}_5$ by ${360}^{\\circ \\;}$ about the x-axis and store it in ${\\mathit{\\mathbf{r}}}_6$ . Is ${\\mathit{\\mathbf{r}}}_5 =-{\\mathit{\\mathbf{r}}}_6$ ? Plot ${\\mathit{\\mathbf{r}}}_5$ and ${\\mathit{\\mathbf{r}}}_6$ to confirm that they represent the same rotation.\n",
    "\n",
    "# Bonus Homework\n",
    "1.  What is the general form of the quaternion multiplication? Multiply ${\\mathit{\\mathbf{h}}}_1 =a_1 +b_1 \\hat{\\;\\imath \\;} +c_1 \\hat{\\;\\jmath \\;} +d_1 \\hat{\\;k}$ and ${\\mathit{\\mathbf{h}}}_2 =a_2 +b_2 \\hat{\\;\\imath \\;} +c_2 \\hat{\\;\\jmath \\;} +d_2 \\hat{\\;k}$ on pen and paper and find ${\\mathit{\\mathbf{h}}}_3 =a_3 +b_3 \\hat{\\;\\imath \\;} +c_3 \\hat{\\;\\jmath \\;} +d_3 \\hat{\\;k}$ .\n",
    "2. What is the general form of the quaternion norm? Simplify $\\sqrt{\\;{\\mathit{\\mathbf{h}}}_1 {\\mathit{\\mathbf{h}}}_1^* }$ on pen and paper.\n",
    "3. Show that every unit quaternion, written as $\\mathit{\\mathbf{r}}=\\cos \\left(\\frac{\\phi }{2}\\right)+\\textrm{vsin}\\left(\\frac{\\;\\phi \\;}{2}\\right)$ , has unit norm. Do that on pen and paper.\n"
   ]
  }
 ],
 "metadata": {
  "kernelspec": {
   "display_name": "Python 3",
   "language": "python",
   "name": "python3"
  },
  "language_info": {
   "codemirror_mode": {
    "name": "ipython",
    "version": 3
   },
   "file_extension": ".py",
   "mimetype": "text/x-python",
   "name": "python",
   "nbconvert_exporter": "python",
   "pygments_lexer": "ipython3",
   "version": "3.9.6"
  }
 },
 "nbformat": 4,
 "nbformat_minor": 4
}
