{
 "cells": [
  {
   "cell_type": "code",
   "execution_count": 40,
   "metadata": {},
   "outputs": [],
   "source": [
    "%%capture\n",
    "'''\n",
    "(C) Copyright 2020-2025 Murilo Marques Marinho (murilomarinho@ieee.org)\n",
    "\n",
    "     This file is licensed in the terms of the\n",
    "     Attribution-NonCommercial-ShareAlike 4.0 International (CC BY-NC-SA 4.0)\n",
    "     license.\n",
    "\n",
    " Derivative work of:\n",
    " https://github.com/dqrobotics/learning-dqrobotics-in-matlab/tree/master/robotic_manipulators\n",
    " Contributors to this file:\n",
    "     Murilo Marques Marinho (murilomarinho@ieee.org)\n",
    "'''"
   ]
  },
  {
   "cell_type": "markdown",
   "metadata": {},
   "source": [
    "# DQ7 Robot Control Basics using DQ Robotics - Part 3\n",
    "\n",
    "## Introduction\n",
    "\n",
    "In the last lesson, you learned how model robotic manipulators parameterized using the DH parameters. You also learned how to use a basic controller based on the pseudo-inverse of the task Jacobian.\n",
    "\n",
    "\n",
    "That was an introductory exposition to robot control, and this lesson will introduce you to the concept of task-space singularities and a particular way to address them.\n"
   ]
  },
  {
   "cell_type": "code",
   "execution_count": 41,
   "metadata": {},
   "outputs": [],
   "source": [
    "%%capture\n",
    "%pip install dqrobotics\n",
    "%pip install dqrobotics --break-system-packages"
   ]
  },
  {
   "cell_type": "code",
   "execution_count": 42,
   "metadata": {},
   "outputs": [],
   "source": [
    "from math import pi\n",
    "import numpy as np\n",
    "from dqrobotics import *\n",
    "from dqrobotics.robot_control import DQ_PseudoinverseController, ControlObjective"
   ]
  },
  {
   "cell_type": "markdown",
   "metadata": {},
   "source": [
    "## Notation\n",
    "\n",
    "Keep these in mind (we will also use this notation when writting papers to conferences and journals):\n",
    "\n",
    "-  $h\\in \\mathbb{H}$ : a quaternion. (Bold-face, lowercase character)\n",
    "-  $\\underline{h} \\in \\mathcal{H}$ : a dual quaternion. (Bold-face, underlined, lowercase character)\n",
    "-  $p,t,\\cdots \\in {\\mathbb{H}}_p$ : pure quaternions. They represent points, positions, and translations. They are quaternions for which $\\textrm{Re}\\left(h\\right)=0$ .\n",
    "-  $r\\in {\\mathbb{S}}^3$ : unit quaternions. They represent orientations and rotations. They are quaternions for which $||h||=1$ .\n",
    "-  $\\underline{x} \\in$ $\\underline{\\mathcal{S}}$ : unit dual quaternions. They represent poses and pose transformations. They are dual quaternions for which $||h||=1$ .\n",
    "-  $\\underline{l} \\in {\\mathcal{H}}_p \\cap$ $\\underline{{\\mathcal{S}}}$ : a Plücker line.\n",
    "-  $\\underline{{{\\pi }}} \\in \\left\\lbrace P\\left(\\underline{{{\\pi }}} \\right)\\in {\\mathbb{H}}_p \\right\\rbrace \\cap \\underline{{\\mathcal{S}}}$ : a plane.\n",
    "-  $\\theta ,a,b,\\cdots \\in \\mathbb{R}$ : real numbers.\n",
    "-  ${{q,\\cdots }}\\in {\\mathbb{R}}^n :$ real vectors.\n",
    "-  $J,A,B,\\cdots \\in {\\mathbb{R}}^{m\\times n} :$ real matrices.\n",
    "<a name=\"H_C7A69651\"></a>\n",
    "## Robot definition\n",
    "\n",
    "The concepts of this lesson apply to any manipulator robot. However, to have a more concrete understanding using DQ Robotics, consider the following robot that will be used in all examples in this lesson.\n",
    "\n",
    "<p style=\"text-align:left\"><img src=\"data:image/png;base64,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\" width=\"419\" alt=\"image_0.png\"></p>\n",
    "\n",
    "\n",
    "1.  Let the robot $R$ be a 7-DoF planar robot, as drawn in Fig.1.\n",
    "2. Let ${\\mathcal{F}}_W$ be the world-reference frame.\n",
    "3. Let ${\\underline{x} }_R^W (t)\\triangleq {\\underline{x} }_R$ $\\in$ $\\underline{\\mathcal{S}}$ represent the pose of the *end effector*.\n",
    "4. Let $R$ be composed of seven rotational joints that rotate about their z-axis, composed in the joint-space vector $q\\left(t\\right)\\triangleq q={\\left\\lbrack \\theta_1 ~\\theta_2 ~\\theta_3 ~\\theta_4 ~\\theta_5 ~\\theta_6 ~\\theta_7 \\right\\rbrack }^T$ with $\\theta_i \\left(t\\right)\\triangleq \\theta_i \\in \\mathbb{R}$ for $i=1,2,\\ldots,7$ . The rotation of the reference frames of each joint coincide with the rotation of ${\\mathcal{F}}_W$ when $\\theta_i =0$ . The length of the joints are $l_i \\in$ ${\\mathbb{R}}^+ -\\lbrace 0\\rbrace$ .\n",
    "5. Consider that we can freely control the joint vector $q$ .\n",
    "\n",
    "This robot can be modeled by the following class."
   ]
  },
  {
   "cell_type": "code",
   "execution_count": 43,
   "metadata": {},
   "outputs": [
    {
     "name": "stdout",
     "output_type": "stream",
     "text": [
      "Help on function kinematics in module seven_dof_planar_robot_dh:\n",
      "\n",
      "kinematics()\n",
      "    Returns the kinematics of the SevenDoFPlanarRobot as DQ_SerialManipulatorDH.\n",
      "\n"
     ]
    }
   ],
   "source": [
    "from seven_dof_planar_robot_dh import SevenDofPlanarRobotDH\n",
    "help(SevenDofPlanarRobotDH.kinematics)"
   ]
  },
  {
   "cell_type": "markdown",
   "metadata": {},
   "source": [
    "Let us instantiate our robot as follows"
   ]
  },
  {
   "cell_type": "code",
   "execution_count": 44,
   "metadata": {},
   "outputs": [],
   "source": [
    "seven_dof_planar_robot = SevenDofPlanarRobotDH.kinematics()"
   ]
  },
  {
   "cell_type": "markdown",
   "metadata": {},
   "source": [
    "<a name=\"H_5AB990BD\"></a>\n",
    "## Robot controller\n",
    "\n",
    "The concepts of this lesson also apply for any of the task-space control types mentioned in the last lesson (and others). For us to have a concrete example for this lesson, let us define a translation controller based on the pseudo-inverse of the Jacobian with no damping.\n"
   ]
  },
  {
   "cell_type": "code",
   "execution_count": 45,
   "metadata": {},
   "outputs": [],
   "source": [
    "translation_controller = DQ_PseudoinverseController(seven_dof_planar_robot)\n",
    "translation_controller.set_control_objective(ControlObjective.Translation)\n",
    "translation_controller.set_gain(10)\n",
    "translation_controller.set_damping(0)"
   ]
  },
  {
   "cell_type": "markdown",
   "metadata": {},
   "source": [
    "<a name=\"H_08B34616\"></a>\n",
    "## Task-space singularities\n",
    "\n",
    "One important concept when controlling a robot using its task Jacobian is the concept of task-space singularities. The task-space singularities are closely related to the linear-algebra concept of singular matrices. Let us remember a few linear-algebra concepts.\n",
    "\n",
    "<a name=\"H_7241FE9B\"></a>\n",
    "### Matrix rank and singularities\n",
    "\n",
    "Take as an example the $3\\times 3$ identity matrix\n",
    "\n",
    "\n",
    "$$I_{3\\times 3} =\\left\\lbrack \\begin{array}{ccc} 1 & 0 & 0\\\\ 0 & 1 & 0\\\\ 0 & 0 & 1 \\end{array}\\right\\rbrack .$$"
   ]
  },
  {
   "cell_type": "code",
   "execution_count": 46,
   "metadata": {},
   "outputs": [],
   "source": [
    "I3_3 = np.eye(3)"
   ]
  },
  {
   "cell_type": "markdown",
   "metadata": {},
   "source": [
    "\n",
    "It obviously has rank three, that is, its three rows are linearly independent.\n"
   ]
  },
  {
   "cell_type": "code",
   "execution_count": 47,
   "metadata": {},
   "outputs": [
    {
     "data": {
      "text/plain": [
       "np.int64(3)"
      ]
     },
     "execution_count": 47,
     "metadata": {},
     "output_type": "execute_result"
    }
   ],
   "source": [
    "np.linalg.matrix_rank(I3_3)"
   ]
  },
  {
   "cell_type": "markdown",
   "metadata": {},
   "source": [
    "\n",
    "However, the following the matrix\n",
    "\n",
    "\n",
    "$$A=\\left\\lbrack \\begin{array}{ccc} 0 & 0 & 1\\\\ 0 & 0 & 1\\\\ 0 & 1 & 0 \\end{array}\\right\\rbrack ,$$"
   ]
  },
  {
   "cell_type": "code",
   "execution_count": 48,
   "metadata": {},
   "outputs": [],
   "source": [
    "A = np.array([[0, 0, 1],\n",
    "              [0, 0, 1],\n",
    "              [0, 1, 0]])"
   ]
  },
  {
   "cell_type": "markdown",
   "metadata": {},
   "source": [
    "\n",
    "has rank two given that its first and second row are linearly dependent.\n"
   ]
  },
  {
   "cell_type": "code",
   "execution_count": 49,
   "metadata": {},
   "outputs": [
    {
     "data": {
      "text/plain": [
       "np.int64(2)"
      ]
     },
     "execution_count": 49,
     "metadata": {},
     "output_type": "execute_result"
    }
   ],
   "source": [
    "np.linalg.matrix_rank(A)"
   ]
  },
  {
   "cell_type": "markdown",
   "metadata": {},
   "source": [
    "\n",
    "A square matrix is considered singular whenever its rank is lower than its number of rows (or columns). This means that the matrix does not have an inverse.\n",
    "\n",
    "\n",
    "Moreover, non-square matrices also do not have an inverse.\n",
    "\n",
    "\n",
    "Is there a way to \"invert\" rectangular matrices and singular matrices?\n",
    "\n",
    "<a name=\"H_9FDB8EB8\"></a>\n",
    "### A quick review on the SVD-based inverse for full-rank matrices\n",
    "\n",
    "Suppose that we want to find a pseudo-inverse for any full-rank matrix $A\\in {\\mathbb{R}}^{m\\times n} ,\\textrm{rank}(A)=m$ (which includes non-square ones). For convenience, let us restrict the examples in this lesson for matrices in which $m\\le n$ (which also conveniently fit most of the robots we will study in these lessons).\n",
    "\n",
    "\n",
    "For instance, let us work with\n",
    "\n",
    "\n",
    "$$A=\\left\\lbrack \\begin{array}{cccc} 2 & 0 & 1 & 2\\\\ 0 & 0 & 1 & 4\\\\ 0 & 1 & 0 & 5 \\end{array}\\right\\rbrack .$$"
   ]
  },
  {
   "cell_type": "code",
   "execution_count": 50,
   "metadata": {},
   "outputs": [],
   "source": [
    "A = np.array([[2, 0, 1, 2],\n",
    "              [0, 0, 1, 4],\n",
    "              [0, 1, 0, 5]])"
   ]
  },
  {
   "cell_type": "markdown",
   "metadata": {},
   "source": [
    "\n",
    "Which has rank three.\n"
   ]
  },
  {
   "cell_type": "code",
   "execution_count": 51,
   "metadata": {},
   "outputs": [
    {
     "data": {
      "text/plain": [
       "np.int64(3)"
      ]
     },
     "execution_count": 51,
     "metadata": {},
     "output_type": "execute_result"
    }
   ],
   "source": [
    "np.linalg.matrix_rank(A)"
   ]
  },
  {
   "cell_type": "markdown",
   "metadata": {},
   "source": [
    "\n",
    "As you might remember from your undergraduate-level courses, every real matrix can be decomposed in its singular-value decomposition (SVD) as follows\n",
    "\n",
    "\n",
    "$$A=U{{\\Sigma }}V^T$$\n",
    "\n",
    "where $U\\in {\\mathbb{R}}^{m\\times m}$ and $V\\in {\\mathbb{R}}^{n\\times n}$ are orthonormal matrices (i.e., they are square, full rank, and their inverses are given by $UU^T =U^T U=I_{m\\times m}$ and $VV^T =V^T V=I_{n\\times n}$ ). Moreover, ${{\\Sigma }}$ is a (rectangular) diagonal matrix composed of the singular values of the matrix given by $\\sigma_i$ for $i=1,\\ldots,m$ , ordered from the largest singular value towards the smallest singular value. Note that singular values are always non-negative.\n",
    "\n",
    "\n",
    "<u>**Note: All singular values of a given matrix will be non-zero when the matrix has full rank.**</u>\n",
    "\n",
    "\n",
    "Calculating this decomposition by hand can be quite complicated and time-consuming for large matrices, so we in practice resort to numerical methods.\n",
    "\n",
    "\n",
    "In MATLAB you can use the function\n"
   ]
  },
  {
   "cell_type": "code",
   "execution_count": 52,
   "metadata": {},
   "outputs": [
    {
     "name": "stdout",
     "output_type": "stream",
     "text": [
      "Help on _ArrayFunctionDispatcher in module numpy.linalg:\n",
      "\n",
      "svd(a, full_matrices=True, compute_uv=True, hermitian=False)\n",
      "    Singular Value Decomposition.\n",
      "    \n",
      "    When `a` is a 2D array, and ``full_matrices=False``, then it is\n",
      "    factorized as ``u @ np.diag(s) @ vh = (u * s) @ vh``, where\n",
      "    `u` and the Hermitian transpose of `vh` are 2D arrays with\n",
      "    orthonormal columns and `s` is a 1D array of `a`'s singular\n",
      "    values. When `a` is higher-dimensional, SVD is applied in\n",
      "    stacked mode as explained below.\n",
      "    \n",
      "    Parameters\n",
      "    ----------\n",
      "    a : (..., M, N) array_like\n",
      "        A real or complex array with ``a.ndim >= 2``.\n",
      "    full_matrices : bool, optional\n",
      "        If True (default), `u` and `vh` have the shapes ``(..., M, M)`` and\n",
      "        ``(..., N, N)``, respectively.  Otherwise, the shapes are\n",
      "        ``(..., M, K)`` and ``(..., K, N)``, respectively, where\n",
      "        ``K = min(M, N)``.\n",
      "    compute_uv : bool, optional\n",
      "        Whether or not to compute `u` and `vh` in addition to `s`.  True\n",
      "        by default.\n",
      "    hermitian : bool, optional\n",
      "        If True, `a` is assumed to be Hermitian (symmetric if real-valued),\n",
      "        enabling a more efficient method for finding singular values.\n",
      "        Defaults to False.\n",
      "    \n",
      "        .. versionadded:: 1.17.0\n",
      "    \n",
      "    Returns\n",
      "    -------\n",
      "    When `compute_uv` is True, the result is a namedtuple with the following\n",
      "    attribute names:\n",
      "    \n",
      "    U : { (..., M, M), (..., M, K) } array\n",
      "        Unitary array(s). The first ``a.ndim - 2`` dimensions have the same\n",
      "        size as those of the input `a`. The size of the last two dimensions\n",
      "        depends on the value of `full_matrices`. Only returned when\n",
      "        `compute_uv` is True.\n",
      "    S : (..., K) array\n",
      "        Vector(s) with the singular values, within each vector sorted in\n",
      "        descending order. The first ``a.ndim - 2`` dimensions have the same\n",
      "        size as those of the input `a`.\n",
      "    Vh : { (..., N, N), (..., K, N) } array\n",
      "        Unitary array(s). The first ``a.ndim - 2`` dimensions have the same\n",
      "        size as those of the input `a`. The size of the last two dimensions\n",
      "        depends on the value of `full_matrices`. Only returned when\n",
      "        `compute_uv` is True.\n",
      "    \n",
      "    Raises\n",
      "    ------\n",
      "    LinAlgError\n",
      "        If SVD computation does not converge.\n",
      "    \n",
      "    See Also\n",
      "    --------\n",
      "    scipy.linalg.svd : Similar function in SciPy.\n",
      "    scipy.linalg.svdvals : Compute singular values of a matrix.\n",
      "    \n",
      "    Notes\n",
      "    -----\n",
      "    \n",
      "    .. versionchanged:: 1.8.0\n",
      "       Broadcasting rules apply, see the `numpy.linalg` documentation for\n",
      "       details.\n",
      "    \n",
      "    The decomposition is performed using LAPACK routine ``_gesdd``.\n",
      "    \n",
      "    SVD is usually described for the factorization of a 2D matrix :math:`A`.\n",
      "    The higher-dimensional case will be discussed below. In the 2D case, SVD is\n",
      "    written as :math:`A = U S V^H`, where :math:`A = a`, :math:`U= u`,\n",
      "    :math:`S= \\mathtt{np.diag}(s)` and :math:`V^H = vh`. The 1D array `s`\n",
      "    contains the singular values of `a` and `u` and `vh` are unitary. The rows\n",
      "    of `vh` are the eigenvectors of :math:`A^H A` and the columns of `u` are\n",
      "    the eigenvectors of :math:`A A^H`. In both cases the corresponding\n",
      "    (possibly non-zero) eigenvalues are given by ``s**2``.\n",
      "    \n",
      "    If `a` has more than two dimensions, then broadcasting rules apply, as\n",
      "    explained in :ref:`routines.linalg-broadcasting`. This means that SVD is\n",
      "    working in \"stacked\" mode: it iterates over all indices of the first\n",
      "    ``a.ndim - 2`` dimensions and for each combination SVD is applied to the\n",
      "    last two indices. The matrix `a` can be reconstructed from the\n",
      "    decomposition with either ``(u * s[..., None, :]) @ vh`` or\n",
      "    ``u @ (s[..., None] * vh)``. (The ``@`` operator can be replaced by the\n",
      "    function ``np.matmul`` for python versions below 3.5.)\n",
      "    \n",
      "    If `a` is a ``matrix`` object (as opposed to an ``ndarray``), then so are\n",
      "    all the return values.\n",
      "    \n",
      "    Examples\n",
      "    --------\n",
      "    >>> a = np.random.randn(9, 6) + 1j*np.random.randn(9, 6)\n",
      "    >>> b = np.random.randn(2, 7, 8, 3) + 1j*np.random.randn(2, 7, 8, 3)\n",
      "    \n",
      "    Reconstruction based on full SVD, 2D case:\n",
      "    \n",
      "    >>> U, S, Vh = np.linalg.svd(a, full_matrices=True)\n",
      "    >>> U.shape, S.shape, Vh.shape\n",
      "    ((9, 9), (6,), (6, 6))\n",
      "    >>> np.allclose(a, np.dot(U[:, :6] * S, Vh))\n",
      "    True\n",
      "    >>> smat = np.zeros((9, 6), dtype=complex)\n",
      "    >>> smat[:6, :6] = np.diag(S)\n",
      "    >>> np.allclose(a, np.dot(U, np.dot(smat, Vh)))\n",
      "    True\n",
      "    \n",
      "    Reconstruction based on reduced SVD, 2D case:\n",
      "    \n",
      "    >>> U, S, Vh = np.linalg.svd(a, full_matrices=False)\n",
      "    >>> U.shape, S.shape, Vh.shape\n",
      "    ((9, 6), (6,), (6, 6))\n",
      "    >>> np.allclose(a, np.dot(U * S, Vh))\n",
      "    True\n",
      "    >>> smat = np.diag(S)\n",
      "    >>> np.allclose(a, np.dot(U, np.dot(smat, Vh)))\n",
      "    True\n",
      "    \n",
      "    Reconstruction based on full SVD, 4D case:\n",
      "    \n",
      "    >>> U, S, Vh = np.linalg.svd(b, full_matrices=True)\n",
      "    >>> U.shape, S.shape, Vh.shape\n",
      "    ((2, 7, 8, 8), (2, 7, 3), (2, 7, 3, 3))\n",
      "    >>> np.allclose(b, np.matmul(U[..., :3] * S[..., None, :], Vh))\n",
      "    True\n",
      "    >>> np.allclose(b, np.matmul(U[..., :3], S[..., None] * Vh))\n",
      "    True\n",
      "    \n",
      "    Reconstruction based on reduced SVD, 4D case:\n",
      "    \n",
      "    >>> U, S, Vh = np.linalg.svd(b, full_matrices=False)\n",
      "    >>> U.shape, S.shape, Vh.shape\n",
      "    ((2, 7, 8, 3), (2, 7, 3), (2, 7, 3, 3))\n",
      "    >>> np.allclose(b, np.matmul(U * S[..., None, :], Vh))\n",
      "    True\n",
      "    >>> np.allclose(b, np.matmul(U, S[..., None] * Vh))\n",
      "    True\n",
      "\n"
     ]
    }
   ],
   "source": [
    "help(np.linalg.svd)"
   ]
  },
  {
   "cell_type": "markdown",
   "metadata": {},
   "source": [
    "\n",
    "With it, we can get the SVD decomposition of our matrix as\n"
   ]
  },
  {
   "cell_type": "code",
   "execution_count": 53,
   "metadata": {},
   "outputs": [],
   "source": [
    "U, s, Vh = np.linalg.svd(A)\n",
    "V = Vh.T # numpy returns the hermitian V"
   ]
  },
  {
   "cell_type": "markdown",
   "metadata": {},
   "source": [
    "\n",
    "You can verify that the orthonormal matrices follow their properties.\n"
   ]
  },
  {
   "cell_type": "code",
   "execution_count": 54,
   "metadata": {},
   "outputs": [
    {
     "data": {
      "text/plain": [
       "array([[ 1.00000000e+00, -1.38777878e-16, -1.94289029e-16],\n",
       "       [-1.38777878e-16,  1.00000000e+00, -3.33066907e-16],\n",
       "       [-1.94289029e-16, -3.33066907e-16,  1.00000000e+00]])"
      ]
     },
     "execution_count": 54,
     "metadata": {},
     "output_type": "execute_result"
    }
   ],
   "source": [
    "U @ U.T"
   ]
  },
  {
   "cell_type": "code",
   "execution_count": 55,
   "metadata": {},
   "outputs": [
    {
     "data": {
      "text/plain": [
       "array([[ 1.00000000e+00, -5.55111512e-17, -6.93889390e-17,\n",
       "         0.00000000e+00],\n",
       "       [-5.55111512e-17,  1.00000000e+00, -6.93889390e-17,\n",
       "        -1.24900090e-16],\n",
       "       [-6.93889390e-17, -6.93889390e-17,  1.00000000e+00,\n",
       "        -1.11022302e-16],\n",
       "       [ 0.00000000e+00, -1.24900090e-16, -1.11022302e-16,\n",
       "         1.00000000e+00]])"
      ]
     },
     "execution_count": 55,
     "metadata": {},
     "output_type": "execute_result"
    }
   ],
   "source": [
    "V.T @ V"
   ]
  },
  {
   "cell_type": "markdown",
   "metadata": {},
   "source": [
    "\n",
    "Given that ${{\\Sigma }}$ always has the same dimensions of the original matrix, when the matrix is square, its corresponding ${{\\Sigma }}$ will be square\n",
    "\n",
    "\n",
    "$${{\\Sigma }}=\\left\\lbrack \\begin{array}{cccc} \\sigma_1  & 0 & \\cdots  & 0\\\\ 0 & \\sigma_2  & \\ldots & 0\\\\ 0 & \\vdots  & \\ddots  & 0\\\\ 0 & 0 & 0 & \\sigma_m  \\end{array}\\right\\rbrack$$\n",
    "\n",
    "When the matrix is rectangular, its corresponding ${{\\Sigma }}$ will be rectangular, for instance\n",
    "\n",
    "\n",
    "$${{\\Sigma }}=\\left\\lbrack \\begin{array}{ccccc} \\sigma_1  & 0 & \\cdots  & 0 & 0\\\\ 0 & \\sigma_2  & \\ldots & 0 & 0\\\\ 0 & \\vdots  & \\ddots  & 0 & 0\\\\ 0 & 0 & 0 & \\sigma_m  & 0 \\end{array}\\right\\rbrack$$"
   ]
  },
  {
   "cell_type": "code",
   "execution_count": 56,
   "metadata": {},
   "outputs": [
    {
     "data": {
      "text/plain": [
       "array([6.83935954, 2.09392491, 0.91577269])"
      ]
     },
     "execution_count": 56,
     "metadata": {},
     "output_type": "execute_result"
    }
   ],
   "source": [
    "s"
   ]
  },
  {
   "cell_type": "markdown",
   "metadata": {},
   "source": [
    "or matrix"
   ]
  },
  {
   "cell_type": "code",
   "execution_count": 57,
   "metadata": {},
   "outputs": [],
   "source": [
    "S = np.array([[s[0],   0,     0,    0],\n",
    "              [0,      s[1],  0,    0],\n",
    "              [0,      0,     s[2], 0]])"
   ]
  },
  {
   "cell_type": "markdown",
   "metadata": {},
   "source": [
    "\n",
    "With these properties, a right pseudo-inverse can be defined for any matrix for which all singular values are non-zero. The right pseudo-inverse is\n",
    "\n",
    "\n",
    "$$A^{\\dagger} \\triangleq V{{{\\Sigma }}}^{\\textrm{inv}} U^T,$$\n",
    "\n",
    "\n",
    "where ${{{\\Sigma }}}^{\\textrm{inv}}$ is a compatible matrix where we use the reciprocal of the singular values. For example, for a square matrix we have\n",
    "\n",
    "\n",
    "$${{{\\Sigma }}}^{inv} \\triangleq \\left\\lbrack \\begin{array}{cccc} \\frac{1}{\\sigma_1 } & 0 & \\cdots  & 0\\\\ 0 & \\frac{1}{\\sigma_2 } & \\ldots & 0\\\\ 0 & \\vdots  & \\ddots  & 0\\\\ 0 & 0 & 0 & \\frac{1}{\\sigma_m } \\end{array}\\right\\rbrack$$\n",
    "\n",
    "and for a rectangular matrix\n",
    "\n",
    "\n",
    "$${{{\\Sigma }}}^{inv} \\triangleq \\left\\lbrack \\begin{array}{cccc} \\frac{1}{\\sigma_1 } & 0 & \\cdots  & 0\\\\ 0 & \\frac{1}{\\sigma_2 } & \\ldots & 0\\\\ 0 & \\vdots  & \\ddots  & 0\\\\ 0 & 0 & 0 & \\frac{1}{\\sigma_m }\\\\ 0 & 0 & 0 & 0 \\end{array}\\right\\rbrack.$$"
   ]
  },
  {
   "cell_type": "code",
   "execution_count": 58,
   "metadata": {},
   "outputs": [],
   "source": [
    "S_inv = np.array([[1.0/s[0],   0,          0],\n",
    "                  [0,          1.0/s[1],   0],\n",
    "                  [0,          0,          1.0/s[2]],\n",
    "                  [0,          0,          0]])"
   ]
  },
  {
   "cell_type": "markdown",
   "metadata": {},
   "source": [
    "\n",
    "Then, we find that\n",
    "\n",
    "\n",
    "$${{\\Sigma }}{{{\\Sigma }}}^{inv} =I_{m\\times m} .$$"
   ]
  },
  {
   "cell_type": "code",
   "execution_count": 59,
   "metadata": {},
   "outputs": [
    {
     "data": {
      "text/plain": [
       "array([[1., 0., 0.],\n",
       "       [0., 1., 0.],\n",
       "       [0., 0., 1.]])"
      ]
     },
     "execution_count": 59,
     "metadata": {},
     "output_type": "execute_result"
    }
   ],
   "source": [
    "S @ S_inv"
   ]
  },
  {
   "cell_type": "markdown",
   "metadata": {},
   "source": [
    "\n",
    "Therefore, we find that\n",
    "\n",
    "\n",
    "$$AA^{\\dagger} =U{{\\Sigma }}V^T V{{{\\Sigma }}}^{\\textrm{inv}} U^T$$\n",
    "\n",
    "$$AA^{\\dagger} =I_{m\\times m} \\:\\textrm{(see}\\;\\textrm{Bonus}\\;\\textrm{Homework}\\;\\textrm{1)}$$"
   ]
  },
  {
   "cell_type": "code",
   "execution_count": 60,
   "metadata": {},
   "outputs": [
    {
     "data": {
      "text/plain": [
       "array([[ 1.00000000e+00,  1.94289029e-16, -6.66133815e-16],\n",
       "       [-2.28983499e-16,  1.00000000e+00,  6.10622664e-16],\n",
       "       [-2.37657116e-16, -6.24500451e-16,  1.00000000e+00]])"
      ]
     },
     "execution_count": 60,
     "metadata": {},
     "output_type": "execute_result"
    }
   ],
   "source": [
    "A_dagger = V @ S_inv @ U.T\n",
    "A @ A_dagger"
   ]
  },
  {
   "cell_type": "markdown",
   "metadata": {},
   "source": [
    "\n",
    "This inverse has several interesting properties that we will discuss when they are needed.\n",
    "\n",
    "<a name=\"H_EFF1B965\"></a>\n",
    "### A quick review on the SVD-based inverse for singular matrices\n",
    "\n",
    "In practice, we want our algorithm to be able to invert even singular matrices. Let $B\\in {\\mathbb{R}}^{m\\times n}$ be such that $\\textrm{rank}(B)=r<m$ . For convenience, let us restrict the examples for matrices in which $m\\le n$ . For instance, let us use\n",
    "\n",
    "\n",
    " $B=\\left\\lbrack \\begin{array}{cccc} 2 & 0 & 1 & 2\\\\ 0 & 0 & 1 & 4\\\\ 2 & 0 & 1 & 2 \\end{array}\\right\\rbrack$ ,\n"
   ]
  },
  {
   "cell_type": "code",
   "execution_count": 61,
   "metadata": {},
   "outputs": [],
   "source": [
    "B = np.array([[2, 0, 1, 2,\n",
    "               0, 0, 1, 4,\n",
    "               2, 0, 1, 2]])"
   ]
  },
  {
   "cell_type": "markdown",
   "metadata": {},
   "source": [
    "\n",
    "that has rank two.\n"
   ]
  },
  {
   "cell_type": "code",
   "execution_count": 62,
   "metadata": {},
   "outputs": [
    {
     "data": {
      "text/plain": [
       "np.int64(1)"
      ]
     },
     "execution_count": 62,
     "metadata": {},
     "output_type": "execute_result"
    }
   ],
   "source": [
    "np.linalg.matrix_rank(B)"
   ]
  },
  {
   "cell_type": "markdown",
   "metadata": {},
   "source": [
    "\n",
    "Similarly to full-rank matrices, the SVD-based inverse can also be used for singular matrices. In our case,  $m-r$ singular values will be zero.\n",
    "\n",
    "\n",
    "<u>**Note: A matrix is singular when at least one of its singular values is zero.**</u>\n",
    "\n",
    "\n",
    "The null singular values are ignored when we calculate the \"inverse\" of the matrix that holds the singular values, as follows\n",
    "\n",
    "\n",
    "$${{{\\Sigma }}}^{inv} =\\left\\lbrack \\begin{array}{cccccc} \\frac{1}{\\sigma_1 } & 0 & \\cdots  & 0 & \\cdots  & 0\\\\ 0 & \\frac{1}{\\sigma_2 } & \\ldots & 0 & \\cdots  & 0\\\\ 0 & \\vdots  & \\ddots  & 0 & \\cdots  & 0\\\\ 0 & 0 & 0 & \\frac{1}{\\sigma_r } & \\cdots  & 0\\\\ \\vdots  & \\vdots  & \\vdots  & \\vdots  & \\ddots  & 0\\\\ 0 & 0 & 0 & 0 & \\cdots  & 0 \\end{array}\\right\\rbrack .$$\n",
    "\n",
    "This means that when the pseudo-inverse is applied, the result will be \"as close as possible\" to the identity. The meaning of \"as close as possible\" will be somewhat fuzzy for now, but it will get clearer as the lessons progress. Just understand that if $\\textrm{rank}(B)<m$ , there is no matrix $B^{inv}$ such that $BB^{inv} =I_{m\\times m}$ . We <u>***have***</u> to compromise.\n",
    "\n",
    "\n",
    "MATLAB has an implementation for the SVD-based inverse (and you already used it in lesson 5).\n"
   ]
  },
  {
   "cell_type": "code",
   "execution_count": 63,
   "metadata": {},
   "outputs": [
    {
     "name": "stdout",
     "output_type": "stream",
     "text": [
      "Help on _ArrayFunctionDispatcher in module numpy.linalg:\n",
      "\n",
      "pinv(a, rcond=None, hermitian=False, *, rtol=<no value>)\n",
      "    Compute the (Moore-Penrose) pseudo-inverse of a matrix.\n",
      "    \n",
      "    Calculate the generalized inverse of a matrix using its\n",
      "    singular-value decomposition (SVD) and including all\n",
      "    *large* singular values.\n",
      "    \n",
      "    .. versionchanged:: 1.14\n",
      "       Can now operate on stacks of matrices\n",
      "    \n",
      "    Parameters\n",
      "    ----------\n",
      "    a : (..., M, N) array_like\n",
      "        Matrix or stack of matrices to be pseudo-inverted.\n",
      "    rcond : (...) array_like of float, optional\n",
      "        Cutoff for small singular values.\n",
      "        Singular values less than or equal to\n",
      "        ``rcond * largest_singular_value`` are set to zero.\n",
      "        Broadcasts against the stack of matrices. Default: ``1e-15``.\n",
      "    hermitian : bool, optional\n",
      "        If True, `a` is assumed to be Hermitian (symmetric if real-valued),\n",
      "        enabling a more efficient method for finding singular values.\n",
      "        Defaults to False.\n",
      "    \n",
      "        .. versionadded:: 1.17.0\n",
      "    rtol : (...) array_like of float, optional\n",
      "        Same as `rcond`, but it's an Array API compatible parameter name.\n",
      "        Only `rcond` or `rtol` can be set at a time. If none of them are\n",
      "        provided then NumPy's ``1e-15`` default is used. If ``rtol=None``\n",
      "        is passed then the API standard default is used.\n",
      "    \n",
      "        .. versionadded:: 2.0.0\n",
      "    \n",
      "    Returns\n",
      "    -------\n",
      "    B : (..., N, M) ndarray\n",
      "        The pseudo-inverse of `a`. If `a` is a `matrix` instance, then so\n",
      "        is `B`.\n",
      "    \n",
      "    Raises\n",
      "    ------\n",
      "    LinAlgError\n",
      "        If the SVD computation does not converge.\n",
      "    \n",
      "    See Also\n",
      "    --------\n",
      "    scipy.linalg.pinv : Similar function in SciPy.\n",
      "    scipy.linalg.pinvh : Compute the (Moore-Penrose) pseudo-inverse of a\n",
      "                         Hermitian matrix.\n",
      "    \n",
      "    Notes\n",
      "    -----\n",
      "    The pseudo-inverse of a matrix A, denoted :math:`A^+`, is\n",
      "    defined as: \"the matrix that 'solves' [the least-squares problem]\n",
      "    :math:`Ax = b`,\" i.e., if :math:`\\bar{x}` is said solution, then\n",
      "    :math:`A^+` is that matrix such that :math:`\\bar{x} = A^+b`.\n",
      "    \n",
      "    It can be shown that if :math:`Q_1 \\Sigma Q_2^T = A` is the singular\n",
      "    value decomposition of A, then\n",
      "    :math:`A^+ = Q_2 \\Sigma^+ Q_1^T`, where :math:`Q_{1,2}` are\n",
      "    orthogonal matrices, :math:`\\Sigma` is a diagonal matrix consisting\n",
      "    of A's so-called singular values, (followed, typically, by\n",
      "    zeros), and then :math:`\\Sigma^+` is simply the diagonal matrix\n",
      "    consisting of the reciprocals of A's singular values\n",
      "    (again, followed by zeros). [1]_\n",
      "    \n",
      "    References\n",
      "    ----------\n",
      "    .. [1] G. Strang, *Linear Algebra and Its Applications*, 2nd Ed., Orlando,\n",
      "           FL, Academic Press, Inc., 1980, pp. 139-142.\n",
      "    \n",
      "    Examples\n",
      "    --------\n",
      "    The following example checks that ``a * a+ * a == a`` and\n",
      "    ``a+ * a * a+ == a+``:\n",
      "    \n",
      "    >>> a = np.random.randn(9, 6)\n",
      "    >>> B = np.linalg.pinv(a)\n",
      "    >>> np.allclose(a, np.dot(a, np.dot(B, a)))\n",
      "    True\n",
      "    >>> np.allclose(B, np.dot(B, np.dot(a, B)))\n",
      "    True\n",
      "\n"
     ]
    }
   ],
   "source": [
    "help(np.linalg.pinv)"
   ]
  },
  {
   "cell_type": "markdown",
   "metadata": {},
   "source": [
    "\n",
    "In our case, we can calculate for $B$ . Using this pseudo-inverse will not result in the identity because $\\textrm{rank}(B)\\le m$ , as follows\n"
   ]
  },
  {
   "cell_type": "code",
   "execution_count": 64,
   "metadata": {},
   "outputs": [
    {
     "data": {
      "text/plain": [
       "array([[1.]])"
      ]
     },
     "execution_count": 64,
     "metadata": {},
     "output_type": "execute_result"
    }
   ],
   "source": [
    "B @ np.linalg.pinv(B)"
   ]
  },
  {
   "cell_type": "markdown",
   "metadata": {},
   "source": [
    "\n",
    "Note that the same function it can also be used for $A$ . Using this pseudo-inverse will result in the identity because $\\textrm{rank}(A)=m$ , as follows\n"
   ]
  },
  {
   "cell_type": "code",
   "execution_count": 65,
   "metadata": {},
   "outputs": [
    {
     "data": {
      "text/plain": [
       "array([[ 1.00000000e+00,  1.94289029e-16, -6.38378239e-16],\n",
       "       [-2.28983499e-16,  1.00000000e+00,  6.10622664e-16],\n",
       "       [-2.58473798e-16, -6.24500451e-16,  1.00000000e+00]])"
      ]
     },
     "execution_count": 65,
     "metadata": {},
     "output_type": "execute_result"
    }
   ],
   "source": [
    "A @ np.linalg.pinv(A)"
   ]
  },
  {
   "cell_type": "markdown",
   "metadata": {},
   "source": [
    "<a name=\"H_76F44C17\"></a>\n",
    "### So, after all this, what are task-space singularities, then?\n",
    "\n",
    "Task-space singularities are postures, that is, combinations of joint values for which the rank of the task Jacobian is smaller than the dimension of the task-space.\n",
    "\n",
    "\n",
    "<u>**Note: A task-space singulary depends on the definition of task-space.**</u>\n",
    "\n",
    "\n",
    "To make that understanding somewhat more concrete, let us go back to our example, where we are controlling the translation of the end effector of our 7 degrees-of-freedom planar-robot.\n",
    "\n",
    "\n",
    "If we define our task space as the 3D translation, that is the translation in the $x-$ axis, $y-$ axis, and $z-$ axis, then all robot postures will be singular because the $z-$ axis translation of our planar robot cannot be controlled. The maximum rank of the translation Jacobian of our planar robot will always be less or equal to two.\n"
   ]
  },
  {
   "cell_type": "code",
   "execution_count": 66,
   "metadata": {},
   "outputs": [
    {
     "data": {
      "text/plain": [
       "np.int64(2)"
      ]
     },
     "execution_count": 66,
     "metadata": {},
     "output_type": "execute_result"
    }
   ],
   "source": [
    "q = np.random.rand(7)\n",
    "x = seven_dof_planar_robot.fkm(q)\n",
    "Jx = seven_dof_planar_robot.pose_jacobian(q)\n",
    "Jt = seven_dof_planar_robot.translation_jacobian(Jx, x)\n",
    "np.linalg.matrix_rank(Jt)"
   ]
  },
  {
   "cell_type": "markdown",
   "metadata": {},
   "source": [
    "\n",
    "If we define our task-space as the 2D translation of the $x-$ axis and the $y-$ axis, then most of the robot postures will not be singular. However, some of them will still be.\n",
    "\n",
    "\n",
    "For instance, when all links are aligned at $\\theta_i =0$ $\\forall$ $i$ ,\n"
   ]
  },
  {
   "cell_type": "code",
   "execution_count": 67,
   "metadata": {},
   "outputs": [
    {
     "data": {
      "text/plain": [
       "np.int64(1)"
      ]
     },
     "execution_count": 67,
     "metadata": {},
     "output_type": "execute_result"
    }
   ],
   "source": [
    "q = np.zeros(7)\n",
    "x = seven_dof_planar_robot.fkm(q)\n",
    "Jx = seven_dof_planar_robot.pose_jacobian(q)\n",
    "Jt = seven_dof_planar_robot.translation_jacobian(Jx,x)\n",
    "np.linalg.matrix_rank(Jt)"
   ]
  },
  {
   "cell_type": "markdown",
   "metadata": {},
   "source": [
    "<a name=\"H_8D4B3DED\"></a>\n",
    "### I see, but what is the problem?\n",
    "\n",
    "The problem are not the task-space singularities themselves, but in the transition between singular and non-singular postures. Remember that the SVD-based inverse is based on\n",
    "\n",
    "\n",
    "$${{{\\Sigma }}}^{inv} =\\left\\lbrack \\begin{array}{cccccc} \\frac{1}{\\sigma_1 } & 0 & \\cdots  & 0 & \\cdots  & 0\\\\ 0 & \\frac{1}{\\sigma_2 } & \\ldots & 0 & \\cdots  & 0\\\\ 0 & \\vdots  & \\ddots  & 0 & \\cdots  & 0\\\\ 0 & 0 & 0 & \\frac{1}{\\sigma_r } & \\cdots  & 0\\\\ \\vdots  & \\vdots  & \\vdots  & \\vdots  & \\ddots  & 0\\\\ 0 & 0 & 0 & 0 & \\cdots  & 0 \\end{array}\\right\\rbrack .$$\n",
    "\n",
    "which means that we take the reciprocal of the singular values. The reciprocal of the singular values can be very large numbers when the singular values are small.\n",
    "\n",
    "\n",
    "This causes the SVD-based pseudo-inverse to output unfeasible velocities to the manipulator, that can be dangerous for the robot itself (it can break), and it can damage people/things in its vicinity.\n",
    "\n",
    "\n",
    "First, consider a non-singular posture for our example manipulator, such as $\\theta_i =\\pi /2$ $\\forall$ $i$ . Calculate the next iteration of our controller for the reference $t_d =7\\hat{\\jmath}$ .\n"
   ]
  },
  {
   "cell_type": "code",
   "execution_count": 68,
   "metadata": {},
   "outputs": [
    {
     "data": {
      "text/plain": [
       "np.float64(14.999999999999986)"
      ]
     },
     "execution_count": 68,
     "metadata": {},
     "output_type": "execute_result"
    }
   ],
   "source": [
    "td = 7 * j_\n",
    "q = (pi/2.0) * np.ones(7) \n",
    "u = translation_controller.compute_setpoint_control_signal(q, vec4(td))\n",
    "max(u)"
   ]
  },
  {
   "cell_type": "markdown",
   "metadata": {},
   "source": [
    "\n",
    "which is a resonable maximum joint velocity (remember that the unit in question is radians per second).\n",
    "\n",
    "\n",
    "Now, let us try that in the vicinity of a singularity. For instance, back to our example, consider an initial posture $\\theta_i =0.00001$ $\\forall$ $i$\n"
   ]
  },
  {
   "cell_type": "code",
   "execution_count": 69,
   "metadata": {},
   "outputs": [
    {
     "data": {
      "text/plain": [
       "np.float64(382336.47056177165)"
      ]
     },
     "execution_count": 69,
     "metadata": {},
     "output_type": "execute_result"
    }
   ],
   "source": [
    "td = 7 * j_\n",
    "q = 0.00001 * np.ones(7)\n",
    "translation_controller.compute_setpoint_control_signal(q, vec4(td))\n",
    "u = translation_controller.compute_setpoint_control_signal(q, vec4(td))\n",
    "max(u)"
   ]
  },
  {
   "cell_type": "markdown",
   "metadata": {},
   "source": [
    "\n",
    "which is a completely unreasonable maximum joint velocity. In fact, the closer you are to the singularity, the worse the behavior will be.\n",
    "\n",
    "\n",
    "For instance, consider an initial posture $\\theta_i =0.000000001$ $\\forall$ $i$\n"
   ]
  },
  {
   "cell_type": "code",
   "execution_count": 70,
   "metadata": {},
   "outputs": [
    {
     "data": {
      "text/plain": [
       "np.float64(3823529395.294118)"
      ]
     },
     "execution_count": 70,
     "metadata": {},
     "output_type": "execute_result"
    }
   ],
   "source": [
    "td = 7 * j_\n",
    "q = 0.000000001 * np.ones(7)\n",
    "translation_controller.compute_setpoint_control_signal(q, vec4(td))\n",
    "u = translation_controller.compute_setpoint_control_signal(q, vec4(td))\n",
    "max(u)"
   ]
  },
  {
   "cell_type": "markdown",
   "metadata": {},
   "source": [
    "\n",
    "which is a even more unreasonable maximum joint velocity.\n",
    "\n",
    "<a name=\"H_725A6619\"></a>\n",
    "### Ok, I still don't understand. What is the problem?\n",
    "\n",
    "Let us control our example robot from $\\theta_i =0$ $\\forall$ $i$ to $t_d =7\\hat{\\jmath}$ using the SVD-based pseudo-inverse.\n",
    "\n",
    "\n",
    "This simulation will be run in slow motion and so that you can see the weird behavior of the robot near the singularity.\n",
    "\n",
    "\n",
    "Instead of moving in a smooth manner, the robot teleports to a far-away posture and contorts itself because of the unreasonably high-velocities caused by the SVD-based pseudo-inverse.\n",
    "\n",
    "\n",
    "In DQ Robotics, the SVD-based pseudo-inverse will be used if the damping factor is zero for a \"DQ_PseudoinverseController\".\n"
   ]
  },
  {
   "cell_type": "code",
   "execution_count": 71,
   "metadata": {},
   "outputs": [],
   "source": [
    "# Define the robot\n",
    "seven_dof_planar_robot = SevenDofPlanarRobotDH.kinematics()\n",
    "\n",
    "# Define the controller\n",
    "translation_controller = DQ_PseudoinverseController(seven_dof_planar_robot)\n",
    "translation_controller.set_control_objective(ControlObjective.Translation)\n",
    "translation_controller.set_gain(10)\n",
    "translation_controller.set_damping(0)\n",
    "\n",
    "# Desired translation (pure quaternion)\n",
    "td = 7 * j_\n",
    "# Sampling time [s]\n",
    "tau = 0.01\n",
    "# Simulation time [s]\n",
    "time_final = 1\n",
    "# Initial joint values [rad]\n",
    "q = np.zeros(7)\n",
    "# Store the control signals\n",
    "stored_u = []\n",
    "\n",
    "# Translation controller loop.\n",
    "for time in np.arange(0, time_final + tau,tau):\n",
    "    # Get the next control signal [rad/s]\n",
    "    u = translation_controller.compute_setpoint_control_signal(q, vec4(td))\n",
    "\n",
    "    # Move the robot\n",
    "    q = q + u * tau\n",
    "\n",
    "    # Store data\n",
    "    # stored_u = [stored_u u];\n",
    "\n",
    "    # Plot\n",
    "    # Plot the robot\n",
    "    # plot(seven_dof_planar_robot,q);\n",
    "    # title(['Translation control' ' time=' num2str(time) 's out of ' num2str(final_time) 's'])\n",
    "    # Plot the desired pose\n",
    "    # hold on\n",
    "    # plot3(td.q(2),td.q(3),td.q(4));\n",
    "    # hold off\n",
    "    # [For animations only]\n",
    "    # drawnow; % [For animations only] Ask MATLAB to draw the plot now\n",
    "    # pause(0.5)"
   ]
  },
  {
   "cell_type": "markdown",
   "metadata": {},
   "source": [
    "\n",
    "The issue can be clearly seen when we plot the first 0.1 sec of the controller output. In the first control step, there is no issue because the robot is in a singular posture. When the robot moves a bit away from the singular posture, the next control signal \"explodes\".\n"
   ]
  },
  {
   "cell_type": "code",
   "execution_count": 72,
   "metadata": {},
   "outputs": [],
   "source": [
    "# plot_u(stored_u,0:tau:final_time,10)"
   ]
  },
  {
   "cell_type": "markdown",
   "metadata": {},
   "source": [
    "\n",
    "There are three main points that need to be understood about task-space singularities.\n",
    "\n",
    "1.  <u>**singularities have to be addressed so that the robot does not damage itself and things/people in its surroundings,**</u>\n",
    "2. <u>**singularities are a manifestation of mechanical phenomena related to the definition of the task-space. They do not mean the mathematic model is broken, they simply and correctly represent a mechanical issue.**</u>\n",
    "3. <u>**singularities usually occur when joints are aligned, but predicting singular configurations for robots with a large number of degrees-of-freedom is not trivial.**</u>\n",
    "<a name=\"H_B1A4D228\"></a>\n",
    "## Damped pseudo-inverse\n",
    "\n",
    "The damped pseudo-inverse is an interesting alternative to the SVD-based inverse that gives the system some robustness to task-space singularities. The main idea is to use the following pseudo-inverse for any (possibly singular) matrix $B\\in {\\mathbb{R}}^{m\\times n}$ , called the *damped-pseudo inverse*\n",
    "\n",
    "\n",
    "$$B^+ \\triangleq {\\left(B^T B+\\lambda^2 I\\right)}^{-1} B^T$$\n",
    "\n",
    "where $\\lambda \\in \\mathbb{R}-\\lbrace 0\\rbrace$ is the damping factor. The meaning of this damping factor will become clearer in the next lesson, but for now it suffices to know that given that\n",
    "\n",
    "\n",
    "$${\\left(B^T B+\\lambda^2 I\\right)}^{-1} \\:\\textrm{(Bonus}\\;\\textrm{Homework}\\;\\textrm{2)}$$\n",
    "\n",
    "always exists, regular inversion algorithms can be used to calculate the damped pseudo-inverse. Using MATLAB, this would mean, for instance\n"
   ]
  },
  {
   "cell_type": "code",
   "execution_count": 73,
   "metadata": {},
   "outputs": [],
   "source": [
    "B = np.array([[2, 0, 1, 2],\n",
    "              [0, 0, 1, 4],\n",
    "              [2, 0, 1, 2]])"
   ]
  },
  {
   "cell_type": "code",
   "execution_count": 74,
   "metadata": {},
   "outputs": [],
   "source": [
    "λ = 0.01\n",
    "B_damped_pinv = np.linalg.inv(B.T @ B + (λ ** 2) * np.eye(4)) @ B.T"
   ]
  },
  {
   "cell_type": "code",
   "execution_count": 75,
   "metadata": {},
   "outputs": [
    {
     "data": {
      "text/plain": [
       "array([[4.99994097e-01, 6.24984841e-06, 4.99994097e-01],\n",
       "       [6.24984750e-06, 9.99987500e-01, 6.24984750e-06],\n",
       "       [4.99994097e-01, 6.24984841e-06, 4.99994097e-01]])"
      ]
     },
     "execution_count": 75,
     "metadata": {},
     "output_type": "execute_result"
    }
   ],
   "source": [
    "B @ B_damped_pinv"
   ]
  },
  {
   "cell_type": "markdown",
   "metadata": {},
   "source": [
    "<a name=\"H_90195E7B\"></a>\n",
    "### Damped pseudo-inverse and singularity robustness\n",
    "\n",
    "In the point-of-view of Jacobian-based robot control, the damping factor lets us balance the trade-off between optimal joint velocities (in the sense of task error reduction) and joint velocity norm.\n",
    "\n",
    "\n",
    "If you choose a larger damping factor, the robot will be more robust to task-space singularities, but it might take longer to reach the desired task-space value. As you lower the damping factor, the behavior gets closer to the SVD-based pseudo-inverse. If the damping is too low, the joint velocities will also be dangerous when the robot is close to singular configurations.\n",
    "\n",
    "\n",
    "To show a concrete example of the damped pseudo-inverse in action, let us copy and paste our prior example. After that, we change only the damping factor and see its effect on robot control.\n"
   ]
  },
  {
   "cell_type": "code",
   "execution_count": 76,
   "metadata": {},
   "outputs": [],
   "source": [
    "# Define the robot\n",
    "seven_dof_planar_robot = SevenDofPlanarRobotDH.kinematics()\n",
    "\n",
    "# Define the controller\n",
    "translation_controller = DQ_PseudoinverseController(seven_dof_planar_robot)\n",
    "translation_controller.set_control_objective(ControlObjective.Translation)\n",
    "translation_controller.set_gain(10)\n",
    "\n",
    "damping = 1"
   ]
  },
  {
   "cell_type": "code",
   "execution_count": 77,
   "metadata": {},
   "outputs": [],
   "source": [
    "translation_controller.set_damping(damping)\n",
    "\n",
    "# Desired translation (pure quaternion)\n",
    "td = 7 * j_\n",
    "# Sampling time [s]\n",
    "tau = 0.01\n",
    "# Simulation time [s]\n",
    "time_final = 1\n",
    "# Initial joint values [rad]\n",
    "q = np.zeros(7)\n",
    "# Store the control signals\n",
    "stored_u = []\n",
    "\n",
    "# Translation controller loop.\n",
    "for time in np.arange(0, time_final + tau,tau):\n",
    "    # Get the next control signal [rad/s]\n",
    "    u = translation_controller.compute_setpoint_control_signal(q, vec4(td))\n",
    "\n",
    "    # Move the robot\n",
    "    q = q + u * tau\n",
    "\n",
    "    # Store data\n",
    "    # stored_u = [stored_u u];\n",
    "\n",
    "    # Plot\n",
    "    # Plot the robot\n",
    "    # plot(seven_dof_planar_robot,q);\n",
    "    # title(['Translation control' ' time=' num2str(time) 's out of ' num2str(final_time) 's'])\n",
    "    # Plot the desired pose\n",
    "    # hold on\n",
    "    # plot3(td.q(2),td.q(3),td.q(4));\n",
    "    # hold off\n",
    "    # [For animations only]\n",
    "    # drawnow; % [For animations only] Ask MATLAB to draw the plot now\n",
    "    # pause(0.5)"
   ]
  },
  {
   "cell_type": "code",
   "execution_count": 78,
   "metadata": {},
   "outputs": [],
   "source": [
    "\n",
    "# plot_u(stored_u,0:tau:final_time,10)"
   ]
  },
  {
   "cell_type": "markdown",
   "metadata": {},
   "source": [
    "\n",
    "As you can also see from the plotted values, the robot safely moved towards the goal without excessive joint velocities when $\\lambda =1$ .\n",
    "\n",
    "<a name=\"T_799C3A33\"></a>\n",
    "# <span style=\"color:rgb(213,80,0)\">Homework</span>\n",
    "\n",
    "Consider the 7-DoF planar robot used during this lesson. Consider the following damping values $\\lambda \\in \\left\\lbrace 0.001,0.01,0.1,0.2,0.3,0.4,0.5,1\\right\\rbrace$ .\n",
    "\n",
    "\n",
    " **Condition 1:** $\\theta_i =0$ $\\forall$ $i$ to $t_d =7\\hat{\\jmath}$ . $\\eta =10,\\tau =0.01$\n",
    "\n",
    "\n",
    "Create a file called [seven_dof_robot_damping_comparison_singular.m] that does the following\n",
    "\n",
    "1.  Run the following nine controllers: one SVD-based pseudoinverse translation controller AND eight damped-pseudo inverse translation controllers, each one with one of the damping values defined above. Store their ***task-space error norm*** and their ***control signal norm***.\n",
    "2. Using subplot with one row and two columns: plot on the left subplot the  ***task-space error norm***  for all controllers, so that they can be compared. On the right subplot, plot the  ***control signal norm*** for all controllers so that they can be compared*.*\n",
    "\n",
    " **Condition 2:** $\\theta_i =\\pi /12$ $\\forall$ $i$ to $t_d =7\\hat{\\jmath}$ . $\\eta =10,\\tau =0.01$\n",
    "\n",
    "\n",
    "Create a file called [seven_dof_robot_damping_comparison.m] that does the following\n",
    "\n",
    "1.  Run the following nine controllers: one SVD-based pseudoinverse translation controller AND eight damped-pseudo inverse translation controllers, each one with one of the damping values defined above. Store their ***task-space error norm*** and their ***control signal norm***.\n",
    "2. Using subplot with one row and two columns: plot on the left subplot the  ***task-space error norm***  for all controllers, so that they can be compared. On the right subplot, plot the  ***control signal norm*** for all controllers so that they can be compared*.*\n",
    "<a name=\"T_AD44DC70\"></a>\n",
    "# <span style=\"color:rgb(213,80,0)\">*Bonus Homework*</span>\n",
    "\n",
    "Do the following on pen-and-paper or in your favorite text editor.\n",
    "\n",
    "1.  Show that $AA^{\\dagger} =U{{\\Sigma }}V^T V{{{\\Sigma }}}^{\\textrm{inv}} U^T =I_{m\\times m}$ for any matrix $A^{m\\times n} ,\\textrm{rank}(A)=m$ , $m\\le n$ , with other variables as defined in this lesson.\n",
    "2. Show that $\\left(B^T B+\\lambda I\\right)$ is always invertible, for any matrix $B^{m\\times n} ,\\textrm{rank}(B)<m$ , $m\\le n$ , with other variables as defined in this lesson.\n"
   ]
  }
 ],
 "metadata": {
  "kernelspec": {
   "display_name": "Python 3",
   "language": "python",
   "name": "python3"
  },
  "language_info": {
   "codemirror_mode": {
    "name": "ipython",
    "version": 3
   },
   "file_extension": ".py",
   "mimetype": "text/x-python",
   "name": "python",
   "nbconvert_exporter": "python",
   "pygments_lexer": "ipython3",
   "version": "3.9.6"
  }
 },
 "nbformat": 4,
 "nbformat_minor": 4
}
