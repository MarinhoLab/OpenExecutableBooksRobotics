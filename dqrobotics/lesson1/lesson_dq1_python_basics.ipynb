{
 "cells": [
  {
   "cell_type": "code",
   "execution_count": null,
   "metadata": {},
   "outputs": [],
   "source": [
    "%%capture\n",
    "'''\n",
    "(C) Copyright 2020-2025 Murilo Marques Marinho (murilomarinho@ieee.org)\n",
    "\n",
    "     This file is licensed in the terms of the\n",
    "     Attribution-NonCommercial-ShareAlike 4.0 International (CC BY-NC-SA 4.0)\n",
    "     license.\n",
    "\n",
    " Derivative work of:\n",
    " https://github.com/dqrobotics/learning-dqrobotics-in-matlab/tree/master/robotic_manipulators\n",
    " Contributors to this file:\n",
    "     Murilo Marques Marinho (murilomarinho@ieee.org)\n",
    "'''"
   ]
  },
  {
   "cell_type": "markdown",
   "metadata": {},
   "source": [
    "# DQ1 Python Basics\n",
    "\n",
    "## Introduction\n",
    "\n",
    "Before we begin learning DQ Robotics, it is important to understand some basics of Python programming.\n",
    "\n",
    "## Python scripts\n",
    "\n",
    "This is a Jupyter notebook with extension `.ipynb`. In general, Python scripts will have the extension `.py`.\n",
    "\n",
    "\n",
    "A script, such as the `hello_world.py`, is the usual programming method of Python.\n",
    "\n",
    "\n",
    "A Jupyter notebook, such as this one `lesson_dq1_python_basics.ipynb`, is a file in which we can write explanations together with code.\n",
    "\n",
    "\n",
    "The Python kernel will execute each line of your script, in order. Python will ignore any line that stards with `#`. That can be used to add comments to your scripts, as follows\n"
   ]
  },
  {
   "cell_type": "code",
   "execution_count": null,
   "metadata": {},
   "outputs": [],
   "source": [
    "# This is a comment. Python will ignore this line."
   ]
  },
  {
   "cell_type": "markdown",
   "metadata": {},
   "source": [
    "<a name=\"H_6AAE4A8C\"></a>\n",
    "## Defining real numbers\n",
    "\n",
    "It is easy to create a real number $a\\in$ $\\mathbb{R}$ in Python.\n",
    "\n",
    "\n",
    " For instance, to create $a_1 =5$ and $a_2 =67$ , we can use the following script\n"
   ]
  },
  {
   "cell_type": "code",
   "execution_count": null,
   "metadata": {},
   "outputs": [],
   "source": [
    "# Instantiate a1 and a2\n",
    "a1 = 5.0"
   ]
  },
  {
   "cell_type": "code",
   "execution_count": null,
   "metadata": {},
   "outputs": [],
   "source": [
    "a2 = 67.0"
   ]
  },
  {
   "cell_type": "markdown",
   "metadata": {},
   "source": [
    "\n",
    "Note that the output of the script is not displayed.\n",
    "\n",
    "\n",
    "If you want to show the values stored in each variable, you have to explicitly call `print`. Ideally, with f-strings.\n"
   ]
  },
  {
   "cell_type": "code",
   "execution_count": null,
   "metadata": {},
   "outputs": [],
   "source": [
    "# Showing the value of a1 but NOT a2\n",
    "a1 = 5.0\n",
    "a2 = 67.0\n",
    "\n",
    "print(f\"The output of a1 is {a1}\")"
   ]
  },
  {
   "cell_type": "markdown",
   "metadata": {},
   "source": [
    "\n",
    "If you want to show the ouput of the second line, you write\n"
   ]
  },
  {
   "cell_type": "code",
   "execution_count": null,
   "metadata": {},
   "outputs": [],
   "source": [
    "# Showing the value of a2 but NOT a1\n",
    "a1 = 5.0\n",
    "a2 = 67.0\n",
    "\n",
    "print(f\"The value of a2 is {a2}\")"
   ]
  },
  {
   "cell_type": "markdown",
   "metadata": {},
   "source": [
    "\n",
    "And if you want to show the values of both variables\n"
   ]
  },
  {
   "cell_type": "code",
   "execution_count": null,
   "metadata": {},
   "outputs": [],
   "source": [
    "# Showing the values of of a1 and a2\n",
    "a1 = 5.0\n",
    "a2 = 67.0\n",
    "\n",
    "print(f\"The value of a1 is {a1} and a2 is {a2}\")"
   ]
  },
  {
   "cell_type": "markdown",
   "metadata": {},
   "source": [
    "\n",
    "When displaying small values, Python will truncate to up to 16 digits. For instance\n"
   ]
  },
  {
   "cell_type": "code",
   "execution_count": null,
   "metadata": {},
   "outputs": [],
   "source": [
    "# Displaying small values\n",
    "a1 = 0.12312312312311231231231231231213231233\n",
    "\n",
    "print(f\"a1 = {a1}\")"
   ]
  },
  {
   "cell_type": "markdown",
   "metadata": {},
   "source": [
    "\n",
    "Python will, by default, show only up to 16 significant digits when displaying a number.  **This is not a problem for the calculations, Python just truncates what is displayed, the internal representation stays as close to machine precision as possible.**\n"
   ]
  },
  {
   "cell_type": "markdown",
   "metadata": {},
   "source": [
    "<a name=\"H_1715DA2F\"></a>\n",
    "## Basic operations with real numbers\n",
    "\n",
    "In your Python scripts, you can make basic operations between real numbers very easily. For example, for $a_1 =5,a_2 =67,a_3 \\in$ $\\mathbb{R}$ , see the following operations:\n",
    "\n",
    "<a name=\"H_F8D0F1E0\"></a>\n",
    "### Sum\n",
    "\n",
    "$$a_3 =a_1 +a_2$$"
   ]
  },
  {
   "cell_type": "code",
   "execution_count": null,
   "metadata": {},
   "outputs": [],
   "source": [
    "# Get the sum of a1 and a2\n",
    "a1 = 5\n",
    "a2 = 67\n",
    "a3 = a1 + a2\n",
    "print(f\"a3 = {a3}\")"
   ]
  },
  {
   "cell_type": "markdown",
   "metadata": {},
   "source": [
    "<a name=\"H_2998A281\"></a>\n",
    "### Subtraction\n",
    "\n",
    "$$a_3 =a_1 -a_2$$"
   ]
  },
  {
   "cell_type": "code",
   "execution_count": null,
   "metadata": {},
   "outputs": [],
   "source": [
    "# Subtract a1 by a2\n",
    "a1 = 5\n",
    "a2 = 67\n",
    "a3 = a1 - a2\n",
    "print(f\"a3 = {a3}\")"
   ]
  },
  {
   "cell_type": "markdown",
   "metadata": {},
   "source": [
    "<a name=\"H_BC234F99\"></a>\n",
    "### Multiplication\n",
    "\n",
    "$$a_3 =a_1 *a_2$$"
   ]
  },
  {
   "cell_type": "code",
   "execution_count": null,
   "metadata": {},
   "outputs": [],
   "source": [
    "# Multiply a1 by a2\n",
    "a1 = 5\n",
    "a2 = 67\n",
    "a3 = a1 * a2\n",
    "print(f\"a3 = {a3}\")"
   ]
  },
  {
   "cell_type": "markdown",
   "metadata": {},
   "source": [
    "<a name=\"H_C82901BB\"></a>\n",
    "### Division\n",
    "\n",
    "$$a_3 =\\frac{a_1 }{a_2 }$$"
   ]
  },
  {
   "cell_type": "code",
   "execution_count": null,
   "metadata": {},
   "outputs": [],
   "source": [
    "# Divide a1 by a2\n",
    "a1 = 5\n",
    "a2 = 67\n",
    "a3 = a1 / a2\n",
    "print(f\"a3 = {a3}\")"
   ]
  },
  {
   "cell_type": "markdown",
   "metadata": {},
   "source": [
    "<a name=\"H_4B48E0F1\"></a>\n",
    "#### Exponentiation\n",
    "\n",
    "$$a_3 =a_1^2$$"
   ]
  },
  {
   "cell_type": "code",
   "execution_count": null,
   "metadata": {},
   "outputs": [],
   "source": [
    "# a1 squared\n",
    "a1 = 5\n",
    "a3 = a1**2\n",
    "print(f\"a3 = {a3}\")"
   ]
  },
  {
   "cell_type": "markdown",
   "metadata": {},
   "source": [
    "\n",
    "$$a_3 =a_1^3$$"
   ]
  },
  {
   "cell_type": "code",
   "execution_count": null,
   "metadata": {},
   "outputs": [],
   "source": [
    "# a1 cubed\n",
    "a1 = 5\n",
    "a3 = a1**3"
   ]
  },
  {
   "cell_type": "markdown",
   "metadata": {},
   "source": [
    "<a name=\"H_765559ED\"></a>\n",
    "## Trigonometric operations with real numbers\n",
    "\n",
    "In Python, we can easily use $\\pi$ and some important trigonometric functions from the module `math`. For example, $\\pi$ is defined as \"pi\". We can show its first 16 significant digits as\n"
   ]
  },
  {
   "cell_type": "code",
   "execution_count": null,
   "metadata": {},
   "outputs": [],
   "source": [
    "from math import pi\n",
    "# Display the value of pi\n",
    "print(f\"pi = {pi}\")"
   ]
  },
  {
   "cell_type": "markdown",
   "metadata": {},
   "source": [
    "\n",
    "Angles in Python are defined in radians.\n",
    "\n",
    "\n",
    "Using the `math` module, we can use trigonometric functions as shown below. Consider the angles $\\theta {\\;}_1 =\\frac{\\pi }{4}\\;$ and $\\theta {\\;}_2 =\\frac{\\pi }{2}\\;$ .\n",
    "\n",
    "<a name=\"H_CCFAA037\"></a>\n",
    "### Cosine\n",
    "\n",
    "$$a_1 =\\cos \\left(\\theta {\\;}_1 \\right)$$"
   ]
  },
  {
   "cell_type": "code",
   "execution_count": null,
   "metadata": {},
   "outputs": [],
   "source": [
    "from math import cos\n",
    "# Get the cosine of theta1\n",
    "theta1 = pi/4\n",
    "a1 = cos(theta1)\n",
    "print(f\"a1 = {a1}\")"
   ]
  },
  {
   "cell_type": "markdown",
   "metadata": {},
   "source": [
    "<a name=\"H_BEB0CE4E\"></a>\n",
    "### Sine\n",
    "\n",
    "$$a_2 =\\sin \\left(\\theta {\\;}_2 \\right)$$"
   ]
  },
  {
   "cell_type": "code",
   "execution_count": null,
   "metadata": {},
   "outputs": [],
   "source": [
    "from math import sin\n",
    "# Get the sine of theta1\n",
    "theta2 = pi/2\n",
    "a2 = sin(theta2)\n",
    "print(f\"a2 = {a2}\")"
   ]
  },
  {
   "cell_type": "markdown",
   "metadata": {},
   "source": [
    "<a name=\"H_24035A9E\"></a>\n",
    "### Tangent\n",
    "\n",
    "$$a_3 =\\tan \\left(\\theta {\\;}_1 +\\theta {\\;}_2 \\right)$$"
   ]
  },
  {
   "cell_type": "code",
   "execution_count": null,
   "metadata": {},
   "outputs": [],
   "source": [
    "from math import tan\n",
    "# Get the tangent of theta1 + theta2\n",
    "theta1 = pi/4\n",
    "theta2 = pi/2\n",
    "a3 = tan(theta1 + theta2)\n",
    "print(f\"a3 = {a3}\")"
   ]
  },
  {
   "cell_type": "markdown",
   "metadata": {},
   "source": [
    "<a name=\"H_EED5BCFF\"></a>\n",
    "## Exponential and logarithm\n",
    "\n",
    "In Python, the exponential and logarithm functions are also easily used from `math`. For instance,  for $a_1 =5,a_2 =67,a_3 \\in$ $\\mathbb{R}$ , consider the following operations.\n",
    "\n",
    "<a name=\"H_75E1C5A4\"></a>\n",
    "### Exponential\n",
    "\n",
    "$$a_3 =e^{a_1 }$$"
   ]
  },
  {
   "cell_type": "code",
   "execution_count": null,
   "metadata": {},
   "outputs": [],
   "source": [
    "from math import exp\n",
    "# Get the exponential\n",
    "a1 = 5\n",
    "a3 = exp(a1)\n",
    "print(f\"a3 = {a3}\")"
   ]
  },
  {
   "cell_type": "markdown",
   "metadata": {},
   "source": [
    "<a name=\"H_BC849EBD\"></a>\n",
    "### Natural logarithm\n",
    "\n",
    "$$a_3 =\\log_e \\left(a_2 \\right)$$"
   ]
  },
  {
   "cell_type": "code",
   "execution_count": null,
   "metadata": {},
   "outputs": [],
   "source": [
    "from math import log\n",
    "# Get the logarithm\n",
    "a2 = 67\n",
    "a3 = log(a2)\n",
    "print(f\"a3 = {a3}\")"
   ]
  },
  {
   "cell_type": "markdown",
   "metadata": {},
   "source": [
    "<a name=\"T_FCCB39BE\"></a>\n",
    "# <span style=\"color:rgb(213,80,0)\">Homework</span>\n",
    "1.  Create a Python script called [python_basics_homework.py] and, in the same script, do 2-10.\n",
    "2. Define the real numbers $a_1 =123$ and $a_2 =321$\n",
    "3. Calculate and display $a_3 =a_1 +a_2$\n",
    "4. Calculate and display $a_3 =a_1 *a_2$\n",
    "5. Calculate and display $a_3 =\\frac{a_1 }{a_2 }$\n",
    "6. Define the real numbers $\\theta {\\;}_1 =\\frac{\\pi \\;\\;}{12}$ and $\\theta {\\;}_2 =3\\pi \\;$\n",
    "7. Calculate and display $a_3 =\\cos \\left(\\theta {\\;}_1 +\\theta {\\;}_2 \\right)$\n",
    "8. Calculate and display $a_3 =\\cos^2 \\left(\\theta {\\;}_1 +\\theta {\\;}_2 \\right)+\\sin^2 \\left(\\theta {\\;}_1 +\\theta {\\;}_2 \\right)$\n",
    "9. Calculate and display $a_3 =\\exp \\left(a_1 \\right)+\\log_e \\left(a_2 \\right)$\n"
   ]
  }
 ],
 "metadata": {
  "kernelspec": {
   "display_name": ".venv",
   "language": "python",
   "name": "python3"
  },
  "language_info": {
   "codemirror_mode": {
    "name": "ipython",
    "version": 3
   },
   "file_extension": ".py",
   "mimetype": "text/x-python",
   "name": "python",
   "nbconvert_exporter": "python",
   "pygments_lexer": "ipython3",
   "version": "3.12.9"
  }
 },
 "nbformat": 4,
 "nbformat_minor": 4
}
