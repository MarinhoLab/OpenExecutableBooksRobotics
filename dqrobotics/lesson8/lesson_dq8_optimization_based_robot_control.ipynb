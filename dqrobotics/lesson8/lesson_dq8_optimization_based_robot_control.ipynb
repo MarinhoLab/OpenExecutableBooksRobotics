{
 "cells": [
  {
   "cell_type": "code",
   "execution_count": 67,
   "metadata": {},
   "outputs": [],
   "source": [
    "%%capture\n",
    "'''\n",
    "(C) Copyright 2020-2025 Murilo Marques Marinho (murilomarinho@ieee.org)\n",
    "\n",
    "     This file is licensed in the terms of the\n",
    "     Attribution-NonCommercial-ShareAlike 4.0 International (CC BY-NC-SA 4.0)\n",
    "     license.\n",
    "\n",
    " Derivative work of:\n",
    " https://github.com/dqrobotics/learning-dqrobotics-in-matlab/tree/master/robotic_manipulators\n",
    " Contributors to this file:\n",
    "     Murilo Marques Marinho (murilomarinho@ieee.org)\n",
    "'''"
   ]
  },
  {
   "cell_type": "markdown",
   "metadata": {},
   "source": [
    "# DQ8 Optimization-based Robot Control\n",
    "\n",
    "## Introduction\n",
    "\n",
    "In the last lesson, you learned the concept of task-space singularities and a particular way to address them.\n",
    "\n",
    "\n",
    "In this lesson, we will revisit the topic of robot control using quadratic optimiziation formalism.\n"
   ]
  },
  {
   "cell_type": "code",
   "execution_count": 68,
   "metadata": {},
   "outputs": [],
   "source": [
    "%%capture\n",
    "%pip install dqrobotics quadprog\n",
    "%pip install dqrobotics quadprog --break-system-packages\n",
    "%pip install dqrobotics-pyplot\n",
    "%pip install dqrobotics-pyplot --break-system-packages"
   ]
  },
  {
   "cell_type": "code",
   "execution_count": 69,
   "metadata": {},
   "outputs": [],
   "source": [
    "from math import pi\n",
    "import numpy as np\n",
    "from dqrobotics import *\n",
    "from dqrobotics.utils import DQ_Geometry\n",
    "from dqrobotics.robot_control import ControlObjective\n",
    "from dqrobotics.robot_modeling import DQ_Kinematics\n",
    "from dqrobotics_extensions.pyplot import plot\n",
    "\n",
    "import matplotlib.pyplot as plt\n",
    "plt.rcParams[\"animation.html\"] = \"jshtml\" # Need to output animation's videos\n",
    "import matplotlib.animation as anm\n",
    "from functools import partial # Need to call functions correctly for matplotlib animations"
   ]
  },
  {
   "cell_type": "markdown",
   "metadata": {},
   "source": [
    "<a name=\"H_D4ECB91A\"></a>\n",
    "## Notation\n",
    "\n",
    "Keep these in mind (we will also use this notation when writting papers to conferences and journals):\n",
    "\n",
    "-  $h\\in \\mathbb{H}$ : a quaternion. (Bold-face, lowercase character)\n",
    "-  $\\underline{h} \\in \\mathcal{H}$ : a dual quaternion. (Bold-face, underlined, lowercase character)\n",
    "-  $p,t,\\cdots \\in {\\mathbb{H}}_p$ : pure quaternions. They represent points, positions, and translations. They are quaternions for which $\\textrm{Re}\\left(h\\right)=0$ .\n",
    "-  $r\\in {\\mathbb{S}}^3$ : unit quaternions. They represent orientations and rotations. They are quaternions for which $||h||=1$ .\n",
    "-  $\\underline{x} \\in$ $\\underline{\\mathcal{S}}$ : unit dual quaternions. They represent poses and pose transformations. They are dual quaternions for which $||h||=1$ .\n",
    "-  $\\underline{l} \\in {\\mathcal{H}}_p \\cap$ $\\underline{{\\mathcal{S}}}$ : a Plücker line.\n",
    "-  $\\underline{{{\\pi }}} \\in \\left\\lbrace P\\left(\\underline{{{\\pi }}} \\right)\\in {\\mathbb{H}}_p \\right\\rbrace \\cap \\underline{{\\mathcal{S}}}$ : a plane.\n",
    "-  $\\theta ,a,b,\\cdots \\in \\mathbb{R}$ : real numbers.\n",
    "-  ${{q,\\cdots }}\\in {\\mathbb{R}}^n :$ real vectors.\n",
    "-  $J,A,B,\\cdots \\in {\\mathbb{R}}^{m\\times n} :$ real matrices.\n",
    "<a name=\"H_C7A69651\"></a>\n",
    "## Robot definition\n",
    "\n",
    "The concepts of this lesson apply to any manipulator robot. However, to have a more concrete understanding using DQ Robotics, consider the same robot as used in the past lesson.\n",
    "\n",
    "<p style=\"text-align:left\"><img src=\"data:image/png;base64,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\" width=\"419\" alt=\"image_0.png\"></p>\n",
    "\n",
    "\n",
    "1.  Let the robot $R$ be a 7-DoF planar robot, as drawn in Fig.1.\n",
    "2. Let ${\\mathcal{F}}_W$ be the world-reference frame.\n",
    "3. Let ${\\underline{x} }_R^W (t)\\triangleq {\\underline{x} }_R$ $\\in$ $\\underline{\\mathcal{S}}$ represent the pose of the *end effector*.\n",
    "4. Let $R$ be composed of seven rotational joints that rotate about their z-axis, composed in the joint-space vector $q\\left(t\\right)\\triangleq q={\\left\\lbrack \\theta_1 ~\\theta_2 ~\\theta_3 ~\\theta_4 ~\\theta_5 ~\\theta_6 ~\\theta_7 \\right\\rbrack }^T$ with $\\theta_i \\left(t\\right)\\triangleq \\theta_i \\in \\mathbb{R}$ for $i=1,2,\\ldots,7$ . The rotation of the reference frames of each joint coincide with the rotation of ${\\mathcal{F}}_W$ when $\\theta_i =0$ . The length of the joints are $l_i \\in$ ${\\mathbb{R}}^+ -\\lbrace 0\\rbrace$ .\n",
    "5. Consider that we can freely control the joint vector $q$ .\n",
    "\n",
    "This robot can be modeled by the following class."
   ]
  },
  {
   "cell_type": "code",
   "execution_count": 70,
   "metadata": {},
   "outputs": [
    {
     "name": "stdout",
     "output_type": "stream",
     "text": [
      "Help on function kinematics in module seven_dof_planar_robot_dh:\n",
      "\n",
      "kinematics()\n",
      "    Returns the kinematics of the SevenDoFPlanarRobot as DQ_SerialManipulatorDH.\n",
      "\n"
     ]
    }
   ],
   "source": [
    "from seven_dof_planar_robot_dh import SevenDofPlanarRobotDH\n",
    "help(SevenDofPlanarRobotDH.kinematics)"
   ]
  },
  {
   "cell_type": "markdown",
   "metadata": {},
   "source": [
    "Let us instantiate our robot as follows"
   ]
  },
  {
   "cell_type": "code",
   "execution_count": 71,
   "metadata": {},
   "outputs": [],
   "source": [
    "seven_dof_planar_robot = SevenDofPlanarRobotDH.kinematics()"
   ]
  },
  {
   "cell_type": "markdown",
   "metadata": {},
   "source": [
    "## A brief review of quadratic optimization\n",
    "\n",
    "At some point in your education you might have been introduced to optimization problems. There are many types of optimization problems and in this lesson we will address only two types, which are enough to solve a large class of robot control problems.\n",
    "\n",
    "### Unconstrained quadratic optimization\n",
    "\n",
    "The first type is called unconstrained quadratic optimization of type\n",
    "\n",
    "\n",
    "$$u\\in \\underset{\\dot{q} }{\\arg \\;\\min } ~~~\\mathcal{F}\\left(\\dot{q} \\right)$$\n",
    "\n",
    "where $\\mathcal{F}\\left(\\dot{q} \\right)\\in {\\mathbb{R}}^+$ is a quadratic *objective function* that depends on the current joint configuration. Note that it is called an *optimization problem*, and <u>**NOT**</u> an equation (note that there is no equality sign). In mathematical optimization terminology, $\\dot{q}$ is called the *decision variable*.\n",
    "\n",
    "\n",
    "You can read that as \"find all $\\dot{q}$ that minimize $\\mathcal{F}\\left(\\dot{q} \\right)$ and return one of them as $u$ \". The solution for an unconstrained quadratic optimization problem can, in general, be found analytically. In this lesson we will call that minimizer as $u$ .\n",
    "\n",
    "### Quadratic programming\n",
    "\n",
    "The second type of optimization problem that we will address is called quadratic programming (QP), which is a linearly-constrained quadratic optimization problem, in the form\n",
    "\n",
    "\n",
    "$$\\begin{array}{l} u\\in \\underset{\\dot{q} }{\\arg \\;\\min } ~~~\\mathcal{F}\\left(\\dot{q} \\right)\\\\ ~~~~\\textrm{subject}\\;\\textrm{to}~W\\dot{q} \\preceq w \\end{array}$$\n",
    "\n",
    "where $W\\in {\\mathbb{R}}^{n\\times p}$ and $w\\in {\\mathbb{R}}^p$ represent $p$ linear constraints related to the $n$ degrees-of-freedom of the robot. Note that we use $\\preceq$ and not $\\le$ because we are representing element-wise inequalities.\n",
    "\n",
    "\n",
    "You can read that QP as \"find all $\\dot{q}$ that minimize $\\mathcal{F}\\left(\\dot{q} \\right)$ , subject to $W\\dot{q}$ less or equal to $w$ , and return one of them as $u$ \". In general, numerical methods are required to obtain a solution for a QP. Similarly to the unconstrained case, in this lesson we will call that minimizer as $u$ .\n",
    "\n",
    "## The damped pseudo-inverse as the solution of an unconstrained quadratic optimization problem\n",
    "\n",
    "In the last lesson, the meaning of the damping factor was introduced in the point-of-view of the SVD of the robot's task Jacobian.\n",
    "\n",
    "\n",
    "The damping factor can be trivially understood when we re-write the robot control problem in the following way\n",
    "\n",
    "\n",
    "$$u\\in \\underset{\\dot{q} }{\\arg \\;\\min } ~||J\\dot{q} +\\eta \\tilde{x} ||^2 +\\lambda^2 ||\\dot{q} ||^2$$\n",
    "\n",
    "where $J\\in {\\mathbb{R}}^{m\\times n}$ is the task Jacobian for an $n-$ DoF robot and an $m-$ DoF task. In addition, $\\eta \\in {\\mathbb{R}}^+ -\\lbrace 0\\rbrace$ is the proportional gain of the controller and $\\tilde{x} \\in {\\mathbb{R}}^m$ is the task error. Lastly, $\\lambda \\in \\mathbb{R}$ is the damping factor.\n",
    "\n",
    "\n",
    "Note that we are balancing two terms in the objective function. The first term, $||J\\dot{q} +\\eta \\tilde{x} ||^2$ , will be high when the task error is high and zero when the task error is zero. The second term, $\\lambda^2 ||\\dot{q} ||^2$ , will penalize high joint velocities depending on the size of the damping factor. As we saw in practice in the last lesson, the damping factor is used as a term to balance task error convergence and the norm of the joint velocities.\n",
    "\n",
    "\n",
    "Given that we have an unconstrained quadratic optimization problem which is, by definition, convex, the solution is straightforward. The optimum is where the first-order partial derivative of the objective function with respect to the decision variable equals to zero. Hence\n",
    "\n",
    "$$\\begin{align}\n",
    "\\frac{\\partial }{\\partial \\dot{q} }\\left(||J\\dot{q} +\\eta \\tilde{x} ||^2 \\right) &= 0 \\\\\n",
    "\\frac{\\partial }{\\partial \\dot{q} }\\left\\lbrack (J\\dot{q} +\\eta \\tilde{x} )^T (J\\dot{q} +\\eta \\tilde{x} )\\right\\rbrack &= 0 \\\\\n",
    "\\frac{\\partial }{\\partial \\dot{q} }\\left({\\dot{q} }^T J^T J\\dot{q} +2{\\dot{q} }^T J^T \\tilde{x} +\\eta^2 {\\tilde{x} }^T \\tilde{x} +\\lambda^2 {\\dot{q} }^T \\dot{q} \\right) &= 0 \\\\\n",
    "2J^T J\\dot{q} +2J^T \\tilde{x} +2\\lambda^2 \\dot{q} &= 0 \\\\\n",
    "\\left(J^T J+\\lambda^2 I\\right)\\dot{q} &= -J^T \\tilde{x} \\\\\n",
    "\\therefore u &\\triangleq -{\\left(J^T J+\\lambda^2 I\\right)}^{-1} J^T \\tilde{x} \\\\\n",
    "\\end{align}$$\n",
    "\n",
    "\n",
    "Notice that this solution is <u>**exacly the same**</u> as the damped pseudo-inverse used in the last lesson.\n",
    "\n",
    "## Joint limits\n",
    "\n",
    "Using unconstrained optimization to solve robot-control tasks is useful in some cases, but most tasks in practice have what we call *hard limits*. They are called that way in the sense that those limits are joint-space or task-space limits that cannot be trespassed. For instance, joint limits are a physical type of hard limit. The controller cannot command the robot to move over its joint limits.\n",
    "\n",
    "\n",
    "When performing kinematic control, the decision variable are the joint velocities and not the joint positions. Therefore, we need to write the joint limits as a linear inequality that depends on the joint velocities.\n",
    "\n",
    "\n",
    "Suppose that the lower joint limits are $q^- \\in {\\mathbb{R}}^n$ and the upper joint limits are $q^+ \\in {\\mathbb{R}}^n$ . The most common way of implementing joint limits using a QP is as follows\n",
    "\n",
    "\n",
    "$$\\begin{array}{l} u\\in \\underset{\\dot{q} }{\\arg \\;\\min } ~~~||J\\dot{q} +\\eta \\tilde{x} ||^2 +\\lambda^2 ||\\dot{q} ||^2 \\\\ ~~~~\\textrm{subject}\\;\\textrm{to}~W_{JL} \\dot{q} \\preceq w_{JL}  \\end{array}$$\n",
    "\n",
    "where\n",
    "\n",
    "\n",
    "$$W_{JL} =\\left\\lbrack \\begin{array}{c} -I\\\\ I \\end{array}\\right\\rbrack$$\n",
    "\n",
    "and\n",
    "\n",
    "\n",
    "$$w_{JL} =\\left\\lbrack \\begin{array}{c} -\\eta_{JL} \\left(q^- -q\\right)\\\\ \\eta_{JL} \\left(q^+ -q\\right) \\end{array}\\right\\rbrack .$$\n",
    "\n",
    "where $\\eta_{JL} \\in {\\mathbb{R}}^+ -\\lbrace 0\\rbrace$ is a configurable gain. In general, we choose $\\eta_{JL} =1$ .\n",
    "\n",
    "\n",
    "The main idea behind this constraint is to constrain the velocity of the joint in the direction of the joint limit.\n",
    "\n",
    "### DQ Robotics Example\n",
    "\n",
    "To solve QPs as described in this lesson using DQ Robotics, use the following class\n"
   ]
  },
  {
   "cell_type": "code",
   "execution_count": 72,
   "metadata": {},
   "outputs": [
    {
     "name": "stdout",
     "output_type": "stream",
     "text": [
      "Help on class DQ_ClassicQPController in module dqrobotics._dqrobotics._robot_control:\n",
      "\n",
      "class DQ_ClassicQPController(DQ_QuadraticProgrammingController)\n",
      " |  Method resolution order:\n",
      " |      DQ_ClassicQPController\n",
      " |      DQ_QuadraticProgrammingController\n",
      " |      DQ_KinematicConstrainedController\n",
      " |      DQ_KinematicController\n",
      " |      pybind11_builtins.pybind11_object\n",
      " |      builtins.object\n",
      " |  \n",
      " |  Methods defined here:\n",
      " |  \n",
      " |  __init__(...)\n",
      " |      __init__(self: dqrobotics._dqrobotics._robot_control.DQ_ClassicQPController, arg0: dqrobotics._dqrobotics._robot_modeling.DQ_Kinematics, arg1: dqrobotics._dqrobotics._solvers.DQ_QuadraticProgrammingSolver) -> None\n",
      " |  \n",
      " |  compute_objective_function_linear_component(...)\n",
      " |      compute_objective_function_linear_component(self: dqrobotics._dqrobotics._robot_control.DQ_ClassicQPController, arg0: numpy.ndarray[numpy.float64[m, n]], arg1: numpy.ndarray[numpy.float64[m, 1]]) -> numpy.ndarray[numpy.float64[m, 1]]\n",
      " |      \n",
      " |      Compute the objective function.\n",
      " |  \n",
      " |  compute_objective_function_symmetric_matrix(...)\n",
      " |      compute_objective_function_symmetric_matrix(self: dqrobotics._dqrobotics._robot_control.DQ_ClassicQPController, arg0: numpy.ndarray[numpy.float64[m, n]], arg1: numpy.ndarray[numpy.float64[m, 1]]) -> numpy.ndarray[numpy.float64[m, n]]\n",
      " |      \n",
      " |      Compute symmetric matrix.\n",
      " |  \n",
      " |  ----------------------------------------------------------------------\n",
      " |  Methods inherited from DQ_QuadraticProgrammingController:\n",
      " |  \n",
      " |  compute_setpoint_control_signal(...)\n",
      " |      compute_setpoint_control_signal(self: dqrobotics._dqrobotics._robot_control.DQ_QuadraticProgrammingController, arg0: numpy.ndarray[numpy.float64[m, 1]], arg1: numpy.ndarray[numpy.float64[m, 1]]) -> numpy.ndarray[numpy.float64[m, 1]]\n",
      " |      \n",
      " |      Compute the setpoint control signal.\n",
      " |  \n",
      " |  compute_tracking_control_signal(...)\n",
      " |      compute_tracking_control_signal(self: dqrobotics._dqrobotics._robot_control.DQ_QuadraticProgrammingController, arg0: numpy.ndarray[numpy.float64[m, 1]], arg1: numpy.ndarray[numpy.float64[m, 1]], arg2: numpy.ndarray[numpy.float64[m, 1]]) -> numpy.ndarray[numpy.float64[m, 1]]\n",
      " |      \n",
      " |      Compute the tracking control signal.\n",
      " |  \n",
      " |  ----------------------------------------------------------------------\n",
      " |  Methods inherited from DQ_KinematicConstrainedController:\n",
      " |  \n",
      " |  set_equality_constraint(...)\n",
      " |      set_equality_constraint(self: dqrobotics._dqrobotics._robot_control.DQ_KinematicConstrainedController, arg0: numpy.ndarray[numpy.float64[m, n]], arg1: numpy.ndarray[numpy.float64[m, 1]]) -> None\n",
      " |      \n",
      " |      Sets equality constraints.\n",
      " |  \n",
      " |  set_inequality_constraint(...)\n",
      " |      set_inequality_constraint(self: dqrobotics._dqrobotics._robot_control.DQ_KinematicConstrainedController, arg0: numpy.ndarray[numpy.float64[m, n]], arg1: numpy.ndarray[numpy.float64[m, 1]]) -> None\n",
      " |      \n",
      " |      Sets inequality constraints.\n",
      " |  \n",
      " |  ----------------------------------------------------------------------\n",
      " |  Methods inherited from DQ_KinematicController:\n",
      " |  \n",
      " |  get_control_objective(...)\n",
      " |      get_control_objective(self: dqrobotics._dqrobotics._robot_control.DQ_KinematicController) -> dqrobotics._dqrobotics._robot_control.ControlObjective\n",
      " |      \n",
      " |      Gets the control objective\n",
      " |  \n",
      " |  get_damping(...)\n",
      " |      get_damping(self: dqrobotics._dqrobotics._robot_control.DQ_KinematicController) -> float\n",
      " |      \n",
      " |      Gets the damping.\n",
      " |  \n",
      " |  get_gain(...)\n",
      " |      get_gain(self: dqrobotics._dqrobotics._robot_control.DQ_KinematicController) -> float\n",
      " |      \n",
      " |      Gets the controller gain\n",
      " |  \n",
      " |  get_jacobian(...)\n",
      " |      get_jacobian(self: dqrobotics._dqrobotics._robot_control.DQ_KinematicController, arg0: numpy.ndarray[numpy.float64[m, 1]]) -> numpy.ndarray[numpy.float64[m, n]]\n",
      " |      \n",
      " |      Gets the Jacobian\n",
      " |  \n",
      " |  get_last_error_signal(...)\n",
      " |      get_last_error_signal(self: dqrobotics._dqrobotics._robot_control.DQ_KinematicController) -> numpy.ndarray[numpy.float64[m, 1]]\n",
      " |      \n",
      " |      Gets the last error signal\n",
      " |  \n",
      " |  get_task_variable(...)\n",
      " |      get_task_variable(self: dqrobotics._dqrobotics._robot_control.DQ_KinematicController, arg0: numpy.ndarray[numpy.float64[m, 1]]) -> numpy.ndarray[numpy.float64[m, 1]]\n",
      " |      \n",
      " |      Gets the task variable\n",
      " |  \n",
      " |  is_set(...)\n",
      " |      is_set(self: dqrobotics._dqrobotics._robot_control.DQ_KinematicController) -> bool\n",
      " |      \n",
      " |      Checks if the controller's objective has been set\n",
      " |  \n",
      " |  reset_stability_counter(...)\n",
      " |      reset_stability_counter(self: dqrobotics._dqrobotics._robot_control.DQ_KinematicController) -> None\n",
      " |      \n",
      " |      Resets the stability counter\n",
      " |  \n",
      " |  set_control_objective(...)\n",
      " |      set_control_objective(self: dqrobotics._dqrobotics._robot_control.DQ_KinematicController, arg0: dqrobotics._dqrobotics._robot_control.ControlObjective) -> None\n",
      " |      \n",
      " |      Sets the control objective\n",
      " |  \n",
      " |  set_damping(...)\n",
      " |      set_damping(self: dqrobotics._dqrobotics._robot_control.DQ_KinematicController, arg0: float) -> None\n",
      " |      \n",
      " |      Sets the damping.\n",
      " |  \n",
      " |  set_gain(...)\n",
      " |      set_gain(self: dqrobotics._dqrobotics._robot_control.DQ_KinematicController, arg0: float) -> None\n",
      " |      \n",
      " |      Sets the controller gain\n",
      " |  \n",
      " |  set_primitive_to_effector(...)\n",
      " |      set_primitive_to_effector(self: dqrobotics._dqrobotics._robot_control.DQ_KinematicController, arg0: dqrobotics._dqrobotics.DQ) -> None\n",
      " |      \n",
      " |      Sets the effector primitive\n",
      " |  \n",
      " |  set_stability_counter_max(...)\n",
      " |      set_stability_counter_max(self: dqrobotics._dqrobotics._robot_control.DQ_KinematicController, arg0: int) -> None\n",
      " |      \n",
      " |      Sets the maximum of the stability counter\n",
      " |  \n",
      " |  set_stability_threshold(...)\n",
      " |      set_stability_threshold(self: dqrobotics._dqrobotics._robot_control.DQ_KinematicController, arg0: float) -> None\n",
      " |      \n",
      " |      Sets the stability threshold\n",
      " |  \n",
      " |  set_target_primitive(...)\n",
      " |      set_target_primitive(self: dqrobotics._dqrobotics._robot_control.DQ_KinematicController, arg0: dqrobotics._dqrobotics.DQ) -> None\n",
      " |      \n",
      " |      Sets the target primitive\n",
      " |  \n",
      " |  system_reached_stable_region(...)\n",
      " |      system_reached_stable_region(self: dqrobotics._dqrobotics._robot_control.DQ_KinematicController) -> bool\n",
      " |      \n",
      " |      Checks if the controller has stabilized\n",
      " |  \n",
      " |  ----------------------------------------------------------------------\n",
      " |  Static methods inherited from pybind11_builtins.pybind11_object:\n",
      " |  \n",
      " |  __new__(*args, **kwargs) from pybind11_builtins.pybind11_type\n",
      " |      Create and return a new object.  See help(type) for accurate signature.\n",
      "\n"
     ]
    }
   ],
   "source": [
    "from dqrobotics.robot_control import DQ_ClassicQPController\n",
    "help(DQ_ClassicQPController)"
   ]
  },
  {
   "cell_type": "markdown",
   "metadata": {},
   "source": [
    "\n",
    "To solve a QP, you have to choose the numerical solver that will be used by the controller. MATLAB has a solver in its optimization toolbox called \"quadprog\". To use it, first instantiate the robot and the solver\n"
   ]
  },
  {
   "cell_type": "code",
   "execution_count": 73,
   "metadata": {},
   "outputs": [],
   "source": [
    "from dqrobotics.solvers import DQ_QuadprogSolver\n",
    "# Solver definition\n",
    "qp_solver = DQ_QuadprogSolver()"
   ]
  },
  {
   "cell_type": "markdown",
   "metadata": {},
   "source": [
    "\n",
    "and then instantiate the controller and set the control objective, the gain, and the damping factor\n"
   ]
  },
  {
   "cell_type": "code",
   "execution_count": 74,
   "metadata": {},
   "outputs": [],
   "source": [
    "# Controller definition\n",
    "translation_controller = DQ_ClassicQPController(seven_dof_planar_robot, qp_solver)\n",
    "translation_controller.set_control_objective(ControlObjective.Translation)\n",
    "translation_controller.set_gain(10)\n",
    "translation_controller.set_damping(1)"
   ]
  },
  {
   "cell_type": "markdown",
   "metadata": {},
   "source": [
    "\n",
    "Let us define the following joint limits\n"
   ]
  },
  {
   "cell_type": "code",
   "execution_count": 75,
   "metadata": {},
   "outputs": [
    {
     "name": "stdout",
     "output_type": "stream",
     "text": [
      "q_minus = [-0.39269908 -0.39269908 -0.39269908 -0.39269908 -0.39269908 -0.39269908\n",
      " -0.39269908]\n",
      "q_plus = [0.39269908 0.39269908 0.39269908 0.39269908 0.39269908 0.39269908\n",
      " 0.39269908]\n"
     ]
    }
   ],
   "source": [
    "# Joint limits\n",
    "q_minus = -(pi/8) * np.ones(7)\n",
    "q_plus  =  (pi/8) * np.ones(7)\n",
    "\n",
    "print(f\"q_minus = {q_minus}\")\n",
    "print(f\"q_plus = {q_plus}\")"
   ]
  },
  {
   "cell_type": "markdown",
   "metadata": {},
   "source": [
    "\n",
    "We define the other control-related variables as in the last lesson.\n"
   ]
  },
  {
   "cell_type": "code",
   "execution_count": 76,
   "metadata": {},
   "outputs": [],
   "source": [
    "# Desired translation (pure quaternion)\n",
    "td = 7 * j_\n",
    "# Sampling time [s]\n",
    "tau = 0.01\n",
    "# Simulation time [s]\n",
    "time_final = 4\n",
    "# Initial joint values [rad]\n",
    "q = np.zeros(7)\n",
    "# Store the joint values\n",
    "stored_q = []\n",
    "\n",
    "# Translation controller loop.\n",
    "for time in np.arange(0, time_final + tau,tau):\n",
    "    # Store q for posterior animation\n",
    "    stored_q.append(q)\n",
    "\n",
    "    # The linear inequalities depend on the current joint values so we calculate them inside the control loop.\n",
    "    # Define the linear inequality matrix and the linear inequality vector\n",
    "    Wjl = np.vstack((-np.eye(7), np.eye(7)))\n",
    "    wjl = np.hstack((-1 * (q_minus-q), 1 * (q_plus-q)))\n",
    "\n",
    "    # We then add them to the controller using the following method\n",
    "    # Update the linear inequalities in the controller\n",
    "    translation_controller.set_inequality_constraint(Wjl, wjl)\n",
    "\n",
    "    # The rest of the control loop is unchanged with respect to prior lessons.\n",
    "    # Get the next control signal [rad/s]\n",
    "    u = translation_controller.compute_setpoint_control_signal(q, vec4(td))\n",
    "\n",
    "    # Move the robot\n",
    "    q = q + u * tau"
   ]
  },
  {
   "cell_type": "markdown",
   "metadata": {},
   "source": [
    "Plot related code with reusable functions `animate_robot` and `setup_plot`."
   ]
  },
  {
   "cell_type": "code",
   "execution_count": 77,
   "metadata": {},
   "outputs": [
    {
     "ename": "KeyboardInterrupt",
     "evalue": "",
     "output_type": "error",
     "traceback": [
      "\u001b[0;31m---------------------------------------------------------------------------\u001b[0m",
      "\u001b[0;31mKeyboardInterrupt\u001b[0m                         Traceback (most recent call last)",
      "Cell \u001b[0;32mIn[77], line 24\u001b[0m\n\u001b[1;32m     21\u001b[0m     \u001b[38;5;28;01mreturn\u001b[39;00m fig, ax\n\u001b[1;32m     23\u001b[0m fig, ax \u001b[38;5;241m=\u001b[39m setup_plot()\n\u001b[0;32m---> 24\u001b[0m anm\u001b[38;5;241m.\u001b[39mFuncAnimation(fig, \n\u001b[1;32m     25\u001b[0m                   partial(animate_robot, robot\u001b[38;5;241m=\u001b[39mseven_dof_planar_robot, stored_q\u001b[38;5;241m=\u001b[39mstored_q, xd \u001b[38;5;241m=\u001b[39m \u001b[38;5;241m1\u001b[39m \u001b[38;5;241m+\u001b[39m \u001b[38;5;241m0.5\u001b[39m\u001b[38;5;241m*\u001b[39mE_\u001b[38;5;241m*\u001b[39mtd), \n\u001b[1;32m     26\u001b[0m                   frames\u001b[38;5;241m=\u001b[39m\u001b[38;5;28mlen\u001b[39m(stored_q))\n",
      "File \u001b[0;32m~/Library/Python/3.9/lib/python/site-packages/IPython/core/displayhook.py:268\u001b[0m, in \u001b[0;36mDisplayHook.__call__\u001b[0;34m(self, result)\u001b[0m\n\u001b[1;32m    266\u001b[0m \u001b[38;5;28mself\u001b[39m\u001b[38;5;241m.\u001b[39mstart_displayhook()\n\u001b[1;32m    267\u001b[0m \u001b[38;5;28mself\u001b[39m\u001b[38;5;241m.\u001b[39mwrite_output_prompt()\n\u001b[0;32m--> 268\u001b[0m format_dict, md_dict \u001b[38;5;241m=\u001b[39m \u001b[38;5;28;43mself\u001b[39;49m\u001b[38;5;241;43m.\u001b[39;49m\u001b[43mcompute_format_data\u001b[49m\u001b[43m(\u001b[49m\u001b[43mresult\u001b[49m\u001b[43m)\u001b[49m\n\u001b[1;32m    269\u001b[0m \u001b[38;5;28mself\u001b[39m\u001b[38;5;241m.\u001b[39mupdate_user_ns(result)\n\u001b[1;32m    270\u001b[0m \u001b[38;5;28mself\u001b[39m\u001b[38;5;241m.\u001b[39mfill_exec_result(result)\n",
      "File \u001b[0;32m~/Library/Python/3.9/lib/python/site-packages/IPython/core/displayhook.py:157\u001b[0m, in \u001b[0;36mDisplayHook.compute_format_data\u001b[0;34m(self, result)\u001b[0m\n\u001b[1;32m    127\u001b[0m \u001b[38;5;28;01mdef\u001b[39;00m\u001b[38;5;250m \u001b[39m\u001b[38;5;21mcompute_format_data\u001b[39m(\u001b[38;5;28mself\u001b[39m, result):\n\u001b[1;32m    128\u001b[0m \u001b[38;5;250m    \u001b[39m\u001b[38;5;124;03m\"\"\"Compute format data of the object to be displayed.\u001b[39;00m\n\u001b[1;32m    129\u001b[0m \n\u001b[1;32m    130\u001b[0m \u001b[38;5;124;03m    The format data is a generalization of the :func:`repr` of an object.\u001b[39;00m\n\u001b[0;32m   (...)\u001b[0m\n\u001b[1;32m    155\u001b[0m \n\u001b[1;32m    156\u001b[0m \u001b[38;5;124;03m    \"\"\"\u001b[39;00m\n\u001b[0;32m--> 157\u001b[0m     \u001b[38;5;28;01mreturn\u001b[39;00m \u001b[38;5;28;43mself\u001b[39;49m\u001b[38;5;241;43m.\u001b[39;49m\u001b[43mshell\u001b[49m\u001b[38;5;241;43m.\u001b[39;49m\u001b[43mdisplay_formatter\u001b[49m\u001b[38;5;241;43m.\u001b[39;49m\u001b[43mformat\u001b[49m\u001b[43m(\u001b[49m\u001b[43mresult\u001b[49m\u001b[43m)\u001b[49m\n",
      "File \u001b[0;32m~/Library/Python/3.9/lib/python/site-packages/IPython/core/formatters.py:179\u001b[0m, in \u001b[0;36mDisplayFormatter.format\u001b[0;34m(self, obj, include, exclude)\u001b[0m\n\u001b[1;32m    177\u001b[0m md \u001b[38;5;241m=\u001b[39m \u001b[38;5;28;01mNone\u001b[39;00m\n\u001b[1;32m    178\u001b[0m \u001b[38;5;28;01mtry\u001b[39;00m:\n\u001b[0;32m--> 179\u001b[0m     data \u001b[38;5;241m=\u001b[39m \u001b[43mformatter\u001b[49m\u001b[43m(\u001b[49m\u001b[43mobj\u001b[49m\u001b[43m)\u001b[49m\n\u001b[1;32m    180\u001b[0m \u001b[38;5;28;01mexcept\u001b[39;00m:\n\u001b[1;32m    181\u001b[0m     \u001b[38;5;66;03m# FIXME: log the exception\u001b[39;00m\n\u001b[1;32m    182\u001b[0m     \u001b[38;5;28;01mraise\u001b[39;00m\n",
      "File \u001b[0;32m~/Library/Python/3.9/lib/python/site-packages/decorator.py:235\u001b[0m, in \u001b[0;36mdecorate.<locals>.fun\u001b[0;34m(*args, **kw)\u001b[0m\n\u001b[1;32m    233\u001b[0m \u001b[38;5;28;01mif\u001b[39;00m \u001b[38;5;129;01mnot\u001b[39;00m kwsyntax:\n\u001b[1;32m    234\u001b[0m     args, kw \u001b[38;5;241m=\u001b[39m fix(args, kw, sig)\n\u001b[0;32m--> 235\u001b[0m \u001b[38;5;28;01mreturn\u001b[39;00m \u001b[43mcaller\u001b[49m\u001b[43m(\u001b[49m\u001b[43mfunc\u001b[49m\u001b[43m,\u001b[49m\u001b[43m \u001b[49m\u001b[38;5;241;43m*\u001b[39;49m\u001b[43m(\u001b[49m\u001b[43mextras\u001b[49m\u001b[43m \u001b[49m\u001b[38;5;241;43m+\u001b[39;49m\u001b[43m \u001b[49m\u001b[43margs\u001b[49m\u001b[43m)\u001b[49m\u001b[43m,\u001b[49m\u001b[43m \u001b[49m\u001b[38;5;241;43m*\u001b[39;49m\u001b[38;5;241;43m*\u001b[39;49m\u001b[43mkw\u001b[49m\u001b[43m)\u001b[49m\n",
      "File \u001b[0;32m~/Library/Python/3.9/lib/python/site-packages/IPython/core/formatters.py:223\u001b[0m, in \u001b[0;36mcatch_format_error\u001b[0;34m(method, self, *args, **kwargs)\u001b[0m\n\u001b[1;32m    221\u001b[0m \u001b[38;5;250m\u001b[39m\u001b[38;5;124;03m\"\"\"show traceback on failed format call\"\"\"\u001b[39;00m\n\u001b[1;32m    222\u001b[0m \u001b[38;5;28;01mtry\u001b[39;00m:\n\u001b[0;32m--> 223\u001b[0m     r \u001b[38;5;241m=\u001b[39m \u001b[43mmethod\u001b[49m\u001b[43m(\u001b[49m\u001b[38;5;28;43mself\u001b[39;49m\u001b[43m,\u001b[49m\u001b[43m \u001b[49m\u001b[38;5;241;43m*\u001b[39;49m\u001b[43margs\u001b[49m\u001b[43m,\u001b[49m\u001b[43m \u001b[49m\u001b[38;5;241;43m*\u001b[39;49m\u001b[38;5;241;43m*\u001b[39;49m\u001b[43mkwargs\u001b[49m\u001b[43m)\u001b[49m\n\u001b[1;32m    224\u001b[0m \u001b[38;5;28;01mexcept\u001b[39;00m \u001b[38;5;167;01mNotImplementedError\u001b[39;00m:\n\u001b[1;32m    225\u001b[0m     \u001b[38;5;66;03m# don't warn on NotImplementedErrors\u001b[39;00m\n\u001b[1;32m    226\u001b[0m     \u001b[38;5;28;01mreturn\u001b[39;00m \u001b[38;5;28mself\u001b[39m\u001b[38;5;241m.\u001b[39m_check_return(\u001b[38;5;28;01mNone\u001b[39;00m, args[\u001b[38;5;241m0\u001b[39m])\n",
      "File \u001b[0;32m~/Library/Python/3.9/lib/python/site-packages/IPython/core/formatters.py:344\u001b[0m, in \u001b[0;36mBaseFormatter.__call__\u001b[0;34m(self, obj)\u001b[0m\n\u001b[1;32m    342\u001b[0m     method \u001b[38;5;241m=\u001b[39m get_real_method(obj, \u001b[38;5;28mself\u001b[39m\u001b[38;5;241m.\u001b[39mprint_method)\n\u001b[1;32m    343\u001b[0m     \u001b[38;5;28;01mif\u001b[39;00m method \u001b[38;5;129;01mis\u001b[39;00m \u001b[38;5;129;01mnot\u001b[39;00m \u001b[38;5;28;01mNone\u001b[39;00m:\n\u001b[0;32m--> 344\u001b[0m         \u001b[38;5;28;01mreturn\u001b[39;00m \u001b[43mmethod\u001b[49m\u001b[43m(\u001b[49m\u001b[43m)\u001b[49m\n\u001b[1;32m    345\u001b[0m     \u001b[38;5;28;01mreturn\u001b[39;00m \u001b[38;5;28;01mNone\u001b[39;00m\n\u001b[1;32m    346\u001b[0m \u001b[38;5;28;01melse\u001b[39;00m:\n",
      "File \u001b[0;32m~/Library/Python/3.9/lib/python/site-packages/matplotlib/animation.py:1350\u001b[0m, in \u001b[0;36mAnimation._repr_html_\u001b[0;34m(self)\u001b[0m\n\u001b[1;32m   1348\u001b[0m     \u001b[38;5;28;01mreturn\u001b[39;00m \u001b[38;5;28mself\u001b[39m\u001b[38;5;241m.\u001b[39mto_html5_video()\n\u001b[1;32m   1349\u001b[0m \u001b[38;5;28;01melif\u001b[39;00m fmt \u001b[38;5;241m==\u001b[39m \u001b[38;5;124m'\u001b[39m\u001b[38;5;124mjshtml\u001b[39m\u001b[38;5;124m'\u001b[39m:\n\u001b[0;32m-> 1350\u001b[0m     \u001b[38;5;28;01mreturn\u001b[39;00m \u001b[38;5;28;43mself\u001b[39;49m\u001b[38;5;241;43m.\u001b[39;49m\u001b[43mto_jshtml\u001b[49m\u001b[43m(\u001b[49m\u001b[43m)\u001b[49m\n",
      "File \u001b[0;32m~/Library/Python/3.9/lib/python/site-packages/matplotlib/animation.py:1339\u001b[0m, in \u001b[0;36mAnimation.to_jshtml\u001b[0;34m(self, fps, embed_frames, default_mode)\u001b[0m\n\u001b[1;32m   1335\u001b[0m         path \u001b[38;5;241m=\u001b[39m Path(tmpdir, \u001b[38;5;124m\"\u001b[39m\u001b[38;5;124mtemp.html\u001b[39m\u001b[38;5;124m\"\u001b[39m)\n\u001b[1;32m   1336\u001b[0m         writer \u001b[38;5;241m=\u001b[39m HTMLWriter(fps\u001b[38;5;241m=\u001b[39mfps,\n\u001b[1;32m   1337\u001b[0m                             embed_frames\u001b[38;5;241m=\u001b[39membed_frames,\n\u001b[1;32m   1338\u001b[0m                             default_mode\u001b[38;5;241m=\u001b[39mdefault_mode)\n\u001b[0;32m-> 1339\u001b[0m         \u001b[38;5;28;43mself\u001b[39;49m\u001b[38;5;241;43m.\u001b[39;49m\u001b[43msave\u001b[49m\u001b[43m(\u001b[49m\u001b[38;5;28;43mstr\u001b[39;49m\u001b[43m(\u001b[49m\u001b[43mpath\u001b[49m\u001b[43m)\u001b[49m\u001b[43m,\u001b[49m\u001b[43m \u001b[49m\u001b[43mwriter\u001b[49m\u001b[38;5;241;43m=\u001b[39;49m\u001b[43mwriter\u001b[49m\u001b[43m)\u001b[49m\n\u001b[1;32m   1340\u001b[0m         \u001b[38;5;28mself\u001b[39m\u001b[38;5;241m.\u001b[39m_html_representation \u001b[38;5;241m=\u001b[39m path\u001b[38;5;241m.\u001b[39mread_text()\n\u001b[1;32m   1342\u001b[0m \u001b[38;5;28;01mreturn\u001b[39;00m \u001b[38;5;28mself\u001b[39m\u001b[38;5;241m.\u001b[39m_html_representation\n",
      "File \u001b[0;32m~/Library/Python/3.9/lib/python/site-packages/matplotlib/animation.py:1085\u001b[0m, in \u001b[0;36mAnimation.save\u001b[0;34m(self, filename, writer, fps, dpi, codec, bitrate, extra_args, metadata, extra_anim, savefig_kwargs, progress_callback)\u001b[0m\n\u001b[1;32m   1082\u001b[0m \u001b[38;5;28;01mfor\u001b[39;00m data \u001b[38;5;129;01min\u001b[39;00m \u001b[38;5;28mzip\u001b[39m(\u001b[38;5;241m*\u001b[39m[a\u001b[38;5;241m.\u001b[39mnew_saved_frame_seq() \u001b[38;5;28;01mfor\u001b[39;00m a \u001b[38;5;129;01min\u001b[39;00m all_anim]):\n\u001b[1;32m   1083\u001b[0m     \u001b[38;5;28;01mfor\u001b[39;00m anim, d \u001b[38;5;129;01min\u001b[39;00m \u001b[38;5;28mzip\u001b[39m(all_anim, data):\n\u001b[1;32m   1084\u001b[0m         \u001b[38;5;66;03m# TODO: See if turning off blit is really necessary\u001b[39;00m\n\u001b[0;32m-> 1085\u001b[0m         \u001b[43manim\u001b[49m\u001b[38;5;241;43m.\u001b[39;49m\u001b[43m_draw_next_frame\u001b[49m\u001b[43m(\u001b[49m\u001b[43md\u001b[49m\u001b[43m,\u001b[49m\u001b[43m \u001b[49m\u001b[43mblit\u001b[49m\u001b[38;5;241;43m=\u001b[39;49m\u001b[38;5;28;43;01mFalse\u001b[39;49;00m\u001b[43m)\u001b[49m\n\u001b[1;32m   1086\u001b[0m         \u001b[38;5;28;01mif\u001b[39;00m progress_callback \u001b[38;5;129;01mis\u001b[39;00m \u001b[38;5;129;01mnot\u001b[39;00m \u001b[38;5;28;01mNone\u001b[39;00m:\n\u001b[1;32m   1087\u001b[0m             progress_callback(frame_number, total_frames)\n",
      "File \u001b[0;32m~/Library/Python/3.9/lib/python/site-packages/matplotlib/animation.py:1121\u001b[0m, in \u001b[0;36mAnimation._draw_next_frame\u001b[0;34m(self, framedata, blit)\u001b[0m\n\u001b[1;32m   1119\u001b[0m \u001b[38;5;28mself\u001b[39m\u001b[38;5;241m.\u001b[39m_pre_draw(framedata, blit)\n\u001b[1;32m   1120\u001b[0m \u001b[38;5;28mself\u001b[39m\u001b[38;5;241m.\u001b[39m_draw_frame(framedata)\n\u001b[0;32m-> 1121\u001b[0m \u001b[38;5;28;43mself\u001b[39;49m\u001b[38;5;241;43m.\u001b[39;49m\u001b[43m_post_draw\u001b[49m\u001b[43m(\u001b[49m\u001b[43mframedata\u001b[49m\u001b[43m,\u001b[49m\u001b[43m \u001b[49m\u001b[43mblit\u001b[49m\u001b[43m)\u001b[49m\n",
      "File \u001b[0;32m~/Library/Python/3.9/lib/python/site-packages/matplotlib/animation.py:1146\u001b[0m, in \u001b[0;36mAnimation._post_draw\u001b[0;34m(self, framedata, blit)\u001b[0m\n\u001b[1;32m   1144\u001b[0m     \u001b[38;5;28mself\u001b[39m\u001b[38;5;241m.\u001b[39m_blit_draw(\u001b[38;5;28mself\u001b[39m\u001b[38;5;241m.\u001b[39m_drawn_artists)\n\u001b[1;32m   1145\u001b[0m \u001b[38;5;28;01melse\u001b[39;00m:\n\u001b[0;32m-> 1146\u001b[0m     \u001b[38;5;28;43mself\u001b[39;49m\u001b[38;5;241;43m.\u001b[39;49m\u001b[43m_fig\u001b[49m\u001b[38;5;241;43m.\u001b[39;49m\u001b[43mcanvas\u001b[49m\u001b[38;5;241;43m.\u001b[39;49m\u001b[43mdraw_idle\u001b[49m\u001b[43m(\u001b[49m\u001b[43m)\u001b[49m\n",
      "File \u001b[0;32m~/Library/Python/3.9/lib/python/site-packages/matplotlib/backend_bases.py:1905\u001b[0m, in \u001b[0;36mFigureCanvasBase.draw_idle\u001b[0;34m(self, *args, **kwargs)\u001b[0m\n\u001b[1;32m   1903\u001b[0m \u001b[38;5;28;01mif\u001b[39;00m \u001b[38;5;129;01mnot\u001b[39;00m \u001b[38;5;28mself\u001b[39m\u001b[38;5;241m.\u001b[39m_is_idle_drawing:\n\u001b[1;32m   1904\u001b[0m     \u001b[38;5;28;01mwith\u001b[39;00m \u001b[38;5;28mself\u001b[39m\u001b[38;5;241m.\u001b[39m_idle_draw_cntx():\n\u001b[0;32m-> 1905\u001b[0m         \u001b[38;5;28;43mself\u001b[39;49m\u001b[38;5;241;43m.\u001b[39;49m\u001b[43mdraw\u001b[49m\u001b[43m(\u001b[49m\u001b[38;5;241;43m*\u001b[39;49m\u001b[43margs\u001b[49m\u001b[43m,\u001b[49m\u001b[43m \u001b[49m\u001b[38;5;241;43m*\u001b[39;49m\u001b[38;5;241;43m*\u001b[39;49m\u001b[43mkwargs\u001b[49m\u001b[43m)\u001b[49m\n",
      "File \u001b[0;32m~/Library/Python/3.9/lib/python/site-packages/matplotlib/backends/backend_agg.py:387\u001b[0m, in \u001b[0;36mFigureCanvasAgg.draw\u001b[0;34m(self)\u001b[0m\n\u001b[1;32m    384\u001b[0m \u001b[38;5;66;03m# Acquire a lock on the shared font cache.\u001b[39;00m\n\u001b[1;32m    385\u001b[0m \u001b[38;5;28;01mwith\u001b[39;00m (\u001b[38;5;28mself\u001b[39m\u001b[38;5;241m.\u001b[39mtoolbar\u001b[38;5;241m.\u001b[39m_wait_cursor_for_draw_cm() \u001b[38;5;28;01mif\u001b[39;00m \u001b[38;5;28mself\u001b[39m\u001b[38;5;241m.\u001b[39mtoolbar\n\u001b[1;32m    386\u001b[0m       \u001b[38;5;28;01melse\u001b[39;00m nullcontext()):\n\u001b[0;32m--> 387\u001b[0m     \u001b[38;5;28;43mself\u001b[39;49m\u001b[38;5;241;43m.\u001b[39;49m\u001b[43mfigure\u001b[49m\u001b[38;5;241;43m.\u001b[39;49m\u001b[43mdraw\u001b[49m\u001b[43m(\u001b[49m\u001b[38;5;28;43mself\u001b[39;49m\u001b[38;5;241;43m.\u001b[39;49m\u001b[43mrenderer\u001b[49m\u001b[43m)\u001b[49m\n\u001b[1;32m    388\u001b[0m     \u001b[38;5;66;03m# A GUI class may be need to update a window using this draw, so\u001b[39;00m\n\u001b[1;32m    389\u001b[0m     \u001b[38;5;66;03m# don't forget to call the superclass.\u001b[39;00m\n\u001b[1;32m    390\u001b[0m     \u001b[38;5;28msuper\u001b[39m()\u001b[38;5;241m.\u001b[39mdraw()\n",
      "File \u001b[0;32m~/Library/Python/3.9/lib/python/site-packages/matplotlib/artist.py:95\u001b[0m, in \u001b[0;36m_finalize_rasterization.<locals>.draw_wrapper\u001b[0;34m(artist, renderer, *args, **kwargs)\u001b[0m\n\u001b[1;32m     93\u001b[0m \u001b[38;5;129m@wraps\u001b[39m(draw)\n\u001b[1;32m     94\u001b[0m \u001b[38;5;28;01mdef\u001b[39;00m\u001b[38;5;250m \u001b[39m\u001b[38;5;21mdraw_wrapper\u001b[39m(artist, renderer, \u001b[38;5;241m*\u001b[39margs, \u001b[38;5;241m*\u001b[39m\u001b[38;5;241m*\u001b[39mkwargs):\n\u001b[0;32m---> 95\u001b[0m     result \u001b[38;5;241m=\u001b[39m \u001b[43mdraw\u001b[49m\u001b[43m(\u001b[49m\u001b[43martist\u001b[49m\u001b[43m,\u001b[49m\u001b[43m \u001b[49m\u001b[43mrenderer\u001b[49m\u001b[43m,\u001b[49m\u001b[43m \u001b[49m\u001b[38;5;241;43m*\u001b[39;49m\u001b[43margs\u001b[49m\u001b[43m,\u001b[49m\u001b[43m \u001b[49m\u001b[38;5;241;43m*\u001b[39;49m\u001b[38;5;241;43m*\u001b[39;49m\u001b[43mkwargs\u001b[49m\u001b[43m)\u001b[49m\n\u001b[1;32m     96\u001b[0m     \u001b[38;5;28;01mif\u001b[39;00m renderer\u001b[38;5;241m.\u001b[39m_rasterizing:\n\u001b[1;32m     97\u001b[0m         renderer\u001b[38;5;241m.\u001b[39mstop_rasterizing()\n",
      "File \u001b[0;32m~/Library/Python/3.9/lib/python/site-packages/matplotlib/artist.py:72\u001b[0m, in \u001b[0;36mallow_rasterization.<locals>.draw_wrapper\u001b[0;34m(artist, renderer)\u001b[0m\n\u001b[1;32m     69\u001b[0m     \u001b[38;5;28;01mif\u001b[39;00m artist\u001b[38;5;241m.\u001b[39mget_agg_filter() \u001b[38;5;129;01mis\u001b[39;00m \u001b[38;5;129;01mnot\u001b[39;00m \u001b[38;5;28;01mNone\u001b[39;00m:\n\u001b[1;32m     70\u001b[0m         renderer\u001b[38;5;241m.\u001b[39mstart_filter()\n\u001b[0;32m---> 72\u001b[0m     \u001b[38;5;28;01mreturn\u001b[39;00m \u001b[43mdraw\u001b[49m\u001b[43m(\u001b[49m\u001b[43martist\u001b[49m\u001b[43m,\u001b[49m\u001b[43m \u001b[49m\u001b[43mrenderer\u001b[49m\u001b[43m)\u001b[49m\n\u001b[1;32m     73\u001b[0m \u001b[38;5;28;01mfinally\u001b[39;00m:\n\u001b[1;32m     74\u001b[0m     \u001b[38;5;28;01mif\u001b[39;00m artist\u001b[38;5;241m.\u001b[39mget_agg_filter() \u001b[38;5;129;01mis\u001b[39;00m \u001b[38;5;129;01mnot\u001b[39;00m \u001b[38;5;28;01mNone\u001b[39;00m:\n",
      "File \u001b[0;32m~/Library/Python/3.9/lib/python/site-packages/matplotlib/figure.py:3162\u001b[0m, in \u001b[0;36mFigure.draw\u001b[0;34m(self, renderer)\u001b[0m\n\u001b[1;32m   3159\u001b[0m             \u001b[38;5;66;03m# ValueError can occur when resizing a window.\u001b[39;00m\n\u001b[1;32m   3161\u001b[0m     \u001b[38;5;28mself\u001b[39m\u001b[38;5;241m.\u001b[39mpatch\u001b[38;5;241m.\u001b[39mdraw(renderer)\n\u001b[0;32m-> 3162\u001b[0m     \u001b[43mmimage\u001b[49m\u001b[38;5;241;43m.\u001b[39;49m\u001b[43m_draw_list_compositing_images\u001b[49m\u001b[43m(\u001b[49m\n\u001b[1;32m   3163\u001b[0m \u001b[43m        \u001b[49m\u001b[43mrenderer\u001b[49m\u001b[43m,\u001b[49m\u001b[43m \u001b[49m\u001b[38;5;28;43mself\u001b[39;49m\u001b[43m,\u001b[49m\u001b[43m \u001b[49m\u001b[43martists\u001b[49m\u001b[43m,\u001b[49m\u001b[43m \u001b[49m\u001b[38;5;28;43mself\u001b[39;49m\u001b[38;5;241;43m.\u001b[39;49m\u001b[43msuppressComposite\u001b[49m\u001b[43m)\u001b[49m\n\u001b[1;32m   3165\u001b[0m     renderer\u001b[38;5;241m.\u001b[39mclose_group(\u001b[38;5;124m'\u001b[39m\u001b[38;5;124mfigure\u001b[39m\u001b[38;5;124m'\u001b[39m)\n\u001b[1;32m   3166\u001b[0m \u001b[38;5;28;01mfinally\u001b[39;00m:\n",
      "File \u001b[0;32m~/Library/Python/3.9/lib/python/site-packages/matplotlib/image.py:132\u001b[0m, in \u001b[0;36m_draw_list_compositing_images\u001b[0;34m(renderer, parent, artists, suppress_composite)\u001b[0m\n\u001b[1;32m    130\u001b[0m \u001b[38;5;28;01mif\u001b[39;00m not_composite \u001b[38;5;129;01mor\u001b[39;00m \u001b[38;5;129;01mnot\u001b[39;00m has_images:\n\u001b[1;32m    131\u001b[0m     \u001b[38;5;28;01mfor\u001b[39;00m a \u001b[38;5;129;01min\u001b[39;00m artists:\n\u001b[0;32m--> 132\u001b[0m         \u001b[43ma\u001b[49m\u001b[38;5;241;43m.\u001b[39;49m\u001b[43mdraw\u001b[49m\u001b[43m(\u001b[49m\u001b[43mrenderer\u001b[49m\u001b[43m)\u001b[49m\n\u001b[1;32m    133\u001b[0m \u001b[38;5;28;01melse\u001b[39;00m:\n\u001b[1;32m    134\u001b[0m     \u001b[38;5;66;03m# Composite any adjacent images together\u001b[39;00m\n\u001b[1;32m    135\u001b[0m     image_group \u001b[38;5;241m=\u001b[39m []\n",
      "File \u001b[0;32m~/Library/Python/3.9/lib/python/site-packages/matplotlib/artist.py:72\u001b[0m, in \u001b[0;36mallow_rasterization.<locals>.draw_wrapper\u001b[0;34m(artist, renderer)\u001b[0m\n\u001b[1;32m     69\u001b[0m     \u001b[38;5;28;01mif\u001b[39;00m artist\u001b[38;5;241m.\u001b[39mget_agg_filter() \u001b[38;5;129;01mis\u001b[39;00m \u001b[38;5;129;01mnot\u001b[39;00m \u001b[38;5;28;01mNone\u001b[39;00m:\n\u001b[1;32m     70\u001b[0m         renderer\u001b[38;5;241m.\u001b[39mstart_filter()\n\u001b[0;32m---> 72\u001b[0m     \u001b[38;5;28;01mreturn\u001b[39;00m \u001b[43mdraw\u001b[49m\u001b[43m(\u001b[49m\u001b[43martist\u001b[49m\u001b[43m,\u001b[49m\u001b[43m \u001b[49m\u001b[43mrenderer\u001b[49m\u001b[43m)\u001b[49m\n\u001b[1;32m     73\u001b[0m \u001b[38;5;28;01mfinally\u001b[39;00m:\n\u001b[1;32m     74\u001b[0m     \u001b[38;5;28;01mif\u001b[39;00m artist\u001b[38;5;241m.\u001b[39mget_agg_filter() \u001b[38;5;129;01mis\u001b[39;00m \u001b[38;5;129;01mnot\u001b[39;00m \u001b[38;5;28;01mNone\u001b[39;00m:\n",
      "File \u001b[0;32m~/Library/Python/3.9/lib/python/site-packages/mpl_toolkits/mplot3d/axes3d.py:441\u001b[0m, in \u001b[0;36mAxes3D.draw\u001b[0;34m(self, renderer)\u001b[0m\n\u001b[1;32m    437\u001b[0m zorder_offset \u001b[38;5;241m=\u001b[39m \u001b[38;5;28mmax\u001b[39m(axis\u001b[38;5;241m.\u001b[39mget_zorder()\n\u001b[1;32m    438\u001b[0m                     \u001b[38;5;28;01mfor\u001b[39;00m axis \u001b[38;5;129;01min\u001b[39;00m \u001b[38;5;28mself\u001b[39m\u001b[38;5;241m.\u001b[39m_axis_map\u001b[38;5;241m.\u001b[39mvalues()) \u001b[38;5;241m+\u001b[39m \u001b[38;5;241m1\u001b[39m\n\u001b[1;32m    439\u001b[0m collection_zorder \u001b[38;5;241m=\u001b[39m patch_zorder \u001b[38;5;241m=\u001b[39m zorder_offset\n\u001b[0;32m--> 441\u001b[0m \u001b[38;5;28;01mfor\u001b[39;00m artist \u001b[38;5;129;01min\u001b[39;00m \u001b[38;5;28;43msorted\u001b[39;49m\u001b[43m(\u001b[49m\u001b[43mcollections_and_patches\u001b[49m\u001b[43m,\u001b[49m\n\u001b[1;32m    442\u001b[0m \u001b[43m                     \u001b[49m\u001b[43mkey\u001b[49m\u001b[38;5;241;43m=\u001b[39;49m\u001b[38;5;28;43;01mlambda\u001b[39;49;00m\u001b[43m \u001b[49m\u001b[43martist\u001b[49m\u001b[43m:\u001b[49m\u001b[43m \u001b[49m\u001b[43martist\u001b[49m\u001b[38;5;241;43m.\u001b[39;49m\u001b[43mdo_3d_projection\u001b[49m\u001b[43m(\u001b[49m\u001b[43m)\u001b[49m\u001b[43m,\u001b[49m\n\u001b[1;32m    443\u001b[0m \u001b[43m                     \u001b[49m\u001b[43mreverse\u001b[49m\u001b[38;5;241;43m=\u001b[39;49m\u001b[38;5;28;43;01mTrue\u001b[39;49;00m\u001b[43m)\u001b[49m:\n\u001b[1;32m    444\u001b[0m     \u001b[38;5;28;01mif\u001b[39;00m \u001b[38;5;28misinstance\u001b[39m(artist, mcoll\u001b[38;5;241m.\u001b[39mCollection):\n\u001b[1;32m    445\u001b[0m         artist\u001b[38;5;241m.\u001b[39mzorder \u001b[38;5;241m=\u001b[39m collection_zorder\n",
      "File \u001b[0;32m~/Library/Python/3.9/lib/python/site-packages/mpl_toolkits/mplot3d/axes3d.py:442\u001b[0m, in \u001b[0;36mAxes3D.draw.<locals>.<lambda>\u001b[0;34m(artist)\u001b[0m\n\u001b[1;32m    437\u001b[0m zorder_offset \u001b[38;5;241m=\u001b[39m \u001b[38;5;28mmax\u001b[39m(axis\u001b[38;5;241m.\u001b[39mget_zorder()\n\u001b[1;32m    438\u001b[0m                     \u001b[38;5;28;01mfor\u001b[39;00m axis \u001b[38;5;129;01min\u001b[39;00m \u001b[38;5;28mself\u001b[39m\u001b[38;5;241m.\u001b[39m_axis_map\u001b[38;5;241m.\u001b[39mvalues()) \u001b[38;5;241m+\u001b[39m \u001b[38;5;241m1\u001b[39m\n\u001b[1;32m    439\u001b[0m collection_zorder \u001b[38;5;241m=\u001b[39m patch_zorder \u001b[38;5;241m=\u001b[39m zorder_offset\n\u001b[1;32m    441\u001b[0m \u001b[38;5;28;01mfor\u001b[39;00m artist \u001b[38;5;129;01min\u001b[39;00m \u001b[38;5;28msorted\u001b[39m(collections_and_patches,\n\u001b[0;32m--> 442\u001b[0m                      key\u001b[38;5;241m=\u001b[39m\u001b[38;5;28;01mlambda\u001b[39;00m artist: \u001b[43martist\u001b[49m\u001b[38;5;241;43m.\u001b[39;49m\u001b[43mdo_3d_projection\u001b[49m\u001b[43m(\u001b[49m\u001b[43m)\u001b[49m,\n\u001b[1;32m    443\u001b[0m                      reverse\u001b[38;5;241m=\u001b[39m\u001b[38;5;28;01mTrue\u001b[39;00m):\n\u001b[1;32m    444\u001b[0m     \u001b[38;5;28;01mif\u001b[39;00m \u001b[38;5;28misinstance\u001b[39m(artist, mcoll\u001b[38;5;241m.\u001b[39mCollection):\n\u001b[1;32m    445\u001b[0m         artist\u001b[38;5;241m.\u001b[39mzorder \u001b[38;5;241m=\u001b[39m collection_zorder\n",
      "File \u001b[0;32m~/Library/Python/3.9/lib/python/site-packages/mpl_toolkits/mplot3d/art3d.py:1045\u001b[0m, in \u001b[0;36mPoly3DCollection.do_3d_projection\u001b[0;34m(self)\u001b[0m\n\u001b[1;32m   1037\u001b[0m \u001b[38;5;28;01mif\u001b[39;00m xyzlist:\n\u001b[1;32m   1038\u001b[0m     \u001b[38;5;66;03m# sort by depth (furthest drawn first)\u001b[39;00m\n\u001b[1;32m   1039\u001b[0m     z_segments_2d \u001b[38;5;241m=\u001b[39m \u001b[38;5;28msorted\u001b[39m(\n\u001b[1;32m   1040\u001b[0m         ((\u001b[38;5;28mself\u001b[39m\u001b[38;5;241m.\u001b[39m_zsortfunc(zs), np\u001b[38;5;241m.\u001b[39mcolumn_stack([xs, ys]), fc, ec, idx)\n\u001b[1;32m   1041\u001b[0m          \u001b[38;5;28;01mfor\u001b[39;00m idx, ((xs, ys, zs), fc, ec)\n\u001b[1;32m   1042\u001b[0m          \u001b[38;5;129;01min\u001b[39;00m \u001b[38;5;28menumerate\u001b[39m(\u001b[38;5;28mzip\u001b[39m(xyzlist, cface, cedge))),\n\u001b[1;32m   1043\u001b[0m         key\u001b[38;5;241m=\u001b[39m\u001b[38;5;28;01mlambda\u001b[39;00m x: x[\u001b[38;5;241m0\u001b[39m], reverse\u001b[38;5;241m=\u001b[39m\u001b[38;5;28;01mTrue\u001b[39;00m)\n\u001b[0;32m-> 1045\u001b[0m     _, segments_2d, \u001b[38;5;28mself\u001b[39m\u001b[38;5;241m.\u001b[39m_facecolors2d, \u001b[38;5;28mself\u001b[39m\u001b[38;5;241m.\u001b[39m_edgecolors2d, idxs \u001b[38;5;241m=\u001b[39m \\\n\u001b[1;32m   1046\u001b[0m         \u001b[38;5;28mzip\u001b[39m(\u001b[38;5;241m*\u001b[39mz_segments_2d)\n\u001b[1;32m   1047\u001b[0m \u001b[38;5;28;01melse\u001b[39;00m:\n\u001b[1;32m   1048\u001b[0m     segments_2d \u001b[38;5;241m=\u001b[39m []\n",
      "\u001b[0;31mKeyboardInterrupt\u001b[0m: "
     ]
    },
    {
     "data": {
      "image/png": "[encoded data removed]",
      "text/plain": [
       "<Figure size 640x480 with 1 Axes>"
      ]
     },
     "metadata": {},
     "output_type": "display_data"
    }
   ],
   "source": [
    "# Animation function\n",
    "def animate_robot(n, robot, stored_q, xd):\n",
    "    dof = robot.get_dim_configuration_space()\n",
    "\n",
    "    plt.cla()\n",
    "    plot(robot, q=stored_q[n])\n",
    "    plot(xd)\n",
    "    plt.xlabel('x [m]')\n",
    "    plt.xlim([-dof, dof])\n",
    "    plt.ylabel('y [m]')\n",
    "    plt.ylim([-dof, dof])\n",
    "    ax = plt.gca()\n",
    "    ax.axes.zaxis.set_ticklabels([])\n",
    "    plt.title(f'Translation control time={time} s out of {time_final} s')\n",
    "\n",
    "def setup_plot():\n",
    "    fig = plt.figure()\n",
    "    ax = plt.axes(projection='3d')\n",
    "    ax.set_proj_type('ortho')\n",
    "    ax.view_init(azim=0, elev=90) #https://stackoverflow.com/questions/33084853/set-matplotlib-view-to-be-normal-to-the-x-y-plane-in-python\n",
    "    return fig, ax\n",
    "\n",
    "fig, ax = setup_plot()\n",
    "anm.FuncAnimation(fig, \n",
    "                  partial(animate_robot, robot=seven_dof_planar_robot, stored_q=stored_q, xd = 1 + 0.5*E_*td), \n",
    "                  frames=len(stored_q))"
   ]
  },
  {
   "cell_type": "markdown",
   "metadata": {},
   "source": [
    "\n",
    "We can then verify that the joint limits have been kept.\n"
   ]
  },
  {
   "cell_type": "code",
   "execution_count": null,
   "metadata": {},
   "outputs": [
    {
     "data": {
      "image/png": "[encoded data removed]",
      "text/plain": [
       "<Figure size 640x480 with 7 Axes>"
      ]
     },
     "metadata": {},
     "output_type": "display_data"
    }
   ],
   "source": [
    "fig = plt.figure()\n",
    "for i in range(0, 7):\n",
    "    plt.subplot(3,3,i+1)\n",
    "    np_stored_q = np.array(stored_q)\n",
    "    plt.plot(np_stored_q[:,i])\n",
    "    plt.plot(np.ones(np_stored_q.shape[0]) * q_minus[i],'k')\n",
    "    plt.plot(np.ones(np_stored_q.shape[0]) * q_plus[i],'k')\n",
    "    plt.title(f'$q_{i}$')\n",
    "    plt.ylim([-1, 1])\n",
    "    plt.ylabel('[rad]')\n",
    "    plt.xlabel('Iteration')\n",
    "fig.tight_layout()"
   ]
  },
  {
   "cell_type": "markdown",
   "metadata": {},
   "source": [
    "\n",
    "Note that the robot was unable to reach the desired task-space translation due to the joint limits, as shown by the black lines representing the joint limits. This is exactly what we wanted: a controller that will get as close as possible to the target, while maintaning the robot's joint limits.\n",
    "\n",
    "## Vector-field inequalities: task-space collision avoidance\n",
    "\n",
    "We have just now seen how to use linear inequalities to prevent the robot from trespassing its joint limits. The joint limits are one of the few applications of joint-space constraints. In most cases, we are interested in having task-space constraints. That is, constraints that are definied at the task space. The difficulty in doing so is writting the task-space constraint as linear constraints in joint space.\n",
    "\n",
    "\n",
    "An effective way of doing so is called vector-field inequalities (VFIs), presented in detail in the following paper.\n",
    "\n",
    "\n",
    "[[1]](https://arxiv.org/ftp/arxiv/papers/1804/1804.11270.pdf) Marinho, M. M; Adorno, B. V; Harada, K.;  and Mitsuishi, M. Dynamic Active Constraints for Surgical Robots using Vector Field Inequalities. *IEEE Transactions on Robotics (T-RO)*, 35(5): 1166–1185. October 2019.\n",
    "\n",
    "\n",
    "The VFIs are described in detail in [[1]](https://arxiv.org/ftp/arxiv/papers/1804/1804.11270.pdf), so to simplify the discussion for this lesson, consider the (signed) distance $d\\triangleq d\\left(q\\right)\\in \\mathbb{R}$ to be the relation between some entity in the robot, such as a point, line, or plane, and another entity in the workspace.\n",
    "\n",
    "### Keeping the robot entity outside of a restricted zone\n",
    "\n",
    "Consider the situation of keeping the robot entity outside of a restricted zone. We define the distance error in such way that the distance error is positive whenever the robot is outside of the restricted zone, zero when at the border, and negative when inside the restricted zone. The distance error is then $\\tilde{d} \\triangleq d-d_{\\textrm{safe}}$ , where $d_{\\textrm{safe}} \\in \\mathbb{R}$ is the safe distance, that we suppose to be constant in time in this lesson.\n",
    "\n",
    "\n",
    "To obtain the general formulation of the VFIs, we start with the following task-space inequality, that will keep our robot outside of a restricted zone\n",
    "\n",
    "\n",
    "$$\\tilde{\\dot{d} } \\ge -\\eta_d \\tilde{d} ,$$\n",
    "\n",
    "where  $\\eta_d \\in {\\mathbb{R}}^+ -\\lbrace 0\\rbrace$ is a proportional gain. To be used in our QP, we need to re-write this as a joint-space linear constraint, which is what the VFI method does.\n",
    "\n",
    "\n",
    "The VFIs are then given by\n",
    "\n",
    "\n",
    "$$\\tilde{\\dot{d} } =\\dot{d} -{\\dot{d} }_{\\textrm{safe}} =\\dot{d} \\ge -\\eta_d \\tilde{d} .$$\n",
    "\n",
    "Given that the safe distance is constant in time. Now, notice that if the distance depends on the joint values, we can find a distace Jacobian such that the following holds\n",
    "\n",
    "\n",
    "$$\\dot{d} =J_d \\dot{q} ,$$\n",
    "\n",
    "where $J_d \\in {\\mathbb{R}}^{1\\times n}$ is the distance Jacobian for that specific pair of entities.\n",
    "\n",
    "\n",
    "The linear constraint for that pair of entities, with respect to the joint velocities, then becomes\n",
    "\n",
    "\n",
    "$$J_d \\dot{q} \\ge -\\eta_d \\tilde{d} .$$\n",
    "\n",
    "That constraint can be re-written to be compatible with our QP definition as\n",
    "\n",
    "\n",
    "$$-J_d \\dot{q} \\le \\eta_d \\tilde{d} .$$\n",
    "\n",
    "### Keeping the robot entity inside of a safe zone\n",
    "\n",
    "\n",
    "The reasoning is basically the same of the restricted zone case, but the distance error is redefined as $\\tilde{d} \\triangleq d_{\\textrm{safe}} -d$ . This causes the linear constraint to change to\n",
    "\n",
    "\n",
    "$$J_d \\dot{q} \\le \\eta_d \\tilde{d} .$$\n",
    "\n",
    "### Square distances instead of distances\n",
    "\n",
    "\n",
    "Calculating the distance Jacobians of the distance of some primitives introduces algorithmic singularities, as shown in [[2]](https://arxiv.org/pdf/1804.03883).  To handle that problem, we often calculate the Jacobian of the <u>***square***</u> distance instead [[1]](https://arxiv.org/ftp/arxiv/papers/1804/1804.11270.pdf). The notation for square distances is the upper-case letter $D$ .\n",
    "\n",
    "\n",
    "[[2]](https://arxiv.org/pdf/1804.03883) Marinho, M. M; Adorno, B. V; Harada, K.;  and Mitsuishi, M. Active Constraints using Vector Field Inequalities for Surgical Robots. In *2018 IEEE International Conference on Robotics and Automation (ICRA)*, pages 5364–5371, May 2018.\n",
    "\n",
    "\n",
    "### Distance Jacobians\n",
    "\n",
    "In lesson 4, we learned about distance functions using dual quaternions and in lesson 6 you learned how to calculate a few Jacobians. Using that knowledge, it is easy to calculate the distance Jacobians related to the distance functions.\n",
    "\n",
    "We will go through how to calculate all the distance Jacobians described in [[1]](https://arxiv.org/ftp/arxiv/papers/1804/1804.11270.pdf) using DQ Robotics, but we will skip most of the mathematical derivations because they are already described in detail in the paper.\n",
    "\n",
    "#### Preliminaries\n",
    "\n",
    "To calculate the distance Jacobian, the following two definitions are useful.\n",
    "\n",
    "\n",
    "First, the cross product between $a,b\\in {\\mathbb{H}}_p$ can be mapped into ${\\mathbb{R}}^4$ using the operator $\\bar{S} \\left(.\\right)$ , as follows [[1, Eq. (3)]](https://arxiv.org/ftp/arxiv/papers/1804/1804.11270.pdf)\n",
    "\n",
    "\n",
    " ${\\textrm{vec}}_4 \\left(a\\times b\\right)=\\bar{S} \\left(a\\right){\\textrm{vec}}_4 \\left(b\\right)=\\bar{S} {\\left(b\\right)}^T {\\textrm{vec}}_4 \\left(a\\right)$ ,\n",
    "\n",
    "\n",
    "Second, the time derivative of the squared norm of a time-varying quaternion $h\\left(t\\right)\\in {\\mathbb{H}}_p$ is given by [[1, Eq. (4)]](https://arxiv.org/ftp/arxiv/papers/1804/1804.11270.pdf)\n",
    "\n",
    "\n",
    "$$\\frac{d}{dt}\\left(||h||^2 \\right)=\\dot{h} h^* +h{\\dot{h} }^* =2<\\dot{h} ,h>.$$\n",
    "\n",
    "Two new task Jacobians are also needed. Similarly to how we obtained the translation, rotation, and pose Jacobians, we can also obtain the Jacobians related to lines and planes in the robot.\n",
    "\n",
    "#### Line Jacobian\n",
    "\n",
    "Suppose that we want the Jacobian related to line with direction $l_v \\in {\\mathbb{H}}_p \\cap {\\mathbb{S}}^3$ that passes through the end-effector. The line will be given by [[1, Eq. (24)]](https://arxiv.org/ftp/arxiv/papers/1804/1804.11270.pdf)\n",
    "\n",
    "\n",
    "$${<u>l</u> }_v \\triangleq {<u>l</u> }_v \\left(q\\right)=l_v +\\varepsilon m_v .$$\n",
    "\n",
    "Given our definition of line, we have the following [[1, Eq. (28)]](https://arxiv.org/ftp/arxiv/papers/1804/1804.11270.pdf)\n",
    "\n",
    "\n",
    "$${\\textrm{vec}}_8 {\\dot{\\underline{l} } }_v =J_{l_v } \\dot{q}.$$\n",
    "\n",
    "\n",
    "Using DQ Robotics, we can obtain the line Jacobian as follows\n"
   ]
  },
  {
   "cell_type": "code",
   "execution_count": null,
   "metadata": {},
   "outputs": [
    {
     "name": "stdout",
     "output_type": "stream",
     "text": [
      "Jlv = [[ 0.00000000e+00  0.00000000e+00  0.00000000e+00  0.00000000e+00\n",
      "   0.00000000e+00  0.00000000e+00  0.00000000e+00]\n",
      " [ 0.00000000e+00  0.00000000e+00  0.00000000e+00  0.00000000e+00\n",
      "   0.00000000e+00  0.00000000e+00  0.00000000e+00]\n",
      " [ 0.00000000e+00  0.00000000e+00  0.00000000e+00  0.00000000e+00\n",
      "   0.00000000e+00  0.00000000e+00  0.00000000e+00]\n",
      " [-1.20212828e-18 -1.20212828e-18 -4.14184853e-17  1.40926660e-17\n",
      "   1.40926660e-17 -2.61236910e-17 -6.63400480e-17]\n",
      " [ 0.00000000e+00  0.00000000e+00  0.00000000e+00  0.00000000e+00\n",
      "   0.00000000e+00  0.00000000e+00  0.00000000e+00]\n",
      " [ 7.45479631e-01 -1.81048005e-01 -8.97954928e-01 -1.29989544e+00\n",
      "  -1.32780652e+00 -9.77586757e-01 -4.86904393e-01]\n",
      " [ 5.67013315e+00  5.29390644e+00  4.59673754e+00  3.68107176e+00\n",
      "   2.68146135e+00  1.74479379e+00  8.73455272e-01]\n",
      " [ 0.00000000e+00  0.00000000e+00  0.00000000e+00  0.00000000e+00\n",
      "   0.00000000e+00  0.00000000e+00  0.00000000e+00]]\n"
     ]
    }
   ],
   "source": [
    "# Get robot's pose and pose Jacobian\n",
    "x = seven_dof_planar_robot.fkm(q)\n",
    "Jx = seven_dof_planar_robot.pose_jacobian(q)\n",
    "\n",
    "# Define the line direction\n",
    "lv = k_\n",
    "\n",
    "# Get the line Jacobian\n",
    "Jlv = DQ_Kinematics.line_jacobian(Jx, x, lv)\n",
    "\n",
    "print(f\"Jlv = {Jlv}\")"
   ]
  },
  {
   "cell_type": "markdown",
   "metadata": {},
   "source": [
    "\n",
    "where $J_{l_r } \\in {\\mathbb{R}}^{8\\times n}$ is the line Jacobian. It can be decomposed into\n",
    "\n",
    "\n",
    "$$J_{l_v } =\\left\\lbrack \\begin{array}{c} J_{r_v } \\\\ J_{m_v }  \\end{array}\\right\\rbrack ,$$\n",
    "\n",
    "where $J_{r_v } \\in {\\mathbb{R}}^{4\\times n}$ is composed of the first four rows of the line Jacobian, which are related to the direction of the line. In addition, $J_{m_v } \\in {\\mathbb{R}}^{4\\times n}$ is composed of the last four rows of the line Jacobian, which are related to the line moment.\n",
    "\n",
    "<a name=\"H_801E5F87\"></a>\n",
    "#### Plane Jacobian\n",
    "\n",
    "Lastly, the Jacobian related to the plane in the end-effector with normal $n_{\\pi_v } \\in {\\mathbb{H}}_p \\cap {\\mathbb{S}}^3$ will be given by\n",
    "\n",
    "\n",
    " ${\\textrm{vec}}_8 {\\dot{\\underline{{{\\pi }}} } }_v =J_{\\pi_v } \\dot{q}$ ,\n",
    "\n",
    "\n",
    "where\n",
    "\n",
    "\n",
    "$$J_{\\pi_v } =\\left\\lbrack \\begin{array}{c} J_{r_v } \\\\ J_{d_{\\pi_v } }  \\end{array}\\right\\rbrack ,$$\n",
    "\n",
    "where\n",
    "\n",
    "\n",
    "$$J_{d_{\\pi_v } } ={\\textrm{vec}}_4 {\\left(n_{\\pi_v } \\right)}^T J_t +{\\textrm{vec}}_4 {\\left(t\\right)}^T J_{r_v }$$"
   ]
  },
  {
   "cell_type": "code",
   "execution_count": null,
   "metadata": {},
   "outputs": [
    {
     "name": "stdout",
     "output_type": "stream",
     "text": [
      "Jpiv = [[ 0.00000000e+00  0.00000000e+00  0.00000000e+00  0.00000000e+00\n",
      "   0.00000000e+00  0.00000000e+00  0.00000000e+00]\n",
      " [ 0.00000000e+00  0.00000000e+00  0.00000000e+00  0.00000000e+00\n",
      "   0.00000000e+00  0.00000000e+00  0.00000000e+00]\n",
      " [ 0.00000000e+00  0.00000000e+00  0.00000000e+00  0.00000000e+00\n",
      "   0.00000000e+00  0.00000000e+00  0.00000000e+00]\n",
      " [-1.20212828e-18 -1.20212828e-18 -4.14184853e-17  1.40926660e-17\n",
      "   1.40926660e-17 -2.61236910e-17 -6.63400480e-17]\n",
      " [ 0.00000000e+00  0.00000000e+00  0.00000000e+00  0.00000000e+00\n",
      "   0.00000000e+00  0.00000000e+00  0.00000000e+00]\n",
      " [ 0.00000000e+00  0.00000000e+00  0.00000000e+00  0.00000000e+00\n",
      "   0.00000000e+00  0.00000000e+00  0.00000000e+00]\n",
      " [ 0.00000000e+00  0.00000000e+00  0.00000000e+00  0.00000000e+00\n",
      "   0.00000000e+00  0.00000000e+00  0.00000000e+00]\n",
      " [ 0.00000000e+00  0.00000000e+00  0.00000000e+00  0.00000000e+00\n",
      "   0.00000000e+00  0.00000000e+00  0.00000000e+00]]\n"
     ]
    }
   ],
   "source": [
    "# Get robot's pose and pose Jacobian\n",
    "x = seven_dof_planar_robot.fkm(q)\n",
    "Jx = seven_dof_planar_robot.pose_jacobian(q)\n",
    "\n",
    "# Define the line direction\n",
    "piv = k_\n",
    "\n",
    "# Get the line Jacobian\n",
    "Jpiv = DQ_Kinematics.plane_jacobian(Jx, x, piv)\n",
    "\n",
    "print(f\"Jpiv = {Jpiv}\")"
   ]
  },
  {
   "cell_type": "markdown",
   "metadata": {},
   "source": [
    "<a name=\"H_678ECE9D\"></a>\n",
    "#### Point-to-point distance Jacobian\n",
    "<a name=\"H_08C30C80\"></a>\n",
    "\n",
    "Let the translation of the robot's point entity be $t\\left(q\\right)\\triangleq t\\in {\\mathbb{H}}_p$ and the position of a point in the workspace be $p\\in {\\mathbb{H}}_p$ . The squared-distance between those two point is, as mentioned in lesson 4, is [[1, Eq. (21)]](https://arxiv.org/ftp/arxiv/papers/1804/1804.11270.pdf)\n",
    "\n",
    "\n",
    "$$D_{t,p} =\\left|\\right|\\mathit{\\mathbf{t}}-\\mathit{\\mathbf{p}}\\left|{\\left|\\right.}^2 \\ldotp \\right.$$\n",
    "\n",
    "The derivative of the squared-distance is, therefore [[1, Eq. (22)]](https://arxiv.org/ftp/arxiv/papers/1804/1804.11270.pdf)\n",
    "\n",
    "\n",
    "$${\\dot{\\;D} }_{t,p} =2{\\textrm{vec}}_4 {\\left(\\mathit{\\mathbf{t}}-\\mathit{\\mathbf{p}}\\right)}^T {\\textrm{vec}}_4 \\left(\\dot{\\;\\mathit{\\mathbf{t}}} \\right)\\ldotp$$\n",
    "\n",
    "This means that the point-to-point distance Jacobian is given by\n",
    "\n",
    "\n",
    "$${\\mathit{\\mathbf{J}}}_{t,p} =2{\\textrm{vec}}_4 {\\left(\\mathit{\\mathbf{t}}-\\mathit{\\mathbf{p}}\\right)}^T {\\mathit{\\mathbf{J}}}_t \\ldotp$$\n",
    "\n",
    "Using DQ Robotics, it can be calculated as\n"
   ]
  },
  {
   "cell_type": "code",
   "execution_count": null,
   "metadata": {},
   "outputs": [
    {
     "name": "stdout",
     "output_type": "stream",
     "text": [
      "Jp_p = [[ -2.98191852  -9.22193941 -13.44477671 -15.02990676 -13.74440306\n",
      "   -9.77716359  -4.87629414]]\n"
     ]
    }
   ],
   "source": [
    "# Point in the workspace\n",
    "p = 2 * j_\n",
    "\n",
    "# Get robot's pose and pose Jacobian\n",
    "x = seven_dof_planar_robot.fkm(q)\n",
    "Jx = seven_dof_planar_robot.pose_jacobian(q)\n",
    "\n",
    "# Get the robot's translation and translation Jacobian\n",
    "t = translation(x)\n",
    "Jt = DQ_Kinematics.translation_jacobian(Jx, x)\n",
    "\n",
    "# Get the distance Jacobian\n",
    "Jp_p = DQ_Kinematics.point_to_point_distance_jacobian(Jt, t, p)\n",
    "\n",
    "print(f\"Jp_p = {Jp_p}\")"
   ]
  },
  {
   "cell_type": "markdown",
   "metadata": {},
   "source": [
    "<a name=\"H_DDBF00C8\"></a>\n",
    "#### Point-to-line distance Jacobian\n",
    "\n",
    "Let $\\underline{l} \\in {\\mathcal{H}}_p \\cap \\underline{{\\mathcal{S}}}$ be a line entity in the workspace.  The square distance between a point entity in the robot and that line is [[1, Eq. (29)]](https://arxiv.org/ftp/arxiv/papers/1804/1804.11270.pdf)\n",
    "\n",
    "\n",
    "$$D_{t,l} =\\left|\\right|\\mathit{\\mathbf{t}}\\times \\mathit{\\mathbf{l}}-\\mathit{\\mathbf{m}}\\left|{\\left|\\right.}^2 \\ldotp \\right.$$\n",
    "\n",
    "The point-to-line distance Jacobian is, therefore [[1, Eq. (32)]](https://arxiv.org/ftp/arxiv/papers/1804/1804.11270.pdf)\n",
    "\n",
    "\n",
    "$${\\mathit{\\mathbf{J}}}_{t,l} =2{\\textrm{vec}}_4 {\\left(\\mathit{\\mathbf{t}}\\times \\mathit{\\mathbf{l}}-\\mathit{\\mathbf{m}}\\right)}^T \\bar{\\mathit{\\mathbf{S}}} {\\left(\\mathit{\\mathbf{l}}\\right)}^T {\\mathit{\\mathbf{J}}}_t \\ldotp$$\n",
    "\n",
    "Using DQ Robotics, it can be calculated as\n"
   ]
  },
  {
   "cell_type": "code",
   "execution_count": null,
   "metadata": {},
   "outputs": [
    {
     "name": "stdout",
     "output_type": "stream",
     "text": [
      "Jt_l = [[-8.45393754 -7.89299883 -6.85354842 -5.48832804 -3.99794964 -2.60141647\n",
      "  -1.30228623]]\n"
     ]
    }
   ],
   "source": [
    "# Line in the workspace\n",
    "l_dq = j_\n",
    "\n",
    "# Get robot's pose and pose Jacobian\n",
    "x = seven_dof_planar_robot.fkm(q)\n",
    "Jx = seven_dof_planar_robot.pose_jacobian(q)\n",
    "\n",
    "# Get the robot's translation and translation Jacobian\n",
    "t = translation(x)\n",
    "Jt = DQ_Kinematics.translation_jacobian(Jx, x)\n",
    "\n",
    "# Get the distance Jacobian\n",
    "Jt_l = DQ_Kinematics.point_to_line_distance_jacobian(Jt, t, l_dq)\n",
    "\n",
    "print(f\"Jt_l = {Jt_l}\")"
   ]
  },
  {
   "cell_type": "markdown",
   "metadata": {},
   "source": [
    "<a name=\"H_20D1E147\"></a>\n",
    "#### Line-to-point distance Jacobian\n",
    "\n",
    "Let ${\\underline{l} }_v \\left(q\\right)\\triangleq {\\underline{l} }_v \\in {\\mathcal{H}}_p \\cap \\underline{{\\mathcal{S}}}$ be a line entity related to the robot.  The square distance between that line and a point in the workspace is given by [[1, Eq. (33)]](https://arxiv.org/ftp/arxiv/papers/1804/1804.11270.pdf)\n",
    "\n",
    "\n",
    "$$D_{l_v ,p} =\\left|\\right|\\mathit{\\mathbf{p}}\\times {\\mathit{\\mathbf{l}}}_v -{\\mathit{\\mathbf{m}}}_v \\left|{\\left|\\right.}^2 \\right.$$\n",
    "\n",
    "The line-to-point distance Jacobian is a bit more involved, as described in [[1, Eq. (34)]](https://arxiv.org/ftp/arxiv/papers/1804/1804.11270.pdf).\n",
    "\n",
    "\n",
    "Using DQ Robotics, it can be calculated as\n"
   ]
  },
  {
   "cell_type": "code",
   "execution_count": null,
   "metadata": {},
   "outputs": [
    {
     "name": "stdout",
     "output_type": "stream",
     "text": [
      "Jlv_p = [[ -2.98191852  -9.22193941 -13.44477671 -15.02990676 -13.74440306\n",
      "   -9.77716359  -4.87629414]]\n"
     ]
    }
   ],
   "source": [
    "# Point in the workspace\n",
    "p = 2 * j_\n",
    "\n",
    "# Get robot's pose and pose Jacobian\n",
    "x = seven_dof_planar_robot.fkm(q)\n",
    "Jx = seven_dof_planar_robot.pose_jacobian(q)\n",
    "\n",
    "# Get the robot's translation and translation Jacobian\n",
    "t = translation(x)\n",
    "Jt = DQ_Kinematics.translation_jacobian(Jx, x)\n",
    "\n",
    "# Define the direction of the line passing through the end-effector and get\n",
    "# the line Jacobian\n",
    "lv = k_\n",
    "Jl = DQ_Kinematics.line_jacobian(Jx, x, lv)\n",
    "\n",
    "# Get the robot's rotation\n",
    "r = rotation(x)\n",
    "# Get the robot line\n",
    "lv_dq = Ad(r,lv) + E_*cross(t, Ad(r,lv))\n",
    "\n",
    "# Get the distance Jacobian\n",
    "Jlv_p = DQ_Kinematics.line_to_point_distance_jacobian(Jl, lv_dq, p)\n",
    "\n",
    "print(f\"Jlv_p = {Jlv_p}\")"
   ]
  },
  {
   "cell_type": "markdown",
   "metadata": {},
   "source": [
    "<a name=\"H_1E0F3D93\"></a>\n",
    "#### Line-to-line distance Jacobian\n",
    "\n",
    "Suppose that we want to calculate the Jacobian that relates the distance between a line entity in the robot, ${\\underline{l} }_v$ , and a line in the workspace $\\underline{l} .$ The mathematical derivation is described in detail in [[1, Eq. (48)]](https://arxiv.org/ftp/arxiv/papers/1804/1804.11270.pdf). To obtain the line-to-line distance Jacobian using DQ Robotics, we do\n"
   ]
  },
  {
   "cell_type": "code",
   "execution_count": null,
   "metadata": {},
   "outputs": [
    {
     "name": "stdout",
     "output_type": "stream",
     "text": [
      "Jlv_p = [[-8.45393754 -7.89299883 -6.85354842 -5.48832804 -3.99794964 -2.60141647\n",
      "  -1.30228623]]\n"
     ]
    }
   ],
   "source": [
    "# Line in the workspace\n",
    "l_dq = j_\n",
    "\n",
    "# Get robot's pose and pose Jacobian\n",
    "x = seven_dof_planar_robot.fkm(q)\n",
    "Jx = seven_dof_planar_robot.pose_jacobian(q)\n",
    "\n",
    "# Get the robot's translation and translation Jacobian\n",
    "t = translation(x)\n",
    "Jt = DQ_Kinematics.translation_jacobian(Jx, x)\n",
    "\n",
    "# Define the direction of the line passing through the end-effector and get\n",
    "# the line Jacobian\n",
    "lv_e = k_; # In the point-of-view of the end-effector\n",
    "Jl = DQ_Kinematics.line_jacobian(Jx, x, lv_e)\n",
    "\n",
    "# Get the robot's rotation\n",
    "r = rotation(x)\n",
    "# Get the robot line direction\n",
    "lv = Ad(r,lv) #  (in the point-of-view of the base)\n",
    "lv_dq = lv + E_*cross(t, lv); #  (in the point-of-view of the base)\n",
    "\n",
    "# Get the distance Jacobian\n",
    "Jlv_p = DQ_Kinematics.line_to_line_distance_jacobian(Jl, lv_dq, l_dq)\n",
    "\n",
    "print(f\"Jlv_p = {Jlv_p}\")"
   ]
  },
  {
   "cell_type": "markdown",
   "metadata": {},
   "source": [
    "<a name=\"H_DA7C4632\"></a>\n",
    "#### Point-to-plane distance Jacobian\n",
    "\n",
    "Let $\\underline{{{\\pi }}} \\in \\left\\lbrace P\\left(\\underline{{{\\pi }}} \\right)\\in {\\mathbb{H}}_p \\right\\rbrace \\cap \\underline{{\\mathcal{S}}}$ be a plane entity in the workspace. The signed distance between the robot's translation, $t$ , and the plane, in the point of view of the plane is given by  [[1, Eq. (57)]](https://arxiv.org/ftp/arxiv/papers/1804/1804.11270.pdf).\n",
    "\n",
    "\n",
    "$$d_{t,\\pi \\;}^{\\pi \\;} =<\\mathit{\\mathbf{t}},{\\mathit{\\mathbf{n}}}_{\\pi \\;} >-d_{\\pi \\;\\;}$$\n",
    "\n",
    "The point-to-plane distance Jacobian will therefore be given by [[1, Eq. (59)]](https://arxiv.org/ftp/arxiv/papers/1804/1804.11270.pdf)\n",
    "\n",
    "\n",
    "$$J_{t,\\pi } ={\\textrm{vec}}_4 {\\left(n_{\\pi } \\right)}^T J_t .$$\n",
    "\n",
    "Using DQ Robotics, it can be obtained as\n"
   ]
  },
  {
   "cell_type": "code",
   "execution_count": null,
   "metadata": {},
   "outputs": [
    {
     "name": "stdout",
     "output_type": "stream",
     "text": [
      "Jt_pi = [[-5.67013315 -5.29390644 -4.59673754 -3.68107176 -2.68146135 -1.74479379\n",
      "  -0.87345527]]\n"
     ]
    }
   ],
   "source": [
    "# Define the plane in the workspace\n",
    "pi_w = i_\n",
    "\n",
    "# Get robot's pose and pose Jacobian\n",
    "x = seven_dof_planar_robot.fkm(q)\n",
    "Jx = seven_dof_planar_robot.pose_jacobian(q)\n",
    "\n",
    "# Get the robot's translation and translation Jacobian\n",
    "t = translation(x)\n",
    "Jt = DQ_Kinematics.translation_jacobian(Jx, x)\n",
    "\n",
    "# Get the distance Jacobian\n",
    "Jt_pi = DQ_Kinematics.point_to_plane_distance_jacobian(Jt, t, pi_w)\n",
    "\n",
    "print(f\"Jt_pi = {Jt_pi}\")"
   ]
  },
  {
   "cell_type": "markdown",
   "metadata": {},
   "source": [
    "<a name=\"H_757ED165\"></a>\n",
    "#### Plane-to-point distance Jacobian\n",
    "\n",
    "Let ${\\underline{{{\\pi }}} }_v \\left(q\\right)\\triangleq {\\underline{{{\\pi }}} }_v \\in \\left\\lbrace P\\left({\\underline{{{\\pi }}} }_v \\right)\\in {\\mathbb{H}}_p \\right\\rbrace \\cap \\underline{{\\mathcal{S}}}$ be a plane entity in the robot. The signed distance between the robot's plane entity, ${\\underline{{{\\pi }}} }_v$ , and a point in the workspace, $p$ , in the point of view of the plane is given by  [[1, Eq. (57)]](https://arxiv.org/ftp/arxiv/papers/1804/1804.11270.pdf)\n",
    "\n",
    "\n",
    "$$d_{\\pi ,p\\;}^{\\pi \\;} =<\\mathit{\\mathbf{p}},{\\mathit{\\mathbf{n}}}_{\\pi_v \\;} >-d_{\\pi_{v\\ldotp } \\;\\;}$$\n",
    "\n",
    "The plane-to-point distance Jacobian will be given by\n",
    "\n",
    "\n",
    "$$J_{\\pi_v ,p} ={\\textrm{vec}}_4 {\\left(p\\right)}^T J_{r_v } -J_{d_{\\pi_v } } .$$\n",
    "\n",
    "Using DQ Robotics, it can be obtained as\n"
   ]
  },
  {
   "cell_type": "code",
   "execution_count": null,
   "metadata": {},
   "outputs": [
    {
     "name": "stdout",
     "output_type": "stream",
     "text": [
      "Jpi_p = [[-0.97380879  0.0186581   0.98429883  1.78121758  2.29231136  2.44247761\n",
      "   2.43814707]]\n"
     ]
    }
   ],
   "source": [
    "# Point in the workspace\n",
    "p = 2 * j_\n",
    "\n",
    "# Get robot's pose and pose Jacobian\n",
    "x = seven_dof_planar_robot.fkm(q)\n",
    "Jx = seven_dof_planar_robot.pose_jacobian(q)\n",
    "\n",
    "# Get the robot's translation and translation Jacobian\n",
    "t = translation(x)\n",
    "Jt = DQ_Kinematics.translation_jacobian(Jx, x)\n",
    "\n",
    "# Get the robot rotation (to calculate the plane)\n",
    "r = rotation(x)\n",
    "\n",
    "# Get the robot's plane\n",
    "n_pi_v_e = i_ # Plane's normal with respect to the end-effector\n",
    "Jpi = DQ_Kinematics.plane_jacobian(Jx, x, n_pi_v_e)\n",
    "\n",
    "# Get the distance Jacobian\n",
    "Jpi_p = DQ_Kinematics.plane_to_point_distance_jacobian(Jpi, p)\n",
    "\n",
    "print(f\"Jpi_p = {Jpi_p}\")"
   ]
  },
  {
   "cell_type": "markdown",
   "metadata": {},
   "source": [
    "<a name=\"H_895E4487\"></a>\n",
    "## Vector-field inequalities in action\n",
    "\n",
    "We saw how to calculate several types of distances and distance Jacobians. Now we need to put this knowledge to good use.\n",
    "\n",
    "<a name=\"H_8E230424\"></a>\n",
    "### Preventing collision with walls"
   ]
  },
  {
   "cell_type": "markdown",
   "metadata": {},
   "source": [
    "\n",
    "Suppose that there is one wall above and one wall below our 7-DoF planar robot and we want to prevent any collisions between the robot and those walls.\n",
    "\n",
    "\n",
    "The top wall is given by\n"
   ]
  },
  {
   "cell_type": "code",
   "execution_count": null,
   "metadata": {},
   "outputs": [],
   "source": [
    "pi_top = -j_ - E_ * 2"
   ]
  },
  {
   "cell_type": "markdown",
   "metadata": {},
   "source": [
    "\n",
    "and the bottom wall is given by\n"
   ]
  },
  {
   "cell_type": "code",
   "execution_count": null,
   "metadata": {},
   "outputs": [],
   "source": [
    "pi_bottom = j_ + -E_ * 2"
   ]
  },
  {
   "cell_type": "markdown",
   "metadata": {},
   "source": [
    "\n",
    "Note that the normal of those planes are pointing towards the robot. This is important because it means that the distance of any point of the robot will be positive with respect to those planes. <u>**Mistaking the direction of the planes's normal is a common error, so be careful**</u>.\n",
    "\n",
    "\n",
    "Let us plot the two walls.\n"
   ]
  },
  {
   "cell_type": "code",
   "execution_count": 78,
   "metadata": {},
   "outputs": [
    {
     "data": {
      "text/plain": [
       "Text(0.5, 0.92, 'Plane constraints')"
      ]
     },
     "execution_count": 78,
     "metadata": {},
     "output_type": "execute_result"
    },
    {
     "data": {
      "image/png": "[encoded data removed]",
      "text/plain": [
       "<Figure size 640x480 with 1 Axes>"
      ]
     },
     "metadata": {},
     "output_type": "display_data"
    }
   ],
   "source": [
    "fig = plt.figure()\n",
    "ax = plt.axes(projection='3d')\n",
    "plot(pi_top, plane=True, scale=14)\n",
    "plot(pi_bottom, plane=True, scale=14)\n",
    "plt.title('Plane constraints')"
   ]
  },
  {
   "cell_type": "markdown",
   "metadata": {},
   "source": [
    "\n",
    "To prevent the collision between the robot and those walls, one strategy is to create one point-to-plane constraint for each of the robot's joints with respect to those planes. This corresponds to a total of fourteen linear constraints.\n",
    "\n",
    "\n",
    "Using DQ Robotics, they can be implemented as follows.\n"
   ]
  },
  {
   "cell_type": "code",
   "execution_count": null,
   "metadata": {},
   "outputs": [],
   "source": [
    "# Define a list of planes\n",
    "plane_list = [pi_top, pi_bottom]\n",
    "\n",
    "# Define the robot\n",
    "seven_dof_planar_robot = SevenDofPlanarRobotDH.kinematics()\n",
    "\n",
    "# Solver definition\n",
    "qp_solver = DQ_QuadprogSolver()\n",
    "\n",
    "# Controller definition\n",
    "translation_controller = DQ_ClassicQPController(seven_dof_planar_robot, qp_solver)\n",
    "translation_controller.set_control_objective(ControlObjective.Translation)\n",
    "translation_controller.set_gain(10)\n",
    "translation_controller.set_damping(1)\n",
    "\n",
    "# VFI gain\n",
    "eta_d = 1\n",
    "\n",
    "# Desired translation (pure quaternion)\n",
    "td = 7 * j_\n",
    "# Sampling time [s]\n",
    "tau = 0.01\n",
    "# Simulation time [s]\n",
    "final_time = 4\n",
    "# Initial joint values [rad]\n",
    "q = 0.01 * np.ones(7)\n",
    "\n",
    "# Translation controller loop.\n",
    "for time in np.arange(0, time_final + tau,tau):\n",
    "\n",
    "    # The inequality matrix and vector\n",
    "    W = None\n",
    "    w = None\n",
    "    n = seven_dof_planar_robot.get_dim_configuration_space()\n",
    "\n",
    "    for joint_counter in range(0, n):\n",
    "\n",
    "        # Get the pose Jacobian and pose of the current joint\n",
    "        Jx = seven_dof_planar_robot.pose_jacobian(q, joint_counter)\n",
    "        x = seven_dof_planar_robot.fkm(q, joint_counter)\n",
    "\n",
    "        # Get the translation Jacobian and the translation of the current\n",
    "        # joint\n",
    "        Jt = DQ_Kinematics.translation_jacobian(Jx, x)\n",
    "        t = translation(x)\n",
    "\n",
    "        for plane_counter in range (0, len(plane_list)):\n",
    "\n",
    "            # Get the current plane\n",
    "            workspace_plane = plane_list[plane_counter]\n",
    "\n",
    "            # Calculate the point to plane distance Jacobian\n",
    "            # We have to augment the Jp_pi with zeros\n",
    "            Jp_pi = np.hstack((DQ_Kinematics.point_to_plane_distance_jacobian(Jt, t, workspace_plane), np.zeros((1, n-joint_counter-1))))\n",
    "\n",
    "            # Calculate the point to plane distance\n",
    "            dp_pi = DQ_Geometry.point_to_plane_distance(t, workspace_plane)\n",
    "\n",
    "            # Wq <= w\n",
    "            if W is None:\n",
    "                W = -Jp_pi\n",
    "            else:\n",
    "                W = np.vstack((W, -Jp_pi))\n",
    "            \n",
    "            if w is None:\n",
    "                w = np.array(eta_d * dp_pi)\n",
    "            else:\n",
    "                w = np.vstack((w, eta_d * dp_pi))\n",
    "\n",
    "\n",
    "    # Update the linear inequalities in the controller\n",
    "    translation_controller.set_inequality_constraint(W, w)\n",
    "\n",
    "    # Get the next control signal [rad/s]\n",
    "    u = translation_controller.compute_setpoint_control_signal(q, vec4(td))\n",
    "\n",
    "    # Move the robot\n",
    "    q = q + u * tau\n",
    "\n",
    "    # Plot\n",
    "    # Plot the robot\n",
    "    # plot(seven_dof_planar_robot,q);\n",
    "    # title(['Translation control' ' time = ' num2str(time) 's out of ' num2str(final_time) 's'])\n",
    "    # Plot the desired pose\n",
    "    # hold on\n",
    "    # plot3(td.q(2),td.q(3),td.q(4), 'ko');\n",
    "    # Plot the walls\n",
    "    # plot(pi_top, 'plane', 14);\n",
    "    # plot(pi_bottom, 'plane', 14);\n",
    "    # hold off\n",
    "    # [For animations only]\n",
    "    # drawnow limitrate % [For animations only] Ask MATLAB to draw the plot now"
   ]
  },
  {
   "cell_type": "markdown",
   "metadata": {},
   "source": [
    "<a name=\"H_D5D6F4BB\"></a>\n",
    "### Entry-sphere constraint"
   ]
  },
  {
   "cell_type": "markdown",
   "metadata": {},
   "source": [
    "\n",
    "A very common type of constraint in minimally invasive surgery is the entry-sphere constraint. Suppose there is an incision in the skin of the patient, positioned at\n"
   ]
  },
  {
   "cell_type": "code",
   "execution_count": null,
   "metadata": {},
   "outputs": [],
   "source": [
    "p = 5 * j_"
   ]
  },
  {
   "cell_type": "markdown",
   "metadata": {},
   "source": [
    "\n",
    "Let us define the sphere to have a radius of 0.25 m. That is, we choose\n"
   ]
  },
  {
   "cell_type": "code",
   "execution_count": null,
   "metadata": {},
   "outputs": [],
   "source": [
    "d_safe = 0.25"
   ]
  },
  {
   "cell_type": "markdown",
   "metadata": {},
   "source": [
    "\n",
    "Moreover, let us attach to our planar robot a 2-meter-long shaft whose axis is collinear with the $x-$ axis of the last link, as follows\n"
   ]
  },
  {
   "cell_type": "code",
   "execution_count": null,
   "metadata": {},
   "outputs": [],
   "source": [
    "# Define the initial joint configurations [rad]\n",
    "q = (pi / 8.) * np.ones(7)\n",
    "\n",
    "# Define the robot\n",
    "seven_dof_planar_robot = SevenDofPlanarRobotDH.kinematics()\n",
    "\n",
    "# Add the shaft\n",
    "seven_dof_planar_robot.set_effector(1 + 0.5 * E_ * (2 * i_))"
   ]
  },
  {
   "cell_type": "markdown",
   "metadata": {},
   "source": [
    "\n",
    "Let us control the robot to the following desired translation\n"
   ]
  },
  {
   "cell_type": "code",
   "execution_count": null,
   "metadata": {},
   "outputs": [],
   "source": [
    "# Desired translation\n",
    "td = -1 * i_ + 4 * j_"
   ]
  },
  {
   "cell_type": "markdown",
   "metadata": {},
   "source": [
    "\n",
    "In a way that the shaft never goes outside of the entry-sphere. Using DQ Robotics, this can be done as follows\n"
   ]
  },
  {
   "cell_type": "code",
   "execution_count": null,
   "metadata": {},
   "outputs": [],
   "source": [
    "# Solver definition\n",
    "qp_solver = DQ_QuadprogSolver()\n",
    "\n",
    "# Controller definition\n",
    "translation_controller = DQ_ClassicQPController(seven_dof_planar_robot, qp_solver)\n",
    "translation_controller.set_control_objective(ControlObjective.Translation)\n",
    "translation_controller.set_gain(10)\n",
    "translation_controller.set_damping(1)\n",
    "\n",
    "# VFI gain\n",
    "eta_d = 1\n",
    "\n",
    "# Sampling time [s]\n",
    "tau = 0.01\n",
    "# Simulation time [s]\n",
    "final_time = 4\n",
    "\n",
    "# Create a new figure\n",
    "# f = figure(1);\n",
    "# Translation controller loop.\n",
    "for time in np.arange(0, time_final + tau,tau):\n",
    "\n",
    "    # Get the pose Jacobian and the pose\n",
    "    Jx = seven_dof_planar_robot.pose_jacobian(q)\n",
    "    x = seven_dof_planar_robot.fkm(q)\n",
    "\n",
    "    # Get the line Jacobian for the x-axis\n",
    "    Jl = DQ_Kinematics.line_jacobian(Jx, x, i_)\n",
    "\n",
    "    # Get the line with respect to the base\n",
    "    t = translation(x)\n",
    "    r = rotation(x)\n",
    "    l = Ad(r, i_)\n",
    "    l_dq = l + E_ * cross(t, l)\n",
    "\n",
    "    # Get the line-to-point distance Jacobian\n",
    "    Jl_p = DQ_Kinematics.line_to_point_distance_jacobian(Jl, l_dq, p)\n",
    "\n",
    "    # Get the line-to-point square distance\n",
    "    Dl_p = DQ_Geometry.point_to_line_squared_distance(p, l_dq)\n",
    "\n",
    "    # Get the distance error\n",
    "    D_safe = d_safe ** 2\n",
    "    D_tilde = D_safe - Dl_p\n",
    "\n",
    "    # The inequality matrix and vector\n",
    "    W = np.array(Jl_p)\n",
    "    w = np.array([eta_d * D_tilde])\n",
    "\n",
    "    # Update the linear inequalities in the controller\n",
    "    translation_controller.set_inequality_constraint(W, w)\n",
    "\n",
    "    # Get the next control signal [rad/s]\n",
    "    u = translation_controller.compute_setpoint_control_signal(q, vec4(td))\n",
    "\n",
    "    # Move the robot\n",
    "    q = q + u * tau\n",
    "\n",
    "    # Clear plot\n",
    "    # plot(seven_dof_planar_robot, q)\n",
    "    # clf(f)\n",
    "    # Plot the robot\n",
    "    # plot(seven_dof_planar_robot, q)\n",
    "    # title(['Translation control' ' time = ' num2str(time) 's out of ' num2str(final_time) 's'])\n",
    "    # hold on\n",
    "    # Plot the desired pose\n",
    "    # hold on\n",
    "    # plot3(td.q(2),td.q(3),td.q(4), 'ko');\n",
    "    # Plot the shaft in blue\n",
    "    # t_1 = translation(seven_dof_planar_robot.raw_fkm(q));\n",
    "    # t_2 = translation(seven_dof_planar_robot.fkm(q));\n",
    "    # plot3([t_1.q(2) t_2.q(2)],[t_1.q(3) t_2.q(3)],[t_1.q(4) t_2.q(4)],'b','LineWidth',2)\n",
    "    # Plot the entry sphere\n",
    "    # plot3(p.q(2), p.q(3), p.q(4), 'ro', 'MarkerSize', 20)\n",
    "    # [For animations only]\n",
    "    # drawnow limitrate % [For animations only] Ask MATLAB to draw the plot now"
   ]
  },
  {
   "cell_type": "markdown",
   "metadata": {},
   "source": [
    "<a name=\"T_6E209DF5\"></a>\n",
    "# <span style=\"color:rgb(213,80,0)\">Homework</span>\n",
    "\n",
    "Create a class called `VS050RobotDH` that represents the Denso VS050 robot, whose DH parameters are described in the following table and is composed entirely of revolute joints. (Remember lesson 6)\n",
    "\n",
    "\n",
    "$$\\left\\lbrack \\begin{array}{cccc} \\theta  & d & a & \\alpha \\\\ -\\pi  & 0.345 & 0 & \\frac{\\pi }{2}\\\\ \\frac{\\pi }{2} & 0 & 0.25 & 0\\\\ -\\frac{\\pi }{2} & 0 & 0.01 & -\\frac{\\pi }{2}\\\\ 0 & 0.255 & 0 & \\frac{\\pi }{2}\\\\ \\pi  & 0 & 0 & \\frac{\\pi }{2}\\\\ 0 & 0.07 & 0 & 0 \\end{array}\\right\\rbrack$$\n",
    "\n",
    " **End-effector:** attach to the robot a 20cm-long-shaft along the $z-$ axis of the last joint.\n",
    "\n",
    "\n",
    " **Initial configuration:** $q(0)={\\left\\lbrack \\begin{array}{cccccc} 0 & \\frac{\\pi }{3} & \\frac{\\pi }{3} & 0 & \\frac{\\pi }{3} & 0 \\end{array}\\right\\rbrack }^T .$\n",
    "\n",
    "\n",
    "1) Create a file called [vs050_plane_constraints.m] and do the following:\n",
    "\n",
    "1.  Create a translation controller with $\\tau =0.01$ . Choose the other controller parameters so that the control is smooth (see this and prior lessons for examples).\n",
    "2. Create 6 planes centered around the point $p_1 =0.45\\hat{\\imath} +0.08\\hat{k}$ , so that all normals are pointed inwards, to make a 5cm cube. (remember lesson 4)\n",
    "3. During control, use point-to-plane VFIs to keep the tooltip always inside the cubic region.\n",
    "4. Move the end-effector, in order, to the following four desired positions $t_d =\\left\\lbrace 0.60\\hat{\\imath} +0.08\\hat{k} ,0.20\\hat{\\imath} +0.15\\hat{k} ,0.45\\hat{\\imath} +0.08\\hat{k} ,0.45\\hat{\\imath} +0.0\\hat{k} \\right\\rbrace$ , for 4 simulation-time seconds each.\n",
    "5. Plot the task error in one figure\n",
    "6. Plot the distance of the end-effector to all the six planes using subplots in another figure.\n",
    "\n",
    "2) Create a file called [vs050_entry_sphere_constraint.m] and do the following:\n",
    "\n",
    "1.  Create a translation controller with $\\tau =0.01$ . Choose the other controller parameters so that the control is smooth (see this and prior lessons for examples).\n",
    "2. Consider the entry-sphere to be centered at $p_2 =0.45\\hat{\\imath} +0.2\\hat{k}$ . Consider the entry sphere to have a radius of 5 mm.\n",
    "3. During control, use a line-to-point VFI to keep the shaft always inside the entry-sphere.\n",
    "4. Move the end-effector, in order, to the following four desired positions $t_d =\\left\\lbrace 0.45\\hat{\\imath} +0.03\\hat{k} ,0.48\\hat{\\imath} +0.03\\hat{k} ,0.41\\hat{\\imath} +0.03\\hat{k} ,0.40\\hat{\\imath} +0.01\\hat{k} \\right\\rbrace$ , for 4 simulation-time seconds each.\n",
    "5. Plot the task error in one figure\n",
    "6. Plot the distance of the shaft to the center of the entry-sphere in another figure.\n"
   ]
  }
 ],
 "metadata": {
  "kernelspec": {
   "display_name": "Python 3",
   "language": "python",
   "name": "python3"
  },
  "language_info": {
   "codemirror_mode": {
    "name": "ipython",
    "version": 3
   },
   "file_extension": ".py",
   "mimetype": "text/x-python",
   "name": "python",
   "nbconvert_exporter": "python",
   "pygments_lexer": "ipython3",
   "version": "3.9.6"
  }
 },
 "nbformat": 4,
 "nbformat_minor": 4
}
