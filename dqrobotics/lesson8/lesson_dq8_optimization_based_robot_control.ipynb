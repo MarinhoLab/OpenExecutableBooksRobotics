{
 "cells": [
  {
   "cell_type": "code",
   "execution_count": null,
   "metadata": {},
   "outputs": [],
   "source": [
    "%%capture\n",
    "'''\n",
    "(C) Copyright 2020-2025 Murilo Marques Marinho (murilomarinho@ieee.org)\n",
    "\n",
    "     This file is licensed in the terms of the\n",
    "     Attribution-NonCommercial-ShareAlike 4.0 International (CC BY-NC-SA 4.0)\n",
    "     license.\n",
    "\n",
    " Derivative work of:\n",
    " https://github.com/dqrobotics/learning-dqrobotics-in-matlab/tree/master/robotic_manipulators\n",
    " Contributors to this file:\n",
    "     Murilo Marques Marinho (murilomarinho@ieee.org)\n",
    "'''"
   ]
  },
  {
   "cell_type": "markdown",
   "metadata": {},
   "source": [
    "# Optimization-based Robot Control\n",
    "\n",
    "## Introduction\n",
    "\n",
    "In the last lesson, you learned the concept of task-space singularities and a particular way to address them.\n",
    "\n",
    "\n",
    "In this lesson, we will revisit the topic of robot control using quadratic optimiziation formalism.\n"
   ]
  },
  {
   "cell_type": "code",
   "execution_count": 2,
   "metadata": {},
   "outputs": [],
   "source": [
    "%% Include the DQ Robotics namespace. Probably a good idea to add to all scripts.\n",
    "include_namespace_dq"
   ]
  },
  {
   "cell_type": "markdown",
   "metadata": {},
   "source": [
    "<a name=\"H_D4ECB91A\"></a>\n",
    "## Notation\n",
    "\n",
    "Keep these in mind (we will also use this notation when writting papers to conferences and journals):\n",
    "\n",
    "-  $h\\in \\mathbb{H}$ : a quaternion. (Bold-face, lowercase character)\n",
    "-  $\\underline{h} \\in \\mathcal{H}$ : a dual quaternion. (Bold-face, underlined, lowercase character)\n",
    "-  $p,t,\\cdots \\in {\\mathbb{H}}_p$ : pure quaternions. They represent points, positions, and translations. They are quaternions for which $\\textrm{Re}\\left(h\\right)=0$ .\n",
    "-  $r\\in {\\mathbb{S}}^3$ : unit quaternions. They represent orientations and rotations. They are quaternions for which $||h||=1$ .\n",
    "-  $\\underline{x} \\in$ $\\underline{\\mathcal{S}}$ : unit dual quaternions. They represent poses and pose transformations. They are dual quaternions for which $||h||=1$ .\n",
    "-  $\\underline{l} \\in {\\mathcal{H}}_p \\cap$ $\\underline{{\\mathcal{S}}}$ : a Plücker line.\n",
    "-  $\\underline{{{\\pi }}} \\in \\left\\lbrace P\\left(\\underline{{{\\pi }}} \\right)\\in {\\mathbb{H}}_p \\right\\rbrace \\cap \\underline{{\\mathcal{S}}}$ : a plane.\n",
    "-  $\\theta ,a,b,\\cdots \\in \\mathbb{R}$ : real numbers.\n",
    "-  ${{q,\\cdots }}\\in {\\mathbb{R}}^n :$ real vectors.\n",
    "-  $J,A,B,\\cdots \\in {\\mathbb{R}}^{m\\times n} :$ real matrices.\n",
    "<a name=\"H_C7A69651\"></a>\n",
    "## Robot definition\n",
    "\n",
    "The concepts of this lesson apply to any manipulator robot. However, to have a more concrete understanding using DQ Robotics, consider the same robot as used in the past lesson.\n",
    "\n",
    "<p style=\"text-align:left\"><img src=\"data:image/png;base64,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\" width=\"419\" alt=\"image_0.png\"></p>\n",
    "\n",
    "\n",
    "1.  Let the robot $R$ be a 7-DoF planar robot, as drawn in Fig.1.\n",
    "2. Let ${\\mathcal{F}}_W$ be the world-reference frame.\n",
    "3. Let ${\\underline{x} }_R^W (t)\\triangleq {\\underline{x} }_R$ $\\in$ $\\underline{\\mathcal{S}}$ represent the pose of the *end effector*.\n",
    "4. Let $R$ be composed of seven rotational joints that rotate about their z-axis, composed in the joint-space vector $q\\left(t\\right)\\triangleq q={\\left\\lbrack \\theta_1 ~\\theta_2 ~\\theta_3 ~\\theta_4 ~\\theta_5 ~\\theta_6 ~\\theta_7 \\right\\rbrack }^T$ with $\\theta_i \\left(t\\right)\\triangleq \\theta_i \\in \\mathbb{R}$ for $i=1,2,\\ldots,7$ . The rotation of the reference frames of each joint coincide with the rotation of ${\\mathcal{F}}_W$ when $\\theta_i =0$ . The length of the joints are $l_i \\in$ ${\\mathbb{R}}^+ -\\lbrace 0\\rbrace$ .\n",
    "5. Consider that we can freely control the joint vector $q$ .\n",
    "\n",
    "This robot can be modeled by the following class.\n",
    "\n",
    "<pre>\n",
    "classdef SevenDofPlanarRobotDH\n",
    "    %SevenDofPlanarRobot class representing a 7-DoF planar robot\n",
    "\n",
    "    methods (Static)\n",
    "        function ret = kinematics()\n",
    "            %kinematics returns the kinematics of the SevenDofPlanarRobot as DQ_SerialManipulatorDH\n",
    "            DH_theta=  zeros(1,7);\n",
    "            DH_d =     zeros(1,7);\n",
    "            DH_a =     ones(1,7);\n",
    "            DH_alpha = zeros(1,7);\n",
    "            DH_type = repmat(DQ_SerialManipulatorDH.JOINT_ROTATIONAL,1,7);\n",
    "            DH_matrix = [DH_theta;\n",
    "                DH_d;\n",
    "                DH_a;\n",
    "                DH_alpha;\n",
    "                DH_type];\n",
    "\n",
    "            ret = DQ_SerialManipulatorDH(DH_matrix,'standard');\n",
    "            ret.name = \"7 DoF Planar Robot\";\n",
    "        end\n",
    "    end\n",
    "end\n",
    "</pre>\n",
    "<a name=\"H_AF95BEA1\"></a>\n",
    "\n",
    "Let us instantiate our robot as follows\n"
   ]
  },
  {
   "cell_type": "code",
   "execution_count": 3,
   "metadata": {},
   "outputs": [],
   "source": [
    "seven_dof_planar_robot = SevenDofPlanarRobotDH.kinematics();"
   ]
  },
  {
   "cell_type": "markdown",
   "metadata": {},
   "source": [
    "<a name=\"H_5AB990BD\"></a>\n",
    "## A brief review of quadratic optimization\n",
    "\n",
    "At some point in your education you might have been introduced to optimization problems. There are many types of optimization problems and in this lesson we will address only two types, which are enough to solve a large class of robot control problems.\n",
    "\n",
    "<a name=\"H_9713527E\"></a>\n",
    "### Unconstrained quadratic optimization\n",
    "\n",
    "The first type is called unconstrained quadratic optimization of type\n",
    "\n",
    "\n",
    "$$u\\in \\underset{\\dot{q} }{\\arg \\;\\min } ~~~\\mathcal{F}\\left(\\dot{q} \\right)$$\n",
    "\n",
    "where $\\mathcal{F}\\left(\\dot{q} \\right)\\in {\\mathbb{R}}^+$ is a quadratic *objective function* that depends on the current joint configuration. Note that it is called an *optimization problem*, and <u>**NOT**</u> an equation (note that there is no equality sign). In mathematical optimization terminology, $\\dot{q}$ is called the *decision variable*.\n",
    "\n",
    "\n",
    "You can read that as \"find all $\\dot{q}$ that minimize $\\mathcal{F}\\left(\\dot{q} \\right)$ and return one of them as $u$ \". The solution for an unconstrained quadratic optimization problem can, in general, be found analytically. In this lesson we will call that minimizer as $u$ .\n",
    "\n",
    "<a name=\"H_0D416C91\"></a>\n",
    "### Quadratic programming\n",
    "\n",
    "The second type of optimization problem that we will address is called quadratic programming (QP), which is a linearly-constrained quadratic optimization problem, in the form\n",
    "\n",
    "\n",
    "$$\\begin{array}{l} u\\in \\underset{\\dot{q} }{\\arg \\;\\min } ~~~\\mathcal{F}\\left(\\dot{q} \\right)\\\\ ~~~~\\textrm{subject}\\;\\textrm{to}~W\\dot{q} \\preceq w \\end{array}$$\n",
    "\n",
    "where $W\\in {\\mathbb{R}}^{n\\times p}$ and $w\\in {\\mathbb{R}}^p$ represent $p$ linear constraints related to the $n$ degrees-of-freedom of the robot. Note that we use $\\preceq$ and not $\\le$ because we are representing element-wise inequalities.\n",
    "\n",
    "\n",
    "You can read that QP as \"find all $\\dot{q}$ that minimize $\\mathcal{F}\\left(\\dot{q} \\right)$ , subject to $W\\dot{q}$ less or equal to $w$ , and return one of them as $u$ \". In general, numerical methods are required to obtain a solution for a QP. Similarly to the unconstrained case, in this lesson we will call that minimizer as $u$ .\n",
    "\n",
    "<a name=\"H_08B34616\"></a>\n",
    "## The damped pseudo-inverse as the solution of an unconstrained quadratic optimization problem\n",
    "\n",
    "In the last lesson, the meaning of the damping factor was introduced in the point-of-view of the SVD of the robot's task Jacobian.\n",
    "\n",
    "\n",
    "The damping factor can be trivially understood when we re-write the robot control problem in the following way\n",
    "\n",
    "\n",
    "$$u\\in \\underset{\\dot{q} }{\\arg \\;\\min } ~||J\\dot{q} +\\eta \\tilde{x} ||^2 +\\lambda^2 ||\\dot{q} ||^2$$\n",
    "\n",
    "where $J\\in {\\mathbb{R}}^{m\\times n}$ is the task Jacobian for an $n-$ DoF robot and an $m-$ DoF task. In addition, $\\eta \\in {\\mathbb{R}}^+ -\\lbrace 0\\rbrace$ is the proportional gain of the controller and $\\tilde{x} \\in {\\mathbb{R}}^m$ is the task error. Lastly, $\\lambda \\in \\mathbb{R}$ is the damping factor.\n",
    "\n",
    "\n",
    "Note that we are balancing two terms in the objective function. The first term, $||J\\dot{q} +\\eta \\tilde{x} ||^2$ , will be high when the task error is high and zero when the task error is zero. The second term, $\\lambda^2 ||\\dot{q} ||^2$ , will penalize high joint velocities depending on the size of the damping factor. As we saw in practice in the last lesson, the damping factor is used as a term to balance task error convergence and the norm of the joint velocities.\n",
    "\n",
    "\n",
    "Given that we have an unconstrained quadratic optimization problem which is, by definition, convex, the solution is straightforward. The optimum is where the first-order partial derivative of the objective function with respect to the decision variable equals to zero. Hence\n",
    "\n",
    "\n",
    "$$\\frac{\\partial }{\\partial \\dot{q} }\\left(||J\\dot{q} +\\eta \\tilde{x} ||^2 \\right)=0$$\n",
    "\n",
    "$$\\frac{\\partial }{\\partial \\dot{q} }\\left\\lbrack (J\\dot{q} +\\eta \\tilde{x} )^T (J\\dot{q} +\\eta \\tilde{x} )\\right\\rbrack =0$$\n",
    "\n",
    "$$\\frac{\\partial }{\\partial \\dot{q} }\\left({\\dot{q} }^T J^T J\\dot{q} +2{\\dot{q} }^T J^T \\tilde{x} +\\eta^2 {\\tilde{x} }^T \\tilde{x} +\\lambda^2 {\\dot{q} }^T \\dot{q} \\right)=0$$\n",
    "\n",
    "$$2J^T J\\dot{q} +2J^T \\tilde{x} +2\\lambda^2 \\dot{q} =0$$\n",
    "\n",
    "$$\\left(J^T J+\\lambda^2 I\\right)\\dot{q} =-J^T \\tilde{x}$$\n",
    "\n",
    "$$\\therefore u\\triangleq -{\\left(J^T J+\\lambda^2 I\\right)}^{-1} J^T \\tilde{x}$$\n",
    "\n",
    "Notice that this solution is <u>**exacly the same**</u> as the damped pseudo-inverse used in the last lesson.\n",
    "\n",
    "<a name=\"H_4526D828\"></a>\n",
    "## Joint limits\n",
    "\n",
    "Using unconstrained optimization to solve robot-control tasks is useful in some cases, but most tasks in practice have what we call *hard limits*. They are called that way in the sense that those limits are joint-space or task-space limits that cannot be trespassed. For instance, joint limits are a physical type of hard limit. The controller cannot command the robot to move over its joint limits.\n",
    "\n",
    "\n",
    "When performing kinematic control, the decision variable are the joint velocities and not the joint positions. Therefore, we need to write the joint limits as a linear inequality that depends on the joint velocities.\n",
    "\n",
    "\n",
    "Suppose that the lower joint limits are $q^- \\in {\\mathbb{R}}^n$ and the upper joint limits are $q^+ \\in {\\mathbb{R}}^n$ . The most common way of implementing joint limits using a QP is as follows\n",
    "\n",
    "\n",
    "$$\\begin{array}{l} u\\in \\underset{\\dot{q} }{\\arg \\;\\min } ~~~||J\\dot{q} +\\eta \\tilde{x} ||^2 +\\lambda^2 ||\\dot{q} ||^2 \\\\ ~~~~\\textrm{subject}\\;\\textrm{to}~W_{JL} \\dot{q} \\preceq w_{JL}  \\end{array}$$\n",
    "\n",
    "where\n",
    "\n",
    "\n",
    "$$W_{JL} =\\left\\lbrack \\begin{array}{c} -I\\\\ I \\end{array}\\right\\rbrack$$\n",
    "\n",
    "and\n",
    "\n",
    "\n",
    "$$w_{JL} =\\left\\lbrack \\begin{array}{c} -\\eta_{JL} \\left(q^- -q\\right)\\\\ \\eta_{JL} \\left(q^+ -q\\right) \\end{array}\\right\\rbrack .$$\n",
    "\n",
    "where $\\eta_{JL} \\in {\\mathbb{R}}^+ -\\lbrace 0\\rbrace$ is a configurable gain. In general, we choose $\\eta_{JL} =1$ .\n",
    "\n",
    "\n",
    "The main idea behind this constraint is to constrain the velocity of the joint in the direction of the joint limit.\n",
    "\n",
    "<a name=\"H_D7DA56B6\"></a>\n",
    "### DQ Robotics Example\n",
    "<a name=\"H_1685ACD0\"></a>\n",
    "\n",
    "To solve QPs as described in this lesson using DQ Robotics, use the following class\n"
   ]
  },
  {
   "cell_type": "code",
   "execution_count": 4,
   "metadata": {},
   "outputs": [
    {
     "data": {
      "text/plain": [
       "  Abstract class that defines a control law based on quadratic programming.\n",
       " \n",
       "  DQ_ClassicQPController Methods:\n",
       "    compute_objective_function_symmetric_matrix - compute the matrix H used in the objective function qdot'*H*qdot + f'*qdot\n",
       "    compute_objective_function_linear_component - compute the vector f used in the objective function qdot'*H*qdot + f'*qdot\n",
       " \n",
       "  For more methods and properties, see also DQ_KinematicController.\n",
       "    Documentation for DQ_ClassicQPController"
      ]
     },
     "execution_count": 4,
     "metadata": {},
     "output_type": "execute_result"
    }
   ],
   "source": [
    "help DQ_ClassicQPController"
   ]
  },
  {
   "cell_type": "markdown",
   "metadata": {},
   "source": [
    "\n",
    "To solve a QP, you have to choose the numerical solver that will be used by the controller. MATLAB has a solver in its optimization toolbox called \"quadprog\". To use it, first instantiate the robot and the solver\n"
   ]
  },
  {
   "cell_type": "code",
   "execution_count": 5,
   "metadata": {},
   "outputs": [
    {
     "data": {
      "text/plain": [
       "Unable to resolve the name 'SevenDofPlanarRobotDH.kinematics'."
      ]
     },
     "execution_count": 5,
     "metadata": {},
     "output_type": "execute_result"
    }
   ],
   "source": [
    "clear all;\n",
    "close all;\n",
    "include_namespace_dq;\n",
    "\n",
    "% Define the robot\n",
    "seven_dof_planar_robot = SevenDofPlanarRobotDH.kinematics();"
   ]
  },
  {
   "cell_type": "code",
   "execution_count": 6,
   "metadata": {},
   "outputs": [],
   "source": [
    "\n",
    "% Robot definition\n",
    "seven_dof_planar_robot = SevenDofPlanarRobotDH.kinematics();\n",
    "% Solver definition\n",
    "qp_solver = DQ_QuadprogSolver();"
   ]
  },
  {
   "cell_type": "markdown",
   "metadata": {},
   "source": [
    "\n",
    "and then instantiate the controller and set the control objective, the gain, and the damping factor\n"
   ]
  },
  {
   "cell_type": "code",
   "execution_count": 7,
   "metadata": {},
   "outputs": [],
   "source": [
    "% Controller definition\n",
    "translation_controller = DQ_ClassicQPController(seven_dof_planar_robot, qp_solver);\n",
    "translation_controller.set_control_objective(ControlObjective.Translation);\n",
    "translation_controller.set_gain(10);\n",
    "translation_controller.set_damping(1);"
   ]
  },
  {
   "cell_type": "markdown",
   "metadata": {},
   "source": [
    "\n",
    "Let us define the following joint limits\n"
   ]
  },
  {
   "cell_type": "code",
   "execution_count": 8,
   "metadata": {},
   "outputs": [],
   "source": [
    "% Joint limits\n",
    "q_minus = -(pi/8)*ones(7,1);\n",
    "q_plus  = (pi/8)*ones(7,1);"
   ]
  },
  {
   "cell_type": "markdown",
   "metadata": {},
   "source": [
    "\n",
    "We define the other control-related variables as in the last lesson.\n"
   ]
  },
  {
   "cell_type": "code",
   "execution_count": 9,
   "metadata": {},
   "outputs": [],
   "source": [
    "% Desired translation (pure quaternion)\n",
    "td = 7*j_;\n",
    "% Sampling time [s]\n",
    "tau = 0.01;\n",
    "% Simulation time [s]\n",
    "final_time = 4;\n",
    "% Initial joint values [rad]\n",
    "q = zeros(7,1);\n",
    "% Store the joint values\n",
    "stored_q = [];\n",
    "\n",
    "% Translation controller loop.\n",
    "for time=0:tau:final_time\n"
   ]
  },
  {
   "cell_type": "markdown",
   "metadata": {},
   "source": [
    "\n",
    "The linear inequalities depend on the current joint values so we calculate them inside the control loop.\n"
   ]
  },
  {
   "cell_type": "code",
   "execution_count": 10,
   "metadata": {},
   "outputs": [],
   "source": [
    "    % Define the linear inequality matrix and the linear inequality vector\n",
    "    Wjl = [-eye(7); eye(7)];\n",
    "    wjl = [-1*(q_minus-q); 1*(q_plus-q)];\n"
   ]
  },
  {
   "cell_type": "markdown",
   "metadata": {},
   "source": [
    "\n",
    "We then add them to the controller using the following method\n"
   ]
  },
  {
   "cell_type": "code",
   "execution_count": 11,
   "metadata": {},
   "outputs": [],
   "source": [
    "    % Update the linear inequalities in the controller\n",
    "    translation_controller.set_inequality_constraint(Wjl, wjl);\n"
   ]
  },
  {
   "cell_type": "markdown",
   "metadata": {},
   "source": [
    "\n",
    "The rest of the control loop is unchanged with respect to prior lessons.\n"
   ]
  },
  {
   "cell_type": "code",
   "execution_count": 12,
   "metadata": {},
   "outputs": [],
   "source": [
    "    % Get the next control signal [rad/s]\n",
    "    u = translation_controller.compute_setpoint_control_signal(q,vec4(td));\n",
    "\n",
    "    % Move the robot\n",
    "    q = q + u*tau;\n",
    "\n",
    "    % Store data\n",
    "    stored_q = [stored_q q];\n",
    "\n",
    "    % Plot\n",
    "    % Plot the robot\n",
    "    plot(seven_dof_planar_robot,q);\n",
    "    title(['Translation control' ' time = ' num2str(time) 's out of ' num2str(final_time) 's'])\n",
    "    % Plot the desired pose\n",
    "    hold on\n",
    "    plot3(td.q(2),td.q(3),td.q(4), 'ko');\n",
    "    hold off\n",
    "    % [For animations only]\n",
    "    drawnow limitrate % [For animations only] Ask MATLAB to draw the plot now\n",
    "end\n"
   ]
  },
  {
   "cell_type": "markdown",
   "metadata": {},
   "source": [
    "\n",
    "We can then verify that the joint limits have been kept.\n"
   ]
  },
  {
   "cell_type": "code",
   "execution_count": 13,
   "metadata": {},
   "outputs": [],
   "source": [
    "for i=1:7\n",
    "    subplot(3,3,i)\n",
    "    plot(stored_q(i,:))\n",
    "    hold on\n",
    "    plot(repmat(q_minus(i),1,size(stored_q,2)),'k')\n",
    "    plot(repmat(q_plus(i),1,size(stored_q,2)),'k')\n",
    "    title(['q_{' num2str(i) '}'])\n",
    "    ylim([-1 1])\n",
    "    box off\n",
    "    ylabel('[rad]')\n",
    "    xlabel('Iteration')\n",
    "end"
   ]
  },
  {
   "cell_type": "markdown",
   "metadata": {},
   "source": [
    "\n",
    "Note that the robot was unable to reach the desired task-space translation due to the joint limits, as shown by the black lines representing the joint limits. This is exactly what we wanted: a controller that will get as close as possible to the target, while maintaning the robot's joint limits.\n",
    "\n",
    "<a name=\"H_4A689E93\"></a>\n",
    "## Vector-field inequalities: task-space collision avoidance\n",
    "\n",
    "We have just now seen how to use linear inequalities to prevent the robot from trespassing its joint limits. The joint limits are one of the few applications of joint-space constraints. In most cases, we are interested in having task-space constraints. That is, constraints that are definied at the task space. The difficulty in doing so is writting the task-space constraint as linear constraints in joint space.\n",
    "\n",
    "\n",
    "An effective way of doing so is called vector-field inequalities (VFIs), presented in detail in the following paper.\n",
    "\n",
    "\n",
    "[[1]](https://arxiv.org/ftp/arxiv/papers/1804/1804.11270.pdf) Marinho, M. M; Adorno, B. V; Harada, K.;  and Mitsuishi, M. Dynamic Active Constraints for Surgical Robots using Vector Field Inequalities. *IEEE Transactions on Robotics (T-RO)*, 35(5): 1166–1185. October 2019.\n",
    "\n",
    "\n",
    "The VFIs are described in detail in [[1]](https://arxiv.org/ftp/arxiv/papers/1804/1804.11270.pdf), so to simplify the discussion for this lesson, consider the (signed) distance $d\\triangleq d\\left(q\\right)\\in \\mathbb{R}$ to be the relation between some entity in the robot, such as a point, line, or plane, and another entity in the workspace.\n",
    "\n",
    "<a name=\"H_6C97B200\"></a>\n",
    "### Keeping the robot entity outside of a restricted zone\n",
    "\n",
    "Consider the situation of keeping the robot entity outside of a restricted zone. We define the distance error in such way that the distance error is positive whenever the robot is outside of the restricted zone, zero when at the border, and negative when inside the restricted zone. The distance error is then $\\tilde{d} \\triangleq d-d_{\\textrm{safe}}$ , where $d_{\\textrm{safe}} \\in \\mathbb{R}$ is the safe distance, that we suppose to be constant in time in this lesson.\n",
    "\n",
    "\n",
    "To obtain the general formulation of the VFIs, we start with the following task-space inequality, that will keep our robot outside of a restricted zone\n",
    "\n",
    "\n",
    "$$\\tilde{\\dot{d} } \\ge -\\eta_d \\tilde{d} ,$$\n",
    "\n",
    "where  $\\eta_d \\in {\\mathbb{R}}^+ -\\lbrace 0\\rbrace$ is a proportional gain. To be used in our QP, we need to re-write this as a joint-space linear constraint, which is what the VFI method does.\n",
    "\n",
    "\n",
    "The VFIs are then given by\n",
    "\n",
    "\n",
    "$$\\tilde{\\dot{d} } =\\dot{d} -{\\dot{d} }_{\\textrm{safe}} =\\dot{d} \\ge -\\eta_d \\tilde{d} .$$\n",
    "\n",
    "Given that the safe distance is constant in time. Now, notice that if the distance depends on the joint values, we can find a distace Jacobian such that the following holds\n",
    "\n",
    "\n",
    "$$\\dot{d} =J_d \\dot{q} ,$$\n",
    "\n",
    "where $J_d \\in {\\mathbb{R}}^{1\\times n}$ is the distance Jacobian for that specific pair of entities.\n",
    "\n",
    "\n",
    "The linear constraint for that pair of entities, with respect to the joint velocities, then becomes\n",
    "\n",
    "\n",
    "$$J_d \\dot{q} \\ge -\\eta_d \\tilde{d} .$$\n",
    "\n",
    "That constraint can be re-written to be compatible with our QP definition as\n",
    "\n",
    "\n",
    "$$-J_d \\dot{q} \\le \\eta_d \\tilde{d} .$$\n",
    "<a name=\"H_B67D71BB\"></a>\n",
    "### Keeping the robot entity inside of a safe zone\n",
    "<a name=\"H_5C1C0505\"></a>\n",
    "\n",
    "The reasoning is basically the same of the restricted zone case, but the distance error is redefined as $\\tilde{d} \\triangleq d_{\\textrm{safe}} -d$ . This causes the linear constraint to change to\n",
    "\n",
    "\n",
    "$$J_d \\dot{q} \\le \\eta_d \\tilde{d} .$$\n",
    "<a name=\"H_B29A4585\"></a>\n",
    "### Square distances instead of distances\n",
    "<a name=\"H_1955BD55\"></a>\n",
    "\n",
    "Calculating the distance Jacobians of the distance of some primitives introduces algorithmic singularities, as shown in [[2]](https://arxiv.org/pdf/1804.03883).  To handle that problem, we often calculate the Jacobian of the <u>***square***</u> distance instead [[1]](https://arxiv.org/ftp/arxiv/papers/1804/1804.11270.pdf). The notation for square distances is the upper-case letter $D$ .\n",
    "\n",
    "\n",
    "[[2]](https://arxiv.org/pdf/1804.03883) Marinho, M. M; Adorno, B. V; Harada, K.;  and Mitsuishi, M. Active Constraints using Vector Field Inequalities for Surgical Robots. In *2018 IEEE International Conference on Robotics and Automation (ICRA)*, pages 5364–5371, May 2018.\n",
    "\n",
    "<a name=\"H_32955C9F\"></a>\n",
    "### Distance Jacobians\n",
    "\n",
    "In lesson 4, we learned about distance functions using dual quaternions and in lesson 6 you learned how to calculate a few Jacobians. Using that knowledge, it is easy to calculate the distance Jacobians related to the distance functions.\n",
    "\n",
    "<a name=\"H_4F9EEBA8\"></a>\n",
    "\n",
    "We will go through how to calculate all the distance Jacobians described in [[1]](https://arxiv.org/ftp/arxiv/papers/1804/1804.11270.pdf) using DQ Robotics, but we will skip most of the mathematical derivations because they are already described in detail in the paper.\n",
    "\n",
    "<a name=\"H_FB89938D\"></a>\n",
    "#### Preliminaries\n",
    "\n",
    "To calculate the distance Jacobian, the following two definitions are useful.\n",
    "\n",
    "\n",
    "First, the cross product between $a,b\\in {\\mathbb{H}}_p$ can be mapped into ${\\mathbb{R}}^4$ using the operator $\\bar{S} \\left(.\\right)$ , as follows [[1, Eq. (3)]](https://arxiv.org/ftp/arxiv/papers/1804/1804.11270.pdf)\n",
    "\n",
    "\n",
    " ${\\textrm{vec}}_4 \\left(a\\times b\\right)=\\bar{S} \\left(a\\right){\\textrm{vec}}_4 \\left(b\\right)=\\bar{S} {\\left(b\\right)}^T {\\textrm{vec}}_4 \\left(a\\right)$ ,\n",
    "\n",
    "\n",
    "Second, the time derivative of the squared norm of a time-varying quaternion $h\\left(t\\right)\\in {\\mathbb{H}}_p$ is given by [[1, Eq. (4)]](https://arxiv.org/ftp/arxiv/papers/1804/1804.11270.pdf)\n",
    "\n",
    "\n",
    "$$\\frac{d}{dt}\\left(||h||^2 \\right)=\\dot{h} h^* +h{\\dot{h} }^* =2<\\dot{h} ,h>.$$\n",
    "\n",
    "Two new task Jacobians are also needed. Similarly to how we obtained the translation, rotation, and pose Jacobians, we can also obtain the Jacobians related to lines and planes in the robot.\n",
    "\n",
    "<a name=\"H_685CD1F0\"></a>\n",
    "#### Line Jacobian\n",
    "\n",
    "Suppose that we want the Jacobian related to line with direction $l_v \\in {\\mathbb{H}}_p \\cap {\\mathbb{S}}^3$ that passes through the end-effector. The line will be given by [[1, Eq. (24)]](https://arxiv.org/ftp/arxiv/papers/1804/1804.11270.pdf)\n",
    "\n",
    "\n",
    "$${<u>l</u> }_v \\triangleq {<u>l</u> }_v \\left(q\\right)=l_v +\\varepsilon m_v .$$\n",
    "\n",
    "Given our definition of line, we have the following [[1, Eq. (28)]](https://arxiv.org/ftp/arxiv/papers/1804/1804.11270.pdf)\n",
    "\n",
    "\n",
    " ${\\textrm{vec}}_8 {\\dot{\\underline{l} } }_v =J_{l_v } \\dot{q}$ ,\n",
    "\n",
    "\n",
    "Using DQ Robotics, we can obtain the line Jacobian as follows\n"
   ]
  },
  {
   "cell_type": "code",
   "execution_count": 14,
   "metadata": {},
   "outputs": [
    {
     "data": {
      "text/plain": [
       "Jlv = 8x7    \n",
       "         0         0         0         0         0         0         0\n",
       "         0         0         0         0         0         0         0\n",
       "         0         0         0         0         0         0         0\n",
       "   -0.0000   -0.0000   -0.0000    0.0000   -0.0000   -0.0000   -0.0000\n",
       "         0         0         0         0         0         0         0\n",
       "    0.7455   -0.1810   -0.8980   -1.2999   -1.3278   -0.9776   -0.4869\n",
       "    5.6701    5.2939    4.5967    3.6811    2.6815    1.7448    0.8735\n",
       "         0         0         0         0         0         0         0"
      ]
     },
     "execution_count": 14,
     "metadata": {},
     "output_type": "execute_result"
    }
   ],
   "source": [
    "% Get robot's pose and pose Jacobian\n",
    "x = seven_dof_planar_robot.fkm(q);\n",
    "Jx = seven_dof_planar_robot.pose_jacobian(q);\n",
    "\n",
    "% Define the line direction\n",
    "lv = k_;\n",
    "\n",
    "% Get the line Jacobian\n",
    "Jlv = DQ_Kinematics.line_jacobian(Jx, x, lv)"
   ]
  },
  {
   "cell_type": "markdown",
   "metadata": {},
   "source": [
    "\n",
    "where $J_{l_r } \\in {\\mathbb{R}}^{8\\times n}$ is the line Jacobian. It can be decomposed into\n",
    "\n",
    "\n",
    "$$J_{l_v } =\\left\\lbrack \\begin{array}{c} J_{r_v } \\\\ J_{m_v }  \\end{array}\\right\\rbrack ,$$\n",
    "\n",
    "where $J_{r_v } \\in {\\mathbb{R}}^{4\\times n}$ is composed of the first four rows of the line Jacobian, which are related to the direction of the line. In addition, $J_{m_v } \\in {\\mathbb{R}}^{4\\times n}$ is composed of the last four rows of the line Jacobian, which are related to the line moment.\n",
    "\n",
    "<a name=\"H_801E5F87\"></a>\n",
    "#### Plane Jacobian\n",
    "\n",
    "Lastly, the Jacobian related to the plane in the end-effector with normal $n_{\\pi_v } \\in {\\mathbb{H}}_p \\cap {\\mathbb{S}}^3$ will be given by\n",
    "\n",
    "\n",
    " ${\\textrm{vec}}_8 {\\dot{\\underline{{{\\pi }}} } }_v =J_{\\pi_v } \\dot{q}$ ,\n",
    "\n",
    "\n",
    "where\n",
    "\n",
    "\n",
    "$$J_{\\pi_v } =\\left\\lbrack \\begin{array}{c} J_{r_v } \\\\ J_{d_{\\pi_v } }  \\end{array}\\right\\rbrack ,$$\n",
    "\n",
    "where\n",
    "\n",
    "\n",
    "$$J_{d_{\\pi_v } } ={\\textrm{vec}}_4 {\\left(n_{\\pi_v } \\right)}^T J_t +{\\textrm{vec}}_4 {\\left(t\\right)}^T J_{r_v }$$"
   ]
  },
  {
   "cell_type": "code",
   "execution_count": 15,
   "metadata": {},
   "outputs": [
    {
     "data": {
      "text/plain": [
       "Jpiv = 8x7    \n",
       "1.0e-16 *\n",
       "         0         0         0         0         0         0         0\n",
       "         0         0         0         0         0         0         0\n",
       "         0         0         0         0         0         0         0\n",
       "   -0.0983   -0.5004   -0.5004    0.0547   -0.3475   -0.3475   -0.3475\n",
       "         0         0         0         0         0         0         0\n",
       "         0         0         0         0         0         0         0\n",
       "         0         0         0         0         0         0         0\n",
       "         0         0         0         0         0         0         0"
      ]
     },
     "execution_count": 15,
     "metadata": {},
     "output_type": "execute_result"
    }
   ],
   "source": [
    "% Get robot's pose and pose Jacobian\n",
    "x = seven_dof_planar_robot.fkm(q);\n",
    "Jx = seven_dof_planar_robot.pose_jacobian(q);\n",
    "\n",
    "% Define the line direction\n",
    "piv = k_;\n",
    "\n",
    "% Get the line Jacobian\n",
    "Jpiv = DQ_Kinematics.plane_jacobian(Jx, x, piv)"
   ]
  },
  {
   "cell_type": "markdown",
   "metadata": {},
   "source": [
    "<a name=\"H_678ECE9D\"></a>\n",
    "#### Point-to-point distance Jacobian\n",
    "<a name=\"H_08C30C80\"></a>\n",
    "\n",
    "Let the translation of the robot's point entity be $t\\left(q\\right)\\triangleq t\\in {\\mathbb{H}}_p$ and the position of a point in the workspace be $p\\in {\\mathbb{H}}_p$ . The squared-distance between those two point is, as mentioned in lesson 4, is [[1, Eq. (21)]](https://arxiv.org/ftp/arxiv/papers/1804/1804.11270.pdf)\n",
    "\n",
    "\n",
    "$$D_{t,p} =\\left|\\right|\\mathit{\\mathbf{t}}-\\mathit{\\mathbf{p}}\\left|{\\left|\\right.}^2 \\ldotp \\right.$$\n",
    "\n",
    "The derivative of the squared-distance is, therefore [[1, Eq. (22)]](https://arxiv.org/ftp/arxiv/papers/1804/1804.11270.pdf)\n",
    "\n",
    "\n",
    "$${\\dot{\\;D} }_{t,p} =2{\\textrm{vec}}_4 {\\left(\\mathit{\\mathbf{t}}-\\mathit{\\mathbf{p}}\\right)}^T {\\textrm{vec}}_4 \\left(\\dot{\\;\\mathit{\\mathbf{t}}} \\right)\\ldotp$$\n",
    "\n",
    "This means that the point-to-point distance Jacobian is given by\n",
    "\n",
    "\n",
    "$${\\mathit{\\mathbf{J}}}_{t,p} =2{\\textrm{vec}}_4 {\\left(\\mathit{\\mathbf{t}}-\\mathit{\\mathbf{p}}\\right)}^T {\\mathit{\\mathbf{J}}}_t \\ldotp$$\n",
    "\n",
    "Using DQ Robotics, it can be calculated as\n"
   ]
  },
  {
   "cell_type": "code",
   "execution_count": 16,
   "metadata": {},
   "outputs": [
    {
     "data": {
      "text/plain": [
       "Jp_p = 1x7    \n",
       "   -2.9819   -9.2219  -13.4448  -15.0299  -13.7444   -9.7772   -4.8763"
      ]
     },
     "execution_count": 16,
     "metadata": {},
     "output_type": "execute_result"
    }
   ],
   "source": [
    "% Point in the workspace\n",
    "p = 2*j_;\n",
    "\n",
    "% Get robot's pose and pose Jacobian\n",
    "x = seven_dof_planar_robot.fkm(q);\n",
    "Jx = seven_dof_planar_robot.pose_jacobian(q);\n",
    "\n",
    "% Get the robot's translation and translation Jacobian\n",
    "t = translation(x);\n",
    "Jt = DQ_Kinematics.translation_jacobian(Jx, x);\n",
    "\n",
    "% Get the distance Jacobian\n",
    "Jp_p = DQ_Kinematics.point_to_point_distance_jacobian(Jt, t, p)"
   ]
  },
  {
   "cell_type": "markdown",
   "metadata": {},
   "source": [
    "<a name=\"H_DDBF00C8\"></a>\n",
    "#### Point-to-line distance Jacobian\n",
    "\n",
    "Let $\\underline{l} \\in {\\mathcal{H}}_p \\cap \\underline{{\\mathcal{S}}}$ be a line entity in the workspace.  The square distance between a point entity in the robot and that line is [[1, Eq. (29)]](https://arxiv.org/ftp/arxiv/papers/1804/1804.11270.pdf)\n",
    "\n",
    "\n",
    "$$D_{t,l} =\\left|\\right|\\mathit{\\mathbf{t}}\\times \\mathit{\\mathbf{l}}-\\mathit{\\mathbf{m}}\\left|{\\left|\\right.}^2 \\ldotp \\right.$$\n",
    "\n",
    "The point-to-line distance Jacobian is, therefore [[1, Eq. (32)]](https://arxiv.org/ftp/arxiv/papers/1804/1804.11270.pdf)\n",
    "\n",
    "\n",
    "$${\\mathit{\\mathbf{J}}}_{t,l} =2{\\textrm{vec}}_4 {\\left(\\mathit{\\mathbf{t}}\\times \\mathit{\\mathbf{l}}-\\mathit{\\mathbf{m}}\\right)}^T \\bar{\\mathit{\\mathbf{S}}} {\\left(\\mathit{\\mathbf{l}}\\right)}^T {\\mathit{\\mathbf{J}}}_t \\ldotp$$\n",
    "\n",
    "Using DQ Robotics, it can be calculated as\n"
   ]
  },
  {
   "cell_type": "code",
   "execution_count": 17,
   "metadata": {},
   "outputs": [
    {
     "data": {
      "text/plain": [
       "Jt_l = 1x7    \n",
       "   -8.4539   -7.8930   -6.8535   -5.4883   -3.9979   -2.6014   -1.3023"
      ]
     },
     "execution_count": 17,
     "metadata": {},
     "output_type": "execute_result"
    }
   ],
   "source": [
    "% Line in the workspace\n",
    "l_dq = j_;\n",
    "\n",
    "% Get robot's pose and pose Jacobian\n",
    "x = seven_dof_planar_robot.fkm(q);\n",
    "Jx = seven_dof_planar_robot.pose_jacobian(q);\n",
    "\n",
    "% Get the robot's translation and translation Jacobian\n",
    "t = translation(x);\n",
    "Jt = DQ_Kinematics.translation_jacobian(Jx, x);\n",
    "\n",
    "% Get the distance Jacobian\n",
    "Jt_l = DQ_Kinematics.point_to_line_distance_jacobian(Jt, t, l_dq)"
   ]
  },
  {
   "cell_type": "markdown",
   "metadata": {},
   "source": [
    "<a name=\"H_20D1E147\"></a>\n",
    "#### Line-to-point distance Jacobian\n",
    "\n",
    "Let ${\\underline{l} }_v \\left(q\\right)\\triangleq {\\underline{l} }_v \\in {\\mathcal{H}}_p \\cap \\underline{{\\mathcal{S}}}$ be a line entity related to the robot.  The square distance between that line and a point in the workspace is given by [[1, Eq. (33)]](https://arxiv.org/ftp/arxiv/papers/1804/1804.11270.pdf)\n",
    "\n",
    "\n",
    "$$D_{l_v ,p} =\\left|\\right|\\mathit{\\mathbf{p}}\\times {\\mathit{\\mathbf{l}}}_v -{\\mathit{\\mathbf{m}}}_v \\left|{\\left|\\right.}^2 \\right.$$\n",
    "\n",
    "The line-to-point distance Jacobian is a bit more involved, as described in [[1, Eq. (34)]](https://arxiv.org/ftp/arxiv/papers/1804/1804.11270.pdf).\n",
    "\n",
    "\n",
    "Using DQ Robotics, it can be calculated as\n"
   ]
  },
  {
   "cell_type": "code",
   "execution_count": 18,
   "metadata": {},
   "outputs": [
    {
     "data": {
      "text/plain": [
       "Jlv_p = 1x7    \n",
       "   -2.9819   -9.2219  -13.4448  -15.0299  -13.7444   -9.7772   -4.8763"
      ]
     },
     "execution_count": 18,
     "metadata": {},
     "output_type": "execute_result"
    }
   ],
   "source": [
    "% Point in the workspace\n",
    "p = 2*j_;\n",
    "\n",
    "% Get robot's pose and pose Jacobian\n",
    "x = seven_dof_planar_robot.fkm(q);\n",
    "Jx = seven_dof_planar_robot.pose_jacobian(q);\n",
    "\n",
    "% Get the robot's translation and translation Jacobian\n",
    "t = translation(x);\n",
    "Jt = DQ_Kinematics.translation_jacobian(Jx, x);\n",
    "\n",
    "% Define the direction of the line passing through the end-effector and get\n",
    "% the line Jacobian\n",
    "lv = k_;\n",
    "Jl = DQ_Kinematics.line_jacobian(Jx, x, lv);\n",
    "\n",
    "% Get the robot's rotation\n",
    "r = rotation(x);\n",
    "% Get the robot line\n",
    "lv_dq = Ad(r,lv) + E_*cross(t, Ad(r,lv));\n",
    "\n",
    "% Get the distance Jacobian\n",
    "Jlv_p = DQ_Kinematics.line_to_point_distance_jacobian(Jl, lv_dq, p)"
   ]
  },
  {
   "cell_type": "markdown",
   "metadata": {},
   "source": [
    "<a name=\"H_1E0F3D93\"></a>\n",
    "#### Line-to-line distance Jacobian\n",
    "\n",
    "Suppose that we want to calculate the Jacobian that relates the distance between a line entity in the robot, ${\\underline{l} }_v$ , and a line in the workspace $\\underline{l} .$ The mathematical derivation is described in detail in [[1, Eq. (48)]](https://arxiv.org/ftp/arxiv/papers/1804/1804.11270.pdf). To obtain the line-to-line distance Jacobian using DQ Robotics, we do\n"
   ]
  },
  {
   "cell_type": "code",
   "execution_count": 19,
   "metadata": {},
   "outputs": [
    {
     "data": {
      "text/plain": [
       "Jlv_p = 1x7    \n",
       "   -8.4539   -7.8930   -6.8535   -5.4883   -3.9979   -2.6014   -1.3023"
      ]
     },
     "execution_count": 19,
     "metadata": {},
     "output_type": "execute_result"
    }
   ],
   "source": [
    "% Line in the workspace\n",
    "l_dq = j_;\n",
    "\n",
    "% Get robot's pose and pose Jacobian\n",
    "x = seven_dof_planar_robot.fkm(q);\n",
    "Jx = seven_dof_planar_robot.pose_jacobian(q);\n",
    "\n",
    "% Get the robot's translation and translation Jacobian\n",
    "t = translation(x);\n",
    "Jt = DQ_Kinematics.translation_jacobian(Jx, x);\n",
    "\n",
    "% Define the direction of the line passing through the end-effector and get\n",
    "% the line Jacobian\n",
    "lv_e = k_; % In the point-of-view of the end-effector\n",
    "Jl = DQ_Kinematics.line_jacobian(Jx, x, lv_e);\n",
    "\n",
    "% Get the robot's rotation\n",
    "r = rotation(x);\n",
    "% Get the robot line direction\n",
    "lv = Ad(r,lv); %  (in the point-of-view of the base)\n",
    "lv_dq = lv + E_*cross(t, lv); %  (in the point-of-view of the base)\n",
    "\n",
    "% Get the distance Jacobian\n",
    "Jlv_p = DQ_Kinematics.line_to_line_distance_jacobian(Jl, lv_dq, l_dq)"
   ]
  },
  {
   "cell_type": "markdown",
   "metadata": {},
   "source": [
    "<a name=\"H_DA7C4632\"></a>\n",
    "#### Point-to-plane distance Jacobian\n",
    "\n",
    "Let $\\underline{{{\\pi }}} \\in \\left\\lbrace P\\left(\\underline{{{\\pi }}} \\right)\\in {\\mathbb{H}}_p \\right\\rbrace \\cap \\underline{{\\mathcal{S}}}$ be a plane entity in the workspace. The signed distance between the robot's translation, $t$ , and the plane, in the point of view of the plane is given by  [[1, Eq. (57)]](https://arxiv.org/ftp/arxiv/papers/1804/1804.11270.pdf).\n",
    "\n",
    "\n",
    "$$d_{t,\\pi \\;}^{\\pi \\;} =<\\mathit{\\mathbf{t}},{\\mathit{\\mathbf{n}}}_{\\pi \\;} >-d_{\\pi \\;\\;}$$\n",
    "\n",
    "The point-to-plane distance Jacobian will therefore be given by [[1, Eq. (59)]](https://arxiv.org/ftp/arxiv/papers/1804/1804.11270.pdf)\n",
    "\n",
    "\n",
    "$$J_{t,\\pi } ={\\textrm{vec}}_4 {\\left(n_{\\pi } \\right)}^T J_t .$$\n",
    "\n",
    "Using DQ Robotics, it can be obtained as\n"
   ]
  },
  {
   "cell_type": "code",
   "execution_count": 20,
   "metadata": {},
   "outputs": [
    {
     "data": {
      "text/plain": [
       "Jt_pi = 1x7    \n",
       "   -5.6701   -5.2939   -4.5967   -3.6811   -2.6815   -1.7448   -0.8735"
      ]
     },
     "execution_count": 20,
     "metadata": {},
     "output_type": "execute_result"
    }
   ],
   "source": [
    "% Define the plane in the workspace\n",
    "pi = i_;\n",
    "\n",
    "% Get robot's pose and pose Jacobian\n",
    "x = seven_dof_planar_robot.fkm(q);\n",
    "Jx = seven_dof_planar_robot.pose_jacobian(q);\n",
    "\n",
    "% Get the robot's translation and translation Jacobian\n",
    "t = translation(x);\n",
    "Jt = DQ_Kinematics.translation_jacobian(Jx, x);\n",
    "\n",
    "% Get the distance Jacobian\n",
    "Jt_pi = DQ_Kinematics.point_to_plane_distance_jacobian(Jt, t, pi)"
   ]
  },
  {
   "cell_type": "markdown",
   "metadata": {},
   "source": [
    "<a name=\"H_757ED165\"></a>\n",
    "#### Plane-to-point distance Jacobian\n",
    "\n",
    "Let ${\\underline{{{\\pi }}} }_v \\left(q\\right)\\triangleq {\\underline{{{\\pi }}} }_v \\in \\left\\lbrace P\\left({\\underline{{{\\pi }}} }_v \\right)\\in {\\mathbb{H}}_p \\right\\rbrace \\cap \\underline{{\\mathcal{S}}}$ be a plane entity in the robot. The signed distance between the robot's plane entity, ${\\underline{{{\\pi }}} }_v$ , and a point in the workspace, $p$ , in the point of view of the plane is given by  [[1, Eq. (57)]](https://arxiv.org/ftp/arxiv/papers/1804/1804.11270.pdf)\n",
    "\n",
    "\n",
    "$$d_{\\pi ,p\\;}^{\\pi \\;} =<\\mathit{\\mathbf{p}},{\\mathit{\\mathbf{n}}}_{\\pi_v \\;} >-d_{\\pi_{v\\ldotp } \\;\\;}$$\n",
    "\n",
    "The plane-to-point distance Jacobian will be given by\n",
    "\n",
    "\n",
    "$$J_{\\pi_v ,p} ={\\textrm{vec}}_4 {\\left(p\\right)}^T J_{r_v } -J_{d_{\\pi_v } } .$$\n",
    "\n",
    "Using DQ Robotics, it can be obtained as\n"
   ]
  },
  {
   "cell_type": "code",
   "execution_count": 21,
   "metadata": {},
   "outputs": [],
   "source": [
    "% Point in the workspace\n",
    "p = 2*j_;\n",
    "\n",
    "% Get robot's pose and pose Jacobian\n",
    "x = seven_dof_planar_robot.fkm(q);\n",
    "Jx = seven_dof_planar_robot.pose_jacobian(q);\n",
    "\n",
    "% Get the robot's translation and translation Jacobian\n",
    "t = translation(x);\n",
    "Jt = DQ_Kinematics.translation_jacobian(Jx, x);\n",
    "\n",
    "% Get the robot rotation (to calculate the plane)\n",
    "r = rotation(x);\n",
    "\n",
    "% Get the robot's plane\n",
    "n_pi_v_e = i_; % Plane's normal with respect to the end-effector\n",
    "Jpi = DQ_Kinematics.plane_jacobian(Jx, x, n_pi_v_e);\n",
    "\n",
    "% Get the distance Jacobian\n",
    "Jpi_p = DQ_Kinematics.plane_to_point_distance_jacobian(Jpi, p);"
   ]
  },
  {
   "cell_type": "markdown",
   "metadata": {},
   "source": [
    "<a name=\"H_895E4487\"></a>\n",
    "## Vector-field inequalities in action\n",
    "\n",
    "We saw how to calculate several types of distances and distance Jacobians. Now we need to put this knowledge to good use.\n",
    "\n",
    "<a name=\"H_8E230424\"></a>\n",
    "### Preventing collision with walls"
   ]
  },
  {
   "cell_type": "code",
   "execution_count": 22,
   "metadata": {},
   "outputs": [],
   "source": [
    "% Let us isolate the code of this section from the other sections\n",
    "clear all;\n",
    "close all;\n",
    "include_namespace_dq;"
   ]
  },
  {
   "cell_type": "markdown",
   "metadata": {},
   "source": [
    "\n",
    "Suppose that there is one wall above and one wall below our 7-DoF planar robot and we want to prevent any collisions between the robot and those walls.\n",
    "\n",
    "\n",
    "The top wall is given by\n"
   ]
  },
  {
   "cell_type": "code",
   "execution_count": 23,
   "metadata": {},
   "outputs": [],
   "source": [
    "pi_top = -j_ - E_*2;"
   ]
  },
  {
   "cell_type": "markdown",
   "metadata": {},
   "source": [
    "\n",
    "and the bottom wall is given by\n"
   ]
  },
  {
   "cell_type": "code",
   "execution_count": 24,
   "metadata": {},
   "outputs": [],
   "source": [
    "pi_bottom = j_ + -E_*2;"
   ]
  },
  {
   "cell_type": "markdown",
   "metadata": {},
   "source": [
    "\n",
    "Note that the normal of those planes are pointing towards the robot. This is important because it means that the distance of any point of the robot will be positive with respect to those planes. <u>**Mistaking the direction of the planes's normal is a common error, so be careful**</u>.\n",
    "\n",
    "\n",
    "Let us plot the two walls.\n"
   ]
  },
  {
   "cell_type": "code",
   "execution_count": 25,
   "metadata": {},
   "outputs": [
    {
     "data": {
      "text/html": [
       "<center><img src=\"data:image/png;base64,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\" width=\"562\" alt=\"figure_0.png\"></center>"
      ]
     },
     "execution_count": 25,
     "metadata": {},
     "output_type": "execute_result"
    }
   ],
   "source": [
    "figure(1);\n",
    "plot(pi_top, 'plane', 14);\n",
    "hold on\n",
    "plot(pi_bottom, 'plane', 14);\n",
    "title('Plane constraints')"
   ]
  },
  {
   "cell_type": "markdown",
   "metadata": {},
   "source": [
    "\n",
    "To prevent the collision between the robot and those walls, one strategy is to create one point-to-plane constraint for each of the robot's joints with respect to those planes. This corresponds to a total of fourteen linear constraints.\n",
    "\n",
    "\n",
    "Using DQ Robotics, they can be implemented as follows.\n"
   ]
  },
  {
   "cell_type": "code",
   "execution_count": 26,
   "metadata": {},
   "outputs": [
    {
     "data": {
      "text/html": [
       "<center><img src=\"data:image/png;base64,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\" width=\"562\" alt=\"figure_1.png\"></center>"
      ]
     },
     "execution_count": 26,
     "metadata": {},
     "output_type": "execute_result"
    }
   ],
   "source": [
    "% Define a list of planes\n",
    "plane_list = {pi_top, pi_bottom};\n",
    "\n",
    "% Define the robot\n",
    "seven_dof_planar_robot = SevenDofPlanarRobotDH.kinematics();\n",
    "\n",
    "% Solver definition\n",
    "qp_solver = DQ_QuadprogSolver();\n",
    "\n",
    "% Controller definition\n",
    "translation_controller = DQ_ClassicQPController(seven_dof_planar_robot, qp_solver);\n",
    "translation_controller.set_control_objective(ControlObjective.Translation);\n",
    "translation_controller.set_gain(10);\n",
    "translation_controller.set_damping(1);\n",
    "\n",
    "% VFI gain\n",
    "eta_d = 1;\n",
    "\n",
    "% Desired translation (pure quaternion)\n",
    "td = 7*j_;\n",
    "% Sampling time [s]\n",
    "tau = 0.01;\n",
    "% Simulation time [s]\n",
    "final_time = 4;\n",
    "% Initial joint values [rad]\n",
    "q = 0.01*ones(7,1);\n",
    "\n",
    "% Create a new figure\n",
    "figure(2)\n",
    "% Translation controller loop.\n",
    "for time=0:tau:final_time\n",
    "\n",
    "    % The inequality matrix and vector\n",
    "    W = [];\n",
    "    w = [];\n",
    "    n = seven_dof_planar_robot.get_dim_configuration_space;\n",
    "    for joint_counter=1:n\n",
    "\n",
    "        % Get the pose Jacobian and pose of the current joint\n",
    "        Jx = seven_dof_planar_robot.pose_jacobian(q, joint_counter);\n",
    "        x = seven_dof_planar_robot.fkm(q, joint_counter);\n",
    "\n",
    "        % Get the translation Jacobian and the translation of the current\n",
    "        % joint\n",
    "        Jt = DQ_Kinematics.translation_jacobian(Jx, x);\n",
    "        t = translation(x);\n",
    "\n",
    "        for plane_counter=1:length(plane_list)\n",
    "\n",
    "            % Get the current plane\n",
    "            workspace_plane = plane_list{plane_counter};\n",
    "\n",
    "            % Calculate the point to plane distance Jacobian\n",
    "            % We have to augment the Jp_pi with zeros\n",
    "            Jp_pi = [DQ_Kinematics.point_to_plane_distance_jacobian(Jt, t, workspace_plane) zeros(1, n-joint_counter)];\n",
    "\n",
    "            % Calculate the point to plane distance\n",
    "            dp_pi = DQ_Geometry.point_to_plane_distance(t, workspace_plane);\n",
    "\n",
    "            % Wq <= w\n",
    "            W = [W; -Jp_pi];\n",
    "            w = [w; eta_d*dp_pi];\n",
    "        end\n",
    "\n",
    "    end\n",
    "\n",
    "    % Update the linear inequalities in the controller\n",
    "    translation_controller.set_inequality_constraint(W, w);\n",
    "\n",
    "    % Get the next control signal [rad/s]\n",
    "    u = translation_controller.compute_setpoint_control_signal(q,vec4(td));\n",
    "\n",
    "    % Move the robot\n",
    "    q = q + u*tau;\n",
    "\n",
    "    % Plot\n",
    "    % Plot the robot\n",
    "    plot(seven_dof_planar_robot,q);\n",
    "    title(['Translation control' ' time = ' num2str(time) 's out of ' num2str(final_time) 's'])\n",
    "    % Plot the desired pose\n",
    "    hold on\n",
    "    plot3(td.q(2),td.q(3),td.q(4), 'ko');\n",
    "    % Plot the walls\n",
    "    plot(pi_top, 'plane', 14);\n",
    "    plot(pi_bottom, 'plane', 14);\n",
    "    hold off\n",
    "    % [For animations only]\n",
    "    drawnow limitrate % [For animations only] Ask MATLAB to draw the plot now\n",
    "end"
   ]
  },
  {
   "cell_type": "code",
   "execution_count": 27,
   "metadata": {},
   "outputs": [],
   "source": []
  },
  {
   "cell_type": "markdown",
   "metadata": {},
   "source": [
    "<a name=\"H_D5D6F4BB\"></a>\n",
    "### Entry-sphere constraint"
   ]
  },
  {
   "cell_type": "code",
   "execution_count": 28,
   "metadata": {},
   "outputs": [],
   "source": [
    "% Let us isolate the code of this section from the other sections\n",
    "clear all;\n",
    "close all;\n",
    "include_namespace_dq;"
   ]
  },
  {
   "cell_type": "markdown",
   "metadata": {},
   "source": [
    "\n",
    "A very common type of constraint in minimally invasive surgery is the entry-sphere constraint. Suppose there is an incision in the skin of the patient, positioned at\n"
   ]
  },
  {
   "cell_type": "code",
   "execution_count": 29,
   "metadata": {},
   "outputs": [],
   "source": [
    "p = 5*j_;"
   ]
  },
  {
   "cell_type": "markdown",
   "metadata": {},
   "source": [
    "\n",
    "Let us define the sphere to have a radius of 0.25 m. That is, we choose\n"
   ]
  },
  {
   "cell_type": "code",
   "execution_count": 30,
   "metadata": {},
   "outputs": [],
   "source": [
    "d_safe = 0.25;"
   ]
  },
  {
   "cell_type": "markdown",
   "metadata": {},
   "source": [
    "\n",
    "Moreover, let us attach to our planar robot a 2-meter-long shaft whose axis is collinear with the $x-$ axis of the last link, as follows\n"
   ]
  },
  {
   "cell_type": "code",
   "execution_count": 31,
   "metadata": {},
   "outputs": [],
   "source": [
    "% Define the initial joint configurations [rad]\n",
    "q = (pi/8)*ones(7,1);\n",
    "\n",
    "% Define the robot\n",
    "seven_dof_planar_robot = SevenDofPlanarRobotDH.kinematics();\n",
    "\n",
    "% Add the shaft\n",
    "seven_dof_planar_robot.set_effector(1 + 0.5*E_*(2*i_));"
   ]
  },
  {
   "cell_type": "markdown",
   "metadata": {},
   "source": [
    "\n",
    "Let us control the robot to the following desired translation\n"
   ]
  },
  {
   "cell_type": "code",
   "execution_count": 32,
   "metadata": {},
   "outputs": [],
   "source": [
    "% Desired translation\n",
    "td = -1*i_ + 4*j_;"
   ]
  },
  {
   "cell_type": "markdown",
   "metadata": {},
   "source": [
    "\n",
    "In a way that the shaft never goes outside of the entry-sphere. Using DQ Robotics, this can be done as follows\n"
   ]
  },
  {
   "cell_type": "code",
   "execution_count": 33,
   "metadata": {},
   "outputs": [
    {
     "data": {
      "text/html": [
       "<center><img src=\"data:image/png;base64,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\" width=\"562\" alt=\"figure_2.png\"></center>"
      ]
     },
     "execution_count": 33,
     "metadata": {},
     "output_type": "execute_result"
    }
   ],
   "source": [
    "% Solver definition\n",
    "qp_solver = DQ_QuadprogSolver();\n",
    "\n",
    "% Controller definition\n",
    "translation_controller = DQ_ClassicQPController(seven_dof_planar_robot, qp_solver);\n",
    "translation_controller.set_control_objective(ControlObjective.Translation);\n",
    "translation_controller.set_gain(10);\n",
    "translation_controller.set_damping(1);\n",
    "\n",
    "% VFI gain\n",
    "eta_d = 1;\n",
    "\n",
    "% Sampling time [s]\n",
    "tau = 0.01;\n",
    "% Simulation time [s]\n",
    "final_time = 4;\n",
    "\n",
    "% Create a new figure\n",
    "f = figure(1);\n",
    "% Translation controller loop.\n",
    "for time=0:tau:final_time\n",
    "\n",
    "    % Get the pose Jacobian and the pose\n",
    "    Jx = seven_dof_planar_robot.pose_jacobian(q);\n",
    "    x = seven_dof_planar_robot.fkm(q);\n",
    "\n",
    "    % Get the line Jacobian for the x-axis\n",
    "    Jl = DQ_Kinematics.line_jacobian(Jx, x, i_);\n",
    "\n",
    "    % Get the line with respect to the base\n",
    "    t = translation(x);\n",
    "    r = rotation(x);\n",
    "    l = Ad(r, i_);\n",
    "    l_dq = l + E_*cross(t, l);\n",
    "\n",
    "    % Get the line-to-point distance Jacobian\n",
    "    Jl_p = DQ_Kinematics.line_to_point_distance_jacobian(Jl, l_dq, p);\n",
    "\n",
    "    % Get the line-to-point square distance\n",
    "    Dl_p = DQ_Geometry.point_to_line_squared_distance(p, l_dq);\n",
    "\n",
    "    % Get the distance error\n",
    "    D_safe = d_safe^2;\n",
    "    D_tilde = D_safe - Dl_p;\n",
    "\n",
    "    % The inequality matrix and vector\n",
    "    W = Jl_p;\n",
    "    w = eta_d*D_tilde;\n",
    "\n",
    "    % Update the linear inequalities in the controller\n",
    "    translation_controller.set_inequality_constraint(W, w);\n",
    "\n",
    "    % Get the next control signal [rad/s]\n",
    "    u = translation_controller.compute_setpoint_control_signal(q,vec4(td));\n",
    "\n",
    "    % Move the robot\n",
    "    q = q + u*tau;\n",
    "\n",
    "    % Clear plot\n",
    "    plot(seven_dof_planar_robot, q)\n",
    "    clf(f)\n",
    "    % Plot the robot\n",
    "    plot(seven_dof_planar_robot, q)\n",
    "    title(['Translation control' ' time = ' num2str(time) 's out of ' num2str(final_time) 's'])\n",
    "    hold on\n",
    "    % Plot the desired pose\n",
    "    hold on\n",
    "    plot3(td.q(2),td.q(3),td.q(4), 'ko');\n",
    "    % Plot the shaft in blue\n",
    "    t_1 = translation(seven_dof_planar_robot.raw_fkm(q));\n",
    "    t_2 = translation(seven_dof_planar_robot.fkm(q));\n",
    "    plot3([t_1.q(2) t_2.q(2)],[t_1.q(3) t_2.q(3)],[t_1.q(4) t_2.q(4)],'b','LineWidth',2)\n",
    "    % Plot the entry sphere\n",
    "    plot3(p.q(2), p.q(3), p.q(4), 'ro', 'MarkerSize', 20)\n",
    "    % [For animations only]\n",
    "    drawnow limitrate % [For animations only] Ask MATLAB to draw the plot now\n",
    "end"
   ]
  },
  {
   "cell_type": "code",
   "execution_count": 34,
   "metadata": {},
   "outputs": [],
   "source": []
  },
  {
   "cell_type": "markdown",
   "metadata": {},
   "source": [
    "<a name=\"T_6E209DF5\"></a>\n",
    "# <span style=\"color:rgb(213,80,0)\">Homework</span>\n",
    "\n",
    "Create a class called \"VS050RobotDH\" that represents the Denso VS050 robot, whose DH parameters are described in the following table and is composed entirely of revolute joints. (Remember lesson 6)\n",
    "\n",
    "\n",
    "$$\\left\\lbrack \\begin{array}{cccc} \\theta  & d & a & \\alpha \\\\ -\\pi  & 0.345 & 0 & \\frac{\\pi }{2}\\\\ \\frac{\\pi }{2} & 0 & 0.25 & 0\\\\ -\\frac{\\pi }{2} & 0 & 0.01 & -\\frac{\\pi }{2}\\\\ 0 & 0.255 & 0 & \\frac{\\pi }{2}\\\\ \\pi  & 0 & 0 & \\frac{\\pi }{2}\\\\ 0 & 0.07 & 0 & 0 \\end{array}\\right\\rbrack$$\n",
    "\n",
    " **End-effector:** attach to the robot a 20cm-long-shaft along the $z-$ axis of the last joint.\n",
    "\n",
    "\n",
    " **Initial configuration:** $q(0)={\\left\\lbrack \\begin{array}{cccccc} 0 & \\frac{\\pi }{3} & \\frac{\\pi }{3} & 0 & \\frac{\\pi }{3} & 0 \\end{array}\\right\\rbrack }^T .$\n",
    "\n",
    "\n",
    "1) Create a file called [vs050_plane_constraints.m] and do the following:\n",
    "\n",
    "1.  Create a translation controller with $\\tau =0.01$ . Choose the other controller parameters so that the control is smooth (see this and prior lessons for examples).\n",
    "2. Create 6 planes centered around the point $p_1 =0.45\\hat{\\imath} +0.08\\hat{k}$ , so that all normals are pointed inwards, to make a 5cm cube. (remember lesson 4)\n",
    "3. During control, use point-to-plane VFIs to keep the tooltip always inside the cubic region.\n",
    "4. Move the end-effector, in order, to the following four desired positions $t_d =\\left\\lbrace 0.60\\hat{\\imath} +0.08\\hat{k} ,0.20\\hat{\\imath} +0.15\\hat{k} ,0.45\\hat{\\imath} +0.08\\hat{k} ,0.45\\hat{\\imath} +0.0\\hat{k} \\right\\rbrace$ , for 4 simulation-time seconds each.\n",
    "5. Plot the task error in one figure\n",
    "6. Plot the distance of the end-effector to all the six planes using subplots in another figure.\n",
    "\n",
    "2) Create a file called [vs050_entry_sphere_constraint.m] and do the following:\n",
    "\n",
    "1.  Create a translation controller with $\\tau =0.01$ . Choose the other controller parameters so that the control is smooth (see this and prior lessons for examples).\n",
    "2. Consider the entry-sphere to be centered at $p_2 =0.45\\hat{\\imath} +0.2\\hat{k}$ . Consider the entry sphere to have a radius of 5 mm.\n",
    "3. During control, use a line-to-point VFI to keep the shaft always inside the entry-sphere.\n",
    "4. Move the end-effector, in order, to the following four desired positions $t_d =\\left\\lbrace 0.45\\hat{\\imath} +0.03\\hat{k} ,0.48\\hat{\\imath} +0.03\\hat{k} ,0.41\\hat{\\imath} +0.03\\hat{k} ,0.40\\hat{\\imath} +0.01\\hat{k} \\right\\rbrace$ , for 4 simulation-time seconds each.\n",
    "5. Plot the task error in one figure\n",
    "6. Plot the distance of the shaft to the center of the entry-sphere in another figure.\n"
   ]
  }
 ],
 "metadata": {
  "kernelspec": {
   "display_name": "MATLAB (matlabkernel)",
   "language": "matlab",
   "name": "matlab"
  },
  "language_info": {
   "file_extension": ".m",
   "mimetype": "text/matlab",
   "name": "matlab",
   "nbconvert_exporter": "matlab",
   "pygments_lexer": "matlab",
   "version": "23.2.0.2485118"
  }
 },
 "nbformat": 4,
 "nbformat_minor": 4
}
