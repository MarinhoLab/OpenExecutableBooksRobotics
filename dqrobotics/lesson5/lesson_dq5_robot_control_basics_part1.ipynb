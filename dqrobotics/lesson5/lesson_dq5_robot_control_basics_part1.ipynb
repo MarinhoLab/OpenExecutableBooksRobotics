{
 "cells": [
  {
   "cell_type": "code",
   "execution_count": 391,
   "metadata": {},
   "outputs": [],
   "source": [
    "%%capture\n",
    "'''\n",
    "(C) Copyright 2020-2025 Murilo Marques Marinho (murilomarinho@ieee.org)\n",
    "\n",
    "     This file is licensed in the terms of the\n",
    "     Attribution-NonCommercial-ShareAlike 4.0 International (CC BY-NC-SA 4.0)\n",
    "     license.\n",
    "\n",
    " Derivative work of:\n",
    " https://github.com/dqrobotics/learning-dqrobotics-in-matlab/tree/master/robotic_manipulators\n",
    " Contributors to this file:\n",
    "     Murilo Marques Marinho (murilomarinho@ieee.org)\n",
    "'''"
   ]
  },
  {
   "cell_type": "markdown",
   "metadata": {},
   "source": [
    "# Robot Control Basics using DQ Robotics - Part 1\n",
    "\n",
    "## Introduction\n",
    "\n",
    "For now, we have studied how dual quaternions can be a powerful algebraic tool to represent interesting geometric elements, such as reference frames, planes, lines, and points.\n",
    "\n",
    "\n",
    "In this lesson we will study the control of very basic robots.\n",
    "\n",
    "\n",
    "As always, before we start, make essential installations and imports.\n"
   ]
  },
  {
   "cell_type": "code",
   "execution_count": 392,
   "metadata": {},
   "outputs": [],
   "source": [
    "%%capture\n",
    "%pip install dqrobotics\n",
    "%pip install dqrobotics --break-system-packages"
   ]
  },
  {
   "cell_type": "code",
   "execution_count": 393,
   "metadata": {},
   "outputs": [],
   "source": [
    "from dqrobotics import *\n",
    "from math import pi, sin, cos"
   ]
  },
  {
   "cell_type": "markdown",
   "metadata": {},
   "source": [
    "<a name=\"H_D4ECB91A\"></a>\n",
    "## Notation\n",
    "\n",
    "Keep these in mind (we will also use this notation when writting papers to conferences and journals):\n",
    "\n",
    "-  $h\\in \\mathbb{H}$ : a quaternion. (Bold-face, lowercase character)\n",
    "-  $\\underline{h} \\in \\mathcal{H}$ : a dual quaternion. (Bold-face, underlined, lowercase character)\n",
    "-  $p,t,\\cdots \\in {\\mathbb{H}}_p$ : pure quaternions. They represent points, positions, and translations. They are quaternions for which $\\textrm{Re}\\left(h\\right)=0$ .\n",
    "-  $r\\in {\\mathbb{S}}^3$ : unit quaternions. They represent orientations and rotations. They are quaternions for which $||h||=1$ .\n",
    "-  $\\underline{x} \\in$ $\\underline{\\mathcal{S}}$ : unit dual quaternions. They represent poses and pose transformations. They are dual quaternions for which $||h||=1$ .\n",
    "-  $\\underline{l} \\in {\\mathcal{H}}_p \\cap$ $\\underline{{\\mathcal{S}}}$ : a Plücker line.\n",
    "-  $\\underline{{{\\pi }}} \\in \\left\\lbrace P\\left(\\underline{{{\\pi }}} \\right)\\in {\\mathbb{H}}_p \\right\\rbrace \\cap \\underline{{\\mathcal{S}}}$ : a plane.\n",
    "<a name=\"H_324B6A55\"></a>\n",
    "## Basics of Robot Kinematic Control\n",
    "\n",
    "At this point, most robotics textbooks will introduce you to the kinematic modeling of robotic manipulators in detail.\n",
    "\n",
    "\n",
    "Let us start with a one degree-of-freedom (DoF) planar robot, so that we can understand some major points regarding robotic control before we start making more complicated robotic modeling.\n",
    "\n",
    "<a name=\"H_DD6224A0\"></a>\n",
    "## 1-DoF planar robot\n",
    "\n",
    "We start by defining the important reference frames, the robot, and the task we want to accomplish. We call this, \"Problem Definition\".\n",
    "\n",
    "<a name=\"H_FE3FE773\"></a>\n",
    "### Problem Definition\n",
    "<p style=\"text-align:left\"><img src=\"data:image/png;base64,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\" width=\"387\" alt=\"image_0.png\"></p>\n",
    "\n",
    "\n",
    "1.  Let the robot $R$ be a 1-DoF planar robot, as drawn in Fig.1.\n",
    "2. Let ${\\mathcal{F}}_W$ be the world-reference frame.\n",
    "3. Let ${\\underline{x} }_R^W (t)$ $\\in$ $\\underline{\\mathcal{S}}$ represent the time-dependent transformation from the origin of the world-reference frame to the tip of the robot. The tip of the robot is called *end effector*. Note that ${\\underline{x} }_R^W (t)$ has a superscript \"W\" that means that the reference frame of this pose transformation is ${\\mathcal{F}}_W$ . The subscript \"R\" means that, after the pose transformation, we will be at the end effector of the robot $R$ .\n",
    "4. Let $R$ be composed of single link, actuated by a rotational joint that rotates about its z-axis by an angle $\\theta_1 (t)\\in \\mathbb{R}$ . The reference frame of the joint coincides with ${\\mathcal{F}}_W$ when $\\theta_1 (t)=0$ . The length of the link is $l_1 \\in$ ${\\mathbb{R}}^+ -\\lbrace 0\\rbrace$ .\n",
    "5. Consider that we can freely control the variable $\\theta_1 (t)\\triangleq \\theta_1$ . The robot is said to have one degree-of-freedom because it has only one independent joint value.\n",
    "\n",
    "Problems:\n",
    "\n",
    "1.  Obtain the forward kinematic model and the inverse kinematic model of the robot $R$ that maps the joint value, $\\theta_1 (t)$ , to the 3D translation of the end effector, $t_R^W (t)\\triangleq \\textrm{translation}\\left({\\underline{x} }_R^W \\right)$ using unit dual quaternions. This can be easily found using simple trigonometry, but we will slowly move to more complicated examples.\n",
    "2. Obtain the differential kinematic model and the inverse differential kinematic model of the robot $R$ .\n",
    "3. Using 1. and 2., design an open-loop velocity controller in task-space.\n",
    "4. Using 1. and 2., design a closed-loop position controller in task-space.\n",
    "<a name=\"H_8AC9B033\"></a>\n",
    "### Forward Kinematic Model\n",
    "\n",
    "The forward kinematic model (FKM), concerns finding the function that maps the *joint space* variables into the *task space* variables.\n",
    "\n",
    "-  The joint space variables are all joint variables that we can control. In the current example, the joint space is only $\\theta_1 (t)$ .\n",
    "-  The task space variables depend on the task, but in general are the pose, the translation, the rotation, etc of the end effector. In the current example, the task space is the end-effector's translation $t_R^W (t)$ .\n",
    "-  The FKM answers the question: what is the end-effector {pose, translation, rotation, etc}, given its joint values?\n",
    "\n",
    "***Note the kinematic model of a robot models the motion of the robot without considering forces. It concerns only the geometry of the robot. This means that weight, inertia, and so on are not considered in kinematic modeling.***\n",
    "\n",
    "\n",
    "The FKM of robot $R$ is quite straigthforward, and can be found using two pose transformations.\n",
    "\n",
    "\n",
    "$$t_R^W (t)=\\textrm{translation}\\left({<u>x</u> }_1^W (\\theta_1 ){<u>x</u> }_R^1 (l_1 )\\right),$$\n",
    "\n",
    "where\n",
    "\n",
    "\n",
    "$${<u>x</u> }_1^W (\\theta_1 )=\\cos \\left(\\frac{\\theta_1 }{2}\\right)+\\hat{k} \\sin \\left(\\frac{\\theta_1 }{2}\\right),$$\n",
    "\n",
    "is the rotation about the joint value (remember that the rotational joint pivots about its z-axis) and\n",
    "\n",
    "\n",
    "$${<u>x</u> }_R^1 (l)=1+\\frac{1}{2}\\varepsilon l_1 \\hat{\\imath} ,$$\n",
    "\n",
    "is the translation of $l_1$ about the rotated x-axis.\n"
   ]
  },
  {
   "cell_type": "markdown",
   "metadata": {},
   "source": [
    "\n",
    "<a name=\"H_AA707DEE\"></a>\n",
    "#### DQ Robotics Example\n",
    "\n",
    "Let us create a class representing the 1-DoF planar robot. To keep our code organized, we write it in a separate file in snake case [one_dof_planar_robot.py]. The length of the robot does not change in time, so we add it as a class property.\n",
    "\n",
    "\n",
    "Let us follow the [Google Python Style Guide](http://google.github.io/styleguide/pyguide.html#s3.16-naming) as much as possible, so that your code is readable.\n",
    "\n",
    "1.  Class names should be written in camel-case, starting with an uppercase letter. For example \"OneDofPlanarRobot\".\n",
    "2. Properties and methods should be written in lowercase, possibly using \"_\" if needed. For instance, \"l\", or \"fkm()\" or \"my_favorite_method()\"\n",
    "3. Add comments to help other people understand what you are doing.\n",
    "\n"
   ]
  },
  {
   "cell_type": "code",
   "execution_count": 394,
   "metadata": {},
   "outputs": [
    {
     "name": "stdout",
     "output_type": "stream",
     "text": [
      "\u001b[0;31mSignature:\u001b[0m \u001b[0mOneDofPlanarRobot\u001b[0m\u001b[0;34m.\u001b[0m\u001b[0m__init__\u001b[0m\u001b[0;34m(\u001b[0m\u001b[0mself\u001b[0m\u001b[0;34m,\u001b[0m \u001b[0ml1\u001b[0m\u001b[0;34m)\u001b[0m\u001b[0;34m\u001b[0m\u001b[0;34m\u001b[0m\u001b[0m\n",
      "\u001b[0;31mDocstring:\u001b[0m Initialize self.  See help(type(self)) for accurate signature.\n",
      "\u001b[0;31mSource:\u001b[0m   \n",
      "    \u001b[0;32mdef\u001b[0m \u001b[0m__init__\u001b[0m\u001b[0;34m(\u001b[0m\u001b[0mself\u001b[0m\u001b[0;34m,\u001b[0m \u001b[0ml1\u001b[0m\u001b[0;34m)\u001b[0m\u001b[0;34m:\u001b[0m\u001b[0;34m\u001b[0m\n",
      "\u001b[0;34m\u001b[0m        \u001b[0mself\u001b[0m\u001b[0;34m.\u001b[0m\u001b[0ml1_\u001b[0m \u001b[0;34m=\u001b[0m \u001b[0ml1\u001b[0m\u001b[0;34m\u001b[0m\u001b[0;34m\u001b[0m\u001b[0m\n",
      "\u001b[0;31mFile:\u001b[0m      ~/git/OpenExecutableBooksRobotics/dqrobotics/lesson5/one_dof_planar_robot.py\n",
      "\u001b[0;31mType:\u001b[0m      function"
     ]
    }
   ],
   "source": [
    "from one_dof_planar_robot import OneDofPlanarRobot\n",
    "OneDofPlanarRobot.__init__??"
   ]
  },
  {
   "cell_type": "code",
   "execution_count": 395,
   "metadata": {},
   "outputs": [],
   "source": [
    "from one_dof_planar_robot import OneDofPlanarRobot\n",
    "\n",
    "## Notice how easy it is to understand this code.\n",
    "# Length\n",
    "l1 = 1\n",
    "\n",
    "# Create robot\n",
    "one_dof_planar_robot = OneDofPlanarRobot(l1)"
   ]
  },
  {
   "cell_type": "code",
   "execution_count": 396,
   "metadata": {},
   "outputs": [],
   "source": [
    "\n",
    "# Choose theta freely\n",
    "theta1 =-3.7\n",
    "\n",
    "# Get the fkm, based on theta\n",
    "t_w_r = one_dof_planar_robot.fkm(theta1)\n",
    "\n",
    "# Plot the robot in the xy-plane\n",
    "#one_dof_planar_robot.plot(theta1)"
   ]
  },
  {
   "cell_type": "markdown",
   "metadata": {},
   "source": [
    "<a name=\"H_42F7B7D9\"></a>\n",
    "### Inverse Kinematic Model\n",
    "\n",
    "In most robotic control tasks, the task is defined in terms of the task-space variables, such as $t_R^W (t)$ , and not in terms of the joint-space variables, such as $\\theta_1 (t)$ . For instance, \"move the end effector to a given position\".\n",
    "\n",
    "\n",
    "The inverse kinematic model (IKM), concerns finding the opposite mapping of the FKM, that is, a function that maps the *task space* variables into joint space variables.\n",
    "\n",
    "-  The FKM answers the question: what is the joint value I need so that the robot's end effector goes to a desired {pose, translation, rotation, etc}?\n",
    "\n",
    "We can start from the FKM\n",
    "\n",
    "\n",
    "$$t_R^W (t)=\\textrm{translation}\\left({<u>x</u> }_1^W (\\theta_1 ){<u>x</u> }_R^1 (l_1 )\\right),$$\n",
    "\n",
    "note that the total pose transformation is\n",
    "\n",
    "\n",
    "$${<u>x</u> }_1^W (\\theta_1 ){<u>x</u> }_R^1 (l_1 )=\\left\\lbrack \\cos \\left(\\frac{\\theta_1 }{2}\\right)+\\hat{k} \\sin \\left(\\frac{\\theta_1 }{2}\\right)\\right\\rbrack +\\frac{1}{2}\\varepsilon l_1 \\left\\lbrack \\hat{\\imath} \\cos \\left(\\frac{\\theta_1 }{2}\\right)+\\hat{\\jmath} \\sin \\left(\\frac{\\theta_1 }{2}\\right)\\right\\rbrack$$\n",
    "\n",
    "By the definition of the translation operation for any $\\underline{x}$ $\\in$ $\\underline{\\mathcal{S}}$\n",
    "\n",
    "\n",
    "$$\\textrm{translation}\\left(<u>x</u> \\right)=2D\\left(<u>x</u> \\right)P{\\left(<u>x</u> \\right)}^*$$\n",
    "\n",
    "Using the operation above and two trigonometric identities, we reach the following\n",
    "\n",
    "\n",
    "$$t_R^W (t)=l_1 \\left\\lbrack \\hat{\\imath} \\cos \\left(\\theta_1 \\right)+\\hat{\\jmath} \\sin \\left(\\theta_1 \\right)\\right\\rbrack$$\n",
    "\n",
    "This form is quite straightforward for us to find the IKM. Given that we the robot has only one degree-of-freedom, in this situation we can either choose to control the x-axis translation OR the y-axis translation. The other is defined by our initial choise.\n",
    "\n",
    "\n",
    "For simplicity, let us define\n",
    "\n",
    "\n",
    "$$t_R^W (t)$$\n",
    "$$=t_x \\hat{\\imath \\;} +t_y \\hat{\\jmath \\;} +t_z \\hat{k} ,$$\n",
    "\n",
    "where $t_x ,t_y ,t_z \\in$ $\\mathbb{R}$ represent the 3D coordinates of the robot's end effector.\n",
    "\n",
    "\n",
    "Moreover, notice that, even in this very simple case, we have an issue. There are two possible values for $\\theta_1$ that give us the same $t_x$ , and the same for $t_y$ . When finding an IKM, we have to simply choose one of the possible cases. We will adress alternative solutions afterwards, so in practice we almost never have to find the IKM explicitly.\n",
    "\n",
    "\n",
    "If we decide to choose the x-axis translation, we have\n",
    "\n",
    "\n",
    "$$t_x =l_1 \\cos \\left(\\theta_1 \\right)\\iff \\theta_1 =\\arccos \\left(\\frac{t_x }{l_1 }\\right)\\iff t_y =l_1 \\sin \\left(\\arccos \\left(\\frac{t_x }{l_1 }\\right)\\right)$$\n",
    "\n",
    "And if we decide to choose the y-axis translation, we have\n",
    "\n",
    "\n",
    "$$t_y =l_1 \\sin \\left(\\theta_1 \\right)\\iff \\theta_1 =\\arcsin \\left(\\frac{t_y }{l_1 }\\right)\\iff t_y =l_1 \\cos \\left(\\arcsin \\left(\\frac{t_y }{l_1 }\\right)\\right)$$\n",
    "\n",
    "Note that, for all cases,\n",
    "\n",
    "\n",
    "$$t_z =0.$$\n",
    "\n",
    "When the robot does not have enough degrees-of-freedom for a specific task, we call it *underactuated*. In this case, the planar robot does not have enough degrees-of-freedom for us to freely choose the x-axis and y-axis translation simultaneously.\n",
    "\n",
    "<a name=\"H_4B7E0016\"></a>\n",
    "#### DQ Robotics Example\n",
    "\n",
    "The following methods are relevant"
   ]
  },
  {
   "cell_type": "code",
   "execution_count": 397,
   "metadata": {},
   "outputs": [
    {
     "name": "stdout",
     "output_type": "stream",
     "text": [
      "\u001b[0;31mSignature:\u001b[0m \u001b[0mOneDofPlanarRobot\u001b[0m\u001b[0;34m.\u001b[0m\u001b[0mikm_tx\u001b[0m\u001b[0;34m(\u001b[0m\u001b[0mself\u001b[0m\u001b[0;34m,\u001b[0m \u001b[0mtx\u001b[0m\u001b[0;34m)\u001b[0m\u001b[0;34m\u001b[0m\u001b[0;34m\u001b[0m\u001b[0m\n",
      "\u001b[0;31mSource:\u001b[0m   \n",
      "    \u001b[0;32mdef\u001b[0m \u001b[0mikm_tx\u001b[0m\u001b[0;34m(\u001b[0m\u001b[0mself\u001b[0m\u001b[0;34m,\u001b[0m\u001b[0mtx\u001b[0m\u001b[0;34m)\u001b[0m\u001b[0;34m:\u001b[0m\u001b[0;34m\u001b[0m\n",
      "\u001b[0;34m\u001b[0m        \u001b[0;34m'''fkm calculates the IKM for the 1-DoF planar robot using the \u001b[0m\n",
      "\u001b[0;34m           desired x-axis translation.'''\u001b[0m\u001b[0;34m\u001b[0m\n",
      "\u001b[0;34m\u001b[0m        \u001b[0;34m\u001b[0m\n",
      "\u001b[0;34m\u001b[0m        \u001b[0;31m# Return the angle to reach the desired tx\u001b[0m\u001b[0;34m\u001b[0m\n",
      "\u001b[0;34m\u001b[0m        \u001b[0;32mreturn\u001b[0m \u001b[0macos\u001b[0m\u001b[0;34m(\u001b[0m\u001b[0mtx\u001b[0m\u001b[0;34m/\u001b[0m\u001b[0mself\u001b[0m\u001b[0;34m.\u001b[0m\u001b[0ml1_\u001b[0m\u001b[0;34m)\u001b[0m\u001b[0;34m\u001b[0m\u001b[0;34m\u001b[0m\u001b[0m\n",
      "\u001b[0;31mFile:\u001b[0m      ~/git/OpenExecutableBooksRobotics/dqrobotics/lesson5/one_dof_planar_robot.py\n",
      "\u001b[0;31mType:\u001b[0m      function"
     ]
    }
   ],
   "source": [
    "OneDofPlanarRobot.ikm_tx??"
   ]
  },
  {
   "cell_type": "code",
   "execution_count": 398,
   "metadata": {},
   "outputs": [
    {
     "name": "stdout",
     "output_type": "stream",
     "text": [
      "\u001b[0;31mSignature:\u001b[0m \u001b[0mOneDofPlanarRobot\u001b[0m\u001b[0;34m.\u001b[0m\u001b[0mikm_ty\u001b[0m\u001b[0;34m(\u001b[0m\u001b[0mself\u001b[0m\u001b[0;34m,\u001b[0m \u001b[0mty\u001b[0m\u001b[0;34m)\u001b[0m\u001b[0;34m\u001b[0m\u001b[0;34m\u001b[0m\u001b[0m\n",
      "\u001b[0;31mSource:\u001b[0m   \n",
      "    \u001b[0;32mdef\u001b[0m \u001b[0mikm_ty\u001b[0m\u001b[0;34m(\u001b[0m\u001b[0mself\u001b[0m\u001b[0;34m,\u001b[0m\u001b[0mty\u001b[0m\u001b[0;34m)\u001b[0m\u001b[0;34m:\u001b[0m\u001b[0;34m\u001b[0m\n",
      "\u001b[0;34m\u001b[0m        \u001b[0;34m'''fkm calculates the IKM for the 1-DoF planar robot using the \u001b[0m\n",
      "\u001b[0;34m           desired y-axis translation.'''\u001b[0m\u001b[0;34m\u001b[0m\n",
      "\u001b[0;34m\u001b[0m        \u001b[0;34m\u001b[0m\n",
      "\u001b[0;34m\u001b[0m        \u001b[0;31m# Return the angle to reach the desired ty\u001b[0m\u001b[0;34m\u001b[0m\n",
      "\u001b[0;34m\u001b[0m        \u001b[0;32mreturn\u001b[0m \u001b[0masin\u001b[0m\u001b[0;34m(\u001b[0m\u001b[0mty\u001b[0m\u001b[0;34m/\u001b[0m\u001b[0mself\u001b[0m\u001b[0;34m.\u001b[0m\u001b[0ml1_\u001b[0m\u001b[0;34m)\u001b[0m\u001b[0;34m\u001b[0m\u001b[0;34m\u001b[0m\u001b[0m\n",
      "\u001b[0;31mFile:\u001b[0m      ~/git/OpenExecutableBooksRobotics/dqrobotics/lesson5/one_dof_planar_robot.py\n",
      "\u001b[0;31mType:\u001b[0m      function"
     ]
    }
   ],
   "source": [
    "OneDofPlanarRobot.ikm_ty??"
   ]
  },
  {
   "cell_type": "markdown",
   "metadata": {},
   "source": [
    "\n",
    "Suppose that $t_x$ is to be controlled.\n"
   ]
  },
  {
   "cell_type": "code",
   "execution_count": 399,
   "metadata": {},
   "outputs": [],
   "source": [
    "# Length\n",
    "l1 = 1\n",
    "\n",
    "# Create robot\n",
    "one_dof_planar_robot = OneDofPlanarRobot(l1)\n",
    "\n",
    "# Choose tx freely\n",
    "tx =0.22\n",
    "\n",
    "# Get the fkm, based on theta\n",
    "theta1 = one_dof_planar_robot.ikm_tx(tx)\n",
    "\n",
    "# Plot the robot in the xy-plane\n",
    "#one_dof_planar_robot.plot(theta1)"
   ]
  },
  {
   "cell_type": "markdown",
   "metadata": {},
   "source": [
    "\n",
    "Now, suppose that $t_y$ is to be controlled.\n"
   ]
  },
  {
   "cell_type": "code",
   "execution_count": 400,
   "metadata": {},
   "outputs": [],
   "source": [
    "# Length\n",
    "l1 = 1;\n",
    "\n",
    "# Create robot\n",
    "one_dof_planar_robot = OneDofPlanarRobot(l1)\n",
    "\n",
    "# Choose ty freely\n",
    "ty =0.24\n",
    "\n",
    "# Get the fkm, based on theta\n",
    "theta1 = one_dof_planar_robot.ikm_ty(ty)\n",
    "\n",
    "# Plot the robot in the xy-plane\n",
    "#one_dof_planar_robot.plot(theta1)"
   ]
  },
  {
   "cell_type": "markdown",
   "metadata": {},
   "source": [
    "<a name=\"H_10DF28F5\"></a>\n",
    "### Differential Kinematics Model\n",
    "\n",
    "The first-order time-derivative of the FKM is called Differential Kinematics Model (DKM). It maps the joint-space velocities into task-space velocities. Although maybe not obvious at first glance, inverting the DKM is considerably easier than finding the IK high-DoF robots.\n",
    "\n",
    "\n",
    "Back to our example, the DKM of the 1-DoF planar robot is the first-order time-derivative of the FKM\n",
    "\n",
    "\n",
    "$${\\dot{t} }_R^W (t)=l_1 \\left\\lbrack -\\hat{\\imath} \\sin \\left(\\theta_1 \\right)+\\hat{\\jmath} \\cos \\left(\\theta_1 \\right)\\right\\rbrack {\\dot{\\theta} }_1$$\n",
    "\n",
    "Notice that it does not depend on the time-derivative of $l_1$ because $l_1$ does not vary on time (in this example). Let us call\n",
    "\n",
    "\n",
    "$${{\\jmath }}\\left(\\theta_1 \\right)\\triangleq l_1 \\left\\lbrack -\\hat{\\imath} \\sin \\left(\\theta_1 \\right)+\\hat{\\jmath} \\cos \\left(\\theta_1 \\right)\\right\\rbrack$$\n",
    "\n",
    "then, our DKM becomes,\n",
    "\n",
    "\n",
    "$${\\dot{t} }_R^W (t)={{\\jmath }}\\left(\\theta_1 \\right){\\dot{\\theta} }_1$$\n",
    "\n",
    "We can write this in matrix form as\n",
    "\n",
    "\n",
    "$${\\textrm{vec}}_3 \\left\\lbrack {\\dot{t} }_R^W (t)\\right\\rbrack ={\\textrm{vec}}_3 \\left\\lbrack {{\\jmath }}\\left(\\theta_1 \\right)\\right\\rbrack {\\dot{\\theta} }_1$$\n",
    "\n",
    "In this case, the matrix\n",
    "\n",
    "\n",
    "$$J_t \\triangleq {\\textrm{vec}}_3 \\left\\lbrack {{\\jmath }}\\left(\\theta_1 \\right)\\right\\rbrack$$\n",
    "\n",
    "is, in general, called task Jacobian. Given that this specific Jacobian is related to the translation, we call it translation Jacobian. Note that the translation Jacobian depends on the joint value.\n",
    "\n",
    "<a name=\"H_F168FD91\"></a>\n",
    "#### DQ Robotics Example\n",
    "\n",
    "We add the following method to our 1-DoF planar robot.\n",
    "\n"
   ]
  },
  {
   "cell_type": "code",
   "execution_count": 401,
   "metadata": {},
   "outputs": [
    {
     "name": "stdout",
     "output_type": "stream",
     "text": [
      "\u001b[0;31mSignature:\u001b[0m \u001b[0mOneDofPlanarRobot\u001b[0m\u001b[0;34m.\u001b[0m\u001b[0mtranslation_jacobian\u001b[0m\u001b[0;34m(\u001b[0m\u001b[0mself\u001b[0m\u001b[0;34m,\u001b[0m \u001b[0mtheta1\u001b[0m\u001b[0;34m)\u001b[0m\u001b[0;34m\u001b[0m\u001b[0;34m\u001b[0m\u001b[0m\n",
      "\u001b[0;31mSource:\u001b[0m   \n",
      "    \u001b[0;32mdef\u001b[0m \u001b[0mtranslation_jacobian\u001b[0m\u001b[0;34m(\u001b[0m\u001b[0mself\u001b[0m\u001b[0;34m,\u001b[0m\u001b[0mtheta1\u001b[0m\u001b[0;34m)\u001b[0m\u001b[0;34m:\u001b[0m\u001b[0;34m\u001b[0m\n",
      "\u001b[0;34m\u001b[0m        \u001b[0;34m''' Calculates the translation Jacobian of the 1-DoF planar\u001b[0m\n",
      "\u001b[0;34m           robot. '''\u001b[0m\u001b[0;34m\u001b[0m\n",
      "\u001b[0;34m\u001b[0m        \u001b[0;34m\u001b[0m\n",
      "\u001b[0;34m\u001b[0m        \u001b[0mj\u001b[0m \u001b[0;34m=\u001b[0m \u001b[0mself\u001b[0m\u001b[0;34m.\u001b[0m\u001b[0ml1_\u001b[0m\u001b[0;34m*\u001b[0m\u001b[0;34m(\u001b[0m\u001b[0;34m-\u001b[0m\u001b[0mi_\u001b[0m\u001b[0;34m*\u001b[0m\u001b[0msin\u001b[0m\u001b[0;34m(\u001b[0m\u001b[0mtheta1\u001b[0m\u001b[0;34m)\u001b[0m\u001b[0;34m+\u001b[0m\u001b[0mj_\u001b[0m\u001b[0;34m*\u001b[0m\u001b[0mcos\u001b[0m\u001b[0;34m(\u001b[0m\u001b[0mtheta1\u001b[0m\u001b[0;34m)\u001b[0m\u001b[0;34m)\u001b[0m\u001b[0;34m\u001b[0m\n",
      "\u001b[0;34m\u001b[0m        \u001b[0;32mreturn\u001b[0m \u001b[0mvec3\u001b[0m\u001b[0;34m(\u001b[0m\u001b[0mj\u001b[0m\u001b[0;34m)\u001b[0m\u001b[0;34m\u001b[0m\u001b[0;34m\u001b[0m\u001b[0m\n",
      "\u001b[0;31mFile:\u001b[0m      ~/git/OpenExecutableBooksRobotics/dqrobotics/lesson5/one_dof_planar_robot.py\n",
      "\u001b[0;31mType:\u001b[0m      function"
     ]
    }
   ],
   "source": [
    "OneDofPlanarRobot.translation_jacobian??"
   ]
  },
  {
   "cell_type": "code",
   "execution_count": 402,
   "metadata": {},
   "outputs": [
    {
     "name": "stdout",
     "output_type": "stream",
     "text": [
      "Corresponding end effector velocity\n"
     ]
    }
   ],
   "source": [
    "# Length\n",
    "l1 = 1\n",
    "\n",
    "# Create robot\n",
    "one_dof_planar_robot = OneDofPlanarRobot(l1)\n",
    "\n",
    "# theta1, in rad\n",
    "theta1 = -3.15\n",
    "# theta1_dot, in rad/s\n",
    "theta1_dot =0.36\n",
    "\n",
    "# Get the translation jacobian, based on theta\n",
    "Jt = one_dof_planar_robot.translation_jacobian(theta1)\n",
    "\n",
    "# Get the corresponding end effector velocity\n",
    "print(\"Corresponding end effector velocity\")"
   ]
  },
  {
   "cell_type": "code",
   "execution_count": 403,
   "metadata": {},
   "outputs": [
    {
     "name": "stdout",
     "output_type": "stream",
     "text": [
      "t_dot = [-0.00302661 -0.35998728 -0.        ]\n"
     ]
    }
   ],
   "source": [
    "t_dot = Jt*theta1_dot\n",
    "print(f\"t_dot = {t_dot}\")"
   ]
  },
  {
   "cell_type": "markdown",
   "metadata": {},
   "source": [
    "<a name=\"H_9D0F3DBF\"></a>\n",
    "### Inverse Differential Kinematics Model\n",
    "\n",
    "The inverse differential kinematics model (IDKM) is the inverse relation of the DKM: it maps task-space velocities into joint-space velocities.\n",
    "\n",
    "\n",
    "By inspecting our DKM, see how easy it is to invert the relation. We just need to left-multiply the equation by some type of inverse of the translation Jacobian. For instance, we can choose\n",
    "\n",
    "\n",
    "$$J_t^{\\textrm{inv}} \\left(\\theta_1 \\right)={\\textrm{vec}}_3 \\left\\lbrack \\frac{-\\hat{\\imath} \\sin \\left(\\theta_1 \\right)+\\hat{\\jmath} \\cos \\left(\\theta_1 \\right)}{l_1 }\\right\\rbrack$$\n",
    "\n",
    "which results in\n",
    "\n",
    "\n",
    "$${\\dot{\\theta} }_1 =J_t^{\\textrm{inv}} \\left(\\theta_1 \\right){\\dot{t} }_R^W (t).$$\n",
    "\n",
    "In practice, instead of finding a pseudo-inverse algebraically, we use numerical methods to find the (pseudo) inverse of the task Jacobian.\n",
    "\n",
    "\n",
    " ***Note: You certainly learned already that the inverse of a matrix only exists when the matrix is square and full-rank. For all other cases, you can resort to pseudo-inverses.***\n",
    "\n",
    "<a name=\"H_DF5007EA\"></a>\n",
    "#### DQ Robotics Example\n",
    "\n",
    "Using `dqrobotics`, we have an implementation of the singular-value decomposition pseudo-inverse to calculate the IDKM.\n"
   ]
  },
  {
   "cell_type": "code",
   "execution_count": 404,
   "metadata": {},
   "outputs": [
    {
     "name": "stdout",
     "output_type": "stream",
     "text": [
      "t_dot =  - 0.19i + 0.74j - 0.71k\n"
     ]
    }
   ],
   "source": [
    "# Length\n",
    "l1 = 1\n",
    "\n",
    "# Create robot\n",
    "one_dof_planar_robot = OneDofPlanarRobot(l1)\n",
    "\n",
    "# theta1, in rad\n",
    "theta1 = -2.27\n",
    "\n",
    "# vx, in m/s\n",
    "vx =-0.19\n",
    "# vy, in m/s\n",
    "vy =0.74\n",
    "# vz, in m/s\n",
    "vz =-0.71\n",
    "\n",
    "# Compose the end effector velocity into a pure quaternion\n",
    "t_dot = DQ([vx, vy, vz])\n",
    "print(f\"t_dot = {t_dot}\")"
   ]
  },
  {
   "cell_type": "code",
   "execution_count": 405,
   "metadata": {},
   "outputs": [
    {
     "name": "stdout",
     "output_type": "stream",
     "text": [
      "Corresponding joint velocity\n"
     ]
    }
   ],
   "source": [
    "\n",
    "# Get the translation jacobian, based on theta\n",
    "Jt = one_dof_planar_robot.translation_jacobian(theta1);\n",
    "\n",
    "# Get the corresponding joint velocity\n",
    "print(\"Corresponding joint velocity\")"
   ]
  },
  {
   "cell_type": "code",
   "execution_count": 406,
   "metadata": {},
   "outputs": [
    {
     "name": "stdout",
     "output_type": "stream",
     "text": [
      "theta_dot = [-0.62168767]\n"
     ]
    }
   ],
   "source": [
    "from dqrobotics.utils.DQ_LinearAlgebra import pinv\n",
    "\n",
    "theta_dot = pinv(Jt)@vec3(t_dot)\n",
    "print(f\"theta_dot = {theta_dot}\")"
   ]
  },
  {
   "cell_type": "markdown",
   "metadata": {},
   "source": [
    "<a name=\"H_C017FE25\"></a>\n",
    "### Task-space Velocity Control using the IDKM\n",
    "\n",
    "We are now equipped to design a simple open-loop task-space velocity controller.\n",
    "\n",
    "\n",
    "In our example with the 1-DoF planar robot, let the goal be to have the a constant task-space velocity, ${\\dot{t} }_d \\in {\\mathbb{H}}_p$ .\n",
    "\n",
    "\n",
    "Given the open-loop design, we can directly plug in the desired task-space velocity in the IDKM, which results in\n",
    "\n",
    "\n",
    "$${\\dot{\\theta} }_1 (t)=J_t^{\\textrm{inv}} \\left(\\theta_1 (t)\\right){\\textrm{vec}}_3 \\left({\\dot{t} }_d \\right).$$\n",
    "\n",
    "Some robots will allow you to control the joint velocity directly. However, for some robots you will only be able to control the joint positions. In this case, you can discretize the controller as follows\n",
    "\n",
    "\n",
    "$$\\theta_1 (t+\\tau )=\\theta_1 (t)+\\tau \\left\\lbrack J_t^{\\textrm{inv}} \\left(\\theta_1 (t)\\right){\\dot{t} }_d \\right\\rbrack ,$$\n",
    "\n",
    "where $\\tau \\in {\\mathbb{R}}^+ -\\lbrace 0\\rbrace$ is the sampling time.\n",
    "\n",
    "<a name=\"H_6F8FBF23\"></a>\n",
    "#### DQ Robotics Example\n",
    "\n",
    "For the following example, the discretized version of the open-loop velocity controller was implemented.\n",
    "\n",
    "\n",
    "You can set the initial joint values and the desired task-space velocity using the sliders. Click the \"run controller\" button to re-run the simulation.\n"
   ]
  },
  {
   "cell_type": "code",
   "execution_count": 407,
   "metadata": {},
   "outputs": [
    {
     "name": "stdout",
     "output_type": "stream",
     "text": [
      "Running control loop for 251 iterations.\n"
     ]
    }
   ],
   "source": [
    "import numpy as np\n",
    "\n",
    "# Length\n",
    "l1 = 1\n",
    "\n",
    "# Sampling time [s]\n",
    "tau = 0.001\n",
    "\n",
    "# Final time [s]\n",
    "time_final = 0.25\n",
    "\n",
    "# Number of iterations\n",
    "n_iterations = len(np.arange(0,time_final+tau,tau))\n",
    "\n",
    "# Create robot\n",
    "one_dof_planar_robot = OneDofPlanarRobot(l1)\n",
    "\n",
    "# Initial joint value [rad]\n",
    "theta1 = -3.58\n",
    "\n",
    "## Desired task-space velocity\n",
    "# vx [m/s]\n",
    "vx =3.29\n",
    "# vy [m/s]\n",
    "vy =3.7\n",
    "# vz [m/s]\n",
    "vz =3.5\n",
    "\n",
    "# Compose the end effector velocity into a pure quaternion\n",
    "td_dot = DQ([vx, vy, vz])\n",
    "\n",
    "# Store the current task-space velocity and the desired task-space velocity\n",
    "stored_td_dot = []\n",
    "stored_t_dot = []\n",
    "stored_time = []\n",
    "\n",
    "# Open Loop Velocity Control, run from t=0 to t=t_final\n",
    "print(f'Running control loop for {n_iterations} iterations.')"
   ]
  },
  {
   "cell_type": "code",
   "execution_count": 408,
   "metadata": {},
   "outputs": [],
   "source": [
    "time = 0\n",
    "for i in np.arange(0,time_final+tau,tau):\n",
    "    # Get the translation jacobian, based on theta\n",
    "    Jt = one_dof_planar_robot.translation_jacobian(theta1)\n",
    "\n",
    "    # Calculate the IDKM\n",
    "    theta1_dot = pinv(Jt)@vec3(td_dot)\n",
    "\n",
    "    # Move the robot\n",
    "    theta1 = theta1 + theta1_dot*tau\n",
    "\n",
    "    # Plot the robot\n",
    "    #one_dof_planar_robot.plot(theta1)\n",
    "    #drawnow; % [For animations only] Ask MATLAB to draw the plot now\n",
    "    #pause(0.001) % [For animations only] Pause so that MATLAB has enough time to draw the plot\n",
    "\n",
    "    # Store the variables so that we can analise the simulation results\n",
    "    stored_td_dot.append(vec3(td_dot))\n",
    "    stored_t_dot.append(Jt*theta1_dot) # We find the actual task velocity using the DKM\n",
    "    stored_time.append(time)\n",
    "\n",
    "    # Update time\n",
    "    time = time + tau"
   ]
  },
  {
   "cell_type": "markdown",
   "metadata": {},
   "source": [
    "\n",
    "We can plot the results of the simulations using the following function, which was implemented in [plot_td_dot_and_t_dot.m]\n"
   ]
  },
  {
   "cell_type": "code",
   "execution_count": 409,
   "metadata": {},
   "outputs": [],
   "source": [
    " # Plot desired and current task-space velocities\n",
    " #plot_td_dot_and_t_dot(stored_td_dot,stored_t_dot,stored_time)"
   ]
  },
  {
   "cell_type": "markdown",
   "metadata": {},
   "source": [
    "\n",
    "Note that, in general, this simple robot cannot mantain the desired velocity. The main reason for this is the geometry of the 1-DoF planar robot. As shown in detail when the IK was calculated, the velocity in the x-axis and the y-axis are coupled. In addition, we cannot control the velocity in the z-axis.\n",
    "\n",
    "<a name=\"H_D6F727CA\"></a>\n",
    "### Task-space position control using the IDKM\n",
    "\n",
    "Controlling the task-space variables (translation, rotation, or pose)  directly is in general more useful than controlling their velocities.\n",
    "\n",
    "\n",
    "In our example with the 1-DoF planar robot, let the goal be to reach a given task-space translation, $t_d \\in {\\mathbb{H}}_p$ .\n",
    "\n",
    "\n",
    "To do so, we start with the IDKM\n",
    "\n",
    "\n",
    "$${\\dot{\\theta} }_1 (t)=J_t^{\\textrm{inv}} \\left(\\theta_1 (t)\\right){\\dot{t} }_R^W (t).$$\n",
    "\n",
    "Remember that we can freely choose a ${\\dot{t} }_R^W (t)$ that is relevant to our task. Let us choose\n",
    "\n",
    "\n",
    "$${\\dot{t} }_R^W (t)=-\\eta \\left(t_R^W -{{t_d }}\\right),$$\n",
    "\n",
    "with $\\eta \\in {\\mathbb{R}}^+ -\\lbrace 0\\rbrace$ . The parameter $\\eta$ is used to control the convergence speed.\n",
    "\n",
    "\n",
    "The position controller becomes\n",
    "\n",
    "\n",
    "$${\\dot{\\theta} }_1 (t)=-\\eta J_t^{\\textrm{inv}} \\left(\\theta_1 \\right){\\textrm{vec}}_3 \\tilde{t} ,$$\n",
    "\n",
    "for  $\\tilde{t} =\\left(t_R^W -{{t_d }}\\right)$ .\n",
    "\n",
    "\n",
    "Note that $\\tilde{t}$ is a vector that points from the current end-effector position to the desired end-effector position. It is a type of error function.\n",
    "\n",
    "<a name=\"H_DC7D025E\"></a>\n",
    "#### Error convergence\n",
    "\n",
    "When designing controllers, it is important to guarantee that error norm converges to zero when time tends to infinity. In our example, this means\n",
    "\n",
    "\n",
    "$$\\lim_{t\\to \\infty } \\tilde{t} \\left(t\\right)=0$$\n",
    "\n",
    "When can show that this is true by inspecting the error dynamics. We do that by getting the first-order time-derivative of the error function. In our example,\n",
    "\n",
    "\n",
    "$$\\dot{\\tilde{t} } ={\\dot{t} }_R^W -{\\dot{t} }_d ={\\dot{t} }_R^W$$\n",
    "\n",
    "because the desired translation does not vary on time. Then, we can substitute the DKM to find\n",
    "\n",
    "\n",
    "$${\\textrm{vec}}_3 \\dot{\\tilde{t} } =J_t {\\dot{\\theta} }_1$$\n",
    "\n",
    "then, we can replace our controller\n",
    "\n",
    "\n",
    "$${\\textrm{vec}}_3 \\dot{\\tilde{t} } =-\\eta J_t J_t^{\\textrm{inv}} \\left(\\theta_1 \\right){\\textrm{vec}}_3 \\tilde{t}$$\n",
    "\n",
    "in general, we suppose that\n",
    "\n",
    "\n",
    "$$J_t J_t^{\\textrm{inv}} =I$$\n",
    "\n",
    "where $I$ is the identity matrix of suitable size. Hence, we have that\n",
    "\n",
    "\n",
    "$${\\textrm{vec}}_3 \\dot{\\tilde{t} } =-\\eta {\\textrm{vec}}_3 \\tilde{t} ,$$\n",
    "\n",
    "Which means that the error exponentially converges to zero when time tends to infinity.\n",
    "\n",
    "\n",
    " ***Note: In fact, the equation*** $J_t J_t^{\\textrm{inv}} =I$ ***does not hold in many situations (it also doesn't hold in our example, because of the coupling between the translations in the x-axis and the y-axis, and the z-axis translation can't be controlled at all).*** ***The point of this section is not to discuss this in detail, but just to give the reader a general idea of the reasoning behind task-space position control.***\n",
    "\n",
    "<a name=\"H_3C7C0E0C\"></a>\n",
    "#### DQ Robotics Example"
   ]
  },
  {
   "cell_type": "code",
   "execution_count": null,
   "metadata": {},
   "outputs": [
    {
     "ename": "AttributeError",
     "evalue": "'OneDofPlanarRobot' object has no attribute 'plot'",
     "output_type": "error",
     "traceback": [
      "\u001b[0;31m---------------------------------------------------------------------------\u001b[0m",
      "\u001b[0;31mAttributeError\u001b[0m                            Traceback (most recent call last)",
      "Cell \u001b[0;32mIn[410], line 52\u001b[0m\n\u001b[1;32m     49\u001b[0m theta1 \u001b[38;5;241m=\u001b[39m theta1 \u001b[38;5;241m+\u001b[39m theta1_dot\u001b[38;5;241m*\u001b[39mtau\n\u001b[1;32m     51\u001b[0m \u001b[38;5;66;03m# Plot the robot\u001b[39;00m\n\u001b[0;32m---> 52\u001b[0m \u001b[43mone_dof_planar_robot\u001b[49m\u001b[38;5;241;43m.\u001b[39;49m\u001b[43mplot\u001b[49m(theta1)\n\u001b[1;32m     54\u001b[0m \u001b[38;5;66;03m# Plot the desired position\u001b[39;00m\n\u001b[1;32m     55\u001b[0m \u001b[38;5;66;03m#hold on\u001b[39;00m\n\u001b[1;32m     56\u001b[0m \u001b[38;5;66;03m#plot(tx,ty,'bx')\u001b[39;00m\n\u001b[0;32m   (...)\u001b[0m\n\u001b[1;32m     60\u001b[0m \u001b[38;5;66;03m#drawnow; % [For animations only] Ask MATLAB to draw the plot now\u001b[39;00m\n\u001b[1;32m     61\u001b[0m \u001b[38;5;66;03m#pause(0.001) % [For animations only] Pause so that MATLAB has enough time to draw the plot\u001b[39;00m\n",
      "\u001b[0;31mAttributeError\u001b[0m: 'OneDofPlanarRobot' object has no attribute 'plot'"
     ]
    }
   ],
   "source": [
    "# Length\n",
    "l1 = 1\n",
    "\n",
    "# Sampling time [s]\n",
    "tau = 0.001\n",
    "\n",
    "# Control threshold [m/s]\n",
    "control_threshold = 0.01\n",
    "\n",
    "# Control gain\n",
    "eta = 200\n",
    "\n",
    "# Create robot\n",
    "one_dof_planar_robot = OneDofPlanarRobot(l1)\n",
    "\n",
    "# Initial joint value [rad]\n",
    "theta1 = 0\n",
    "\n",
    "# Desired task-space position\n",
    "# tx [m]\n",
    "tx =1.21\n",
    "# vy [m]\n",
    "ty =1\n",
    "\n",
    "# Compose the end effector position into a pure quaternion\n",
    "td = DQ([tx, ty, 0])\n",
    "\n",
    "# Position controller. The simulation ends when the\n",
    "# derivative of the error is below a threshold\n",
    "time = 0\n",
    "t_error_dot = DQ([1]) # Give it an initial high value\n",
    "t_error = DQ([1]) # Give it an initial high value\n",
    "while np.linalg.norm(vec4(t_error_dot)) > control_threshold:\n",
    "    # Get the current translation\n",
    "    t = one_dof_planar_robot.fkm(theta1)\n",
    "\n",
    "    # Calculate the error and old error\n",
    "    t_error_old = t_error\n",
    "    t_error = (t-td)\n",
    "    t_error_dot = (t_error-t_error_old)*(1.0/tau)\n",
    "\n",
    "    # Get the translation jacobian, based on theta\n",
    "    Jt = one_dof_planar_robot.translation_jacobian(theta1)\n",
    "\n",
    "    # Calculate the IDKM\n",
    "    theta1_dot = -eta*pinv(Jt)@vec3(t_error)\n",
    "\n",
    "    # Move the robot\n",
    "    theta1 = theta1 + theta1_dot*tau\n",
    "\n",
    "    # Plot the robot\n",
    "    #one_dof_planar_robot.plot(theta1)\n",
    "\n",
    "    # Plot the desired position\n",
    "    #hold on\n",
    "    #plot(tx,ty,'bx')\n",
    "    #hold off\n",
    "\n",
    "    # [For animations only]\n",
    "    #drawnow; % [For animations only] Ask MATLAB to draw the plot now\n",
    "    #pause(0.001) % [For animations only] Pause so that MATLAB has enough time to draw the plot"
   ]
  },
  {
   "cell_type": "markdown",
   "metadata": {},
   "source": [
    "<a name=\"T_6D33E10B\"></a>\n",
    "# <span style=\"color:rgb(213,80,0)\">Homework</span>\n",
    "\n",
    "(1) Following the format of [OneDofPlanarRobot.m], create a class called [TwoDofPlanarRobot.m] that represents a 2-DoF planar robot as shown in the following figure $l_1 ,l_2 \\in {\\mathbb{R}}^+ -0$ and $\\theta_1 ,\\theta_2 \\in \\mathbb{R}$ .\n",
    "\n",
    "<p style=\"text-align:left\"><img src=\"data:image/png;base64,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\" width=\"358\" alt=\"image_1.png\"></p>\n",
    "\n",
    "\n",
    "The class must have\n",
    "\n",
    "1.  A constructor that takes $l_1 ,l_2$ as inputs.\n",
    "2. A function that calculates the forward kinematics model (FKM) of the robot.\n",
    "3. A function that calculates the translation Jacobian of the robot.\n",
    "4. A plot function that plots the robot in 2D space.\n",
    "<a name=\"T_0F3F5BC1\"></a>\n",
    "\n",
    " **Note: You do** ***NOT*** **need to implement the IK function.**\n",
    "\n",
    "\n",
    "(2) With the class you created in (1), create a script called [two_dof_planar_robot_position_control.m] that implements a task-space translation controller. Control the robot from the initial posture $\\theta_1 (0)=0,\\theta_2 (0)=\\frac{\\pi }{2}$ to $t_d =2\\hat{\\jmath}$ .\n",
    "\n"
   ]
  }
 ],
 "metadata": {
  "kernelspec": {
   "display_name": ".venv",
   "language": "python",
   "name": "python3"
  },
  "language_info": {
   "codemirror_mode": {
    "name": "ipython",
    "version": 3
   },
   "file_extension": ".py",
   "mimetype": "text/x-python",
   "name": "python",
   "nbconvert_exporter": "python",
   "pygments_lexer": "ipython3",
   "version": "3.12.9"
  }
 },
 "nbformat": 4,
 "nbformat_minor": 4
}
