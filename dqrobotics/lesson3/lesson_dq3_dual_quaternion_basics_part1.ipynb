{
 "cells": [
  {
   "cell_type": "code",
   "metadata": {
    "ExecuteTime": {
     "end_time": "2025-04-22T09:59:04.052555Z",
     "start_time": "2025-04-22T09:59:04.045829Z"
    }
   },
   "source": [
    "%%capture\n",
    "'''\n",
    "(C) Copyright 2020-2025 Murilo Marques Marinho (murilomarinho@ieee.org)\n",
    "\n",
    "     This file is licensed in the terms of the\n",
    "     Attribution-NonCommercial-ShareAlike 4.0 International (CC BY-NC-SA 4.0)\n",
    "     license.\n",
    "\n",
    " Derivative work of:\n",
    " https://github.com/dqrobotics/learning-dqrobotics-in-matlab/tree/master/robotic_manipulators\n",
    " Contributors to this file:\n",
    "     Murilo Marques Marinho (murilomarinho@ieee.org)\n",
    "'''"
   ],
   "outputs": [],
   "execution_count": 185
  },
  {
   "cell_type": "markdown",
   "metadata": {},
   "source": [
    "# DQ3 Dual Quaternion Basics using DQ Robotics\n",
    "\n",
    "## I found an issue\n",
    "Thank you! Please report it at https://github.com/MarinhoLab/OpenExecutableBooksRobotics/issues\n",
    "\n",
    "## Introduction\n",
    "\n",
    "Before introducing dual quaternions, it is common practice to introduce the concept of dual numbers. Let us start with that.\n",
    "\n",
    "As always, let us make the essential installations and imports.\n"
   ]
  },
  {
   "cell_type": "code",
   "metadata": {
    "ExecuteTime": {
     "end_time": "2025-04-22T09:59:06.266650Z",
     "start_time": "2025-04-22T09:59:04.057829Z"
    }
   },
   "source": [
    "%%capture\n",
    "%pip install dqrobotics dqrobotics-pyplot\n",
    "%pip install dqrobotics dqrobotics-pyplot --break-system-packages"
   ],
   "outputs": [],
   "execution_count": 186
  },
  {
   "cell_type": "code",
   "metadata": {
    "ExecuteTime": {
     "end_time": "2025-04-22T09:59:06.288840Z",
     "start_time": "2025-04-22T09:59:06.285616Z"
    }
   },
   "source": [
    "from dqrobotics import *\n",
    "from dqrobotics_extensions.pyplot import plot\n",
    "import matplotlib.pyplot as plt\n",
    "from math import pi, sin, cos "
   ],
   "outputs": [],
   "execution_count": 187
  },
  {
   "cell_type": "markdown",
   "metadata": {},
   "source": [
    "<a name=\"H_8A18D41F\"></a>\n",
    "## Dual Numbers\n",
    "\n",
    "The set of dual numbers $\\mathbb{D}$ is yet a different way to extend $\\mathbb{R}$ . Any dual number can be written in the form\n",
    "\n",
    "\n",
    "$$\\underline{ d } =a+b\\varepsilon ,$$\n",
    "\n",
    "where $a,b\\in $ $\\mathbb{R}$ . The algebra of dual numbers is based on the following property of the nilpotent dual unit\n",
    "\n",
    "\n",
    "$$\\varepsilon \\not= 0,\\varepsilon^2 =0\\ldotp$$\n",
    "\n",
    "For instance, the dual number\n",
    "\n",
    "\n",
    "$${\\underline{ d } }_1 =10-239\\varepsilon$$\n",
    "\n",
    "can be written using DQ Robotics as follows.\n"
   ]
  },
  {
   "cell_type": "code",
   "metadata": {
    "ExecuteTime": {
     "end_time": "2025-04-22T09:59:06.299524Z",
     "start_time": "2025-04-22T09:59:06.297735Z"
    }
   },
   "source": [
    "d1 = 10 - 239*E_\n",
    "print(f\"d1 = {d1}\")"
   ],
   "outputs": [
    {
     "name": "stdout",
     "output_type": "stream",
     "text": [
      "d1 =  - 10 + E*(239)\n"
     ]
    }
   ],
   "execution_count": 188
  },
  {
   "cell_type": "markdown",
   "metadata": {},
   "source": [
    "\n",
    "Note that the properties of the dual unit hold.\n"
   ]
  },
  {
   "cell_type": "code",
   "metadata": {
    "ExecuteTime": {
     "end_time": "2025-04-22T09:59:06.325158Z",
     "start_time": "2025-04-22T09:59:06.322997Z"
    }
   },
   "source": [
    "E_"
   ],
   "outputs": [
    {
     "data": {
      "text/plain": [
       "E*(1)"
      ]
     },
     "execution_count": 189,
     "metadata": {},
     "output_type": "execute_result"
    }
   ],
   "execution_count": 189
  },
  {
   "cell_type": "code",
   "metadata": {
    "ExecuteTime": {
     "end_time": "2025-04-22T09:59:06.360075Z",
     "start_time": "2025-04-22T09:59:06.356867Z"
    }
   },
   "source": [
    "E_ * E_"
   ],
   "outputs": [
    {
     "data": {
      "text/plain": [
       "0"
      ]
     },
     "execution_count": 190,
     "metadata": {},
     "output_type": "execute_result"
    }
   ],
   "execution_count": 190
  },
  {
   "cell_type": "markdown",
   "metadata": {},
   "source": [
    "<a name=\"H_549D5E5F\"></a>\n",
    "### **Operations on dual numbers**\n",
    "\n",
    "The operations on dual numbers are very similar to the operations on real numbers. We just need to respect the property $\\varepsilon \\not= 0,\\varepsilon^2 =0\\ldotp$\n",
    "\n",
    "\n",
    "For instance, for the dual numbers\n",
    "\n",
    "\n",
    "$${\\underline{ d } }_1 =a_1 +{\\varepsilon b}_1,$$\n",
    "$${\\underline{d} }_2 =a_2 +{\\varepsilon b}_2.$$\n"
   ]
  },
  {
   "cell_type": "code",
   "metadata": {
    "ExecuteTime": {
     "end_time": "2025-04-22T09:59:06.383841Z",
     "start_time": "2025-04-22T09:59:06.381729Z"
    }
   },
   "source": [
    "d1 = 10 - 239*E_\n",
    "print(f\"d1 = {d1}\")"
   ],
   "outputs": [
    {
     "name": "stdout",
     "output_type": "stream",
     "text": [
      "d1 =  - 10 + E*(239)\n"
     ]
    }
   ],
   "execution_count": 191
  },
  {
   "cell_type": "code",
   "metadata": {
    "ExecuteTime": {
     "end_time": "2025-04-22T09:59:06.408783Z",
     "start_time": "2025-04-22T09:59:06.406549Z"
    }
   },
   "source": [
    "d2 = 55 + 32*E_\n",
    "print(f\"d2 = {d2}\")"
   ],
   "outputs": [
    {
     "name": "stdout",
     "output_type": "stream",
     "text": [
      "d2 = 55 + E*(32)\n"
     ]
    }
   ],
   "execution_count": 192
  },
  {
   "cell_type": "markdown",
   "metadata": {},
   "source": [
    "<a name=\"H_3C5A7462\"></a>\n",
    "#### Sum/Subtraction\n",
    "\n",
    "$${\\underline{ d } }_1 \\pm {\\underline{ d } }_2 =\\left(a_1 \\pm a_2 \\right)+\\left(b_1 \\pm b_2 \\right)\\varepsilon \\ldotp$$"
   ]
  },
  {
   "cell_type": "code",
   "metadata": {
    "ExecuteTime": {
     "end_time": "2025-04-22T09:59:06.434132Z",
     "start_time": "2025-04-22T09:59:06.431534Z"
    }
   },
   "source": [
    "d1 + d2"
   ],
   "outputs": [
    {
     "data": {
      "text/plain": [
       "45 + E*(271)"
      ]
     },
     "execution_count": 193,
     "metadata": {},
     "output_type": "execute_result"
    }
   ],
   "execution_count": 193
  },
  {
   "cell_type": "code",
   "metadata": {
    "ExecuteTime": {
     "end_time": "2025-04-22T09:59:06.476526Z",
     "start_time": "2025-04-22T09:59:06.474081Z"
    }
   },
   "source": [
    "d1 - d2"
   ],
   "outputs": [
    {
     "data": {
      "text/plain": [
       " - 65 + E*(207)"
      ]
     },
     "execution_count": 194,
     "metadata": {},
     "output_type": "execute_result"
    }
   ],
   "execution_count": 194
  },
  {
   "cell_type": "markdown",
   "metadata": {},
   "source": [
    "<a name=\"H_C41E75F0\"></a>\n",
    "#### Product\n",
    "\n",
    "In the dual number product, the nilpotent property of the dual unit shows.\n",
    "\n",
    "\n",
    "$$\\begin{array}{l} {\\underline{ d } }_1 {\\underline{ d } }_2 =\\left(a_1 a_2 \\right)+\\varepsilon \\left(a_1 b_2 +a_2 b_1 \\right)+\\varepsilon^2 \\left(b_1 b_2 \\right)\\\\ \\Rightarrow {\\underline{ d } }_1 {\\underline{ d } }_2 =\\left(a_1 a_2 \\right)+\\varepsilon \\left(a_1 b_2 +a_2 b_1 \\right) \\end{array}$$"
   ]
  },
  {
   "cell_type": "code",
   "metadata": {
    "ExecuteTime": {
     "end_time": "2025-04-22T09:59:06.513630Z",
     "start_time": "2025-04-22T09:59:06.510885Z"
    }
   },
   "source": [
    "d1 * d2"
   ],
   "outputs": [
    {
     "data": {
      "text/plain": [
       " - 550 + E*(12825)"
      ]
     },
     "execution_count": 195,
     "metadata": {},
     "output_type": "execute_result"
    }
   ],
   "execution_count": 195
  },
  {
   "cell_type": "markdown",
   "metadata": {},
   "source": [
    "<a name=\"H_DDDA7B43\"></a>\n",
    "#### Primary part\n",
    "\n",
    "The operator $P\\left(\\ldotp \\right)$ can be used to obtain the primary part of the dual number. (The primary part is that which is not multiplied by the dual unit)\n",
    "\n",
    "\n",
    "$$P\\left(\\underline{ d } \\right)=a.$$"
   ]
  },
  {
   "cell_type": "code",
   "metadata": {
    "ExecuteTime": {
     "end_time": "2025-04-22T09:59:06.542042Z",
     "start_time": "2025-04-22T09:59:06.539517Z"
    }
   },
   "source": [
    "P(d1)"
   ],
   "outputs": [
    {
     "data": {
      "text/plain": [
       " - 10"
      ]
     },
     "execution_count": 196,
     "metadata": {},
     "output_type": "execute_result"
    }
   ],
   "execution_count": 196
  },
  {
   "cell_type": "markdown",
   "metadata": {},
   "source": [
    "<a name=\"H_A0E8C6FA\"></a>\n",
    "#### **Dual part**\n",
    "\n",
    "The operator $D\\left(\\ldotp \\right)$ can be used to obtain the dual part of the dual number. (The dual number is that which is multiplied by the dual unit)\n",
    "\n",
    "\n",
    "$$D\\left(\\underline{ d } \\right) = b.$$"
   ]
  },
  {
   "cell_type": "code",
   "metadata": {
    "ExecuteTime": {
     "end_time": "2025-04-22T09:59:06.565870Z",
     "start_time": "2025-04-22T09:59:06.563455Z"
    }
   },
   "source": [
    "D(d1)"
   ],
   "outputs": [
    {
     "data": {
      "text/plain": [
       "239"
      ]
     },
     "execution_count": 197,
     "metadata": {},
     "output_type": "execute_result"
    }
   ],
   "execution_count": 197
  },
  {
   "cell_type": "markdown",
   "metadata": {},
   "source": [
    "<a name=\"H_885A6D6B\"></a>\n",
    "## **Dual quaternions**\n",
    "\n",
    "When we extend the concept of dual numbers to be composed of two quaternions, we have what we call dual quaternions. They compose the set $\\mathcal{H}$ and can always be written in the form\n",
    "\n",
    "\n",
    "$$\\underline{\\mathit{\\mathbf{h}}} =\\mathit{\\mathbf{h}}+\\mathit{\\mathbf{h}}^{\\prime} \\varepsilon,$$\n",
    "\n",
    "where $\\mathit{\\mathbf{h}},\\mathit{\\mathbf{h}}^{\\prime} \\in $ $\\mathbb{H}$ .\n",
    "\n",
    "\n",
    "Note that $\\mathbb{R}\\subset \\mathcal{H}$ , $\\mathbb{C}\\subset \\mathcal{H}$ , $\\mathbb{H}\\subset \\mathcal{H}$ , $\\mathbb{D}\\subset \\mathcal{H}$ . That is, the real numbers, the complex numbers, the quaternions, and the dual numbers are all subsets of dual quaternions.\n",
    "\n",
    "\n",
    "For instance, the dual quaternion\n",
    "\n",
    "\n",
    "$${\\underline{\\mathit{\\mathbf{h}}} }_1 =5+6\\hat{\\imath } +7\\hat{\\jmath } +8\\hat{k} +\\varepsilon \\left(9+15\\hat{\\imath } +7\\hat{\\jmath } +8\\hat{k} \\right)$$\n",
    "\n",
    "can be written using DQ Robotics as follows\n"
   ]
  },
  {
   "cell_type": "code",
   "metadata": {
    "ExecuteTime": {
     "end_time": "2025-04-22T09:59:06.591839Z",
     "start_time": "2025-04-22T09:59:06.589854Z"
    }
   },
   "source": [
    "h1 = 5 + 6*i_ + 7*j_ + 8*k_ + E_*(9 + 15*i_ + 7*j_ + 8*k_)\n",
    "print(f\"h1 = {h1}\")"
   ],
   "outputs": [
    {
     "name": "stdout",
     "output_type": "stream",
     "text": [
      "h1 = 5 + 6i + 7j + 8k + E*(9 + 15i + 7j + 8k)\n"
     ]
    }
   ],
   "execution_count": 198
  },
  {
   "cell_type": "markdown",
   "metadata": {},
   "source": [
    "<a name=\"H_F2FDC5E8\"></a>\n",
    "### Operations on dual quaternions\n",
    "\n",
    "Considering ${\\underline{\\mathit{\\mathbf{h}}} }_1 ,{\\underline{\\mathit{\\mathbf{h}}} }_2 \\in $ $\\mathcal{H}$ , for example.\n"
   ]
  },
  {
   "cell_type": "code",
   "metadata": {
    "ExecuteTime": {
     "end_time": "2025-04-22T09:59:06.618327Z",
     "start_time": "2025-04-22T09:59:06.616182Z"
    }
   },
   "source": [
    "h1 = 5 + 6*i_ + 7*j_ + 8*k_ + E_*(9 + 15*i_ + 7*j_ + 8*k_)\n",
    "print(f\"h1 = {h1}\")"
   ],
   "outputs": [
    {
     "name": "stdout",
     "output_type": "stream",
     "text": [
      "h1 = 5 + 6i + 7j + 8k + E*(9 + 15i + 7j + 8k)\n"
     ]
    }
   ],
   "execution_count": 199
  },
  {
   "cell_type": "code",
   "metadata": {
    "ExecuteTime": {
     "end_time": "2025-04-22T09:59:06.642748Z",
     "start_time": "2025-04-22T09:59:06.640701Z"
    }
   },
   "source": [
    "h2 = -25 + 1*k_ + E_*( 7*j_ + 8*k_)\n",
    "print(f\"h2 = {h2}\")"
   ],
   "outputs": [
    {
     "name": "stdout",
     "output_type": "stream",
     "text": [
      "h2 =  - 25 + 1k + E*(7j + 8k)\n"
     ]
    }
   ],
   "execution_count": 200
  },
  {
   "cell_type": "markdown",
   "metadata": {},
   "source": [
    "<a name=\"H_9FCFEB1E\"></a>\n",
    "#### Sum/Subtraction\n",
    "\n",
    "$${\\underline{\\mathit{\\mathbf{h}}} }_1 \\pm {\\underline{\\mathit{\\mathbf{h}}} }_2 =\\left({\\mathit{\\mathbf{h}}}_1 \\pm {\\mathit{\\mathbf{h}}}_2 \\right)+\\varepsilon \\left({\\mathit{\\mathbf{h}}}_1^{\\prime } \\pm {\\mathit{\\mathbf{h}}}_2^{\\prime } \\right).$$"
   ]
  },
  {
   "cell_type": "code",
   "metadata": {
    "ExecuteTime": {
     "end_time": "2025-04-22T09:59:06.667686Z",
     "start_time": "2025-04-22T09:59:06.665264Z"
    }
   },
   "source": [
    "h1 + h2"
   ],
   "outputs": [
    {
     "data": {
      "text/plain": [
       " - 20 + 6i + 7j + 9k + E*(9 + 15i + 14j + 16k)"
      ]
     },
     "execution_count": 201,
     "metadata": {},
     "output_type": "execute_result"
    }
   ],
   "execution_count": 201
  },
  {
   "cell_type": "code",
   "metadata": {
    "ExecuteTime": {
     "end_time": "2025-04-22T09:59:06.690630Z",
     "start_time": "2025-04-22T09:59:06.688291Z"
    }
   },
   "source": [
    "h1 - h2"
   ],
   "outputs": [
    {
     "data": {
      "text/plain": [
       "30 + 6i + 7j + 7k + E*(9 + 15i)"
      ]
     },
     "execution_count": 202,
     "metadata": {},
     "output_type": "execute_result"
    }
   ],
   "execution_count": 202
  },
  {
   "cell_type": "markdown",
   "metadata": {},
   "source": [
    "<a name=\"H_19AB0712\"></a>\n",
    "#### **Multiplication**\n",
    "\n",
    "$${\\underline{\\mathit{\\mathbf{h}}} }_1 {\\underline{\\mathit{\\mathbf{h}}} }_2 =\\left({\\mathit{\\mathbf{h}}}_1 {\\mathit{\\mathbf{h}}}_2 \\right)+\\varepsilon \\left({\\mathit{\\mathbf{h}}}_1 {\\mathit{\\mathbf{h}}}_2^{\\prime } +{\\mathit{\\mathbf{h}}}_2 {\\mathit{\\mathbf{h}}}_1^{\\prime } \\right).$$"
   ]
  },
  {
   "cell_type": "code",
   "metadata": {
    "ExecuteTime": {
     "end_time": "2025-04-22T09:59:06.713349Z",
     "start_time": "2025-04-22T09:59:06.710882Z"
    }
   },
   "source": [
    "h1 * h2"
   ],
   "outputs": [
    {
     "data": {
      "text/plain": [
       " - 133 - 143i - 181j - 195k + E*( - 346 - 368i - 203j - 109k)"
      ]
     },
     "execution_count": 203,
     "metadata": {},
     "output_type": "execute_result"
    }
   ],
   "execution_count": 203
  },
  {
   "cell_type": "markdown",
   "metadata": {},
   "source": [
    "\n",
    "Notice that the multiplication between dual quaternions is, ***in general***, NOT COMMUTATIVE.\n",
    "\n",
    "\n",
    "$${\\mathit{\\mathbf{h}}}_1 {\\mathit{\\mathbf{h}}}_2 \\not= {{\\mathit{\\mathbf{h}}}_2 \\mathit{\\mathbf{h}}}_1.$$"
   ]
  },
  {
   "cell_type": "code",
   "metadata": {
    "ExecuteTime": {
     "end_time": "2025-04-22T09:59:06.737659Z",
     "start_time": "2025-04-22T09:59:06.735914Z"
    }
   },
   "source": [
    "h3 = h1 * h2\n",
    "print(f\"h3 = {h3}\")"
   ],
   "outputs": [
    {
     "name": "stdout",
     "output_type": "stream",
     "text": [
      "h3 =  - 133 - 143i - 181j - 195k + E*( - 346 - 368i - 203j - 109k)\n"
     ]
    }
   ],
   "execution_count": 204
  },
  {
   "cell_type": "code",
   "metadata": {
    "ExecuteTime": {
     "end_time": "2025-04-22T09:59:06.760409Z",
     "start_time": "2025-04-22T09:59:06.758741Z"
    }
   },
   "source": [
    "h4 = h2 * h1\n",
    "print(f\"h4 = {h4}\")"
   ],
   "outputs": [
    {
     "name": "stdout",
     "output_type": "stream",
     "text": [
      "h4 =  - 133 - 157i - 169j - 195k + E*( - 346 - 382i - 77j - 193k)\n"
     ]
    }
   ],
   "execution_count": 205
  },
  {
   "cell_type": "code",
   "metadata": {
    "ExecuteTime": {
     "end_time": "2025-04-22T09:59:06.783389Z",
     "start_time": "2025-04-22T09:59:06.781372Z"
    }
   },
   "source": [
    "if h3==h4:\n",
    "    print('h1*h2 is equal to h2*h1')\n",
    "else:\n",
    "    print('h1*h2 is not equal to h2*h1')\n"
   ],
   "outputs": [
    {
     "name": "stdout",
     "output_type": "stream",
     "text": [
      "h1*h2 is not equal to h2*h1\n"
     ]
    }
   ],
   "execution_count": 206
  },
  {
   "cell_type": "markdown",
   "metadata": {},
   "source": [
    "<a name=\"H_88C1E409\"></a>\n",
    "#### Conjugation\n",
    "\n",
    "The conjugate of the dual quaternion is obtained by taking the conjugate of the primary part and the dual part of the dual quaternion. Both of which are quaternions. This same logic applies for many other operators.\n",
    "\n",
    "\n",
    "$${\\left({\\underline{\\mathit{\\mathbf{h}}} }_1 \\right)}^* ={\\left({\\mathit{\\mathbf{h}}}_1 \\right)}^* +{\\varepsilon \\left({\\mathit{\\mathbf{h}}}_1^{\\prime } \\right)}^*.$$"
   ]
  },
  {
   "cell_type": "code",
   "metadata": {
    "ExecuteTime": {
     "end_time": "2025-04-22T09:59:06.807727Z",
     "start_time": "2025-04-22T09:59:06.805091Z"
    }
   },
   "source": [
    "conj(h1)"
   ],
   "outputs": [
    {
     "data": {
      "text/plain": [
       "5 - 6i - 7j - 8k + E*(9 - 15i - 7j - 8k)"
      ]
     },
     "execution_count": 207,
     "metadata": {},
     "output_type": "execute_result"
    }
   ],
   "execution_count": 207
  },
  {
   "cell_type": "markdown",
   "metadata": {},
   "source": [
    "\n",
    "**Norm**\n",
    "\n",
    "\n",
    "$$\\left|\\right|{\\underline{\\mathit{\\mathbf{h}}} }_1 \\left|\\right|=\\sqrt{{\\underline{\\mathit{\\mathbf{h}}} }_1 {\\left({\\underline{\\mathit{\\mathbf{h}}} }_1 \\right)}^* }.$$"
   ]
  },
  {
   "cell_type": "code",
   "metadata": {
    "ExecuteTime": {
     "end_time": "2025-04-22T09:59:06.843164Z",
     "start_time": "2025-04-22T09:59:06.839700Z"
    }
   },
   "source": [
    "norm(h1)"
   ],
   "outputs": [
    {
     "data": {
      "text/plain": [
       "13.190906 + E*(18.800831)"
      ]
     },
     "execution_count": 208,
     "metadata": {},
     "output_type": "execute_result"
    }
   ],
   "execution_count": 208
  },
  {
   "cell_type": "markdown",
   "metadata": {},
   "source": [
    "<a name=\"H_6202B6BC\"></a>\n",
    "#### Real part\n",
    "\n",
    "$$\\textrm{Re}\\left({\\underline{\\mathit{\\mathbf{h}}} }_1 \\right)=\\textrm{Re}\\left({\\mathit{\\mathbf{h}}}_1 \\right)+\\epsilon \\textrm{Re}\\left({\\mathit{\\mathbf{h}}}_1^{\\prime } \\right).$$"
   ]
  },
  {
   "cell_type": "code",
   "metadata": {
    "ExecuteTime": {
     "end_time": "2025-04-22T09:59:06.877255Z",
     "start_time": "2025-04-22T09:59:06.874859Z"
    }
   },
   "source": [
    "Re(h1)"
   ],
   "outputs": [
    {
     "data": {
      "text/plain": [
       "5 + E*(9)"
      ]
     },
     "execution_count": 209,
     "metadata": {},
     "output_type": "execute_result"
    }
   ],
   "execution_count": 209
  },
  {
   "cell_type": "markdown",
   "metadata": {},
   "source": [
    "\n",
    "If the real part of a dual quaternion is zero, it is called a *pure dual quaternion*, and belongs to the set ${\\mathcal{H}}_p$ .\n",
    "\n",
    "<a name=\"H_8897FE36\"></a>\n",
    "#### Imaginary part\n",
    "\n",
    "$$\\textrm{Im}\\left({\\underline{\\mathit{\\mathbf{h}}} }_1 \\right)=\\textrm{Im}\\left({\\mathit{\\mathbf{h}}}_1 \\right)+\\epsilon \\textrm{Im}\\left({\\mathit{\\mathbf{h}}}_1^{\\prime } \\right).$$"
   ]
  },
  {
   "cell_type": "code",
   "metadata": {
    "ExecuteTime": {
     "end_time": "2025-04-22T09:59:06.908512Z",
     "start_time": "2025-04-22T09:59:06.904654Z"
    }
   },
   "source": [
    "Im(h1)"
   ],
   "outputs": [
    {
     "data": {
      "text/plain": [
       "6i + 7j + 8k + E*(15i + 7j + 8k)"
      ]
     },
     "execution_count": 210,
     "metadata": {},
     "output_type": "execute_result"
    }
   ],
   "execution_count": 210
  },
  {
   "cell_type": "markdown",
   "metadata": {},
   "source": [
    "\n",
    "If the imaginary part of a dual quaternion is zero, it is a dual number.\n",
    "\n",
    "<a name=\"H_55D1217E\"></a>\n",
    "#### Primary part\n",
    "\n",
    "$$P\\left({\\underline{\\mathit{\\mathbf{h}}} }_1 \\right)={\\mathit{\\mathbf{h}}}_1.$$"
   ]
  },
  {
   "cell_type": "code",
   "metadata": {
    "ExecuteTime": {
     "end_time": "2025-04-22T09:59:06.934270Z",
     "start_time": "2025-04-22T09:59:06.929490Z"
    }
   },
   "source": [
    "P(h1)"
   ],
   "outputs": [
    {
     "data": {
      "text/plain": [
       "5 + 6i + 7j + 8k"
      ]
     },
     "execution_count": 211,
     "metadata": {},
     "output_type": "execute_result"
    }
   ],
   "execution_count": 211
  },
  {
   "cell_type": "markdown",
   "metadata": {},
   "source": [
    "<a name=\"H_C40A3A46\"></a>\n",
    "#### **Dual part**\n",
    "\n",
    "$$D\\left({\\underline{\\mathit{\\mathbf{h}}} }_1 \\right)={\\mathit{\\mathbf{h}}}_1^{\\prime }.$$"
   ]
  },
  {
   "cell_type": "code",
   "metadata": {
    "ExecuteTime": {
     "end_time": "2025-04-22T09:59:06.957963Z",
     "start_time": "2025-04-22T09:59:06.954676Z"
    }
   },
   "source": [
    "D(h1)"
   ],
   "outputs": [
    {
     "data": {
      "text/plain": [
       "9 + 15i + 7j + 8k"
      ]
     },
     "execution_count": 212,
     "metadata": {},
     "output_type": "execute_result"
    }
   ],
   "execution_count": 212
  },
  {
   "cell_type": "markdown",
   "metadata": {},
   "source": [
    "<a name=\"H_40C5166D\"></a>\n",
    "#### Vec6\n",
    "\n",
    "The imaginary part of dual quaternions can be mapped to ${\\mathbb{R}}^6$ as follows\n",
    "\n",
    "\n",
    "$${\\textrm{vec}}_6 \\left({\\underline{\\mathit{\\mathbf{h}}} }_1 \\right)=\\left\\lbrack \\begin{array}{c} {\\textrm{vec}}_3 \\left({\\mathit{\\mathbf{h}}}_1 \\right)\\\\ {\\textrm{vec}}_3 \\left({\\mathit{\\mathbf{h}}}_1^{\\prime } \\right) \\end{array}\\right\\rbrack.$$"
   ]
  },
  {
   "cell_type": "code",
   "metadata": {
    "ExecuteTime": {
     "end_time": "2025-04-22T09:59:06.980228Z",
     "start_time": "2025-04-22T09:59:06.976430Z"
    }
   },
   "source": [
    "vec6(h1)"
   ],
   "outputs": [
    {
     "data": {
      "text/plain": [
       "array([ 6.,  7.,  8., 15.,  7.,  8.])"
      ]
     },
     "execution_count": 213,
     "metadata": {},
     "output_type": "execute_result"
    }
   ],
   "execution_count": 213
  },
  {
   "cell_type": "markdown",
   "metadata": {},
   "source": [
    "<a name=\"H_22949A8D\"></a>\n",
    "#### Vec8\n",
    "\n",
    "Quaternions can be mapped to ${\\mathbb{R}}^8$ as follows\n",
    "\n",
    "\n",
    "$${\\textrm{vec}}_4 \\left({\\underline{\\mathit{\\mathbf{h}}} }_1 \\right)=\\left\\lbrack \\begin{array}{c} {\\textrm{vec}}_4 \\left({\\mathit{\\mathbf{h}}}_1 \\right)\\\\ {\\textrm{vec}}_4 \\left({\\mathit{\\mathbf{h}}}_1^{\\prime } \\right) \\end{array}\\right\\rbrack$$"
   ]
  },
  {
   "cell_type": "code",
   "metadata": {
    "ExecuteTime": {
     "end_time": "2025-04-22T09:59:07.002365Z",
     "start_time": "2025-04-22T09:59:06.999617Z"
    }
   },
   "source": [
    "vec8(h1)"
   ],
   "outputs": [
    {
     "data": {
      "text/plain": [
       "array([ 5.,  6.,  7.,  8.,  9., 15.,  7.,  8.])"
      ]
     },
     "execution_count": 214,
     "metadata": {},
     "output_type": "execute_result"
    }
   ],
   "execution_count": 214
  },
  {
   "cell_type": "markdown",
   "metadata": {},
   "source": [
    "<a name=\"H_1ADD63E3\"></a>\n",
    "#### Hamilton Operators\n",
    "\n",
    "The hamilton operators are useful to provide a form of commutativity in the dual quaternion multiplication.\n",
    "\n",
    "\n",
    "$${\\textrm{vec}}_8 \\left({\\underline{\\mathit{\\mathbf{h}}} }_1 {\\underline{\\mathit{\\mathbf{h}}} }_2 \\right)=\\overset{+}{{\\mathit{\\mathbf{H}}}_8 } \\left({\\underline{\\mathit{\\mathbf{h}}} }_1 \\right){\\textrm{vec}}_8 \\left({\\underline{\\mathit{\\mathbf{h}}} }_2 \\right)=\\overset{-}{{\\mathit{\\mathbf{H}}}_8 } \\left({\\underline{\\mathit{\\mathbf{h}}} }_2 \\right){\\textrm{vec}}_8 \\left({\\underline{\\mathit{\\mathbf{h}}} }_1 \\right)$$"
   ]
  },
  {
   "cell_type": "code",
   "metadata": {
    "ExecuteTime": {
     "end_time": "2025-04-22T09:59:07.027955Z",
     "start_time": "2025-04-22T09:59:07.025642Z"
    }
   },
   "source": [
    "vec8(h1*h2)"
   ],
   "outputs": [
    {
     "data": {
      "text/plain": [
       "array([-133., -143., -181., -195., -346., -368., -203., -109.])"
      ]
     },
     "execution_count": 215,
     "metadata": {},
     "output_type": "execute_result"
    }
   ],
   "execution_count": 215
  },
  {
   "cell_type": "code",
   "metadata": {
    "ExecuteTime": {
     "end_time": "2025-04-22T09:59:07.059134Z",
     "start_time": "2025-04-22T09:59:07.055931Z"
    }
   },
   "source": [
    "hamiplus8(h1)*vec8(h2)"
   ],
   "outputs": [
    {
     "data": {
      "text/plain": [
       "array([[-125.,   -0.,   -0.,   -8.,    0.,    0.,    0.,    0.],\n",
       "       [-150.,    0.,   -0.,    7.,    0.,    0.,    0.,    0.],\n",
       "       [-175.,    0.,    0.,   -6.,    0.,    0.,    0.,    0.],\n",
       "       [-200.,   -0.,    0.,    5.,    0.,    0.,    0.,    0.],\n",
       "       [-225.,   -0.,   -0.,   -8.,    0.,   -0.,  -49.,  -64.],\n",
       "       [-375.,    0.,   -0.,    7.,    0.,    0.,  -56.,   56.],\n",
       "       [-175.,    0.,    0.,  -15.,    0.,    0.,   35.,  -48.],\n",
       "       [-200.,   -0.,    0.,    9.,    0.,   -0.,   42.,   40.]])"
      ]
     },
     "execution_count": 216,
     "metadata": {},
     "output_type": "execute_result"
    }
   ],
   "execution_count": 216
  },
  {
   "cell_type": "code",
   "metadata": {
    "ExecuteTime": {
     "end_time": "2025-04-22T09:59:07.109952Z",
     "start_time": "2025-04-22T09:59:07.107510Z"
    }
   },
   "source": [
    "haminus8(h2)*vec8(h1)"
   ],
   "outputs": [
    {
     "data": {
      "text/plain": [
       "array([[-125.,   -0.,   -0.,   -8.,    0.,    0.,    0.,    0.],\n",
       "       [   0., -150.,    7.,   -0.,    0.,    0.,    0.,    0.],\n",
       "       [   0.,   -6., -175.,    0.,    0.,    0.,    0.,    0.],\n",
       "       [   5.,    0.,   -0., -200.,    0.,    0.,    0.,    0.],\n",
       "       [   0.,   -0.,  -49.,  -64., -225.,   -0.,   -0.,   -8.],\n",
       "       [   0.,    0.,   56.,  -56.,    0., -375.,    7.,   -0.],\n",
       "       [  35.,  -48.,    0.,    0.,    0.,  -15., -175.,    0.],\n",
       "       [  40.,   42.,   -0.,    0.,    9.,    0.,   -0., -200.]])"
      ]
     },
     "execution_count": 217,
     "metadata": {},
     "output_type": "execute_result"
    }
   ],
   "execution_count": 217
  },
  {
   "cell_type": "markdown",
   "metadata": {},
   "source": [
    "<a name=\"H_65EB895C\"></a>\n",
    "## Unit Dual Quaternions motion of rigid bodies\n",
    "\n",
    "Unit dual quaternions compose the set $\\underline{{\\mathcal{S}}}$ , which represent pose transformations of the reference frame of rigid bodies in three dimensional space.\n",
    "\n",
    "\n",
    "A unit dual quaternion representing a translation followed by a rotation can always be written in the form\n",
    "\n",
    "\n",
    "$$\\underline{\\mathit{\\mathbf{x}}} =\\mathit{\\mathbf{r}}+\\varepsilon \\frac{1}{2}\\mathit{\\mathbf{t}}\\ldotp \\mathit{\\mathbf{r}}$$\n",
    "\n",
    "where $\\mathit{\\mathbf{r}}\\in$ ${\\mathbb{S}}^3$ is the unit-norm quaternion representing the rotation; and $t$ $\\in {\\mathbb{H}}_p$ is the quaternion representing the translation.\n",
    "\n",
    "\n",
    "Remember this nomenclature:\n",
    "\n",
    "-  $t$ $\\in {\\mathbb{H}}_p$ is a translation.\n",
    "-  $\\mathit{\\mathbf{r}}\\in$ ${\\mathbb{S}}^3$ is a rotation.\n",
    "-  $\\underline{\\mathit{\\mathbf{x}}}$ $\\in$ $\\underline{{\\mathcal{S}}}$ is a pose transformation (combined translation and rotation).\n",
    "\n",
    "Unit-norm dual-quaternions, as the name says, have unit norm\n",
    "\n",
    "\n",
    "$$\\left|\\right|\\underline{\\mathit{\\mathbf{x}}}\\left|\\right|=1\\ldotp$$\n",
    "\n",
    "For instance, to represent the translation of 1 meter about the y-axis,\n",
    "\n",
    "\n",
    "$${\\mathit{\\mathbf{t}}}_1 =\\hat{\\jmath }.$$"
   ]
  },
  {
   "cell_type": "code",
   "metadata": {
    "ExecuteTime": {
     "end_time": "2025-04-22T09:59:07.196755Z",
     "start_time": "2025-04-22T09:59:07.194638Z"
    }
   },
   "source": [
    "t1 = j_\n",
    "print(f\"t1 = {t1}\")"
   ],
   "outputs": [
    {
     "name": "stdout",
     "output_type": "stream",
     "text": [
      "t1 = 1j\n"
     ]
    }
   ],
   "execution_count": 218
  },
  {
   "cell_type": "markdown",
   "metadata": {},
   "source": [
    "\n",
    "followed by a rotation of $\\frac{\\pi }{2}$ rad about the x-axis,\n",
    "\n",
    "\n",
    "$$r_1 =\\cos \\left(\\frac{\\pi }{4}\\right)+\\hat{\\imath } \\sin \\left(\\frac{\\pi }{4}\\right)$$"
   ]
  },
  {
   "cell_type": "code",
   "metadata": {
    "ExecuteTime": {
     "end_time": "2025-04-22T09:59:07.238341Z",
     "start_time": "2025-04-22T09:59:07.236100Z"
    }
   },
   "source": [
    "r1 = cos(pi/4) + i_*sin(pi/4)\n",
    "print(f\"r1 = {r1}\")"
   ],
   "outputs": [
    {
     "name": "stdout",
     "output_type": "stream",
     "text": [
      "r1 = 0.707107 + 0.707107i\n"
     ]
    }
   ],
   "execution_count": 219
  },
  {
   "cell_type": "markdown",
   "metadata": {},
   "source": [
    "\n",
    "the pose transformation will be\n",
    "\n",
    "\n",
    "$${\\underline{\\mathit{\\mathbf{x}}} }_1 ={\\mathit{\\mathbf{r}}}_1 +\\varepsilon \\frac{1}{2}{\\mathit{\\mathbf{t}}}_1 {\\mathit{\\mathbf{r}}}_1 =\\cos \\left(\\frac{\\pi }{4}\\right)+\\hat{\\imath } \\sin \\left(\\frac{\\pi }{4}\\right)+\\frac{1}{2}\\varepsilon \\left(\\hat{\\jmath } \\cos \\left(\\frac{\\pi }{4}\\right)-\\hat{k} \\sin \\left(\\frac{\\pi }{4}\\right)\\right)$$"
   ]
  },
  {
   "cell_type": "code",
   "metadata": {
    "ExecuteTime": {
     "end_time": "2025-04-22T09:59:07.271289Z",
     "start_time": "2025-04-22T09:59:07.268766Z"
    }
   },
   "source": [
    "x1 = r1 + 0.5*E_*t1*r1\n",
    "print(f\"x1 = {x1}\")"
   ],
   "outputs": [
    {
     "name": "stdout",
     "output_type": "stream",
     "text": [
      "x1 = 0.707107 + 0.707107i + E*(0.353553j - 0.353553k)\n"
     ]
    }
   ],
   "execution_count": 220
  },
  {
   "cell_type": "markdown",
   "metadata": {},
   "source": [
    "\n",
    "We can check that ${\\underline{\\mathit{\\mathbf{x}}} }_1$ indeed has unit norm\n"
   ]
  },
  {
   "cell_type": "code",
   "metadata": {
    "ExecuteTime": {
     "end_time": "2025-04-22T09:59:07.295527Z",
     "start_time": "2025-04-22T09:59:07.292996Z"
    }
   },
   "source": [
    "norm(x1)"
   ],
   "outputs": [
    {
     "data": {
      "text/plain": [
       "1"
      ]
     },
     "execution_count": 221,
     "metadata": {},
     "output_type": "execute_result"
    }
   ],
   "execution_count": 221
  },
  {
   "cell_type": "markdown",
   "metadata": {},
   "source": [
    "#### Dual quaternion double-cover property\n",
    "\n",
    "Given the way that the pose transformation is based on quaternions, the double cover also extends to dual quaternions.\n",
    "\n",
    "\n",
    "$${\\underline{\\mathit{\\mathbf{x}}} }_1$$\n",
    "\n",
    "and\n",
    "\n",
    "\n",
    "$$-{\\underline{\\mathit{\\mathbf{x}}} }_1$$\n",
    "\n",
    "represent the same pose transformation.\n",
    "\n",
    "#### No pose transformation\n",
    "\n",
    "The dual quaternion that represents that there is no pose transformation is\n",
    "\n",
    "\n",
    "$${\\underline{\\mathit{\\mathbf{x}}} }_1 =1$$"
   ]
  },
  {
   "cell_type": "code",
   "metadata": {
    "ExecuteTime": {
     "end_time": "2025-04-22T09:59:07.320912Z",
     "start_time": "2025-04-22T09:59:07.319116Z"
    }
   },
   "source": [
    "x1 = DQ([1])"
   ],
   "outputs": [],
   "execution_count": 222
  },
  {
   "cell_type": "markdown",
   "metadata": {},
   "source": [
    "#### Plotting unit dual quaternions\n",
    "\n",
    "Using DQ Robotics, unit dual quaternions can be plotted on screen the same way as unit quaternions.\n"
   ]
  },
  {
   "cell_type": "code",
   "metadata": {
    "ExecuteTime": {
     "end_time": "2025-04-22T09:59:07.393525Z",
     "start_time": "2025-04-22T09:59:07.329321Z"
    }
   },
   "source": [
    "def setup_plot():\n",
    "    plt.xlabel('x [m]')\n",
    "    plt.xlim([-0.3, 0.3])\n",
    "    plt.ylabel('y [m]')\n",
    "    plt.ylim([-0.3, 0.3])\n",
    "    plt.gca().set_zlabel('z [m]')\n",
    "    plt.gca().set_zlim([-0.3, 0.3])\n",
    "    plt.tight_layout()\n",
    "\n",
    "plt.figure()\n",
    "ax = plt.axes(projection='3d')\n",
    "plot(x1)\n",
    "setup_plot()\n",
    "plt.show()"
   ],
   "outputs": [
    {
     "data": {
      "text/plain": [
       "<Figure size 640x480 with 1 Axes>"
      ],
      "image/png": "[encoded data removed]"
     },
     "metadata": {},
     "output_type": "display_data"
    }
   ],
   "execution_count": 223
  },
  {
   "cell_type": "markdown",
   "metadata": {},
   "source": [
    "<a name=\"H_0984289C\"></a>\n",
    "#### Sequential pose transforrmations\n",
    "\n",
    "Sequential pose transformations are obtained by post-multiplication of unit dual quaternions. For example, the transformation between the neutral reference frame by ${\\underline{\\mathit{\\mathbf{x}}} }_1$ followed by ${\\underline{\\mathit{\\mathbf{x}}} }_2$  is\n",
    "\n",
    "\n",
    "$${\\underline{\\mathit{\\mathbf{x}}} }_3 ={\\underline{\\mathit{\\mathbf{x}}} }_1 {\\underline{\\mathit{\\mathbf{x}}} }_2$$"
   ]
  },
  {
   "cell_type": "code",
   "metadata": {
    "ExecuteTime": {
     "end_time": "2025-04-22T09:59:07.405159Z",
     "start_time": "2025-04-22T09:59:07.403070Z"
    }
   },
   "source": [
    "print('Sequential pose transformations')"
   ],
   "outputs": [
    {
     "name": "stdout",
     "output_type": "stream",
     "text": [
      "Sequential pose transformations\n"
     ]
    }
   ],
   "execution_count": 224
  },
  {
   "cell_type": "code",
   "metadata": {
    "ExecuteTime": {
     "end_time": "2025-04-22T09:59:07.645130Z",
     "start_time": "2025-04-22T09:59:07.418595Z"
    }
   },
   "source": [
    "# Define the initial pose\n",
    "t1 = 0\n",
    "r1 = 1\n",
    "x1 = r1 + 0.5*E_*t1*r1\n",
    "\n",
    "# Define the second pose transformation\n",
    "t2 = 0.1*j_\n",
    "r2 = cos(pi/4) + i_*sin(pi/4)\n",
    "x2 = r2 + 0.5*E_*t2*r2\n",
    "\n",
    "# Define the third pose transformation\n",
    "t3 = -0.1*k_ + 0.2*i_\n",
    "r3 = cos(pi/32) + k_*sin(pi/32)\n",
    "x3 = r3 + 0.5*E_*t3*r3\n",
    "\n",
    "# Plot using subplot\n",
    "plt.figure(figsize=(15,5))\n",
    "ax1 = plt.subplot(1,3,1, projection='3d')\n",
    "plot(x1)\n",
    "setup_plot()\n",
    "ax1.title.set_text('$x_1$')\n",
    "ax2 = plt.subplot(1,3,2, projection='3d')\n",
    "plot(x1 * x2)\n",
    "setup_plot()\n",
    "ax2.title.set_text('$x_1 x_2$')\n",
    "ax3 = plt.subplot(1,3,3, projection='3d')\n",
    "plot(x1 * x2 * x3)\n",
    "setup_plot()\n",
    "ax3.title.set_text('$x_1 x_2 x_3$')\n",
    "\n",
    "plt.show()"
   ],
   "outputs": [
    {
     "data": {
      "text/plain": [
       "<Figure size 1500x500 with 3 Axes>"
      ],
      "image/png": "[encoded data removed]"
     },
     "metadata": {},
     "output_type": "display_data"
    }
   ],
   "execution_count": 225
  },
  {
   "cell_type": "markdown",
   "metadata": {},
   "source": [
    "<a name=\"H_0CCCC4CD\"></a>\n",
    "#### Reverse pose transformation\n",
    "\n",
    "The reverse pose transformation can be obtained using the conjugate operation, because unit dual quaternions have unit norm. Hence,\n",
    "\n",
    "\n",
    "$$\\underline{\\mathit{\\mathbf{x}}} {\\left(\\underline{\\mathit{\\mathbf{x}}} \\right)}^* =1$$\n",
    "\n",
    "for any unit dual quaternion.\n",
    "\n",
    "\n",
    "For example,\n"
   ]
  },
  {
   "cell_type": "code",
   "metadata": {
    "ExecuteTime": {
     "end_time": "2025-04-22T09:59:07.659769Z",
     "start_time": "2025-04-22T09:59:07.656629Z"
    }
   },
   "source": [
    "x3"
   ],
   "outputs": [
    {
     "data": {
      "text/plain": [
       "0.995185 + 0.098017k + E*(0.004901 + 0.099518i - 0.009802j - 0.049759k)"
      ]
     },
     "execution_count": 226,
     "metadata": {},
     "output_type": "execute_result"
    }
   ],
   "execution_count": 226
  },
  {
   "cell_type": "code",
   "metadata": {
    "ExecuteTime": {
     "end_time": "2025-04-22T09:59:07.680258Z",
     "start_time": "2025-04-22T09:59:07.677054Z"
    }
   },
   "source": [
    "x3 * conj(x3)"
   ],
   "outputs": [
    {
     "data": {
      "text/plain": [
       "1"
      ]
     },
     "execution_count": 227,
     "metadata": {},
     "output_type": "execute_result"
    }
   ],
   "execution_count": 227
  },
  {
   "cell_type": "markdown",
   "metadata": {},
   "source": [
    "<a name=\"H_0117B51F\"></a>\n",
    "#### Rotation\n",
    "\n",
    "The operator $\\textrm{rotation}\\left(\\ldotp \\right)$ can be used to retrieve the rotation represented by a unit dual quaternion.\n"
   ]
  },
  {
   "cell_type": "code",
   "metadata": {
    "ExecuteTime": {
     "end_time": "2025-04-22T09:59:07.711818Z",
     "start_time": "2025-04-22T09:59:07.708928Z"
    }
   },
   "source": [
    "rotation(x3)"
   ],
   "outputs": [
    {
     "data": {
      "text/plain": [
       "0.995185 + 0.098017k"
      ]
     },
     "execution_count": 228,
     "metadata": {},
     "output_type": "execute_result"
    }
   ],
   "execution_count": 228
  },
  {
   "cell_type": "markdown",
   "metadata": {},
   "source": [
    "<a name=\"H_96709AB2\"></a>\n",
    "#### Translation\n",
    "\n",
    "The operator $\\textrm{translation}\\left(\\ldotp \\right)$ can be used to retrive the translation represented by a unit dual quaternion.\n"
   ]
  },
  {
   "cell_type": "code",
   "metadata": {
    "ExecuteTime": {
     "end_time": "2025-04-22T09:59:07.910378Z",
     "start_time": "2025-04-22T09:59:07.907038Z"
    }
   },
   "source": [
    "translation(x3)"
   ],
   "outputs": [
    {
     "data": {
      "text/plain": [
       "0.2i - 0.1k"
      ]
     },
     "execution_count": 229,
     "metadata": {},
     "output_type": "execute_result"
    }
   ],
   "execution_count": 229
  },
  {
   "cell_type": "markdown",
   "metadata": {},
   "source": [
    "# Homework"
   ]
  },
  {
   "cell_type": "code",
   "metadata": {
    "ExecuteTime": {
     "end_time": "2025-04-22T09:59:07.943192Z",
     "start_time": "2025-04-22T09:59:07.941325Z"
    }
   },
   "source": [
    "## Homework example\n",
    "# Essential imports\n",
    "from dqrobotics import *\n",
    "from math import pi, sin, cos \n",
    "\n",
    "## Solutions\n",
    "# Question 1\n",
    "\n",
    "# Question 2\n",
    "\n",
    "# Question 3"
   ],
   "outputs": [],
   "execution_count": 230
  },
  {
   "cell_type": "markdown",
   "metadata": {},
   "source": [
    "\n",
    "\n",
    "Following the template above to create a script called [dual_quaternion_basics_homework_part1.py], do the following.\n",
    "\n",
    "1.  Store, in ${\\underline{\\mathit{\\mathbf{x}}} }_1$ , the pose transformation of a translation of 1 meter in the x-axis, followed by a rotation of $\\frac{\\pi }{8}$ rad about the z-axis.\n",
    "2. Store, in ${\\underline{\\mathit{\\mathbf{x}}} }_2$ , the pose transformation of a translation of -1 meter in the z-axis, followed by a rotation of $-\\frac{\\pi }{2}$ rad about the x-axis.\n",
    "3. Calculate the result of the sequential rotation of the neutral reference-frame by ${\\underline{\\mathit{\\mathbf{x}}} }_0 =1$ , followed by ${\\underline{\\mathit{\\mathbf{x}}} }_1$ , followed by ${\\underline{\\mathit{\\mathbf{x}}} }_2$ , and store it in ${\\underline{\\mathit{\\mathbf{x}}} }_3$ . Plot ${\\underline{\\mathit{\\mathbf{x}}} }_3$ .\n",
    "4. Obtain the rotation of ${\\underline{\\mathit{\\mathbf{x}}} }_3$ without using $\\textrm{rotation}\\left(\\ldotp \\right)$\n",
    "5. Obtain the translation of ${\\underline{\\mathit{\\mathbf{x}}} }_3$ without using $\\textrm{translation}\\left(\\ldotp \\right)$\n",
    "6. Obtain the pose transformation of a rotation of $\\frac{\\pi }{8}$ rad about the z-axis followed by a translation of 1 meter in the x-axis, and store it in ${\\underline{\\mathit{\\mathbf{x}}} }_4$ . Is it the same as ${\\underline{\\mathit{\\mathbf{x}}} }_1$ ? If it is different, why is it different?\n"
   ]
  }
 ],
 "metadata": {
  "kernelspec": {
   "display_name": "Python 3",
   "language": "python",
   "name": "python3"
  },
  "language_info": {
   "codemirror_mode": {
    "name": "ipython",
    "version": 3
   },
   "file_extension": ".py",
   "mimetype": "text/x-python",
   "name": "python",
   "nbconvert_exporter": "python",
   "pygments_lexer": "ipython3",
   "version": "3.9.6"
  }
 },
 "nbformat": 4,
 "nbformat_minor": 4
}
