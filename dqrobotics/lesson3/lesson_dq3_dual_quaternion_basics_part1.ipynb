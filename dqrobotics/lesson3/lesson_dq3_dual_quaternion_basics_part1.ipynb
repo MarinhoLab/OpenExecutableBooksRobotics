{
 "cells": [
  {
   "cell_type": "code",
   "execution_count": null,
   "metadata": {},
   "outputs": [],
   "source": [
    "% (C) Copyright 2020-2025 Murilo Marques Marinho (murilomarinho@ieee.org)\n",
    "%\n",
    "%     This file is licensed in the terms of the\n",
    "%     Attribution-NonCommercial-ShareAlike 4.0 International (CC BY-NC-SA 4.0)\n",
    "%     license.\n",
    "%\n",
    "% Derivative work of:\n",
    "% https://github.com/dqrobotics/learning-dqrobotics-in-matlab/tree/master/robotic_manipulators\n",
    "% Contributors to this file:\n",
    "%     Murilo Marques Marinho (murilomarinho@ieee.org)\n",
    "clear all;\n",
    "close all;"
   ]
  },
  {
   "cell_type": "markdown",
   "metadata": {},
   "source": [
    "<a name=\"T_1F555BBB\"></a>\n",
    "# <span style=\"color:rgb(213,80,0)\">Dual Quaternion Basics using DQ Robotics</span>\n",
    "<a name=\"beginToc\"></a>\n",
    "## Table of Contents\n",
    "[Dual Quaternion Basics using DQ Robotics](#T_1F555BBB)\n",
    "\n",
    "&emsp;[Introduction](#H_FC4ADBF7)\n",
    "\n",
    "&emsp;[Dual Numbers](#H_8A18D41F)\n",
    "\n",
    "&emsp;&emsp;&emsp;[Sum/Subtraction](#H_3C5A7462)\n",
    "\n",
    "&emsp;&emsp;&emsp;[Product](#H_C41E75F0)\n",
    "\n",
    "&emsp;&emsp;&emsp;[Primary part](#H_DDDA7B43)\n",
    "\n",
    "&emsp;&emsp;[Operations on dual quaternions](#H_F2FDC5E8)\n",
    "\n",
    "&emsp;&emsp;&emsp;[Sum/Subtraction](#H_9FCFEB1E)\n",
    "\n",
    "&emsp;&emsp;&emsp;[Conjugation](#H_88C1E409)\n",
    "\n",
    "&emsp;&emsp;&emsp;[Real part](#H_6202B6BC)\n",
    "\n",
    "&emsp;&emsp;&emsp;[Imaginary part](#H_8897FE36)\n",
    "\n",
    "&emsp;&emsp;&emsp;[Primary part](#H_55D1217E)\n",
    "\n",
    "&emsp;&emsp;&emsp;[Vec6](#H_40C5166D)\n",
    "\n",
    "&emsp;&emsp;&emsp;[Vec8](#H_22949A8D)\n",
    "\n",
    "&emsp;&emsp;&emsp;[Hamilton Operators](#H_1ADD63E3)\n",
    "\n",
    "&emsp;[Unit Dual Quaternions motion of rigid bodies](#H_65EB895C)\n",
    "\n",
    "&emsp;&emsp;&emsp;[Dual quaternion double-cover property](#H_DFF20C45)\n",
    "\n",
    "&emsp;&emsp;&emsp;[No pose transformation](#H_D6D1F1D7)\n",
    "\n",
    "&emsp;&emsp;&emsp;[Plotting unit dual quaternions](#H_8B900EDE)\n",
    "\n",
    "&emsp;&emsp;&emsp;[Sequential pose transforrmations](#H_0984289C)\n",
    "\n",
    "&emsp;&emsp;&emsp;[Reverse pose transformation](#H_0CCCC4CD)\n",
    "\n",
    "&emsp;&emsp;&emsp;[Rotation](#H_0117B51F)\n",
    "\n",
    "&emsp;&emsp;&emsp;[Translation](#H_96709AB2)\n",
    "\n",
    "[Homework](#T_44254608)\n",
    "\n",
    "<a name=\"endToc\"></a>\n",
    "<a name=\"H_479E6A32\"></a>\n",
    "<a name=\"H_FC4ADBF7\"></a>\n",
    "## Introduction\n",
    "\n",
    "Before introducing dual quaternions, it is common practice to introduce the concept of dual numbers. Let us start with that.\n",
    "\n",
    "\n",
    "As always, let us add the namespace to our workspace.\n"
   ]
  },
  {
   "cell_type": "code",
   "execution_count": 2,
   "metadata": {},
   "outputs": [],
   "source": [
    "%% Include the DQ Robotics namespace. Probably a good idea to add to all scripts.\n",
    "include_namespace_dq"
   ]
  },
  {
   "cell_type": "markdown",
   "metadata": {},
   "source": [
    "<a name=\"H_8A18D41F\"></a>\n",
    "## Dual Numbers\n",
    "\n",
    "The set of dual numbers $\\mathbb{D}$ is yet a different way to extend $\\mathbb{R}$ . Any dual number can be written in the form\n",
    "\n",
    "\n",
    "$$<u>d</u> =a+b\\varepsilon \\;,$$\n",
    "\n",
    "where $a,b\\in \\;$ $\\mathbb{R}$ . The algebra of dual numbers is based on the following property of the nilpotent dual unit\n",
    "\n",
    "\n",
    "$$\\varepsilon \\not= \\;0,\\varepsilon^2 =0\\ldotp$$\n",
    "\n",
    "For instance, the dual number\n",
    "\n",
    "\n",
    "$${<u>d</u> }_1 =10-239\\varepsilon$$\n",
    "\n",
    "can be written using DQ Robotics as follows.\n"
   ]
  },
  {
   "cell_type": "code",
   "execution_count": 3,
   "metadata": {},
   "outputs": [
    {
     "data": {
      "text/plain": [
       "d1 = \n",
       "         (10) + E*( - 239)"
      ]
     },
     "execution_count": 3,
     "metadata": {},
     "output_type": "execute_result"
    }
   ],
   "source": [
    "d1 = 10 - 239*E_"
   ]
  },
  {
   "cell_type": "markdown",
   "metadata": {},
   "source": [
    "\n",
    "Note that the properties of the dual unit hold\n"
   ]
  },
  {
   "cell_type": "code",
   "execution_count": 4,
   "metadata": {},
   "outputs": [
    {
     "data": {
      "text/plain": [
       "E_ = \n",
       "         E*(1)"
      ]
     },
     "execution_count": 4,
     "metadata": {},
     "output_type": "execute_result"
    }
   ],
   "source": [
    "E_"
   ]
  },
  {
   "cell_type": "code",
   "execution_count": 5,
   "metadata": {},
   "outputs": [
    {
     "data": {
      "text/plain": [
       "ans = \n",
       "         0"
      ]
     },
     "execution_count": 5,
     "metadata": {},
     "output_type": "execute_result"
    }
   ],
   "source": [
    "E_*E_"
   ]
  },
  {
   "cell_type": "markdown",
   "metadata": {},
   "source": [
    "<a name=\"H_549D5E5F\"></a>\n",
    "### **Operations on dual numbers**\n",
    "\n",
    "The operations on dual numbers are very similar to the operations on real numbers. We just need to respect the property $\\varepsilon \\not= \\;0,\\varepsilon^2 =0\\ldotp$\n",
    "\n",
    "\n",
    "For instance, for the dual numbers\n",
    "\n",
    "\n",
    "$${<u>d</u> }_1 =a_1 +{\\varepsilon b}_1$$\n",
    "\n",
    " ${\\underline{d} }_2 =a_2 +{\\varepsilon b}_2$ ,\n"
   ]
  },
  {
   "cell_type": "code",
   "execution_count": 6,
   "metadata": {},
   "outputs": [
    {
     "data": {
      "text/plain": [
       "d1 = \n",
       "         (10) + E*( - 239)"
      ]
     },
     "execution_count": 6,
     "metadata": {},
     "output_type": "execute_result"
    }
   ],
   "source": [
    "d1 = 10 - 239*E_"
   ]
  },
  {
   "cell_type": "code",
   "execution_count": 7,
   "metadata": {},
   "outputs": [
    {
     "data": {
      "text/plain": [
       "d2 = \n",
       "         (55) + E*(32)"
      ]
     },
     "execution_count": 7,
     "metadata": {},
     "output_type": "execute_result"
    }
   ],
   "source": [
    "d2 = 55 + 32*E_"
   ]
  },
  {
   "cell_type": "markdown",
   "metadata": {},
   "source": [
    "<a name=\"H_3C5A7462\"></a>\n",
    "#### Sum/Subtraction\n",
    "\n",
    "$${<u>d</u> }_1 \\pm \\;{<u>d</u> }_2 =\\left(a_1 \\pm \\;a_2 \\right)+\\left(b_1 \\pm \\;b_2 \\right)\\varepsilon \\ldotp$$"
   ]
  },
  {
   "cell_type": "code",
   "execution_count": 8,
   "metadata": {},
   "outputs": [
    {
     "data": {
      "text/plain": [
       "ans = \n",
       "         (65) + E*( - 207)"
      ]
     },
     "execution_count": 8,
     "metadata": {},
     "output_type": "execute_result"
    }
   ],
   "source": [
    "d1+d2"
   ]
  },
  {
   "cell_type": "code",
   "execution_count": 9,
   "metadata": {},
   "outputs": [
    {
     "data": {
      "text/plain": [
       "ans = \n",
       "         ( - 45) + E*( - 271)"
      ]
     },
     "execution_count": 9,
     "metadata": {},
     "output_type": "execute_result"
    }
   ],
   "source": [
    "d1-d2"
   ]
  },
  {
   "cell_type": "markdown",
   "metadata": {},
   "source": [
    "<a name=\"H_C41E75F0\"></a>\n",
    "#### Product\n",
    "\n",
    "In the dual number product, the nilpotent property of the dual unit shows.\n",
    "\n",
    "\n",
    "$$\\begin{array}{l} {<u>d</u> }_1 {<u>d</u> }_2 =\\left(a_1 a_2 \\right)+\\varepsilon \\left(a_1 b_2 +a_2 b_1 \\right)+\\varepsilon^2 \\left(b_1 b_2 \\right)\\\\ \\Rightarrow {<u>d</u> }_1 {<u>d</u> }_2 =\\left(a_1 a_2 \\right)+\\varepsilon \\left(a_1 b_2 +a_2 b_1 \\right) \\end{array}$$"
   ]
  },
  {
   "cell_type": "code",
   "execution_count": 10,
   "metadata": {},
   "outputs": [
    {
     "data": {
      "text/plain": [
       "ans = \n",
       "         (550) + E*( - 12825)"
      ]
     },
     "execution_count": 10,
     "metadata": {},
     "output_type": "execute_result"
    }
   ],
   "source": [
    "d1*d2"
   ]
  },
  {
   "cell_type": "markdown",
   "metadata": {},
   "source": [
    "<a name=\"H_DDDA7B43\"></a>\n",
    "#### Primary part\n",
    "\n",
    "The operator $P\\left(\\ldotp \\right)$ can be used to obtain the primary part of the dual number. (The primary part is that which is not multiplied by the dual unit)\n",
    "\n",
    "\n",
    "$$P\\left(<u>d</u> \\right)=a$$"
   ]
  },
  {
   "cell_type": "code",
   "execution_count": 11,
   "metadata": {},
   "outputs": [
    {
     "data": {
      "text/plain": [
       "ans = \n",
       "         10"
      ]
     },
     "execution_count": 11,
     "metadata": {},
     "output_type": "execute_result"
    }
   ],
   "source": [
    "P(d1)"
   ]
  },
  {
   "cell_type": "markdown",
   "metadata": {},
   "source": [
    "<a name=\"H_A0E8C6FA\"></a>\n",
    "#### **Dual part**\n",
    "\n",
    "The operator $D\\left(\\ldotp \\right)$ can be used to obtain the dual part of the dual number. (The dual number is that which is multiplied by the dual unit)\n",
    "\n",
    "\n",
    "$$D\\left(<u>d</u> \\right)=b$$"
   ]
  },
  {
   "cell_type": "code",
   "execution_count": 12,
   "metadata": {},
   "outputs": [
    {
     "data": {
      "text/plain": [
       "ans = \n",
       "          - 239"
      ]
     },
     "execution_count": 12,
     "metadata": {},
     "output_type": "execute_result"
    }
   ],
   "source": [
    "D(d1)"
   ]
  },
  {
   "cell_type": "markdown",
   "metadata": {},
   "source": [
    "<a name=\"H_885A6D6B\"></a>\n",
    "## **Dual quaternions**\n",
    "\n",
    "When we extend the concept of dual numbers to be composed of two quaternions, we have what we call dual quaternions. They compose the set $\\mathcal{H}$ and can always be written in the form\n",
    "\n",
    "\n",
    "$$\\underline{\\mathit{\\mathbf{h}}} =\\mathit{\\mathbf{h}}+\\grave{\\mathit{\\mathbf{h}}} \\varepsilon$$\n",
    "\n",
    "where $\\mathit{\\mathbf{h}},\\grave{\\mathit{\\mathbf{h}}} \\in \\;$ $\\mathbb{H}$ .\n",
    "\n",
    "\n",
    "Note that $\\mathbb{R}\\subset \\mathcal{H}$ , $\\mathbb{C}\\subset \\mathcal{H}$ , $\\mathbb{H}\\subset \\mathcal{H}$ , $\\mathbb{D}\\subset \\mathcal{H}$ . That is, the real numbers, the complex numbers, the quaternions, and the dual numbers are all subsets of dual quaternions.\n",
    "\n",
    "\n",
    "For instance, the dual quaternion\n",
    "\n",
    "\n",
    "$${\\underline{\\mathit{\\mathbf{h}}} }_1 =5+6\\hat{\\i \\;} +7\\hat{\\;\\j \\;} +8\\hat{\\;k} +\\varepsilon \\left(9+15\\hat{\\i \\;} +7\\hat{\\;\\j \\;} +8\\hat{\\;k} \\right)$$\n",
    "\n",
    "can be written using DQ Robotics as follows\n"
   ]
  },
  {
   "cell_type": "code",
   "execution_count": 13,
   "metadata": {},
   "outputs": [
    {
     "data": {
      "text/plain": [
       "h1 = \n",
       "         (5 + 6i + 7j + 8k) + E*(9 + 15i + 7j + 8k)"
      ]
     },
     "execution_count": 13,
     "metadata": {},
     "output_type": "execute_result"
    }
   ],
   "source": [
    "h1 = 5 + 6*i_ + 7*j_ + 8*k_ + E_*(9 + 15*i_ + 7*j_ + 8*k_)"
   ]
  },
  {
   "cell_type": "markdown",
   "metadata": {},
   "source": [
    "<a name=\"H_F2FDC5E8\"></a>\n",
    "### Operations on dual quaternions\n",
    "\n",
    "Considering ${\\underline{\\mathit{\\mathbf{h}}} }_1 ,{\\underline{\\mathit{\\mathbf{h}}} }_2 \\in \\;$ $\\mathcal{H}$ , for example\n"
   ]
  },
  {
   "cell_type": "code",
   "execution_count": 14,
   "metadata": {},
   "outputs": [
    {
     "data": {
      "text/plain": [
       "h1 = \n",
       "         (5 + 6i + 7j + 8k) + E*(9 + 15i + 7j + 8k)"
      ]
     },
     "execution_count": 14,
     "metadata": {},
     "output_type": "execute_result"
    }
   ],
   "source": [
    "h1 = 5 + 6*i_ + 7*j_ + 8*k_ + E_*(9 + 15*i_ + 7*j_ + 8*k_)"
   ]
  },
  {
   "cell_type": "code",
   "execution_count": 15,
   "metadata": {},
   "outputs": [
    {
     "data": {
      "text/plain": [
       "h2 = \n",
       "         ( - 25 + 1k) + E*(7j + 8k)"
      ]
     },
     "execution_count": 15,
     "metadata": {},
     "output_type": "execute_result"
    }
   ],
   "source": [
    "h2 = -25 + 1*k_ + E_*( 7*j_ + 8*k_)"
   ]
  },
  {
   "cell_type": "markdown",
   "metadata": {},
   "source": [
    "<a name=\"H_9FCFEB1E\"></a>\n",
    "#### Sum/Subtraction\n",
    "\n",
    "$${\\underline{\\mathit{\\mathbf{h}}} }_1 \\pm {\\underline{\\mathit{\\mathbf{h}}} }_2 =\\left({\\mathit{\\mathbf{h}}}_1 \\pm {\\mathit{\\mathbf{h}}}_2 \\right)+\\varepsilon \\left({\\mathit{\\mathbf{h}}}_1^{\\prime } \\pm {\\mathit{\\mathbf{h}}}_2^{\\prime } \\right)$$"
   ]
  },
  {
   "cell_type": "code",
   "execution_count": 16,
   "metadata": {},
   "outputs": [
    {
     "data": {
      "text/plain": [
       "ans = \n",
       "         ( - 20 + 6i + 7j + 9k) + E*(9 + 15i + 14j + 16k)"
      ]
     },
     "execution_count": 16,
     "metadata": {},
     "output_type": "execute_result"
    }
   ],
   "source": [
    "h1+h2"
   ]
  },
  {
   "cell_type": "code",
   "execution_count": 17,
   "metadata": {},
   "outputs": [
    {
     "data": {
      "text/plain": [
       "ans = \n",
       "         (30 + 6i + 7j + 7k) + E*(9 + 15i)"
      ]
     },
     "execution_count": 17,
     "metadata": {},
     "output_type": "execute_result"
    }
   ],
   "source": [
    "h1-h2"
   ]
  },
  {
   "cell_type": "markdown",
   "metadata": {},
   "source": [
    "<a name=\"H_19AB0712\"></a>\n",
    "#### **Multiplication**\n",
    "\n",
    "$${\\underline{\\mathit{\\mathbf{h}}} }_1 {\\underline{\\mathit{\\mathbf{h}}} }_2 =\\left({\\mathit{\\mathbf{h}}}_1 {\\mathit{\\mathbf{h}}}_2 \\right)+\\varepsilon \\left({\\mathit{\\mathbf{h}}}_1 {\\mathit{\\mathbf{h}}}_2^{\\prime } +{\\mathit{\\mathbf{h}}}_2 {\\mathit{\\mathbf{h}}}_1^{\\prime } \\right)$$"
   ]
  },
  {
   "cell_type": "code",
   "execution_count": 18,
   "metadata": {},
   "outputs": [
    {
     "data": {
      "text/plain": [
       "ans = \n",
       "         ( - 133 - 143i - 181j - 195k) + E*( - 346 - 368i - 203j - 109k)"
      ]
     },
     "execution_count": 18,
     "metadata": {},
     "output_type": "execute_result"
    }
   ],
   "source": [
    "h1*h2"
   ]
  },
  {
   "cell_type": "markdown",
   "metadata": {},
   "source": [
    "\n",
    "Notice that the multiplication between dual quaternions is, ***in general***, NOT COMMUTATIVE.\n",
    "\n",
    "\n",
    "$${\\mathit{\\mathbf{h}}}_1 {\\mathit{\\mathbf{h}}}_2 \\not= {{\\mathit{\\mathbf{h}}}_2 \\mathit{\\mathbf{h}}}_1$$"
   ]
  },
  {
   "cell_type": "code",
   "execution_count": 19,
   "metadata": {},
   "outputs": [
    {
     "data": {
      "text/plain": [
       "h3 = \n",
       "         ( - 133 - 143i - 181j - 195k) + E*( - 346 - 368i - 203j - 109k)"
      ]
     },
     "execution_count": 19,
     "metadata": {},
     "output_type": "execute_result"
    }
   ],
   "source": [
    "h3 = h1*h2"
   ]
  },
  {
   "cell_type": "code",
   "execution_count": 20,
   "metadata": {},
   "outputs": [
    {
     "data": {
      "text/plain": [
       "h4 = \n",
       "         ( - 133 - 157i - 169j - 195k) + E*( - 346 - 382i - 77j - 193k)"
      ]
     },
     "execution_count": 20,
     "metadata": {},
     "output_type": "execute_result"
    }
   ],
   "source": [
    "h4 = h2*h1"
   ]
  },
  {
   "cell_type": "code",
   "execution_count": 21,
   "metadata": {},
   "outputs": [
    {
     "data": {
      "text/plain": [
       "h1*h2 is not equal to h2*h1"
      ]
     },
     "execution_count": 21,
     "metadata": {},
     "output_type": "execute_result"
    }
   ],
   "source": [
    "if h3==h4\n",
    "    disp('h1*h2 is equal to h2*h1')\n",
    "else\n",
    "    disp('h1*h2 is not equal to h2*h1')\n",
    "end"
   ]
  },
  {
   "cell_type": "markdown",
   "metadata": {},
   "source": [
    "<a name=\"H_88C1E409\"></a>\n",
    "#### Conjugation\n",
    "\n",
    "The conjugate of the dual quaternion is obtained by taking the conjugate of the primary part and the dual part of the dual quaternion. Both of which are quaternions. This same logic applies for many other operators.\n",
    "\n",
    "\n",
    "$${\\left({\\underline{\\mathit{\\mathbf{h}}} }_1 \\right)}^* ={\\left({\\mathit{\\mathbf{h}}}_1 \\right)}^* +{\\varepsilon \\left({\\mathit{\\mathbf{h}}}_1^{\\prime } \\right)}^*$$"
   ]
  },
  {
   "cell_type": "code",
   "execution_count": 22,
   "metadata": {},
   "outputs": [
    {
     "data": {
      "text/plain": [
       "ans = \n",
       "         (5 - 6i - 7j - 8k) + E*(9 - 15i - 7j - 8k)"
      ]
     },
     "execution_count": 22,
     "metadata": {},
     "output_type": "execute_result"
    }
   ],
   "source": [
    "conj(h1)"
   ]
  },
  {
   "cell_type": "markdown",
   "metadata": {},
   "source": [
    "\n",
    "**Norm**\n",
    "\n",
    "\n",
    "$$\\left|\\right|{\\underline{\\mathit{\\mathbf{h}}} }_1 \\left|\\right|=\\sqrt{{\\underline{\\mathit{\\mathbf{h}}} }_1 {\\left({\\underline{\\mathit{\\mathbf{h}}} }_1 \\right)}^* \\;}$$"
   ]
  },
  {
   "cell_type": "code",
   "execution_count": 23,
   "metadata": {},
   "outputs": [
    {
     "data": {
      "text/plain": [
       "ans = \n",
       "         (13.1909) + E*(18.8008)"
      ]
     },
     "execution_count": 23,
     "metadata": {},
     "output_type": "execute_result"
    }
   ],
   "source": [
    "norm(h1)"
   ]
  },
  {
   "cell_type": "markdown",
   "metadata": {},
   "source": [
    "<a name=\"H_6202B6BC\"></a>\n",
    "#### Real part\n",
    "\n",
    "$$\\textrm{Re}\\left({\\underline{\\mathit{\\mathbf{h}}} }_1 \\right)=\\textrm{Re}\\left({\\mathit{\\mathbf{h}}}_1 \\right)+\\epsilon \\textrm{Re}\\left({\\mathit{\\mathbf{h}}}_1^{\\prime } \\right)$$"
   ]
  },
  {
   "cell_type": "code",
   "execution_count": 24,
   "metadata": {},
   "outputs": [
    {
     "data": {
      "text/plain": [
       "ans = \n",
       "         (5) + E*(9)"
      ]
     },
     "execution_count": 24,
     "metadata": {},
     "output_type": "execute_result"
    }
   ],
   "source": [
    "Re(h1)"
   ]
  },
  {
   "cell_type": "markdown",
   "metadata": {},
   "source": [
    "\n",
    "If the real part of a dual quaternion is zero, it is called a *pure dual quaternion*, and belongs to the set ${\\mathcal{H}}_p$ .\n",
    "\n",
    "<a name=\"H_8897FE36\"></a>\n",
    "#### Imaginary part\n",
    "\n",
    "$$\\textrm{Im}\\left({\\underline{\\mathit{\\mathbf{h}}} }_1 \\right)=\\textrm{Im}\\left({\\mathit{\\mathbf{h}}}_1 \\right)+\\epsilon \\textrm{Im}\\left({\\mathit{\\mathbf{h}}}_1^{\\prime } \\right)$$"
   ]
  },
  {
   "cell_type": "code",
   "execution_count": 25,
   "metadata": {},
   "outputs": [
    {
     "data": {
      "text/plain": [
       "ans = \n",
       "         (6i + 7j + 8k) + E*(15i + 7j + 8k)"
      ]
     },
     "execution_count": 25,
     "metadata": {},
     "output_type": "execute_result"
    }
   ],
   "source": [
    "Im(h1)"
   ]
  },
  {
   "cell_type": "markdown",
   "metadata": {},
   "source": [
    "\n",
    "If the imaginary part of a dual quaternion is zero, it is a dual number.\n",
    "\n",
    "<a name=\"H_55D1217E\"></a>\n",
    "#### Primary part\n",
    "\n",
    "$$P\\left({\\underline{\\mathit{\\mathbf{h}}} }_1 \\right)={\\mathit{\\mathbf{h}}}_1$$"
   ]
  },
  {
   "cell_type": "code",
   "execution_count": 26,
   "metadata": {},
   "outputs": [
    {
     "data": {
      "text/plain": [
       "ans = \n",
       "         5 + 6i + 7j + 8k"
      ]
     },
     "execution_count": 26,
     "metadata": {},
     "output_type": "execute_result"
    }
   ],
   "source": [
    "P(h1)"
   ]
  },
  {
   "cell_type": "markdown",
   "metadata": {},
   "source": [
    "<a name=\"H_C40A3A46\"></a>\n",
    "#### **Dual part**\n",
    "\n",
    "$$D\\left({\\underline{\\mathit{\\mathbf{h}}} }_1 \\right)={\\mathit{\\mathbf{h}}}_1^{\\prime }$$"
   ]
  },
  {
   "cell_type": "code",
   "execution_count": 27,
   "metadata": {},
   "outputs": [
    {
     "data": {
      "text/plain": [
       "ans = \n",
       "         9 + 15i + 7j + 8k"
      ]
     },
     "execution_count": 27,
     "metadata": {},
     "output_type": "execute_result"
    }
   ],
   "source": [
    "D(h1)"
   ]
  },
  {
   "cell_type": "markdown",
   "metadata": {},
   "source": [
    "<a name=\"H_40C5166D\"></a>\n",
    "#### Vec6\n",
    "\n",
    "The imaginary part of dual quaternions can be mapped to ${\\mathbb{R}}^6$ as follows\n",
    "\n",
    "\n",
    "$${\\textrm{vec}}_6 \\left({\\underline{\\mathit{\\mathbf{h}}} }_1 \\right)=\\left\\lbrack \\begin{array}{c} {\\textrm{vec}}_3 \\left({\\mathit{\\mathbf{h}}}_1 \\right)\\\\ {\\textrm{vec}}_3 \\left({\\mathit{\\mathbf{h}}}_1^{\\prime } \\right) \\end{array}\\right\\rbrack$$"
   ]
  },
  {
   "cell_type": "code",
   "execution_count": 28,
   "metadata": {},
   "outputs": [
    {
     "data": {
      "text/plain": [
       "ans = 6x1    \n",
       "     6\n",
       "     7\n",
       "     8\n",
       "    15\n",
       "     7\n",
       "     8"
      ]
     },
     "execution_count": 28,
     "metadata": {},
     "output_type": "execute_result"
    }
   ],
   "source": [
    "vec6(h1)"
   ]
  },
  {
   "cell_type": "markdown",
   "metadata": {},
   "source": [
    "<a name=\"H_22949A8D\"></a>\n",
    "#### Vec8\n",
    "\n",
    "Quaternions can be mapped to ${\\mathbb{R}}^8$ as follows\n",
    "\n",
    "\n",
    "$${\\textrm{vec}}_4 \\left({\\underline{\\mathit{\\mathbf{h}}} }_1 \\right)=\\left\\lbrack \\begin{array}{c} {\\textrm{vec}}_4 \\left({\\mathit{\\mathbf{h}}}_1 \\right)\\\\ {\\textrm{vec}}_4 \\left({\\mathit{\\mathbf{h}}}_1^{\\prime } \\right) \\end{array}\\right\\rbrack$$"
   ]
  },
  {
   "cell_type": "code",
   "execution_count": 29,
   "metadata": {},
   "outputs": [
    {
     "data": {
      "text/plain": [
       "ans = 8x1    \n",
       "     5\n",
       "     6\n",
       "     7\n",
       "     8\n",
       "     9\n",
       "    15\n",
       "     7\n",
       "     8"
      ]
     },
     "execution_count": 29,
     "metadata": {},
     "output_type": "execute_result"
    }
   ],
   "source": [
    "vec8(h1)"
   ]
  },
  {
   "cell_type": "markdown",
   "metadata": {},
   "source": [
    "<a name=\"H_1ADD63E3\"></a>\n",
    "#### Hamilton Operators\n",
    "\n",
    "The hamilton operators are useful to provide a form of commutativity in the dual quaternion multiplication.\n",
    "\n",
    "\n",
    "$${\\textrm{vec}}_8 \\left({\\underline{\\mathit{\\mathbf{h}}} }_1 {\\underline{\\mathit{\\mathbf{h}}} }_2 \\right)=\\overset{+}{{\\mathit{\\mathbf{H}}}_8 } \\left({\\underline{\\mathit{\\mathbf{h}}} }_1 \\right){\\textrm{vec}}_8 \\left({\\underline{\\mathit{\\mathbf{h}}} }_2 \\right)=\\overset{-}{{\\mathit{\\mathbf{H}}}_8 } \\left({\\underline{\\mathit{\\mathbf{h}}} }_2 \\right){\\textrm{vec}}_8 \\left({\\underline{\\mathit{\\mathbf{h}}} }_1 \\right)$$"
   ]
  },
  {
   "cell_type": "code",
   "execution_count": 30,
   "metadata": {},
   "outputs": [
    {
     "data": {
      "text/plain": [
       "ans = 8x1    \n",
       "  -133\n",
       "  -143\n",
       "  -181\n",
       "  -195\n",
       "  -346\n",
       "  -368\n",
       "  -203\n",
       "  -109"
      ]
     },
     "execution_count": 30,
     "metadata": {},
     "output_type": "execute_result"
    }
   ],
   "source": [
    "vec8(h1*h2)"
   ]
  },
  {
   "cell_type": "code",
   "execution_count": 31,
   "metadata": {},
   "outputs": [
    {
     "data": {
      "text/plain": [
       "ans = 8x1    \n",
       "  -133\n",
       "  -143\n",
       "  -181\n",
       "  -195\n",
       "  -346\n",
       "  -368\n",
       "  -203\n",
       "  -109"
      ]
     },
     "execution_count": 31,
     "metadata": {},
     "output_type": "execute_result"
    }
   ],
   "source": [
    "hamiplus8(h1)*vec8(h2)"
   ]
  },
  {
   "cell_type": "code",
   "execution_count": 32,
   "metadata": {},
   "outputs": [
    {
     "data": {
      "text/plain": [
       "ans = 8x1    \n",
       "  -133\n",
       "  -143\n",
       "  -181\n",
       "  -195\n",
       "  -346\n",
       "  -368\n",
       "  -203\n",
       "  -109"
      ]
     },
     "execution_count": 32,
     "metadata": {},
     "output_type": "execute_result"
    }
   ],
   "source": [
    "haminus8(h2)*vec8(h1)"
   ]
  },
  {
   "cell_type": "markdown",
   "metadata": {},
   "source": [
    "<a name=\"H_65EB895C\"></a>\n",
    "## Unit Dual Quaternions motion of rigid bodies\n",
    "\n",
    "Unit dual quaternions compose the set $\\underline{{\\mathcal{S}}}$ , which represent pose transformations of the reference frame of rigid bodies in three dimensional space.\n",
    "\n",
    "\n",
    "A unit dual quaternion representing a translation followed by a rotation can always be written in the form\n",
    "\n",
    "\n",
    "$$\\underline{\\mathit{\\mathbf{x}}} =\\mathit{\\mathbf{r}}+\\varepsilon \\frac{\\;1}{2}\\mathit{\\mathbf{t}}\\ldotp \\mathit{\\mathbf{r}}$$\n",
    "\n",
    "where $\\mathit{\\mathbf{r}}\\in$ ${\\mathbb{S}}^3$ is the unit-norm quaternion representing the rotation; and $t$ $\\in {\\mathbb{H}}_p$ is the quaternion representing the translation.\n",
    "\n",
    "\n",
    "Remember this nomenclature:\n",
    "\n",
    "-  $t$ $\\in {\\mathbb{H}}_p$ is a translation.\n",
    "-  $\\mathit{\\mathbf{r}}\\in$ ${\\mathbb{S}}^3$ is a rotation.\n",
    "-  $\\underline{\\mathit{\\mathbf{x}}}$ $\\in$ $\\underline{{\\mathcal{S}}}$ is a pose transformation (combined translation and rotation).\n",
    "\n",
    "Unit-norm dual-quaternions, as the name says, have unit norm\n",
    "\n",
    "\n",
    "$$\\left|\\right|\\underline{\\mathit{\\mathbf{x}}} \\left|\\right|=1\\ldotp$$\n",
    "\n",
    "For instance, to represent the translation of 1 meter about the y-axis,\n",
    "\n",
    "\n",
    "$${\\mathit{\\mathbf{t}}}_1 =\\hat{\\;\\j \\;\\;} ,$$"
   ]
  },
  {
   "cell_type": "code",
   "execution_count": 33,
   "metadata": {},
   "outputs": [
    {
     "data": {
      "text/plain": [
       "t1 = \n",
       "         1j"
      ]
     },
     "execution_count": 33,
     "metadata": {},
     "output_type": "execute_result"
    }
   ],
   "source": [
    "t1 = j_"
   ]
  },
  {
   "cell_type": "markdown",
   "metadata": {},
   "source": [
    "\n",
    "followed by a rotation of $\\frac{\\pi }{2}$ rad about the x-axis,\n",
    "\n",
    "\n",
    "$$r_1 =\\cos \\left(\\frac{\\;\\pi \\;}{4}\\right)+\\hat{\\;\\i \\;} \\sin \\left(\\frac{\\pi \\;}{4}\\right)$$"
   ]
  },
  {
   "cell_type": "code",
   "execution_count": 34,
   "metadata": {},
   "outputs": [
    {
     "data": {
      "text/plain": [
       "r1 = \n",
       "         0.70711 + 0.70711i"
      ]
     },
     "execution_count": 34,
     "metadata": {},
     "output_type": "execute_result"
    }
   ],
   "source": [
    "r1 = cos(pi/4) + i_*sin(pi/4)"
   ]
  },
  {
   "cell_type": "markdown",
   "metadata": {},
   "source": [
    "\n",
    "the pose transformation will be\n",
    "\n",
    "\n",
    "$${\\underline{\\;\\mathit{\\mathbf{x}}} }_1 ={\\mathit{\\mathbf{r}}}_1 +\\varepsilon \\frac{\\;1}{2}{\\mathit{\\mathbf{t}}}_1 {\\mathit{\\mathbf{r}}}_1 =\\cos \\left(\\frac{\\;\\pi \\;}{4}\\right)+\\hat{\\;\\i \\;} \\sin \\left(\\frac{\\;\\pi \\;}{4}\\right)+\\frac{\\;1}{2}\\varepsilon \\left(\\hat{\\;\\j \\;\\;} \\cos \\left(\\frac{\\;\\pi \\;}{4}\\right)-\\hat{\\;k\\;} \\sin \\left(\\frac{\\;\\pi \\;}{4}\\right)\\right)$$"
   ]
  },
  {
   "cell_type": "code",
   "execution_count": 35,
   "metadata": {},
   "outputs": [
    {
     "data": {
      "text/plain": [
       "x1 = \n",
       "         (0.70711 + 0.70711i) + E*(0.35355j - 0.35355k)"
      ]
     },
     "execution_count": 35,
     "metadata": {},
     "output_type": "execute_result"
    }
   ],
   "source": [
    "x1 = r1 + 0.5*E_*t1*r1"
   ]
  },
  {
   "cell_type": "markdown",
   "metadata": {},
   "source": [
    "\n",
    "We can check that ${\\underline{\\;\\mathit{\\mathbf{x}}} }_1$ indeed has unit norm\n"
   ]
  },
  {
   "cell_type": "code",
   "execution_count": 36,
   "metadata": {},
   "outputs": [
    {
     "data": {
      "text/plain": [
       "ans = \n",
       "         1"
      ]
     },
     "execution_count": 36,
     "metadata": {},
     "output_type": "execute_result"
    }
   ],
   "source": [
    "norm(x1)"
   ]
  },
  {
   "cell_type": "markdown",
   "metadata": {},
   "source": [
    "<a name=\"H_DFF20C45\"></a>\n",
    "#### Dual quaternion double-cover property\n",
    "\n",
    "Given the way that the pose transformation is based on quaternions, the double cover also extends to dual quaternions.\n",
    "\n",
    "\n",
    "$${\\underline{\\;\\mathit{\\mathbf{x}}} }_1$$\n",
    "\n",
    "and\n",
    "\n",
    "\n",
    "$$-{\\underline{\\;\\mathit{\\mathbf{x}}} }_1$$\n",
    "\n",
    "represent the same pose transformation.\n",
    "\n",
    "<a name=\"H_D6D1F1D7\"></a>\n",
    "#### No pose transformation\n",
    "\n",
    "The dual quaternion that represents that there is no pose transformation is\n",
    "\n",
    "\n",
    "$${\\underline{\\;\\mathit{\\mathbf{x}}} }_1 =1$$"
   ]
  },
  {
   "cell_type": "code",
   "execution_count": 37,
   "metadata": {},
   "outputs": [
    {
     "data": {
      "text/plain": [
       "x1 = \n",
       "         1"
      ]
     },
     "execution_count": 37,
     "metadata": {},
     "output_type": "execute_result"
    }
   ],
   "source": [
    "x1 = DQ(1)"
   ]
  },
  {
   "cell_type": "markdown",
   "metadata": {},
   "source": [
    "<a name=\"H_8B900EDE\"></a>\n",
    "#### Plotting unit dual quaternions\n",
    "\n",
    "Using DQ Robotics, unit dual quaternions can be plotted on screen the same way as unit quaternions.\n"
   ]
  },
  {
   "cell_type": "code",
   "execution_count": 38,
   "metadata": {},
   "outputs": [
    {
     "data": {
      "text/html": [
       "<center><img src=\"data:image/png;base64,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\" width=\"562\" alt=\"figure_0.png\"></center>"
      ]
     },
     "execution_count": 38,
     "metadata": {},
     "output_type": "execute_result"
    }
   ],
   "source": [
    "plot(x1);"
   ]
  },
  {
   "cell_type": "markdown",
   "metadata": {},
   "source": [
    "<a name=\"H_0984289C\"></a>\n",
    "#### Sequential pose transforrmations\n",
    "\n",
    "Sequential pose transformations are obtained by post-multiplication of unit dual quaternions. For example, the transformation between the neutral reference frame by ${\\underline{\\;\\mathit{\\mathbf{x}}} }_1$ followed by ${\\underline{\\;\\mathit{\\mathbf{x}}} }_2$  is\n",
    "\n",
    "\n",
    "$${\\underline{\\;\\mathit{\\mathbf{x}}} }_3 ={\\underline{\\;\\mathit{\\mathbf{x}}} }_1 {\\underline{\\;\\mathit{\\mathbf{x}}} }_2$$"
   ]
  },
  {
   "cell_type": "code",
   "execution_count": 39,
   "metadata": {},
   "outputs": [
    {
     "data": {
      "text/plain": [
       "Sequential pose transformations"
      ]
     },
     "execution_count": 39,
     "metadata": {},
     "output_type": "execute_result"
    }
   ],
   "source": [
    "disp('Sequential pose transformations')"
   ]
  },
  {
   "cell_type": "code",
   "execution_count": 40,
   "metadata": {},
   "outputs": [
    {
     "data": {
      "text/html": [
       "<center><img src=\"data:image/png;base64,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\" width=\"562\" alt=\"figure_1.png\"></center>"
      ]
     },
     "execution_count": 40,
     "metadata": {},
     "output_type": "execute_result"
    }
   ],
   "source": [
    "%% Define the initial pose\n",
    "t1 = 0;\n",
    "r1 = 1;\n",
    "x1 = r1 + 0.5*E_*t1*r1;\n",
    "\n",
    "%% Define the second pose transformation\n",
    "t2 = j_;\n",
    "r2 = cos(pi/4) + i_*sin(pi/4);\n",
    "x2 = r2 + 0.5*E_*t2*r2;\n",
    "\n",
    "%% Define the third pose transformation\n",
    "t3 = -k_ + 2*i_;\n",
    "r3 = cos(pi/32) + k_*sin(pi/32);\n",
    "x3 = r3 + 0.5*E_*t3*r3;\n",
    "\n",
    "%% Plot using subplot\n",
    "subplot(1,3,1);\n",
    "plot(x1);\n",
    "title('x1');\n",
    "\n",
    "subplot(1,3,2);\n",
    "plot(x1*x2);\n",
    "title('x1*x2');\n",
    "\n",
    "subplot(1,3,3);\n",
    "plot(x1*x2*x3);\n",
    "title('x1*x2*x3');"
   ]
  },
  {
   "cell_type": "markdown",
   "metadata": {},
   "source": [
    "<a name=\"H_0CCCC4CD\"></a>\n",
    "#### Reverse pose transformation\n",
    "\n",
    "The reverse pose transformation can be obtained using the conjugate operation, because unit dual quaternions have unit norm. Hence,\n",
    "\n",
    "\n",
    "$$\\underline{\\mathit{\\mathbf{x}}} {\\left(\\underline{\\;\\mathit{\\mathbf{x}}} \\right)}^* =1$$\n",
    "\n",
    "for any unit dual quaternion.\n",
    "\n",
    "\n",
    "For example,\n"
   ]
  },
  {
   "cell_type": "code",
   "execution_count": 41,
   "metadata": {},
   "outputs": [
    {
     "data": {
      "text/plain": [
       "x3 = \n",
       "         (0.99518 + 0.098017k) + E*(0.049009 + 0.99518i - 0.098017j - 0.49759k)"
      ]
     },
     "execution_count": 41,
     "metadata": {},
     "output_type": "execute_result"
    }
   ],
   "source": [
    "x3"
   ]
  },
  {
   "cell_type": "code",
   "execution_count": 42,
   "metadata": {},
   "outputs": [
    {
     "data": {
      "text/plain": [
       "ans = \n",
       "         1"
      ]
     },
     "execution_count": 42,
     "metadata": {},
     "output_type": "execute_result"
    }
   ],
   "source": [
    "x3*conj(x3)"
   ]
  },
  {
   "cell_type": "markdown",
   "metadata": {},
   "source": [
    "<a name=\"H_0117B51F\"></a>\n",
    "#### Rotation\n",
    "\n",
    "The operator $\\textrm{rotation}\\left(\\ldotp \\right)$ can be used to retrieve the rotation represented by a unit dual quaternion.\n"
   ]
  },
  {
   "cell_type": "code",
   "execution_count": 43,
   "metadata": {},
   "outputs": [
    {
     "data": {
      "text/plain": [
       "ans = \n",
       "         0.99518 + 0.098017k"
      ]
     },
     "execution_count": 43,
     "metadata": {},
     "output_type": "execute_result"
    }
   ],
   "source": [
    "rotation(x3)"
   ]
  },
  {
   "cell_type": "markdown",
   "metadata": {},
   "source": [
    "<a name=\"H_96709AB2\"></a>\n",
    "#### Translation\n",
    "\n",
    "The operator $\\textrm{translation}\\left(\\ldotp \\right)$ can be used to retrive the translation represented by a unit dual quaternion.\n"
   ]
  },
  {
   "cell_type": "code",
   "execution_count": 44,
   "metadata": {},
   "outputs": [
    {
     "data": {
      "text/plain": [
       "ans = \n",
       "         2i - 1k"
      ]
     },
     "execution_count": 44,
     "metadata": {},
     "output_type": "execute_result"
    }
   ],
   "source": [
    "translation(x3)"
   ]
  },
  {
   "cell_type": "markdown",
   "metadata": {},
   "source": [
    "<a name=\"T_44254608\"></a>\n",
    "# <span style=\"color:rgb(213,80,0)\">Homework</span>\n",
    "<pre>\n",
    "%% Homework example\n",
    "% Clean up routine to remove variables from your workspace\n",
    "clear all;\n",
    "close all;\n",
    "% Initialize the DQ Robotics namespace\n",
    "include_namespace_dq\n",
    "\n",
    "%% Solutions\n",
    "% Question 1\n",
    "\n",
    "% Question 2\n",
    "\n",
    "% Question 3\n",
    "</pre>\n",
    "\n",
    "Following the template above to create a script called [dual_quaternion_basics_homework_part1.m], do the following.\n",
    "\n",
    "1.  Store, in ${\\underline{\\mathit{\\mathbf{x}}} }_1$ , the pose transformation of a translation of 1 meter in the x-axis, followed by a rotation of $\\frac{\\;\\pi \\;}{8}$ rad about the z-axis.\n",
    "2. Store, in ${\\underline{\\mathit{\\mathbf{x}}} }_2$ , the pose transformation of a translation of -1 meter in the z-axis, followed by a rotation of $-\\frac{\\;\\pi \\;}{2}$ rad about the x-axis.\n",
    "3. Calculate the result of the sequential rotation of the neutral reference-frame by ${\\underline{\\mathit{\\mathbf{x}}} }_0 =1$ , followed by ${\\underline{\\mathit{\\mathbf{x}}} }_1$ , followed by ${\\underline{\\mathit{\\mathbf{x}}} }_2$ , and store it in ${\\underline{\\mathit{\\mathbf{x}}} }_3$ . Plot ${\\underline{\\mathit{\\mathbf{x}}} }_3$ .\n",
    "4. Obtain the rotation of ${\\underline{\\mathit{\\mathbf{x}}} }_3$ without using $\\textrm{rotation}\\left(\\ldotp \\right)$\n",
    "5. Obtain the translation of ${\\underline{\\mathit{\\mathbf{x}}} }_3$ without using $\\textrm{translation}\\left(\\ldotp \\right)$\n",
    "6. Obtain the pose transformation of a rotation of $\\frac{\\;\\pi \\;}{8}$ rad about the z-axis followed by a translation of 1 meter in the x-axis, and store it in ${\\underline{\\mathit{\\mathbf{x}}} }_4$ . Is it the same as ${\\underline{\\mathit{\\mathbf{x}}} }_1$ ? If it is different, why is it different?\n"
   ]
  }
 ],
 "metadata": {
  "kernelspec": {
   "display_name": "MATLAB (matlabkernel)",
   "language": "matlab",
   "name": "matlab"
  },
  "language_info": {
   "file_extension": ".m",
   "mimetype": "text/matlab",
   "name": "matlab",
   "nbconvert_exporter": "matlab",
   "pygments_lexer": "matlab",
   "version": "23.2.0.2485118"
  }
 },
 "nbformat": 4,
 "nbformat_minor": 4
}
