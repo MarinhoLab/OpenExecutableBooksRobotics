{
 "cells": [
  {
   "cell_type": "code",
   "execution_count": 206,
   "metadata": {},
   "outputs": [],
   "source": [
    "%%capture\n",
    "'''\n",
    "(C) Copyright 2020-2025 Murilo Marques Marinho (murilomarinho@ieee.org)\n",
    "\n",
    "     This file is licensed in the terms of the\n",
    "     Attribution-NonCommercial-ShareAlike 4.0 International (CC BY-NC-SA 4.0)\n",
    "     license.\n",
    "\n",
    " Derivative work of:\n",
    " https://github.com/dqrobotics/learning-dqrobotics-in-matlab/tree/master/robotic_manipulators\n",
    " Contributors to this file:\n",
    "     Murilo Marques Marinho (murilomarinho@ieee.org)\n",
    "'''"
   ]
  },
  {
   "cell_type": "markdown",
   "metadata": {},
   "source": [
    "# Dual Quaternion Basics using DQ Robotics\n",
    "\n",
    "## Introduction\n",
    "\n",
    "Before introducing dual quaternions, it is common practice to introduce the concept of dual numbers. Let us start with that.\n",
    "\n",
    "As always, let us make the essential imports.\n"
   ]
  },
  {
   "cell_type": "code",
   "execution_count": 207,
   "metadata": {},
   "outputs": [],
   "source": [
    "from dqrobotics import *\n",
    "from math import pi, sin, cos "
   ]
  },
  {
   "cell_type": "markdown",
   "metadata": {},
   "source": [
    "<a name=\"H_8A18D41F\"></a>\n",
    "## Dual Numbers\n",
    "\n",
    "The set of dual numbers $\\mathbb{D}$ is yet a different way to extend $\\mathbb{R}$ . Any dual number can be written in the form\n",
    "\n",
    "\n",
    "$$<u>d</u> =a+b\\varepsilon \\;,$$\n",
    "\n",
    "where $a,b\\in \\;$ $\\mathbb{R}$ . The algebra of dual numbers is based on the following property of the nilpotent dual unit\n",
    "\n",
    "\n",
    "$$\\varepsilon \\not= \\;0,\\varepsilon^2 =0\\ldotp$$\n",
    "\n",
    "For instance, the dual number\n",
    "\n",
    "\n",
    "$${<u>d</u> }_1 =10-239\\varepsilon$$\n",
    "\n",
    "can be written using DQ Robotics as follows.\n"
   ]
  },
  {
   "cell_type": "code",
   "execution_count": 208,
   "metadata": {},
   "outputs": [
    {
     "name": "stdout",
     "output_type": "stream",
     "text": [
      "d1 =  - 10 + E*(239)\n"
     ]
    }
   ],
   "source": [
    "d1 = 10 - 239*E_\n",
    "print(f\"d1 = {d1}\")"
   ]
  },
  {
   "cell_type": "markdown",
   "metadata": {},
   "source": [
    "\n",
    "Note that the properties of the dual unit hold\n"
   ]
  },
  {
   "cell_type": "code",
   "execution_count": 209,
   "metadata": {},
   "outputs": [
    {
     "data": {
      "text/plain": [
       "E*(1)"
      ]
     },
     "execution_count": 209,
     "metadata": {},
     "output_type": "execute_result"
    }
   ],
   "source": [
    "E_"
   ]
  },
  {
   "cell_type": "code",
   "execution_count": 210,
   "metadata": {},
   "outputs": [
    {
     "data": {
      "text/plain": [
       "0"
      ]
     },
     "execution_count": 210,
     "metadata": {},
     "output_type": "execute_result"
    }
   ],
   "source": [
    "E_*E_"
   ]
  },
  {
   "cell_type": "markdown",
   "metadata": {},
   "source": [
    "<a name=\"H_549D5E5F\"></a>\n",
    "### **Operations on dual numbers**\n",
    "\n",
    "The operations on dual numbers are very similar to the operations on real numbers. We just need to respect the property $\\varepsilon \\not= \\;0,\\varepsilon^2 =0\\ldotp$\n",
    "\n",
    "\n",
    "For instance, for the dual numbers\n",
    "\n",
    "\n",
    "$${<u>d</u> }_1 =a_1 +{\\varepsilon b}_1$$\n",
    "\n",
    " ${\\underline{d} }_2 =a_2 +{\\varepsilon b}_2$ ,\n"
   ]
  },
  {
   "cell_type": "code",
   "execution_count": 211,
   "metadata": {},
   "outputs": [
    {
     "name": "stdout",
     "output_type": "stream",
     "text": [
      "d1 =  - 10 + E*(239)\n"
     ]
    }
   ],
   "source": [
    "d1 = 10 - 239*E_\n",
    "print(f\"d1 = {d1}\")"
   ]
  },
  {
   "cell_type": "code",
   "execution_count": 212,
   "metadata": {},
   "outputs": [
    {
     "name": "stdout",
     "output_type": "stream",
     "text": [
      "d2 = 55 + E*(32)\n"
     ]
    }
   ],
   "source": [
    "d2 = 55 + 32*E_\n",
    "print(f\"d2 = {d2}\")"
   ]
  },
  {
   "cell_type": "markdown",
   "metadata": {},
   "source": [
    "<a name=\"H_3C5A7462\"></a>\n",
    "#### Sum/Subtraction\n",
    "\n",
    "$${<u>d</u> }_1 \\pm \\;{<u>d</u> }_2 =\\left(a_1 \\pm \\;a_2 \\right)+\\left(b_1 \\pm \\;b_2 \\right)\\varepsilon \\ldotp$$"
   ]
  },
  {
   "cell_type": "code",
   "execution_count": 213,
   "metadata": {},
   "outputs": [
    {
     "data": {
      "text/plain": [
       "45 + E*(271)"
      ]
     },
     "execution_count": 213,
     "metadata": {},
     "output_type": "execute_result"
    }
   ],
   "source": [
    "d1+d2"
   ]
  },
  {
   "cell_type": "code",
   "execution_count": 214,
   "metadata": {},
   "outputs": [
    {
     "data": {
      "text/plain": [
       " - 65 + E*(207)"
      ]
     },
     "execution_count": 214,
     "metadata": {},
     "output_type": "execute_result"
    }
   ],
   "source": [
    "d1-d2"
   ]
  },
  {
   "cell_type": "markdown",
   "metadata": {},
   "source": [
    "<a name=\"H_C41E75F0\"></a>\n",
    "#### Product\n",
    "\n",
    "In the dual number product, the nilpotent property of the dual unit shows.\n",
    "\n",
    "\n",
    "$$\\begin{array}{l} {<u>d</u> }_1 {<u>d</u> }_2 =\\left(a_1 a_2 \\right)+\\varepsilon \\left(a_1 b_2 +a_2 b_1 \\right)+\\varepsilon^2 \\left(b_1 b_2 \\right)\\\\ \\Rightarrow {<u>d</u> }_1 {<u>d</u> }_2 =\\left(a_1 a_2 \\right)+\\varepsilon \\left(a_1 b_2 +a_2 b_1 \\right) \\end{array}$$"
   ]
  },
  {
   "cell_type": "code",
   "execution_count": 215,
   "metadata": {},
   "outputs": [
    {
     "data": {
      "text/plain": [
       " - 550 + E*(12825)"
      ]
     },
     "execution_count": 215,
     "metadata": {},
     "output_type": "execute_result"
    }
   ],
   "source": [
    "d1*d2"
   ]
  },
  {
   "cell_type": "markdown",
   "metadata": {},
   "source": [
    "<a name=\"H_DDDA7B43\"></a>\n",
    "#### Primary part\n",
    "\n",
    "The operator $P\\left(\\ldotp \\right)$ can be used to obtain the primary part of the dual number. (The primary part is that which is not multiplied by the dual unit)\n",
    "\n",
    "\n",
    "$$P\\left(<u>d</u> \\right)=a$$"
   ]
  },
  {
   "cell_type": "code",
   "execution_count": 216,
   "metadata": {},
   "outputs": [
    {
     "data": {
      "text/plain": [
       " - 10"
      ]
     },
     "execution_count": 216,
     "metadata": {},
     "output_type": "execute_result"
    }
   ],
   "source": [
    "P(d1)"
   ]
  },
  {
   "cell_type": "markdown",
   "metadata": {},
   "source": [
    "<a name=\"H_A0E8C6FA\"></a>\n",
    "#### **Dual part**\n",
    "\n",
    "The operator $D\\left(\\ldotp \\right)$ can be used to obtain the dual part of the dual number. (The dual number is that which is multiplied by the dual unit)\n",
    "\n",
    "\n",
    "$$D\\left(<u>d</u> \\right)=b$$"
   ]
  },
  {
   "cell_type": "code",
   "execution_count": 217,
   "metadata": {},
   "outputs": [
    {
     "data": {
      "text/plain": [
       "239"
      ]
     },
     "execution_count": 217,
     "metadata": {},
     "output_type": "execute_result"
    }
   ],
   "source": [
    "D(d1)"
   ]
  },
  {
   "cell_type": "markdown",
   "metadata": {},
   "source": [
    "<a name=\"H_885A6D6B\"></a>\n",
    "## **Dual quaternions**\n",
    "\n",
    "When we extend the concept of dual numbers to be composed of two quaternions, we have what we call dual quaternions. They compose the set $\\mathcal{H}$ and can always be written in the form\n",
    "\n",
    "\n",
    "$$\\underline{\\mathit{\\mathbf{h}}} =\\mathit{\\mathbf{h}}+\\grave{\\mathit{\\mathbf{h}}} \\varepsilon$$\n",
    "\n",
    "where $\\mathit{\\mathbf{h}},\\grave{\\mathit{\\mathbf{h}}} \\in \\;$ $\\mathbb{H}$ .\n",
    "\n",
    "\n",
    "Note that $\\mathbb{R}\\subset \\mathcal{H}$ , $\\mathbb{C}\\subset \\mathcal{H}$ , $\\mathbb{H}\\subset \\mathcal{H}$ , $\\mathbb{D}\\subset \\mathcal{H}$ . That is, the real numbers, the complex numbers, the quaternions, and the dual numbers are all subsets of dual quaternions.\n",
    "\n",
    "\n",
    "For instance, the dual quaternion\n",
    "\n",
    "\n",
    "$${\\underline{\\mathit{\\mathbf{h}}} }_1 =5+6\\hat{\\imath \\;} +7\\hat{\\;\\jmath \\;} +8\\hat{\\;k} +\\varepsilon \\left(9+15\\hat{\\imath \\;} +7\\hat{\\;\\jmath \\;} +8\\hat{\\;k} \\right)$$\n",
    "\n",
    "can be written using DQ Robotics as follows\n"
   ]
  },
  {
   "cell_type": "code",
   "execution_count": 218,
   "metadata": {},
   "outputs": [
    {
     "name": "stdout",
     "output_type": "stream",
     "text": [
      "h1 = 5 + 6i + 7j + 8k + E*(9 + 15i + 7j + 8k)\n"
     ]
    }
   ],
   "source": [
    "h1 = 5 + 6*i_ + 7*j_ + 8*k_ + E_*(9 + 15*i_ + 7*j_ + 8*k_)\n",
    "print(f\"h1 = {h1}\")"
   ]
  },
  {
   "cell_type": "markdown",
   "metadata": {},
   "source": [
    "<a name=\"H_F2FDC5E8\"></a>\n",
    "### Operations on dual quaternions\n",
    "\n",
    "Considering ${\\underline{\\mathit{\\mathbf{h}}} }_1 ,{\\underline{\\mathit{\\mathbf{h}}} }_2 \\in \\;$ $\\mathcal{H}$ , for example\n"
   ]
  },
  {
   "cell_type": "code",
   "execution_count": 219,
   "metadata": {},
   "outputs": [
    {
     "name": "stdout",
     "output_type": "stream",
     "text": [
      "h1 = 5 + 6i + 7j + 8k + E*(9 + 15i + 7j + 8k)\n"
     ]
    }
   ],
   "source": [
    "h1 = 5 + 6*i_ + 7*j_ + 8*k_ + E_*(9 + 15*i_ + 7*j_ + 8*k_)\n",
    "print(f\"h1 = {h1}\")"
   ]
  },
  {
   "cell_type": "code",
   "execution_count": 220,
   "metadata": {},
   "outputs": [
    {
     "name": "stdout",
     "output_type": "stream",
     "text": [
      "h2 =  - 25 + 1k + E*(7j + 8k)\n"
     ]
    }
   ],
   "source": [
    "h2 = -25 + 1*k_ + E_*( 7*j_ + 8*k_)\n",
    "print(f\"h2 = {h2}\")"
   ]
  },
  {
   "cell_type": "markdown",
   "metadata": {},
   "source": [
    "<a name=\"H_9FCFEB1E\"></a>\n",
    "#### Sum/Subtraction\n",
    "\n",
    "$${\\underline{\\mathit{\\mathbf{h}}} }_1 \\pm {\\underline{\\mathit{\\mathbf{h}}} }_2 =\\left({\\mathit{\\mathbf{h}}}_1 \\pm {\\mathit{\\mathbf{h}}}_2 \\right)+\\varepsilon \\left({\\mathit{\\mathbf{h}}}_1^{\\prime } \\pm {\\mathit{\\mathbf{h}}}_2^{\\prime } \\right)$$"
   ]
  },
  {
   "cell_type": "code",
   "execution_count": 221,
   "metadata": {},
   "outputs": [
    {
     "data": {
      "text/plain": [
       " - 20 + 6i + 7j + 9k + E*(9 + 15i + 14j + 16k)"
      ]
     },
     "execution_count": 221,
     "metadata": {},
     "output_type": "execute_result"
    }
   ],
   "source": [
    "h1+h2"
   ]
  },
  {
   "cell_type": "code",
   "execution_count": 222,
   "metadata": {},
   "outputs": [
    {
     "data": {
      "text/plain": [
       "30 + 6i + 7j + 7k + E*(9 + 15i)"
      ]
     },
     "execution_count": 222,
     "metadata": {},
     "output_type": "execute_result"
    }
   ],
   "source": [
    "h1-h2"
   ]
  },
  {
   "cell_type": "markdown",
   "metadata": {},
   "source": [
    "<a name=\"H_19AB0712\"></a>\n",
    "#### **Multiplication**\n",
    "\n",
    "$${\\underline{\\mathit{\\mathbf{h}}} }_1 {\\underline{\\mathit{\\mathbf{h}}} }_2 =\\left({\\mathit{\\mathbf{h}}}_1 {\\mathit{\\mathbf{h}}}_2 \\right)+\\varepsilon \\left({\\mathit{\\mathbf{h}}}_1 {\\mathit{\\mathbf{h}}}_2^{\\prime } +{\\mathit{\\mathbf{h}}}_2 {\\mathit{\\mathbf{h}}}_1^{\\prime } \\right)$$"
   ]
  },
  {
   "cell_type": "code",
   "execution_count": 223,
   "metadata": {},
   "outputs": [
    {
     "data": {
      "text/plain": [
       " - 133 - 143i - 181j - 195k + E*( - 346 - 368i - 203j - 109k)"
      ]
     },
     "execution_count": 223,
     "metadata": {},
     "output_type": "execute_result"
    }
   ],
   "source": [
    "h1*h2"
   ]
  },
  {
   "cell_type": "markdown",
   "metadata": {},
   "source": [
    "\n",
    "Notice that the multiplication between dual quaternions is, ***in general***, NOT COMMUTATIVE.\n",
    "\n",
    "\n",
    "$${\\mathit{\\mathbf{h}}}_1 {\\mathit{\\mathbf{h}}}_2 \\not= {{\\mathit{\\mathbf{h}}}_2 \\mathit{\\mathbf{h}}}_1$$"
   ]
  },
  {
   "cell_type": "code",
   "execution_count": 224,
   "metadata": {},
   "outputs": [],
   "source": [
    "h3 = h1*h2"
   ]
  },
  {
   "cell_type": "code",
   "execution_count": 225,
   "metadata": {},
   "outputs": [],
   "source": [
    "h4 = h2*h1"
   ]
  },
  {
   "cell_type": "code",
   "execution_count": 226,
   "metadata": {},
   "outputs": [
    {
     "name": "stdout",
     "output_type": "stream",
     "text": [
      "h1*h2 is not equal to h2*h1\n"
     ]
    }
   ],
   "source": [
    "if h3==h4:\n",
    "    print('h1*h2 is equal to h2*h1')\n",
    "else:\n",
    "    print('h1*h2 is not equal to h2*h1')\n"
   ]
  },
  {
   "cell_type": "markdown",
   "metadata": {},
   "source": [
    "<a name=\"H_88C1E409\"></a>\n",
    "#### Conjugation\n",
    "\n",
    "The conjugate of the dual quaternion is obtained by taking the conjugate of the primary part and the dual part of the dual quaternion. Both of which are quaternions. This same logic applies for many other operators.\n",
    "\n",
    "\n",
    "$${\\left({\\underline{\\mathit{\\mathbf{h}}} }_1 \\right)}^* ={\\left({\\mathit{\\mathbf{h}}}_1 \\right)}^* +{\\varepsilon \\left({\\mathit{\\mathbf{h}}}_1^{\\prime } \\right)}^*$$"
   ]
  },
  {
   "cell_type": "code",
   "execution_count": 227,
   "metadata": {},
   "outputs": [
    {
     "data": {
      "text/plain": [
       "5 - 6i - 7j - 8k + E*(9 - 15i - 7j - 8k)"
      ]
     },
     "execution_count": 227,
     "metadata": {},
     "output_type": "execute_result"
    }
   ],
   "source": [
    "conj(h1)"
   ]
  },
  {
   "cell_type": "markdown",
   "metadata": {},
   "source": [
    "\n",
    "**Norm**\n",
    "\n",
    "\n",
    "$$\\left|\\right|{\\underline{\\mathit{\\mathbf{h}}} }_1 \\left|\\right|=\\sqrt{{\\underline{\\mathit{\\mathbf{h}}} }_1 {\\left({\\underline{\\mathit{\\mathbf{h}}} }_1 \\right)}^* \\;}$$"
   ]
  },
  {
   "cell_type": "code",
   "execution_count": 228,
   "metadata": {},
   "outputs": [
    {
     "data": {
      "text/plain": [
       "13.190906 + E*(18.800831)"
      ]
     },
     "execution_count": 228,
     "metadata": {},
     "output_type": "execute_result"
    }
   ],
   "source": [
    "norm(h1)"
   ]
  },
  {
   "cell_type": "markdown",
   "metadata": {},
   "source": [
    "<a name=\"H_6202B6BC\"></a>\n",
    "#### Real part\n",
    "\n",
    "$$\\textrm{Re}\\left({\\underline{\\mathit{\\mathbf{h}}} }_1 \\right)=\\textrm{Re}\\left({\\mathit{\\mathbf{h}}}_1 \\right)+\\epsilon \\textrm{Re}\\left({\\mathit{\\mathbf{h}}}_1^{\\prime } \\right)$$"
   ]
  },
  {
   "cell_type": "code",
   "execution_count": 229,
   "metadata": {},
   "outputs": [
    {
     "data": {
      "text/plain": [
       "5 + E*(9)"
      ]
     },
     "execution_count": 229,
     "metadata": {},
     "output_type": "execute_result"
    }
   ],
   "source": [
    "Re(h1)"
   ]
  },
  {
   "cell_type": "markdown",
   "metadata": {},
   "source": [
    "\n",
    "If the real part of a dual quaternion is zero, it is called a *pure dual quaternion*, and belongs to the set ${\\mathcal{H}}_p$ .\n",
    "\n",
    "<a name=\"H_8897FE36\"></a>\n",
    "#### Imaginary part\n",
    "\n",
    "$$\\textrm{Im}\\left({\\underline{\\mathit{\\mathbf{h}}} }_1 \\right)=\\textrm{Im}\\left({\\mathit{\\mathbf{h}}}_1 \\right)+\\epsilon \\textrm{Im}\\left({\\mathit{\\mathbf{h}}}_1^{\\prime } \\right)$$"
   ]
  },
  {
   "cell_type": "code",
   "execution_count": 230,
   "metadata": {},
   "outputs": [
    {
     "data": {
      "text/plain": [
       "6i + 7j + 8k + E*(15i + 7j + 8k)"
      ]
     },
     "execution_count": 230,
     "metadata": {},
     "output_type": "execute_result"
    }
   ],
   "source": [
    "Im(h1)"
   ]
  },
  {
   "cell_type": "markdown",
   "metadata": {},
   "source": [
    "\n",
    "If the imaginary part of a dual quaternion is zero, it is a dual number.\n",
    "\n",
    "<a name=\"H_55D1217E\"></a>\n",
    "#### Primary part\n",
    "\n",
    "$$P\\left({\\underline{\\mathit{\\mathbf{h}}} }_1 \\right)={\\mathit{\\mathbf{h}}}_1$$"
   ]
  },
  {
   "cell_type": "code",
   "execution_count": 231,
   "metadata": {},
   "outputs": [
    {
     "data": {
      "text/plain": [
       "5 + 6i + 7j + 8k"
      ]
     },
     "execution_count": 231,
     "metadata": {},
     "output_type": "execute_result"
    }
   ],
   "source": [
    "P(h1)"
   ]
  },
  {
   "cell_type": "markdown",
   "metadata": {},
   "source": [
    "<a name=\"H_C40A3A46\"></a>\n",
    "#### **Dual part**\n",
    "\n",
    "$$D\\left({\\underline{\\mathit{\\mathbf{h}}} }_1 \\right)={\\mathit{\\mathbf{h}}}_1^{\\prime }$$"
   ]
  },
  {
   "cell_type": "code",
   "execution_count": 232,
   "metadata": {},
   "outputs": [
    {
     "data": {
      "text/plain": [
       "9 + 15i + 7j + 8k"
      ]
     },
     "execution_count": 232,
     "metadata": {},
     "output_type": "execute_result"
    }
   ],
   "source": [
    "D(h1)"
   ]
  },
  {
   "cell_type": "markdown",
   "metadata": {},
   "source": [
    "<a name=\"H_40C5166D\"></a>\n",
    "#### Vec6\n",
    "\n",
    "The imaginary part of dual quaternions can be mapped to ${\\mathbb{R}}^6$ as follows\n",
    "\n",
    "\n",
    "$${\\textrm{vec}}_6 \\left({\\underline{\\mathit{\\mathbf{h}}} }_1 \\right)=\\left\\lbrack \\begin{array}{c} {\\textrm{vec}}_3 \\left({\\mathit{\\mathbf{h}}}_1 \\right)\\\\ {\\textrm{vec}}_3 \\left({\\mathit{\\mathbf{h}}}_1^{\\prime } \\right) \\end{array}\\right\\rbrack$$"
   ]
  },
  {
   "cell_type": "code",
   "execution_count": 233,
   "metadata": {},
   "outputs": [
    {
     "data": {
      "text/plain": [
       "array([ 6.,  7.,  8., 15.,  7.,  8.])"
      ]
     },
     "execution_count": 233,
     "metadata": {},
     "output_type": "execute_result"
    }
   ],
   "source": [
    "vec6(h1)"
   ]
  },
  {
   "cell_type": "markdown",
   "metadata": {},
   "source": [
    "<a name=\"H_22949A8D\"></a>\n",
    "#### Vec8\n",
    "\n",
    "Quaternions can be mapped to ${\\mathbb{R}}^8$ as follows\n",
    "\n",
    "\n",
    "$${\\textrm{vec}}_4 \\left({\\underline{\\mathit{\\mathbf{h}}} }_1 \\right)=\\left\\lbrack \\begin{array}{c} {\\textrm{vec}}_4 \\left({\\mathit{\\mathbf{h}}}_1 \\right)\\\\ {\\textrm{vec}}_4 \\left({\\mathit{\\mathbf{h}}}_1^{\\prime } \\right) \\end{array}\\right\\rbrack$$"
   ]
  },
  {
   "cell_type": "code",
   "execution_count": 234,
   "metadata": {},
   "outputs": [
    {
     "data": {
      "text/plain": [
       "array([ 5.,  6.,  7.,  8.,  9., 15.,  7.,  8.])"
      ]
     },
     "execution_count": 234,
     "metadata": {},
     "output_type": "execute_result"
    }
   ],
   "source": [
    "vec8(h1)"
   ]
  },
  {
   "cell_type": "markdown",
   "metadata": {},
   "source": [
    "<a name=\"H_1ADD63E3\"></a>\n",
    "#### Hamilton Operators\n",
    "\n",
    "The hamilton operators are useful to provide a form of commutativity in the dual quaternion multiplication.\n",
    "\n",
    "\n",
    "$${\\textrm{vec}}_8 \\left({\\underline{\\mathit{\\mathbf{h}}} }_1 {\\underline{\\mathit{\\mathbf{h}}} }_2 \\right)=\\overset{+}{{\\mathit{\\mathbf{H}}}_8 } \\left({\\underline{\\mathit{\\mathbf{h}}} }_1 \\right){\\textrm{vec}}_8 \\left({\\underline{\\mathit{\\mathbf{h}}} }_2 \\right)=\\overset{-}{{\\mathit{\\mathbf{H}}}_8 } \\left({\\underline{\\mathit{\\mathbf{h}}} }_2 \\right){\\textrm{vec}}_8 \\left({\\underline{\\mathit{\\mathbf{h}}} }_1 \\right)$$"
   ]
  },
  {
   "cell_type": "code",
   "execution_count": 235,
   "metadata": {},
   "outputs": [
    {
     "data": {
      "text/plain": [
       "array([-133., -143., -181., -195., -346., -368., -203., -109.])"
      ]
     },
     "execution_count": 235,
     "metadata": {},
     "output_type": "execute_result"
    }
   ],
   "source": [
    "vec8(h1*h2)"
   ]
  },
  {
   "cell_type": "code",
   "execution_count": 236,
   "metadata": {},
   "outputs": [
    {
     "data": {
      "text/plain": [
       "array([[-125.,   -0.,   -0.,   -8.,    0.,    0.,    0.,    0.],\n",
       "       [-150.,    0.,   -0.,    7.,    0.,    0.,    0.,    0.],\n",
       "       [-175.,    0.,    0.,   -6.,    0.,    0.,    0.,    0.],\n",
       "       [-200.,   -0.,    0.,    5.,    0.,    0.,    0.,    0.],\n",
       "       [-225.,   -0.,   -0.,   -8.,    0.,   -0.,  -49.,  -64.],\n",
       "       [-375.,    0.,   -0.,    7.,    0.,    0.,  -56.,   56.],\n",
       "       [-175.,    0.,    0.,  -15.,    0.,    0.,   35.,  -48.],\n",
       "       [-200.,   -0.,    0.,    9.,    0.,   -0.,   42.,   40.]])"
      ]
     },
     "execution_count": 236,
     "metadata": {},
     "output_type": "execute_result"
    }
   ],
   "source": [
    "hamiplus8(h1)*vec8(h2)"
   ]
  },
  {
   "cell_type": "code",
   "execution_count": 237,
   "metadata": {},
   "outputs": [
    {
     "data": {
      "text/plain": [
       "array([[-125.,   -0.,   -0.,   -8.,    0.,    0.,    0.,    0.],\n",
       "       [   0., -150.,    7.,   -0.,    0.,    0.,    0.,    0.],\n",
       "       [   0.,   -6., -175.,    0.,    0.,    0.,    0.,    0.],\n",
       "       [   5.,    0.,   -0., -200.,    0.,    0.,    0.,    0.],\n",
       "       [   0.,   -0.,  -49.,  -64., -225.,   -0.,   -0.,   -8.],\n",
       "       [   0.,    0.,   56.,  -56.,    0., -375.,    7.,   -0.],\n",
       "       [  35.,  -48.,    0.,    0.,    0.,  -15., -175.,    0.],\n",
       "       [  40.,   42.,   -0.,    0.,    9.,    0.,   -0., -200.]])"
      ]
     },
     "execution_count": 237,
     "metadata": {},
     "output_type": "execute_result"
    }
   ],
   "source": [
    "haminus8(h2)*vec8(h1)"
   ]
  },
  {
   "cell_type": "markdown",
   "metadata": {},
   "source": [
    "<a name=\"H_65EB895C\"></a>\n",
    "## Unit Dual Quaternions motion of rigid bodies\n",
    "\n",
    "Unit dual quaternions compose the set $\\underline{{\\mathcal{S}}}$ , which represent pose transformations of the reference frame of rigid bodies in three dimensional space.\n",
    "\n",
    "\n",
    "A unit dual quaternion representing a translation followed by a rotation can always be written in the form\n",
    "\n",
    "\n",
    "$$\\underline{\\mathit{\\mathbf{x}}} =\\mathit{\\mathbf{r}}+\\varepsilon \\frac{\\;1}{2}\\mathit{\\mathbf{t}}\\ldotp \\mathit{\\mathbf{r}}$$\n",
    "\n",
    "where $\\mathit{\\mathbf{r}}\\in$ ${\\mathbb{S}}^3$ is the unit-norm quaternion representing the rotation; and $t$ $\\in {\\mathbb{H}}_p$ is the quaternion representing the translation.\n",
    "\n",
    "\n",
    "Remember this nomenclature:\n",
    "\n",
    "-  $t$ $\\in {\\mathbb{H}}_p$ is a translation.\n",
    "-  $\\mathit{\\mathbf{r}}\\in$ ${\\mathbb{S}}^3$ is a rotation.\n",
    "-  $\\underline{\\mathit{\\mathbf{x}}}$ $\\in$ $\\underline{{\\mathcal{S}}}$ is a pose transformation (combined translation and rotation).\n",
    "\n",
    "Unit-norm dual-quaternions, as the name says, have unit norm\n",
    "\n",
    "\n",
    "$$\\left|\\right|\\underline{\\mathit{\\mathbf{x}}} \\left|\\right|=1\\ldotp$$\n",
    "\n",
    "For instance, to represent the translation of 1 meter about the y-axis,\n",
    "\n",
    "\n",
    "$${\\mathit{\\mathbf{t}}}_1 =\\hat{\\;\\jmath \\;\\;} ,$$"
   ]
  },
  {
   "cell_type": "code",
   "execution_count": 238,
   "metadata": {},
   "outputs": [],
   "source": [
    "t1 = j_"
   ]
  },
  {
   "cell_type": "markdown",
   "metadata": {},
   "source": [
    "\n",
    "followed by a rotation of $\\frac{\\pi }{2}$ rad about the x-axis,\n",
    "\n",
    "\n",
    "$$r_1 =\\cos \\left(\\frac{\\;\\pi \\;}{4}\\right)+\\hat{\\;\\imath \\;} \\sin \\left(\\frac{\\pi \\;}{4}\\right)$$"
   ]
  },
  {
   "cell_type": "code",
   "execution_count": 239,
   "metadata": {},
   "outputs": [],
   "source": [
    "r1 = cos(pi/4) + i_*sin(pi/4)"
   ]
  },
  {
   "cell_type": "markdown",
   "metadata": {},
   "source": [
    "\n",
    "the pose transformation will be\n",
    "\n",
    "\n",
    "$${\\underline{\\;\\mathit{\\mathbf{x}}} }_1 ={\\mathit{\\mathbf{r}}}_1 +\\varepsilon \\frac{\\;1}{2}{\\mathit{\\mathbf{t}}}_1 {\\mathit{\\mathbf{r}}}_1 =\\cos \\left(\\frac{\\;\\pi \\;}{4}\\right)+\\hat{\\;\\imath \\;} \\sin \\left(\\frac{\\;\\pi \\;}{4}\\right)+\\frac{\\;1}{2}\\varepsilon \\left(\\hat{\\;\\jmath \\;\\;} \\cos \\left(\\frac{\\;\\pi \\;}{4}\\right)-\\hat{\\;k\\;} \\sin \\left(\\frac{\\;\\pi \\;}{4}\\right)\\right)$$"
   ]
  },
  {
   "cell_type": "code",
   "execution_count": 240,
   "metadata": {},
   "outputs": [],
   "source": [
    "x1 = r1 + 0.5*E_*t1*r1"
   ]
  },
  {
   "cell_type": "markdown",
   "metadata": {},
   "source": [
    "\n",
    "We can check that ${\\underline{\\;\\mathit{\\mathbf{x}}} }_1$ indeed has unit norm\n"
   ]
  },
  {
   "cell_type": "code",
   "execution_count": 241,
   "metadata": {},
   "outputs": [
    {
     "data": {
      "text/plain": [
       "1"
      ]
     },
     "execution_count": 241,
     "metadata": {},
     "output_type": "execute_result"
    }
   ],
   "source": [
    "norm(x1)"
   ]
  },
  {
   "cell_type": "markdown",
   "metadata": {},
   "source": [
    "<a name=\"H_DFF20C45\"></a>\n",
    "#### Dual quaternion double-cover property\n",
    "\n",
    "Given the way that the pose transformation is based on quaternions, the double cover also extends to dual quaternions.\n",
    "\n",
    "\n",
    "$${\\underline{\\;\\mathit{\\mathbf{x}}} }_1$$\n",
    "\n",
    "and\n",
    "\n",
    "\n",
    "$$-{\\underline{\\;\\mathit{\\mathbf{x}}} }_1$$\n",
    "\n",
    "represent the same pose transformation.\n",
    "\n",
    "<a name=\"H_D6D1F1D7\"></a>\n",
    "#### No pose transformation\n",
    "\n",
    "The dual quaternion that represents that there is no pose transformation is\n",
    "\n",
    "\n",
    "$${\\underline{\\;\\mathit{\\mathbf{x}}} }_1 =1$$"
   ]
  },
  {
   "cell_type": "code",
   "execution_count": 242,
   "metadata": {},
   "outputs": [],
   "source": [
    "x1 = DQ([1])"
   ]
  },
  {
   "cell_type": "markdown",
   "metadata": {},
   "source": [
    "<a name=\"H_8B900EDE\"></a>\n",
    "#### Plotting unit dual quaternions\n",
    "\n",
    "Using DQ Robotics, unit dual quaternions can be plotted on screen the same way as unit quaternions.\n"
   ]
  },
  {
   "cell_type": "code",
   "execution_count": 243,
   "metadata": {},
   "outputs": [],
   "source": [
    "#plot(x1);"
   ]
  },
  {
   "cell_type": "markdown",
   "metadata": {},
   "source": [
    "<a name=\"H_0984289C\"></a>\n",
    "#### Sequential pose transforrmations\n",
    "\n",
    "Sequential pose transformations are obtained by post-multiplication of unit dual quaternions. For example, the transformation between the neutral reference frame by ${\\underline{\\;\\mathit{\\mathbf{x}}} }_1$ followed by ${\\underline{\\;\\mathit{\\mathbf{x}}} }_2$  is\n",
    "\n",
    "\n",
    "$${\\underline{\\;\\mathit{\\mathbf{x}}} }_3 ={\\underline{\\;\\mathit{\\mathbf{x}}} }_1 {\\underline{\\;\\mathit{\\mathbf{x}}} }_2$$"
   ]
  },
  {
   "cell_type": "code",
   "execution_count": 244,
   "metadata": {},
   "outputs": [
    {
     "name": "stdout",
     "output_type": "stream",
     "text": [
      "Sequential pose transformations\n"
     ]
    }
   ],
   "source": [
    "print('Sequential pose transformations')"
   ]
  },
  {
   "cell_type": "code",
   "execution_count": 245,
   "metadata": {},
   "outputs": [],
   "source": [
    "# Define the initial pose\n",
    "t1 = 0\n",
    "r1 = 1\n",
    "x1 = r1 + 0.5*E_*t1*r1\n",
    "\n",
    "# Define the second pose transformation\n",
    "t2 = j_\n",
    "r2 = cos(pi/4) + i_*sin(pi/4)\n",
    "x2 = r2 + 0.5*E_*t2*r2\n",
    "\n",
    "# Define the third pose transformation\n",
    "t3 = -k_ + 2*i_\n",
    "r3 = cos(pi/32) + k_*sin(pi/32)\n",
    "x3 = r3 + 0.5*E_*t3*r3\n",
    "\n",
    "# Plot using subplot\n",
    "#subplot(1,3,1);\n",
    "#plot(x1);\n",
    "#title('x1');\n",
    "\n",
    "#subplot(1,3,2);\n",
    "#plot(x1*x2);\n",
    "#title('x1*x2');\n",
    "\n",
    "#subplot(1,3,3);\n",
    "#plot(x1*x2*x3);\n",
    "#title('x1*x2*x3');"
   ]
  },
  {
   "cell_type": "markdown",
   "metadata": {},
   "source": [
    "<a name=\"H_0CCCC4CD\"></a>\n",
    "#### Reverse pose transformation\n",
    "\n",
    "The reverse pose transformation can be obtained using the conjugate operation, because unit dual quaternions have unit norm. Hence,\n",
    "\n",
    "\n",
    "$$\\underline{\\mathit{\\mathbf{x}}} {\\left(\\underline{\\;\\mathit{\\mathbf{x}}} \\right)}^* =1$$\n",
    "\n",
    "for any unit dual quaternion.\n",
    "\n",
    "\n",
    "For example,\n"
   ]
  },
  {
   "cell_type": "code",
   "execution_count": 246,
   "metadata": {},
   "outputs": [
    {
     "data": {
      "text/plain": [
       "0.995185 + 0.098017k + E*(0.049009 + 0.995185i - 0.098017j - 0.497592k)"
      ]
     },
     "execution_count": 246,
     "metadata": {},
     "output_type": "execute_result"
    }
   ],
   "source": [
    "x3"
   ]
  },
  {
   "cell_type": "code",
   "execution_count": 247,
   "metadata": {},
   "outputs": [
    {
     "data": {
      "text/plain": [
       "1"
      ]
     },
     "execution_count": 247,
     "metadata": {},
     "output_type": "execute_result"
    }
   ],
   "source": [
    "x3*conj(x3)"
   ]
  },
  {
   "cell_type": "markdown",
   "metadata": {},
   "source": [
    "<a name=\"H_0117B51F\"></a>\n",
    "#### Rotation\n",
    "\n",
    "The operator $\\textrm{rotation}\\left(\\ldotp \\right)$ can be used to retrieve the rotation represented by a unit dual quaternion.\n"
   ]
  },
  {
   "cell_type": "code",
   "execution_count": 248,
   "metadata": {},
   "outputs": [
    {
     "data": {
      "text/plain": [
       "0.995185 + 0.098017k"
      ]
     },
     "execution_count": 248,
     "metadata": {},
     "output_type": "execute_result"
    }
   ],
   "source": [
    "rotation(x3)"
   ]
  },
  {
   "cell_type": "markdown",
   "metadata": {},
   "source": [
    "<a name=\"H_96709AB2\"></a>\n",
    "#### Translation\n",
    "\n",
    "The operator $\\textrm{translation}\\left(\\ldotp \\right)$ can be used to retrive the translation represented by a unit dual quaternion.\n"
   ]
  },
  {
   "cell_type": "code",
   "execution_count": 249,
   "metadata": {},
   "outputs": [
    {
     "data": {
      "text/plain": [
       "2i - 1k"
      ]
     },
     "execution_count": 249,
     "metadata": {},
     "output_type": "execute_result"
    }
   ],
   "source": [
    "translation(x3)"
   ]
  },
  {
   "cell_type": "markdown",
   "metadata": {},
   "source": [
    "<a name=\"T_44254608\"></a>\n",
    "# <span style=\"color:rgb(213,80,0)\">Homework</span>\n",
    "\n"
   ]
  },
  {
   "cell_type": "code",
   "execution_count": null,
   "metadata": {},
   "outputs": [
    {
     "ename": "NameError",
     "evalue": "name 'include_namespace_dq' is not defined",
     "output_type": "error",
     "traceback": [
      "\u001b[0;31m---------------------------------------------------------------------------\u001b[0m",
      "\u001b[0;31mNameError\u001b[0m                                 Traceback (most recent call last)",
      "Cell \u001b[0;32mIn[250], line 3\u001b[0m\n\u001b[1;32m      1\u001b[0m \u001b[38;5;66;03m## Homework example\u001b[39;00m\n\u001b[1;32m      2\u001b[0m \u001b[38;5;66;03m# Essential imports\u001b[39;00m\n\u001b[0;32m----> 3\u001b[0m \u001b[43minclude_namespace_dq\u001b[49m\n\u001b[1;32m      5\u001b[0m \u001b[38;5;66;03m## Solutions\u001b[39;00m\n\u001b[1;32m      6\u001b[0m \u001b[38;5;66;03m# Question 1\u001b[39;00m\n\u001b[1;32m      7\u001b[0m \n\u001b[1;32m      8\u001b[0m \u001b[38;5;66;03m# Question 2\u001b[39;00m\n\u001b[1;32m      9\u001b[0m \n\u001b[1;32m     10\u001b[0m \u001b[38;5;66;03m# Question 3\u001b[39;00m\n",
      "\u001b[0;31mNameError\u001b[0m: name 'include_namespace_dq' is not defined"
     ]
    }
   ],
   "source": [
    "## Homework example\n",
    "# Essential imports\n",
    "from dqrobotics import *\n",
    "from math import pi, sin, cos \n",
    "\n",
    "## Solutions\n",
    "# Question 1\n",
    "\n",
    "# Question 2\n",
    "\n",
    "# Question 3"
   ]
  },
  {
   "cell_type": "markdown",
   "metadata": {},
   "source": [
    "\n",
    "\n",
    "Following the template above to create a script called [dual_quaternion_basics_homework_part1.py], do the following.\n",
    "\n",
    "1.  Store, in ${\\underline{\\mathit{\\mathbf{x}}} }_1$ , the pose transformation of a translation of 1 meter in the x-axis, followed by a rotation of $\\frac{\\;\\pi \\;}{8}$ rad about the z-axis.\n",
    "2. Store, in ${\\underline{\\mathit{\\mathbf{x}}} }_2$ , the pose transformation of a translation of -1 meter in the z-axis, followed by a rotation of $-\\frac{\\;\\pi \\;}{2}$ rad about the x-axis.\n",
    "3. Calculate the result of the sequential rotation of the neutral reference-frame by ${\\underline{\\mathit{\\mathbf{x}}} }_0 =1$ , followed by ${\\underline{\\mathit{\\mathbf{x}}} }_1$ , followed by ${\\underline{\\mathit{\\mathbf{x}}} }_2$ , and store it in ${\\underline{\\mathit{\\mathbf{x}}} }_3$ . Plot ${\\underline{\\mathit{\\mathbf{x}}} }_3$ .\n",
    "4. Obtain the rotation of ${\\underline{\\mathit{\\mathbf{x}}} }_3$ without using $\\textrm{rotation}\\left(\\ldotp \\right)$\n",
    "5. Obtain the translation of ${\\underline{\\mathit{\\mathbf{x}}} }_3$ without using $\\textrm{translation}\\left(\\ldotp \\right)$\n",
    "6. Obtain the pose transformation of a rotation of $\\frac{\\;\\pi \\;}{8}$ rad about the z-axis followed by a translation of 1 meter in the x-axis, and store it in ${\\underline{\\mathit{\\mathbf{x}}} }_4$ . Is it the same as ${\\underline{\\mathit{\\mathbf{x}}} }_1$ ? If it is different, why is it different?\n"
   ]
  }
 ],
 "metadata": {
  "kernelspec": {
   "display_name": ".venv",
   "language": "python",
   "name": "python3"
  },
  "language_info": {
   "codemirror_mode": {
    "name": "ipython",
    "version": 3
   },
   "file_extension": ".py",
   "mimetype": "text/x-python",
   "name": "python",
   "nbconvert_exporter": "python",
   "pygments_lexer": "ipython3",
   "version": "3.12.9"
  }
 },
 "nbformat": 4,
 "nbformat_minor": 4
}
