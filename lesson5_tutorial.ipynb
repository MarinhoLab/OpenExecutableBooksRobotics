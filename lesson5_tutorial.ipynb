{
 "cells": [
  {
   "cell_type": "markdown",
   "metadata": {},
   "source": [
    "# Kinematic Control 1\n",
    "\n",
    "*License: CC-BY-NC-SA 4.0*\n",
    "\n",
    "*Author: Murilo M. Marinho (murilo.marinho@manchester.ac.uk)*\n",
    "\n",
    "## Pre-requisites\n",
    "The user of this notebook is expected to have prior knowledge in\n",
    "- All the content and pre-requisites of lessons 1, 2, 3, and 4.\n",
    "\n",
    "## I found an issue\n",
    "Thank you! Please report it at https://github.com/MarinhoLab/OpenExecutableBooksRobotics/issues\n",
    "\n",
    "#### Latex Macros\n",
    "$\\providecommand{\\myvec}[1]{{\\mathbf{\\boldsymbol{{#1}}}}}$\n",
    "$\\providecommand{\\mymatrix}[1]{{\\mathbf{\\boldsymbol{{#1}}}}}$"
   ]
  },
  {
   "cell_type": "raw",
   "metadata": {
    "vscode": {
     "languageId": "raw"
    }
   },
   "source": [
    "\\providecommand{\\myvec}[1]{{\\mathbf{\\boldsymbol{{#1}}}}}\n",
    "\\providecommand{\\mymatrix}[1]{{\\mathbf{\\boldsymbol{{#1}}}}}\n",
    "\\(\n",
    "   \\def\\myvec#1{{\\mathbf{\\boldsymbol{{#1}}}}}\n",
    "   \\def\\mymatrix#1{{\\mathbf{\\boldsymbol{{#1}}}}}\n",
    "\\)"
   ]
  },
  {
   "cell_type": "markdown",
   "metadata": {},
   "source": [
    "# Pre-requisites"
   ]
  },
  {
   "cell_type": "code",
   "execution_count": 84,
   "metadata": {},
   "outputs": [],
   "source": [
    "%%capture\n",
    "%pip install numpy\n",
    "%pip install numpy --break-system-packages\n",
    "%pip install roboticstoolbox-python\n",
    "%pip install roboticstoolbox-python --break-system-packages\n",
    "%pip install matplotlib\n",
    "%pip install matplotlib --break-system-packages"
   ]
  },
  {
   "cell_type": "markdown",
   "metadata": {},
   "source": [
    "# Imports"
   ]
  },
  {
   "cell_type": "code",
   "execution_count": null,
   "metadata": {
    "tags": [
     "imports"
    ]
   },
   "outputs": [],
   "source": [
    "%matplotlib inline\n",
    "import numpy as np\n",
    "import spatialmath as sm\n",
    "import matplotlib.pyplot as plt\n",
    "plt.rcParams['text.usetex'] = True\n",
    "from math import pi, sin, cos"
   ]
  },
  {
   "cell_type": "markdown",
   "metadata": {},
   "source": [
    "# Suggested exercises\n",
    "- Try to modify the code below to calculate the control action for a:\n",
    "1. PP robot\n",
    "2. RP robot"
   ]
  },
  {
   "attachments": {
    "Lesson4.png": {
     "image/png": "[encoded data removed]"
    }
   },
   "cell_type": "markdown",
   "metadata": {},
   "source": [
    "# 2 DoF planar robot (RR)\n",
    "\n",
    "![Lesson4.png](attachment:Lesson4.png)\n",
    "\n",
    "For the 2-DoF planar robot shown in the figure, let $q_0\\triangleq q_0(t)$, $q_1\\triangleq q_1(t)$, $l_{0}$, $l_{1} \\in \\mathbb{R}$ be the parameters to calculate\n",
    "\n",
    "$$\\mymatrix{H}^{0}_{2}( q_0, l_{0},q_1,l_{1}) \\in SE(2),$$\n",
    "\n",
    "that is, the forward kinematics model of the 2 DoF planar manipulator with configuration space given by \n",
    "\n",
    "$$\\myvec{q} = \\left[\\begin{array}{ccc}\n",
    "         q_0 \\\\\n",
    "         q_1\n",
    "        \\end{array}\\right].$$\n",
    "\n",
    "and given the analytical Jacobian below\n",
    "\n",
    "$$\\dot{\\myvec{x}}=\\mymatrix{J} \\dot{\\myvec{q}}$$\n",
    "\n",
    "where \n",
    "\n",
    "$$\\myvec{x} = \\left[\\begin{array}{ccc}\n",
    "         p_{x} \\\\\n",
    "         p_{y} \\\\\n",
    "         \\phi_{z}\n",
    "        \\end{array}\\right],$$\n",
    "\n",
    "in which $p_{x}$, $p_{y}$, and $\\phi_{z}$ are, respectively, the $x$-axis position, the $y$-axis position, and the $z$-axis angle of $\\mathcal{F}_{2}$. Notice that $\\dot{l}_{0}=\\dot{l}_{1}=0$. "
   ]
  },
  {
   "cell_type": "markdown",
   "metadata": {},
   "source": [
    "### Consider the forward kinematics model calculated as in the past lesson\n",
    "\n",
    "$$ \\mymatrix{H}^{0}_{2} = \\left[\\begin{array}{ccc}\n",
    "         \\cos{(q_0 + q_1)} & -\\sin{(q_0 + q_1)} & l_{0}\\cos{q_0} + l_{1}\\cos{(q_0 + q_1)}\\\\\n",
    "         \\sin{(q_0 + q_1)} & \\cos{(q_0 + q_1)}  & l_{0}\\sin{q_0} + l_{1}\\sin{(q_0 + q_1)}\\\\\n",
    "         0                 & 0                  & 1\n",
    "        \\end{array}\\right].$$\n",
    "\n",
    "which we turn into a function called `planar_robot_fkm` so that it can be easily reused"
   ]
  },
  {
   "cell_type": "code",
   "execution_count": 86,
   "metadata": {},
   "outputs": [],
   "source": [
    "def planar_robot_fkm(q: np.array) -> np.array:\n",
    "    \"\"\"\n",
    "    q: The configuration space values in radians.\n",
    "    returns the x, this, the current task space value where x = [p_x p_y phi_z]^T.\n",
    "    \"\"\"\n",
    "    l_0: float = 0.2 # The robot parameters. They don't change in time, so they are constant here.\n",
    "    l_1: float = 0.1\n",
    "\n",
    "    q_0 = q[0] # Just to make it more readable.\n",
    "    q_1 = q[1] \n",
    "\n",
    "    p_x = l_0 * cos(q_0) + l_1 * cos(q_0 + q_1)\n",
    "    p_y = l_0 * sin(q_0) + l_1 * sin(q_0 + q_1)\n",
    "    phi_z = q_0 + q_1\n",
    "\n",
    "    return np.array([p_x,\n",
    "                     p_y,\n",
    "                     phi_z])"
   ]
  },
  {
   "cell_type": "markdown",
   "metadata": {},
   "source": [
    "\n",
    "### Consider the analytical Jacobian\n",
    "\n",
    "We first calculate the Jacobian by hand, because programatically there's nothing for you to do yet. As we did in class, here is the Jacobian\n",
    "\n",
    "$$\\mymatrix{J} = \\left[\\begin{array}{ccc}\n",
    "         -l_{0}\\sin{q_0} - l_{1}\\sin{(q_0 + q_1)} & -l_{1}\\sin{(q_0 + q_1)} \\\\\n",
    "         l_{0}\\cos{q_0} + l_{1}\\cos{(q_0 + q_1)} & l_{1}\\cos{(q_0 + q_1)}  \\\\\n",
    "         1                 & 1                  \n",
    "        \\end{array}\\right].$$\n",
    "\n",
    "We transform this Jacobian calculation into the function `planar_robot_jacobian` shown below"
   ]
  },
  {
   "cell_type": "code",
   "execution_count": 87,
   "metadata": {},
   "outputs": [],
   "source": [
    "def planar_robot_jacobian(q: np.array) -> np.array: \n",
    "    \"\"\"\n",
    "    q: The configuration space values in radians.\n",
    "    returns the 3x2 Jacobian mapping [q_0 q_1]^T to [px py phi_z]^T.\n",
    "    \"\"\"\n",
    "    l_0: float = 0.2 # The robot parameters. They don't change in time, so they are constant here.\n",
    "    l_1: float = 0.1\n",
    "\n",
    "    q_0 = q[0] # Just to make it more readable.\n",
    "    q_1 = q[1] \n",
    "\n",
    "    J_1_1 = -l_0 * sin(q_0) - l_1 * sin(q_0 + q_1)\n",
    "    J_1_2 = -l_1 * sin(q_0  + q_1)\n",
    "    J_2_1 =  l_0 * cos(q_0) + l_1 * sin(q_0 + q_1)\n",
    "    J_2_2 =  l_1 * cos(q_0 +  q_1)\n",
    "    J_3_1 = 1\n",
    "    J_3_2 = 1\n",
    "\n",
    "    return np.array(\n",
    "                [[J_1_1, J_1_2],\n",
    "                 [J_2_1, J_2_2],\n",
    "                 [J_3_1, J_3_2]]\n",
    "        )"
   ]
  },
  {
   "cell_type": "markdown",
   "metadata": {},
   "source": [
    "## Kinematic Control\n",
    "\n",
    "### 1. Define an error function\n",
    "\n",
    "We usually use\n",
    "\n",
    "$$\\tilde{\\myvec{x}}= \\myvec{x} - \\myvec{x}_d$$\n",
    "\n",
    "that can be implemented as the function `get_error` below"
   ]
  },
  {
   "cell_type": "code",
   "execution_count": 88,
   "metadata": {},
   "outputs": [],
   "source": [
    "def get_error(x: np.array, xd: np.array) -> np.array:\n",
    "    \"\"\"In this case, we use the difference as the error.\n",
    "    x: current task-space vector.\n",
    "    xd: desired task-space vector.\n",
    "    \"\"\"\n",
    "    return x - xd"
   ]
  },
  {
   "cell_type": "markdown",
   "metadata": {},
   "source": [
    "### 2. Define the control loop\n",
    "\n",
    "We resort to the following control law\n",
    "\n",
    "$$\\myvec{u} = -\\eta \\mymatrix{J}^{\\dagger}\\tilde{\\myvec{x}}$$\n",
    "\n",
    "that can be easily implemented. Notice that we can resort to `np.linalg.pinv()` to perform the pseudo inversion.\n",
    "We do so using all previous functions. The idea here is to show that the norm of the error decreases with the control action. The desired task space vector will not always be achievable. Nonetheless, we can show, as below, that the control action reduces the task-space error, $\\tilde{\\myvec{x}}$.\n"
   ]
  },
  {
   "cell_type": "code",
   "execution_count": 89,
   "metadata": {},
   "outputs": [
    {
     "name": "stdout",
     "output_type": "stream",
     "text": [
      "xd = [0.1        0.1        0.31415927]\n"
     ]
    }
   ],
   "source": [
    "eta: float = 0.5 # Controller proportional gain\n",
    "T:float = 0.001 # Sampling time\n",
    "# Define initial values for the joint positions\n",
    "q_0 = 0.0\n",
    "q_1 = 0.0\n",
    "q = np.array([q_0,q_1])\n",
    "\n",
    "\n",
    "# A desired task-space value, defined by the problem at hand\n",
    "xd = np.array([0.1,0.1,pi/10])\n",
    "print(f\"xd = {xd}\")\n",
    "\n",
    "# Define a stop criteria, in this case let's control for 10 seconds\n",
    "t:float = 0 # Current time\n",
    "\n",
    "# Lists to store the value of each control iteration\n",
    "x_tilde_norm_list = []\n",
    "t_list = []\n",
    "\n",
    "while t < 10:\n",
    "    # Calculate task-space value, x\n",
    "    x = planar_robot_fkm(q)\n",
    "    # Calculate task-space error, x_tilde\n",
    "    x_tilde = get_error(x, xd)\n",
    "    # Get the Jacobian\n",
    "    J = planar_robot_jacobian(q)\n",
    "    # Invert the Jacobian, for example, with numpy's implementation of it\n",
    "    J_inv = np.linalg.pinv(J)\n",
    "    # Calculate the control action\n",
    "    u = -eta * J_inv @ x_tilde\n",
    "    \n",
    "    ## Store values in the list so that we can print them later\n",
    "    x_tilde_norm_list.append(np.linalg.norm(x_tilde))\n",
    "    t_list.append(t)\n",
    "\n",
    "    ## Variable updated for the next loop\n",
    "    q = q + u * T # Update law using the sampling time\n",
    "    t = t + T    "
   ]
  },
  {
   "cell_type": "markdown",
   "metadata": {},
   "source": [
    "# Optional: Print the data"
   ]
  },
  {
   "cell_type": "markdown",
   "metadata": {},
   "source": [
    "To help visualise the behavior of the controller, you can optionally plot the data. These data show that with the defined parameters the qualitative behavior is very close to exponential decay. \n",
    "\n",
    "However the error does not converge to zero, meaning that the manipulator did not reach its target. Indeed, this is usually the case when the target is outside the reach of the manipulator or all task-space desired values cannot be simultenously satisfied."
   ]
  },
  {
   "cell_type": "code",
   "execution_count": 104,
   "metadata": {},
   "outputs": [
    {
     "data": {
      "image/png": "[encoded data removed]",
      "text/plain": [
       "<Figure size 640x480 with 1 Axes>"
      ]
     },
     "metadata": {},
     "output_type": "display_data"
    }
   ],
   "source": [
    "plt.plot(t_list,x_tilde_norm_list)\n",
    "plt.title('Error exponential decay visualization')\n",
    "plt.xlabel(\"Time [t]\")\n",
    "plt.ylabel(\"$||\\\\tilde{ \\\\bf{x} } (t) ||$\")\n",
    "plt.show()"
   ]
  }
 ],
 "metadata": {
  "kernelspec": {
   "display_name": ".venv",
   "language": "python",
   "name": "python3"
  },
  "language_info": {
   "codemirror_mode": {
    "name": "ipython",
    "version": 3
   },
   "file_extension": ".py",
   "mimetype": "text/x-python",
   "name": "python",
   "nbconvert_exporter": "python",
   "pygments_lexer": "ipython3",
   "version": "3.12.9"
  }
 },
 "nbformat": 4,
 "nbformat_minor": 2
}
