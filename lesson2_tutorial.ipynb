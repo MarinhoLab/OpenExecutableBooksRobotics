{
  "cells": [
    {
      "cell_type": "markdown",
      "metadata": {},
      "source": [
        "# About \n",
        "\n",
        "*License: CC-BY-NC-SA 4.0*\n",
        "\n",
        "*Author: Murilo M. Marinho (murilo.marinho@manchester.ac.uk)*\n",
        "\n",
        "## Pre-requisites\n",
        "The user of this notebook is expected to have prior knowledge in\n",
        "- All the content and pre-requisites of lesson 1 notebook.\n",
        "\n",
        "## I want to know more\n",
        "- https://github.com/bdaiinstitute/spatialmath-python?tab=readme-ov-file\n",
        "- https://github.com/bdaiinstitute/spatialmath-python/blob/master/notebooks/gentle-introduction.ipynb\n",
        "- https://github.com/bdaiinstitute/spatialmath-python/blob/master/notebooks/introduction.ipynb\n",
        "\n",
        "## I found an issue\n",
        "Thank you! Please report it at https://github.com/MarinhoLab/OpenExecutableBooksRobotics/issues\n",
        "\n",
        "## Macros (do not touch these)"
      ]
    },
    {
      "cell_type": "markdown",
      "metadata": {
        "vscode": {
          "languageId": "latex"
        }
      },
      "source": [
        "$\\providecommand{\\myvec}[1]{{\\mathbf{\\boldsymbol{{#1}}}}}$\n",
        "$\\providecommand{\\mymatrix}[1]{{\\mathbf{\\boldsymbol{{#1}}}}}$"
      ]
    },
    {
      "cell_type": "raw",
      "metadata": {},
      "source": [
        "\\providecommand{\\myvec}[1]{{\\mathbf{\\boldsymbol{{#1}}}}}\n",
        "\\providecommand{\\mymatrix}[1]{{\\mathbf{\\boldsymbol{{#1}}}}}"
      ]
    },
    {
      "cell_type": "markdown",
      "metadata": {},
      "source": [
        "# Installing pre-requisites"
      ]
    },
    {
      "cell_type": "code",
      "execution_count": null,
      "metadata": {},
      "outputs": [],
      "source": [
        "%pip install roboticstoolbox-python\n",
        "%pip install roboticstoolbox-python --break-system-packages"
      ]
    },
    {
      "cell_type": "markdown",
      "metadata": {},
      "source": [
        "# Rigid bodies\n",
        "As briefly defined in the past lecture, if the relative transformation between all points of a given object remain the same regardless of motion, it is a rigid body. \n",
        "\n",
        "In other words, it has no flexibility and the motion of the entire body can be prescribed by its *position* and *orientation* with respect to a given *reference frame*."
      ]
    },
    {
      "cell_type": "markdown",
      "metadata": {},
      "source": [
        "# Reference frames\n",
        "\n",
        "Positions/translations and orientations/rotations of objects are always defined with respect to a reference frame. Reference frames can be attached to rigid bodies or at fixed locations in space. The neutral reference frame has the following notation\n",
        "\n",
        "$$\\mathcal{F}.$$\n",
        "\n",
        "Unless otherwise stated, a given position/orientation/pose is given with respect to that frame. When other frames are needed we usually rely on notations such as $$\\mathcal{F}',\\mathcal{F}''$$ when frames are sequential or $$\\mathcal{F}_a,\\mathcal{F}_b$$ when relationships are more complex.\n",
        "\n",
        "# 2D Position/translation\n",
        "\n",
        "Positions/translations in 2D can be uniquely defined as any $$\\myvec{p} \\in \\mathbb{R}^2.$$ Hence, if we would like to define \n",
        "\n",
        "$$\\myvec{p} = \\left[\\begin{array}{ccc}\n",
        "         x \\\\\n",
        "         y\n",
        "        \\end{array}\\right] =\\left[\\begin{array}{ccc}\n",
        "         1 \\\\\n",
        "         2\n",
        "        \\end{array}\\right],$$\n",
        "\n",
        "we can do so with\n",
        "\n",
        "<div class=\"alert alert-block alert-info\">\n",
        "It is common for column and row vectors to not be distinguishable in Python with <b>numpy</b>. That is in general convenient but can cause problems when the dimension is important, so always pay close attention to what each function expects as input or outputs.\n",
        "</div>"
      ]
    },
    {
      "cell_type": "code",
      "execution_count": null,
      "metadata": {
        "trusted": true
      },
      "outputs": [],
      "source": [
        "import numpy as np\n",
        "\n",
        "# In spatialmath, the translation is obtained with a single dimension, so we use that here.\n",
        "# note that, using our definitions, these represent column vectors\n",
        "p = np.array([1.0, 2.0])\n",
        "\n",
        "print(f\"p={p}\")"
      ]
    },
    {
      "cell_type": "markdown",
      "metadata": {},
      "source": [
        "## Composition of translations\n",
        "\n",
        "Sequential translations, such as \n",
        "\n",
        "$$\\mathbb{R}^2 \\ni \\myvec{p}_i = \\left[\\begin{array}{ccc}\n",
        "         x_i \\\\\n",
        "         y_i\n",
        "        \\end{array}\\right],$$\n",
        "\n",
        "with $$i \\in \\mathbb{N}$$ can be composed with sequential additions\n",
        "\n",
        "$$\\myvec{p} = \\myvec{p}_{0} + \\myvec{p}_{1} + \\myvec{p}_{2} + \\myvec{p}_{3}.$$"
      ]
    },
    {
      "cell_type": "code",
      "execution_count": null,
      "metadata": {
        "trusted": true
      },
      "outputs": [],
      "source": [
        "import numpy as np\n",
        "\n",
        "p0 = np.array([1.0, 2.0])\n",
        "p1 = np.array([2.0, 3.0])\n",
        "p2 = np.array([3.0, 4.0])\n",
        "p3 = np.array([4.0, 5.0])\n",
        "p = p0 + p1 + p2 + p3\n",
        "\n",
        "print(f\"p={p}\")"
      ]
    },
    {
      "cell_type": "markdown",
      "metadata": {},
      "source": [
        "\n",
        "## Inverse translation\n",
        "\n",
        "The inverse translation can be obtained by subtractions and the element of no translation is the zero vector, that is, if we unwind all rotations we're back to the origin of the reference frame\n",
        "\n",
        "$$\\myvec{p}' = \\myvec{p} - \\myvec{p}_{0} - \\myvec{p}_{1} - \\myvec{p}_{2} - \\myvec{p}_{3} = \\left[\\begin{array}{ccc}\n",
        "         0 \\\\\n",
        "         0\n",
        "        \\end{array}\\right].$$"
      ]
    },
    {
      "cell_type": "code",
      "execution_count": null,
      "metadata": {
        "trusted": true
      },
      "outputs": [],
      "source": [
        "import numpy as np\n",
        "\n",
        "p0 = np.array([1.0, 2.0])\n",
        "p1 = np.array([2.0, 3.0])\n",
        "p2 = np.array([3.0, 4.0])\n",
        "p3 = np.array([4.0, 5.0])\n",
        "p = p0 + p1 + p2 + p3\n",
        "\n",
        "p_ = p - p0 - p1 - p2 - p3\n",
        "\n",
        "print(f\"p_={p_}\")"
      ]
    },
    {
      "cell_type": "markdown",
      "metadata": {},
      "source": [
        "# 2D orientation/rotation \n",
        "\n",
        "Orientations/rotations in 2D can be defined in many different ways. In this tutorial, we will address the special orthogonal group for two dimensions, i.e., SO(2). As you have learned in theory, the rotations are defined, in this representation, as a matrix\n",
        "\n",
        "$$\\mymatrix{R} \\in \\mathbb{R}^{2 \\times 2},$$\n",
        "\n",
        "where the identity rotation means no rotation, hence, for any frame $\\mathcal{F}_a$,\n",
        "\n",
        "$$\\mymatrix{R}^{a}_{a} = \\mymatrix{I}_2.$$\n",
        "\n",
        "We can directly instanteate SO(2) elements using `spatialmath`. When constructing a default element, it will hold the identity matrix, as shown below\n",
        "\n",
        "<div class=\"alert alert-block alert-info\">\n",
        "It is important to know how to use <b>spatialmath</b>, as it will be handy throughout the course. However, you will also be evaluated on your ability to compute these transformations from scratch, without using <b>spatialmath</b>.\n",
        "</div>"
      ]
    },
    {
      "cell_type": "code",
      "execution_count": null,
      "metadata": {
        "trusted": true
      },
      "outputs": [],
      "source": [
        "import spatialmath as sm\n",
        "\n",
        "R = sm.SO2()\n",
        "\n",
        "print(f\"R={R}\")"
      ]
    },
    {
      "cell_type": "markdown",
      "metadata": {},
      "source": [
        "The `spatialmath` `SO2` is a class representing SO(2) and instances of it can be used conveniently with other libraries. We can check that the contents of the object represent a matrix created using `numpy` as follows."
      ]
    },
    {
      "cell_type": "code",
      "execution_count": null,
      "metadata": {
        "trusted": true
      },
      "outputs": [],
      "source": [
        "import numpy as np \n",
        "\n",
        "R_ = np.array([[1, 0], \n",
        "               [0, 1]])\n",
        "\n",
        "if (R.R == R_).all():\n",
        "    print(\"R.R and R_ are the same\")\n",
        "else:\n",
        "    print(\"R.R and R_ are not the same\")"
      ]
    },
    {
      "cell_type": "markdown",
      "metadata": {},
      "source": [
        "Note that \n",
        "1. To extract the \"raw\" rotation matrix from the `spatialmath.SO2` object, we access the property `R`.\n",
        "2. To compare matrix equality in numpy, we use the `(A == B).all()` syntax, where both `A` and `B` are numpy matrices."
      ]
    },
    {
      "cell_type": "markdown",
      "metadata": {},
      "source": [
        "### Plotting SO(2) elements\n",
        "The encapsulation of SO(2) elements in an object makes it easy for us to plot those elements, for example we can plot multiple SO(2) elements as shown below, \n",
        "\n",
        "$$R(\\theta) = \\left[\\begin{array}{ccc}\n",
        "             \\cos{\\theta} & -\\sin{\\theta} \\\\\n",
        "             \\sin{\\theta} & \\cos{\\theta} \n",
        "        \\end{array}\\right],$$\n",
        "\n",
        "for instance with $\\mymatrix{R}_a \\triangleq \\mymatrix{R}(\\pi/4)$ and $\\mymatrix{R}_b \\triangleq \\mymatrix{R}(\\pi)$, we can get a visual representation as follows "
      ]
    },
    {
      "cell_type": "code",
      "execution_count": null,
      "metadata": {
        "trusted": true
      },
      "outputs": [],
      "source": [
        "import spatialmath as sm\n",
        "import matplotlib.pyplot as plt\n",
        "from math import pi\n",
        "\n",
        "fig = plt.figure() \n",
        "\n",
        "# Frame 0, with the default blue color\n",
        "R.plot(frame='0', dims=[-2,2])\n",
        "\n",
        "# Frame 1, colored in green\n",
        "Ra = sm.SO2(pi/4)\n",
        "print(f\"Ra={Ra.R}\")\n",
        "Ra.plot(frame='1', dims=[-2,2], color='green')\n",
        "\n",
        "# Frame 2, colored in black\n",
        "Rb = sm.SO2(pi)\n",
        "print(f\"Rb={Rb.R}\")\n",
        "Rb.plot(frame='2', dims=[-2,2], color='black')"
      ]
    },
    {
      "cell_type": "markdown",
      "metadata": {},
      "source": [
        "# 2D poses (combined translation/orientation)\n",
        "\n",
        "2D poses can be represented using elements of SE(2). As you have learned in theory, translations and rotations can be combined into a single $\\mymatrix{H}\\in\\mathbb{R}^{3 \\times 3}$ with the following structure\n",
        "\n",
        "$$\\mymatrix{H}(x,y,\\theta) = \\left[\\begin{array}{ccc}\n",
        "             \\cos{\\theta} & -\\sin{\\theta} & x \\\\\n",
        "             \\sin{\\theta} & \\cos{\\theta}  & y \\\\\n",
        "             0            & 0             & 1\n",
        "        \\end{array}\\right],$$\n",
        "\n",
        "where in Python we can define the identity transformation using `spatialmath` as follows"
      ]
    },
    {
      "cell_type": "code",
      "execution_count": null,
      "metadata": {
        "trusted": true
      },
      "outputs": [],
      "source": [
        "import spatialmath as sm\n",
        "import matplotlib.pyplot as plt\n",
        "from math import pi\n",
        "\n",
        "H = sm.SE2()\n",
        "print(f\"H = {H}\")\n",
        "\n",
        "# If you need parts of the transformation \n",
        "print(f\"Whose translation is t = {H.t}\")\n",
        "print(f\"Whose rotation is R = {H.R}\")"
      ]
    },
    {
      "cell_type": "markdown",
      "metadata": {},
      "source": [
        "Similarly to SO(2), SE(2) elements can be plotted. For instance, $\\mymatrix{H}_a \\triangleq \\mymatrix{H}(1,2,\\frac{\\pi}{2})$, $\\mymatrix{H}_b \\triangleq \\mymatrix{H}(-2,-3,\\frac{-\\pi}{4})$, we have"
      ]
    },
    {
      "cell_type": "code",
      "execution_count": null,
      "metadata": {
        "trusted": true
      },
      "outputs": [],
      "source": [
        "import spatialmath as sm\n",
        "import matplotlib.pyplot as plt\n",
        "from math import pi\n",
        "\n",
        "fig = plt.figure() \n",
        "\n",
        "# Frame 0, with the default blue color\n",
        "H.plot(frame='0', dims=[-5,5])\n",
        "\n",
        "# Frame 1, colored in green\n",
        "Ha = sm.SE2(1,2,pi/2)\n",
        "print(f\"Ra={Ha.R}\")\n",
        "print(f\"t_a={Ha.t}\")\n",
        "Ha.plot(frame='1', dims=[-5,5], color='green')\n",
        "\n",
        "# Frame 2, colored in black\n",
        "Hb = sm.SE2(-2,-3,-pi/4)\n",
        "print(f\"Rb={Hb.R}\")\n",
        "print(f\"t_b={Hb.t}\")\n",
        "Hb.plot(frame='2', dims=[-5,5], color='black')"
      ]
    },
    {
      "cell_type": "markdown",
      "metadata": {},
      "source": [
        "# 3D Position/translation\n",
        "\n",
        "The 3D position/translations are a trivial extention of the 2D ones with one extra dimension, being defined in $\\mathbb{R}^3$. \n",
        "\n",
        "$$\\mathbb{R}^3 \\ni \\myvec{p}_i = \\left[\\begin{array}{ccc}\n",
        "         x_i \\\\\n",
        "         y_i \\\\\n",
        "         z_i\n",
        "        \\end{array}\\right].$$\n",
        "\n",
        "This is straightforward and there's nothing surprising in terms of properties, so we will move on to SO(3).\n",
        "\n",
        "# 3D orientation/rotation \n",
        "\n",
        "You have seen the general formulation of rotational matrices in 3D. For rotations about the basis vectors, we have \n",
        "\n",
        "$$\\mymatrix{R}(z,\\theta) = \\left[\\begin{array}{ccc}\n",
        "             \\cos{\\theta} & -\\sin{\\theta} & 0 \\\\\n",
        "             \\sin{\\theta} & \\cos{\\theta}  & 0 \\\\\n",
        "             0            & 0             & 1\n",
        "        \\end{array}\\right],$$\n",
        "\n",
        "$$\\mymatrix{R}(y,\\theta) = \\left[\\begin{array}{ccc}\n",
        "        \\cos{\\theta}   & 0 & \\sin{\\theta} \\\\\n",
        "        0              & 1  & 0 \\\\\n",
        "        -\\sin{\\theta}  & 0  & \\cos{\\theta}\n",
        "\\end{array}\\right],$$\n",
        "\n",
        "$$\\mymatrix{R}(x,\\theta) = \\left[\\begin{array}{ccc}\n",
        "        1   & 0 & 0 \\\\\n",
        "        0   &  \\cos{\\theta}  & -\\sin{\\theta} \\\\\n",
        "        0  & \\sin{\\theta}  & \\cos{\\theta}\n",
        "\\end{array}\\right].$$"
      ]
    },
    {
      "cell_type": "code",
      "execution_count": null,
      "metadata": {
        "trusted": true
      },
      "outputs": [],
      "source": [
        "import spatialmath as sm\n",
        "import matplotlib.pyplot as plt\n",
        "from math import pi\n",
        "\n",
        "fig = plt.figure() \n",
        "\n",
        "# A neutral rotation\n",
        "R = sm.SO3()\n",
        "R.plot(frame='0', dims=[-1,1], color=\"black\")\n",
        "print(f\"R={R.R}\")\n",
        "\n",
        "# A rotation about z\n",
        "Rz = sm.SO3().Rz(-pi/4)\n",
        "Rz.plot(frame='1', dims=[-1,1], color='blue')\n",
        "print(f\"Rz={Rz.R}\")\n",
        "\n",
        "# A rotation about y\n",
        "Ry = sm.SO3().Ry(pi/4)\n",
        "Ry.plot(frame='2', dims=[-1,1], color='green')\n",
        "print(f\"Ry={Ry.R}\")\n",
        "\n",
        "# A rotation about x\n",
        "Rx = sm.SO3().Rx(pi/4)\n",
        "Rx.plot(frame='3', dims=[-1,1], color='red')\n",
        "print(f\"Rx={Rx.R}\")"
      ]
    },
    {
      "cell_type": "markdown",
      "metadata": {},
      "source": [
        "## Compositions of rotations in SO(3)\n",
        "\n",
        "Compositions of SO(3) follow the same rules as SO(2), where sequential frame transformations as right multiplications\n",
        "\n",
        "$$\\mymatrix{R}_c = \\mymatrix{R}_a\\mymatrix{R}^a_b\\mymatrix{R}^b_c,$$\n",
        "\n",
        "for instance"
      ]
    },
    {
      "cell_type": "code",
      "execution_count": null,
      "metadata": {
        "trusted": true
      },
      "outputs": [],
      "source": [
        "import spatialmath as sm\n",
        "import matplotlib.pyplot as plt\n",
        "from math import pi\n",
        "\n",
        "fig = plt.figure() \n",
        "\n",
        "Ra = sm.SO3().Rx(pi/4)\n",
        "Ra_b = sm.SO3().Ry(pi/4)\n",
        "Rb_c = sm.SO3().Rz(-pi/4)\n",
        "\n",
        "Rc = Ra * Ra_b * Rb_c\n",
        "Rx.plot(frame='0', dims=[-1,1], color='black')\n",
        "print(f\"Rc={Rc.R}\")"
      ]
    },
    {
      "cell_type": "markdown",
      "metadata": {},
      "source": [
        "whereas a similar result using `numpy` is possible but we must be careful with the multiplication operator\n",
        "<div class=\"alert alert-block alert-info\">\n",
        "Note that for <b>spatialmath</b>, the regular <b>*</b> product is used, whereas in <b>numpy</b> matrix multiplications would be done with <b>@</b>.\n",
        "</div>"
      ]
    },
    {
      "cell_type": "code",
      "execution_count": null,
      "metadata": {
        "trusted": true
      },
      "outputs": [],
      "source": [
        "import spatialmath as sm\n",
        "import numpy as np\n",
        "from math import pi\n",
        "\n",
        "# Spatial math\n",
        "Ra = sm.SO3().Rx(pi/4)\n",
        "Ra_b = sm.SO3().Ry(pi/4)\n",
        "Rb_c = sm.SO3().Rz(-pi/4)\n",
        "Rc = Ra * Ra_b * Rb_c\n",
        "\n",
        "# Numpy, using the correct product \n",
        "nRa = Ra.R\n",
        "nRa_b = Ra_b.R\n",
        "nRb_c = Rb_c.R\n",
        "nRc = Ra.R @ Ra_b.R @ Rb_c.R\n",
        "\n",
        "if (Rc.R == nRc).all():\n",
        "    print('The result is the same!')\n",
        "else:\n",
        "    print('The result is different.')\n"
      ]
    },
    {
      "cell_type": "markdown",
      "metadata": {},
      "source": [
        "## Inverse rotations in SO(3)\n",
        "\n",
        "Inverse operations in SO(3) are analogous to the inversions in SO(2), which are simply matrix transpositions. This is simplified in `spatialmath` with the `inv` operator, as the same operator can be used for all structures.\n",
        "\n",
        "<div class=\"alert alert-block alert-info\">\n",
        "Because of carryover effects of sequential fixed floating-point operations, many numbers that analytically are expected to be the same are not effectivelly the same after many operations. In those cases, comparisons with a level of tolerance such as <b>numpy.isclose</b> are more proper.\n",
        "</div>"
      ]
    },
    {
      "cell_type": "code",
      "execution_count": null,
      "metadata": {
        "trusted": true
      },
      "outputs": [],
      "source": [
        "import spatialmath as sm\n",
        "from math import pi\n",
        "\n",
        "Ra = sm.SO3().Rx(pi/4)\n",
        "Ra_b = sm.SO3().Ry(pi/4)\n",
        "Rb_c = sm.SO3().Rz(-pi/4)\n",
        "Rc = Ra * Ra_b * Rb_c\n",
        "\n",
        "Ra_ = Rc * Rb_c.inv() * Ra_b.inv() \n",
        "\n",
        "if np.isclose(Ra.R, Ra_.R).all():\n",
        "    print('The results are pretty much the same!')\n",
        "else:\n",
        "    print('The results are too different.')\n"
      ]
    },
    {
      "cell_type": "markdown",
      "metadata": {},
      "source": [
        "# 3D poses\n",
        "\n",
        "3D poses are represented in SE(3) with matrices $\\mymatrix{H}\\in\\mathbb{R}^{4 \\times 4}$ with the following structure\n",
        "\n",
        "$$\\mymatrix{H}(\\myvec{t},\\mymatrix{R}) = \\left[\\begin{array}{ccc}\n",
        "             \\mymatrix{R} & \\myvec{t} \\\\\n",
        "             \\myvec{0} & 1 \n",
        "        \\end{array}\\right],$$"
      ]
    },
    {
      "cell_type": "markdown",
      "metadata": {},
      "source": [
        "## Sequential transformations\n",
        "\n",
        "Using `spatialmath` we can also perform transformations using sequential multiplications, as for SO(3). Note also that we can verify the lack of commutativity on these transformations."
      ]
    },
    {
      "cell_type": "code",
      "execution_count": null,
      "metadata": {
        "trusted": true
      },
      "outputs": [],
      "source": [
        "import spatialmath as sm\n",
        "import matplotlib.pyplot as plt\n",
        "from math import pi\n",
        "\n",
        "fig = plt.figure() \n",
        "\n",
        "# An SE(3) translation\n",
        "Ht_a = sm.SE3(1,2,3)\n",
        "\n",
        "# An SE(3) rotation\n",
        "Hr_a = sm.SE3.Rx(pi/2)\n",
        "\n",
        "# Frame 1, colored in green\n",
        "Ha = Ht_a * Hr_a \n",
        "print(f\"Ra={Ha.R}\")\n",
        "print(f\"t_a={Ha.t}\")\n",
        "Ha.plot(frame='1', dims=[-5,5], color='green')\n",
        "\n",
        "# Frame 2, colored in black\n",
        "Ha_ = Hr_a * Ht_a \n",
        "print(f\"Ra_={Ha_.R}\")\n",
        "print(f\"t_a_={Ha_.t}\")\n",
        "Ha_.plot(frame='2', dims=[-5,5], color='black')\n",
        "\n",
        "if np.isclose(Ha.A,Ha_.A).all():\n",
        "    print('The results are close!')\n",
        "else:\n",
        "    print('The results are far.')"
      ]
    },
    {
      "cell_type": "markdown",
      "metadata": {},
      "source": [
        "## Inverse transformations\n",
        "\n",
        "As you have learned in theory, the inverse transformation can be found as\n",
        "\n",
        "$$\\mymatrix{H^-1}(\\myvec{t},\\mymatrix{R}) = \\left[\\begin{array}{ccc}\n",
        "             \\mymatrix{R}^T & -\\mymatrix{R}^T\\myvec{t} \\\\\n",
        "             \\myvec{0} & 1 \n",
        "        \\end{array}\\right],$$"
      ]
    },
    {
      "cell_type": "code",
      "execution_count": null,
      "metadata": {
        "trusted": true
      },
      "outputs": [],
      "source": [
        "import spatialmath as sm\n",
        "import matplotlib.pyplot as plt\n",
        "from math import pi\n",
        "\n",
        "Ht_a = sm.SE3(1,2,3)\n",
        "Hr_a = sm.SE3.Rx(pi/2)\n",
        "Ht_b = sm.SE3(-0.1,0.2,-0.3)\n",
        "Hr_b = sm.SE3.Ry(-pi/4)\n",
        "\n",
        "Hb = Ht_a * Hr_a * Ht_b * Hr_b \n",
        "Ht_a_ = Hb * Hr_b.inv() * Ht_b.inv() * Hr_a.inv()\n",
        "\n",
        "if np.isclose(Ht_a.A,Ht_a_.A).all():\n",
        "    print('The results are close!')\n",
        "else:\n",
        "    print('The results are far.')"
      ]
    }
  ],
  "metadata": {
    "kernelspec": {
      "display_name": ".venv",
      "language": "python",
      "name": "python3"
    },
    "language_info": {
      "codemirror_mode": {
        "name": "ipython",
        "version": 3
      },
      "file_extension": ".py",
      "mimetype": "text/x-python",
      "name": "python",
      "nbconvert_exporter": "python",
      "pygments_lexer": "ipython3",
      "version": "3.12.8"
    }
  },
  "nbformat": 4,
  "nbformat_minor": 4
}
