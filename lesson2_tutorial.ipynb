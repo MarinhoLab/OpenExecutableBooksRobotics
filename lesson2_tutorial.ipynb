{
  "cells": [
    {
      "cell_type": "markdown",
      "metadata": {},
      "source": [
        "# L2 Rigid Body Motion\n",
        "\n",
        "*License: CC-BY-NC-SA 4.0*\n",
        "\n",
        "*Author: Murilo M. Marinho (murilo.marinho@manchester.ac.uk)*\n",
        "\n",
        "## Pre-requisites for the learner\n",
        "The user of this notebook is expected to have prior knowledge in\n",
        "- All the content and pre-requisites of lesson 1.\n",
        "\n",
        "## I found an issue\n",
        "Thank you! Please report it at https://github.com/MarinhoLab/OpenExecutableBooksRobotics/issues\n",
        "\n",
        "## Latex Macros"
      ]
    },
    {
      "cell_type": "markdown",
      "metadata": {
        "vscode": {
          "languageId": "latex"
        }
      },
      "source": [
        "$\\providecommand{\\myvec}[1]{{\\mathbf{\\boldsymbol{{#1}}}}}$\n",
        "$\\providecommand{\\mymatrix}[1]{{\\mathbf{\\boldsymbol{{#1}}}}}$"
      ]
    },
    {
      "cell_type": "raw",
      "metadata": {
        "vscode": {
          "languageId": "raw"
        }
      },
      "source": [
        "\\providecommand{\\myvec}[1]{{\\mathbf{\\boldsymbol{{#1}}}}}\n",
        "\\providecommand{\\mymatrix}[1]{{\\mathbf{\\boldsymbol{{#1}}}}}"
      ]
    },
    {
      "cell_type": "markdown",
      "metadata": {},
      "source": [
        "# Installing pre-requisites"
      ]
    },
    {
      "cell_type": "code",
      "execution_count": 239,
      "metadata": {},
      "outputs": [],
      "source": [
        "%%capture\n",
        "%pip install numpy\n",
        "%pip install numpy --break-system-packages"
      ]
    },
    {
      "cell_type": "markdown",
      "metadata": {},
      "source": [
        "# Imports"
      ]
    },
    {
      "cell_type": "code",
      "execution_count": 240,
      "metadata": {},
      "outputs": [],
      "source": [
        "import numpy as np\n",
        "from math import pi, sin, cos"
      ]
    },
    {
      "cell_type": "markdown",
      "metadata": {},
      "source": [
        "# Rigid bodies\n",
        "As briefly defined in the past lecture, if the relative transformation between all points of a given object remain the same regardless of motion, it is a rigid body. \n",
        "\n",
        "In other words, it has no flexibility and the motion of the entire body can be prescribed by its *position* and *orientation* with respect to a given *reference frame*."
      ]
    },
    {
      "cell_type": "markdown",
      "metadata": {},
      "source": [
        "# Reference frames\n",
        "\n",
        "Positions/translations and orientations/rotations of objects are always defined with respect to a reference frame. Reference frames can be attached to rigid bodies or at fixed locations in space. The neutral reference frame has the following notation\n",
        "\n",
        "$$\\mathcal{F}.$$\n",
        "\n",
        "Unless otherwise stated, a given position/orientation/pose is given with respect to that frame. When other frames are needed we usually rely on notations such as $$\\mathcal{F}',\\mathcal{F}''$$ when frames are sequential or $$\\mathcal{F}_a,\\mathcal{F}_b$$ when relationships are more complex.\n",
        "\n",
        "# 2D Position/translation\n",
        "\n",
        "Positions/translations in 2D can be uniquely defined as any $$\\myvec{p} \\in \\mathbb{R}^2.$$ Hence, if we would like to define \n",
        "\n",
        "$$\\myvec{p} = \\left[\\begin{array}{ccc}\n",
        "         x \\\\\n",
        "         y\n",
        "        \\end{array}\\right] =\\left[\\begin{array}{ccc}\n",
        "         1 \\\\\n",
        "         2\n",
        "        \\end{array}\\right],$$\n",
        "\n",
        "we can do so with\n",
        "\n",
        "<div class=\"alert alert-block alert-info\">\n",
        "It is common for column and row vectors to not be distinguishable in Python with <b>numpy</b>. That is in general convenient but can cause problems when the dimension is important, so always pay close attention to what each function expects as input or outputs.\n",
        "</div>"
      ]
    },
    {
      "cell_type": "code",
      "execution_count": 241,
      "metadata": {
        "trusted": true
      },
      "outputs": [
        {
          "name": "stdout",
          "output_type": "stream",
          "text": [
            "p=[1. 2.]\n"
          ]
        }
      ],
      "source": [
        "p = np.array([1.0, 2.0])\n",
        "\n",
        "print(f\"p={p}\")"
      ]
    },
    {
      "cell_type": "markdown",
      "metadata": {},
      "source": [
        "## Composition of translations\n",
        "\n",
        "Sequential translations, such as \n",
        "\n",
        "$$\\mathbb{R}^2 \\ni \\myvec{p}_i = \\left[\\begin{array}{ccc}\n",
        "         x_i \\\\\n",
        "         y_i\n",
        "        \\end{array}\\right],$$\n",
        "\n",
        "with $$i \\in \\mathbb{N}$$ can be composed with sequential additions\n",
        "\n",
        "$$\\myvec{p} = \\myvec{p}_{0} + \\myvec{p}_{1} + \\myvec{p}_{2} + \\myvec{p}_{3}.$$"
      ]
    },
    {
      "cell_type": "code",
      "execution_count": 242,
      "metadata": {
        "trusted": true
      },
      "outputs": [
        {
          "name": "stdout",
          "output_type": "stream",
          "text": [
            "p=[10. 14.]\n"
          ]
        }
      ],
      "source": [
        "p0 = np.array([1.0, 2.0])\n",
        "p1 = np.array([2.0, 3.0])\n",
        "p2 = np.array([3.0, 4.0])\n",
        "p3 = np.array([4.0, 5.0])\n",
        "p = p0 + p1 + p2 + p3\n",
        "\n",
        "print(f\"p={p}\")"
      ]
    },
    {
      "cell_type": "markdown",
      "metadata": {},
      "source": [
        "\n",
        "## Inverse translation\n",
        "\n",
        "The inverse translation can be obtained by subtractions and the element of no translation is the zero vector, that is, if we unwind all rotations we're back to the origin of the reference frame\n",
        "\n",
        "$$\\myvec{p}' = \\myvec{p} - \\myvec{p}_{0} - \\myvec{p}_{1} - \\myvec{p}_{2} - \\myvec{p}_{3} = \\left[\\begin{array}{ccc}\n",
        "         0 \\\\\n",
        "         0\n",
        "        \\end{array}\\right].$$"
      ]
    },
    {
      "cell_type": "code",
      "execution_count": 243,
      "metadata": {
        "trusted": true
      },
      "outputs": [
        {
          "name": "stdout",
          "output_type": "stream",
          "text": [
            "p_=[0. 0.]\n"
          ]
        }
      ],
      "source": [
        "p0 = np.array([1.0, 2.0])\n",
        "p1 = np.array([2.0, 3.0])\n",
        "p2 = np.array([3.0, 4.0])\n",
        "p3 = np.array([4.0, 5.0])\n",
        "p = p0 + p1 + p2 + p3\n",
        "\n",
        "p_ = p - p0 - p1 - p2 - p3\n",
        "\n",
        "print(f\"p_={p_}\")"
      ]
    },
    {
      "cell_type": "markdown",
      "metadata": {},
      "source": [
        "# 2D orientation/rotation \n",
        "\n",
        "Orientations/rotations in 2D can be defined in many different ways. In this tutorial, we will address the special orthogonal group for two dimensions, i.e., SO(2). As you have learned in theory, the rotations are defined, in this representation, as a matrix\n",
        "\n",
        "$$\\mymatrix{R} \\in \\mathbb{R}^{2 \\times 2},$$\n",
        "\n",
        "where the identity rotation means no rotation, hence, for any frame $\\mathcal{F}_a$,\n",
        "\n",
        "$$\\mymatrix{R}^{a}_{a} = \\mymatrix{I}_2.$$\n",
        "\n",
        "An element of SO(2) is simply a matrix with the correct properties, therefore we can define one directly in `numpy`. For\n",
        "\n",
        "$$R(\\theta) = \\left[\\begin{array}{ccc}\n",
        "             \\cos{\\theta} & -\\sin{\\theta} \\\\\n",
        "             \\sin{\\theta} & \\cos{\\theta} \n",
        "        \\end{array}\\right],$$\n",
        "\n",
        "when $\\theta = \\frac{\\pi}{2}$ we have"
      ]
    },
    {
      "cell_type": "code",
      "execution_count": 244,
      "metadata": {
        "trusted": true
      },
      "outputs": [
        {
          "name": "stdout",
          "output_type": "stream",
          "text": [
            "R=[[ 6.123234e-17 -1.000000e+00]\n",
            " [ 1.000000e+00  6.123234e-17]]\n"
          ]
        }
      ],
      "source": [
        "θ = pi/2\n",
        "R = np.array([[cos(θ),-sin(θ)],\n",
        "              [sin(θ), cos(θ)]])\n",
        "\n",
        "print(f\"R={R}\")"
      ]
    },
    {
      "cell_type": "markdown",
      "metadata": {},
      "source": [
        "# 2D poses (combined translation/orientation)\n",
        "\n",
        "2D poses can be represented using elements of SE(2). As you have learned in theory, translations and rotations can be combined into a single $\\mymatrix{H}\\in\\mathbb{R}^{3 \\times 3}$ with the following structure\n",
        "\n",
        "$$\\mymatrix{H}(x,y,\\theta) = \\left[\\begin{array}{ccc}\n",
        "             \\cos{\\theta} & -\\sin{\\theta} & x \\\\\n",
        "             \\sin{\\theta} & \\cos{\\theta}  & y \\\\\n",
        "             0            & 0             & 1\n",
        "        \\end{array}\\right],$$\n",
        "\n",
        "that for $\\theta = \\frac{\\pi}{2}$, $x = 0.1$, and $y = 0.2$, we have"
      ]
    },
    {
      "cell_type": "code",
      "execution_count": 245,
      "metadata": {
        "trusted": true
      },
      "outputs": [
        {
          "name": "stdout",
          "output_type": "stream",
          "text": [
            "H = [[ 6.123234e-17 -1.000000e+00  1.000000e-01]\n",
            " [ 1.000000e+00  6.123234e-17  2.000000e-01]\n",
            " [ 0.000000e+00  0.000000e+00  1.000000e+00]]\n"
          ]
        }
      ],
      "source": [
        "θ = pi/2\n",
        "x = 0.1\n",
        "y = 0.2\n",
        "H = np.array([[cos(θ),-sin(θ), x],\n",
        "              [sin(θ), cos(θ), y],\n",
        "              [0,      0,      1]])\n",
        "\n",
        "\n",
        "print(f\"H = {H}\")"
      ]
    },
    {
      "cell_type": "markdown",
      "metadata": {},
      "source": [
        "# 3D Position/translation\n",
        "\n",
        "The 3D position/translations are a trivial extention of the 2D ones with one extra dimension, being defined in $\\mathbb{R}^3$. \n",
        "\n",
        "$$\\mathbb{R}^3 \\ni \\myvec{p}_i = \\left[\\begin{array}{ccc}\n",
        "         x_i \\\\\n",
        "         y_i \\\\\n",
        "         z_i\n",
        "        \\end{array}\\right].$$\n",
        "\n",
        "This is straightforward and there's nothing surprising in terms of properties, so we will move on to SO(3).\n",
        "\n",
        "# 3D orientation/rotation \n",
        "\n",
        "You have seen the general formulation of rotational matrices in 3D. For rotations about the basis vectors, we have \n",
        "\n",
        "$$\\mymatrix{R}(z,\\theta) = \\left[\\begin{array}{ccc}\n",
        "             \\cos{\\theta} & -\\sin{\\theta} & 0 \\\\\n",
        "             \\sin{\\theta} & \\cos{\\theta}  & 0 \\\\\n",
        "             0            & 0             & 1\n",
        "        \\end{array}\\right],$$\n",
        "\n",
        "$$\\mymatrix{R}(y,\\theta) = \\left[\\begin{array}{ccc}\n",
        "        \\cos{\\theta}   & 0 & \\sin{\\theta} \\\\\n",
        "        0              & 1  & 0 \\\\\n",
        "        -\\sin{\\theta}  & 0  & \\cos{\\theta}\n",
        "\\end{array}\\right],$$\n",
        "\n",
        "$$\\mymatrix{R}(x,\\theta) = \\left[\\begin{array}{ccc}\n",
        "        1   & 0 & 0 \\\\\n",
        "        0   &  \\cos{\\theta}  & -\\sin{\\theta} \\\\\n",
        "        0  & \\sin{\\theta}  & \\cos{\\theta}\n",
        "\\end{array}\\right].$$"
      ]
    },
    {
      "cell_type": "code",
      "execution_count": 246,
      "metadata": {
        "trusted": true
      },
      "outputs": [
        {
          "name": "stdout",
          "output_type": "stream",
          "text": [
            "Rz=[[ 6.123234e-17 -1.000000e+00  0.000000e+00]\n",
            " [ 1.000000e+00  6.123234e-17  0.000000e+00]\n",
            " [ 0.000000e+00  0.000000e+00  1.000000e+00]]\n",
            "Ry=[[ 6.123234e-17  0.000000e+00  1.000000e+00]\n",
            " [ 0.000000e+00  1.000000e+00  0.000000e+00]\n",
            " [-1.000000e+00  0.000000e+00  6.123234e-17]]\n",
            "Rx=[[ 1.000000e+00  0.000000e+00  0.000000e+00]\n",
            " [ 0.000000e+00  6.123234e-17 -1.000000e+00]\n",
            " [ 0.000000e+00  1.000000e+00  6.123234e-17]]\n"
          ]
        }
      ],
      "source": [
        "Rz = np.array([[cos(θ),-sin(θ), 0],\n",
        "               [sin(θ), cos(θ), 0],\n",
        "               [0,      0,      1]])\n",
        "\n",
        "Ry = np.array([[ cos(θ), 0, sin(θ)],\n",
        "               [      0, 1, 0],\n",
        "               [-sin(θ), 0, cos(θ)]])\n",
        "\n",
        "Rx = np.array([[1,      0,  0],\n",
        "               [0, cos(θ), -sin(θ)],\n",
        "               [0, sin(θ),  cos(θ)]])\n",
        "\n",
        "# A rotation about z\n",
        "print(f\"Rz={Rz}\")\n",
        "\n",
        "# A rotation about y\n",
        "print(f\"Ry={Ry}\")\n",
        "\n",
        "# A rotation about x\n",
        "print(f\"Rx={Rx}\")"
      ]
    },
    {
      "cell_type": "markdown",
      "metadata": {},
      "source": [
        "## Compositions of rotations in SO(3)\n",
        "\n",
        "Compositions of SO(3) follow the same rules as SO(2), where sequential frame transformations as right multiplications\n",
        "\n",
        "$$\\mymatrix{R}_c = \\mymatrix{R}_a\\mymatrix{R}^a_b\\mymatrix{R}^b_c,$$\n",
        "\n",
        "for instance"
      ]
    },
    {
      "cell_type": "code",
      "execution_count": 247,
      "metadata": {
        "trusted": true
      },
      "outputs": [
        {
          "name": "stdout",
          "output_type": "stream",
          "text": [
            "Rc=[[ 4.32978028e-17 -9.23879533e-01 -3.82683432e-01]\n",
            " [ 4.32978028e-17  3.82683432e-01 -9.23879533e-01]\n",
            " [ 1.00000000e+00  2.34326020e-17  5.65713056e-17]]\n"
          ]
        }
      ],
      "source": [
        "θa = pi/4\n",
        "Ra = np.array([[cos(θa),-sin(θa), 0],\n",
        "               [sin(θa), cos(θa), 0],\n",
        "               [0,      0,        1]])\n",
        "\n",
        "θa_b = -pi/2\n",
        "Ra_b = np.array([[ cos(θa_b), 0, sin(θa_b)],\n",
        "                 [         0, 1, 0],\n",
        "                 [-sin(θa_b), 0, cos(θa_b)]])\n",
        "\n",
        "θb_c = pi/8\n",
        "Rb_c = np.array([[1,         0,  0],\n",
        "                 [0, cos(θb_c), -sin(θb_c)],\n",
        "                 [0, sin(θb_c),  cos(θb_c)]])\n",
        "\n",
        "Rc = Ra @ Ra_b @ Rb_c\n",
        "print(f\"Rc={Rc}\")"
      ]
    },
    {
      "cell_type": "markdown",
      "metadata": {},
      "source": [
        "## Inverse rotations in SO(3)\n",
        "\n",
        "Inverse operations in SO(3) are analogous to the inversions in SO(2), which are simply matrix transpositions. "
      ]
    },
    {
      "cell_type": "code",
      "execution_count": 248,
      "metadata": {
        "trusted": true
      },
      "outputs": [
        {
          "name": "stdout",
          "output_type": "stream",
          "text": [
            "The results are pretty much the same!\n"
          ]
        }
      ],
      "source": [
        "Ra_ = Rc @ Rb_c.T @ Ra_b.T \n",
        "\n",
        "if np.allclose(Ra, Ra_):\n",
        "    print('The results are pretty much the same!')\n",
        "else:\n",
        "    print('The results are too different.')\n"
      ]
    },
    {
      "cell_type": "markdown",
      "metadata": {},
      "source": [
        "# 3D poses\n",
        "\n",
        "3D poses are represented in SE(3) with matrices $\\mymatrix{H}\\in\\mathbb{R}^{4 \\times 4}$ with the following structure\n",
        "\n",
        "$$\\mymatrix{H}(\\myvec{t},\\mymatrix{R}) = \\left[\\begin{array}{ccc}\n",
        "             \\mymatrix{R} & \\myvec{t} \\\\\n",
        "             \\myvec{0} & 1 \n",
        "        \\end{array}\\right].$$"
      ]
    },
    {
      "cell_type": "markdown",
      "metadata": {},
      "source": [
        "## Sequential transformations\n",
        "\n",
        "We can also perform transformations using sequential multiplications, as for SO(3). Note also that we can verify the lack of commutativity on these transformations."
      ]
    },
    {
      "cell_type": "code",
      "execution_count": null,
      "metadata": {
        "trusted": true
      },
      "outputs": [
        {
          "name": "stdout",
          "output_type": "stream",
          "text": [
            "The results are far, therefore the operation is not commutative\n"
          ]
        },
        {
          "data": {
            "text/plain": [
              "<Figure size 640x480 with 0 Axes>"
            ]
          },
          "metadata": {},
          "output_type": "display_data"
        }
      ],
      "source": [
        "# An SE(3) translation\n",
        "x = 1\n",
        "y = 2\n",
        "z = 3\n",
        "θza = pi/4\n",
        "Ha =  np.array([[cos(θza),-sin(θza), 0, 1],\n",
        "                [sin(θza), cos(θza), 0, 2],\n",
        "                [0,        0,        1, 3],\n",
        "                [0,        0,        0, 1]])\n",
        "\n",
        "# An SE(3) rotation\n",
        "θxb = pi/4\n",
        "Hb = np.array([[1, 0,        0,       0],\n",
        "               [0, cos(θxb), -sin(θxb), 0],\n",
        "               [0, sin(θxb),  cos(θxb), 0],\n",
        "               [0, 0,        0,       1]])\n",
        "\n",
        "# Ha then Hb\n",
        "Hc = Ha @ Hb \n",
        "\n",
        "# Hb then Ha\n",
        "Hc_ = Hb @ Ha \n",
        "\n",
        "if np.isclose(Hc,Hc_).all():\n",
        "    print('The results are close!')\n",
        "else:\n",
        "    print('The results are far, therefore the operation is not commutative')"
      ]
    },
    {
      "cell_type": "markdown",
      "metadata": {},
      "source": [
        "## Inverse transformations\n",
        "\n",
        "As you have learned in theory, the inverse transformation can be found as\n",
        "\n",
        "$$\\mymatrix{H^{-1}}(\\myvec{t},\\mymatrix{R}) = \\left[\\begin{array}{ccc}\n",
        "             \\mymatrix{R}^T & -\\mymatrix{R}^T\\myvec{t} \\\\\n",
        "             \\myvec{0} & 1 \n",
        "        \\end{array}\\right],$$\n",
        "\n",
        "so it is important to remember to _never_ invert the matrix with regular inversion algorithms. Using the matricial properties leads to a simpler and faster inversion. The only \"trick\" is to obtain the submatrix corresponding to the rotation matrix."
      ]
    },
    {
      "cell_type": "code",
      "execution_count": 250,
      "metadata": {
        "trusted": true
      },
      "outputs": [
        {
          "name": "stdout",
          "output_type": "stream",
          "text": [
            "Rc_inv=[[ 0.70710678  0.70710678  0.         -2.12132034]\n",
            " [-0.5         0.5         0.70710678 -2.62132034]\n",
            " [ 0.5        -0.5         0.70710678 -1.62132034]\n",
            " [ 0.          0.          0.          1.        ]]\n",
            "Rc @ Rc_inv = [[ 1.00000000e+00  0.00000000e+00 -2.29934717e-17  3.33066907e-16]\n",
            " [ 0.00000000e+00  1.00000000e+00  0.00000000e+00  0.00000000e+00]\n",
            " [-2.29934717e-17  0.00000000e+00  1.00000000e+00  0.00000000e+00]\n",
            " [ 0.00000000e+00  0.00000000e+00  0.00000000e+00  1.00000000e+00]]\n"
          ]
        }
      ],
      "source": [
        "# Extract Rc from Hc\n",
        "Rc = Hc[0:3,0:3] # The 3x3 Rotation matrix\n",
        "tc = Hc[0:3,3].reshape((3,1)) # The 3x1 translation vector at the forth column. Reshape it into a column vector.\n",
        "\n",
        "A =  Rc.T\n",
        "B = -Rc.T@tc\n",
        "C = np.array([0,0,0])\n",
        "D = np.array([1])\n",
        "\n",
        "# This is how you can use `np.block` to build a matrix like so\n",
        "# | A B |\n",
        "# | C D |\n",
        "Hc_inv = np.block([[A, B], \n",
        "                   [C, D]])\n",
        "\n",
        "print(f\"Rc_inv={Hc_inv}\")\n",
        "\n",
        "print(f\"Rc @ Rc_inv = {Hc @ Hc_inv}\")"
      ]
    }
  ],
  "metadata": {
    "kernelspec": {
      "display_name": ".venv",
      "language": "python",
      "name": "python3"
    },
    "language_info": {
      "codemirror_mode": {
        "name": "ipython",
        "version": 3
      },
      "file_extension": ".py",
      "mimetype": "text/x-python",
      "name": "python",
      "nbconvert_exporter": "python",
      "pygments_lexer": "ipython3",
      "version": "3.12.9"
    }
  },
  "nbformat": 4,
  "nbformat_minor": 4
}
