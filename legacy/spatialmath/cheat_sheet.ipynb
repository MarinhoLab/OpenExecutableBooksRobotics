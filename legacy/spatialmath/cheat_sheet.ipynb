{
 "cells": [
  {
   "cell_type": "markdown",
   "metadata": {},
   "source": [
    "# Cheatsheet\n",
    "\n",
    "*License: CC-BY-NC-SA 4.0*\n",
    "\n",
    "*Author: Murilo M. Marinho (murilo.marinho@manchester.ac.uk)*\n",
    "\n",
    "## Installation"
   ]
  },
  {
   "cell_type": "code",
   "execution_count": 13,
   "metadata": {},
   "outputs": [],
   "source": [
    "%%capture\n",
    "%pip install numpy\n",
    "%pip install roboticstoolbox-python\n",
    "%pip install numpy --break-system-packages\n",
    "%pip install roboticstoolbox-python --break-system-packages"
   ]
  },
  {
   "cell_type": "markdown",
   "metadata": {},
   "source": [
    "# Macros\n",
    "\n",
    "$\\providecommand{\\myvec}[1]{{\\mathbf{\\boldsymbol{{#1}}}}}$\n",
    "$\\providecommand{\\mymatrix}[1]{{\\mathbf{\\boldsymbol{{#1}}}}}$"
   ]
  },
  {
   "cell_type": "raw",
   "metadata": {
    "vscode": {
     "languageId": "raw"
    }
   },
   "source": [
    "\\providecommand{\\myvec}[1]{{\\mathbf{\\boldsymbol{{#1}}}}}\n",
    "\\providecommand{\\mymatrix}[1]{{\\mathbf{\\boldsymbol{{#1}}}}}"
   ]
  },
  {
   "cell_type": "markdown",
   "metadata": {},
   "source": [
    "## Imports"
   ]
  },
  {
   "cell_type": "code",
   "execution_count": 14,
   "metadata": {},
   "outputs": [],
   "source": [
    "import numpy as np\n",
    "import spatialmath as sm\n",
    "from math import pi"
   ]
  },
  {
   "cell_type": "markdown",
   "metadata": {},
   "source": [
    "## Converting from `spatialmath` to `numpy`\n",
    "\n",
    "### SE(2)"
   ]
  },
  {
   "cell_type": "code",
   "execution_count": 15,
   "metadata": {},
   "outputs": [
    {
     "name": "stdout",
     "output_type": "stream",
     "text": [
      "  \u001b[38;5;1m 0       \u001b[0m \u001b[38;5;1m-1       \u001b[0m \u001b[38;5;4m 1       \u001b[0m  \u001b[0m\n",
      "  \u001b[38;5;1m 1       \u001b[0m \u001b[38;5;1m 0       \u001b[0m \u001b[38;5;4m 2       \u001b[0m  \u001b[0m\n",
      "  \u001b[38;5;244m 0       \u001b[0m \u001b[38;5;244m 0       \u001b[0m \u001b[38;5;244m 1       \u001b[0m  \u001b[0m\n",
      "\n",
      "The original SE(2) object was \n",
      "  \u001b[38;5;1m 0       \u001b[0m \u001b[38;5;1m-1       \u001b[0m \u001b[38;5;4m 1       \u001b[0m  \u001b[0m\n",
      "  \u001b[38;5;1m 1       \u001b[0m \u001b[38;5;1m 0       \u001b[0m \u001b[38;5;4m 2       \u001b[0m  \u001b[0m\n",
      "  \u001b[38;5;244m 0       \u001b[0m \u001b[38;5;244m 0       \u001b[0m \u001b[38;5;244m 1       \u001b[0m  \u001b[0m\n",
      "\n",
      " and can be converted to: \n",
      "\tA rotation matrix \n",
      "[[ 6.123234e-17 -1.000000e+00]\n",
      " [ 1.000000e+00  6.123234e-17]]\n",
      " that has size = (2, 2).\n",
      "\tA position vector \n",
      "[1. 2.]\n",
      " that has size = (2,).\n",
      "\tA homogenous transformation matrix \n",
      "[[ 6.123234e-17 -1.000000e+00  1.000000e+00]\n",
      " [ 1.000000e+00  6.123234e-17  2.000000e+00]\n",
      " [ 0.000000e+00  0.000000e+00  1.000000e+00]]\n",
      " that has size = (3, 3).\n"
     ]
    }
   ],
   "source": [
    "import numpy as np\n",
    "import spatialmath as sm\n",
    "from math import pi\n",
    "\n",
    "# SE(2)\n",
    "HA = sm.SE2(1,2,pi/2)\n",
    "print(HA)\n",
    "\n",
    "# Useful conversions\n",
    "# Rotation\n",
    "RA_np = HA.R\n",
    "# Position\n",
    "pA_np = HA.t\n",
    "# (full) Transformation\n",
    "HA_np = HA.A\n",
    "\n",
    "print(f\"The original SE(2) object was \\n{HA}\\n and can be converted to: \")\n",
    "print(f\"\\tA rotation matrix \\n{RA_np}\\n that has size = {RA_np.shape}.\")\n",
    "print(f\"\\tA position vector \\n{pA_np}\\n that has size = {pA_np.shape}.\")\n",
    "print(f\"\\tA homogenous transformation matrix \\n{HA_np}\\n that has size = {HA_np.shape}.\")\n",
    "\n"
   ]
  },
  {
   "cell_type": "markdown",
   "metadata": {},
   "source": [
    "### SE(3)"
   ]
  },
  {
   "cell_type": "code",
   "execution_count": 16,
   "metadata": {},
   "outputs": [
    {
     "name": "stdout",
     "output_type": "stream",
     "text": [
      "  \u001b[38;5;1m 0       \u001b[0m \u001b[38;5;1m-1       \u001b[0m \u001b[38;5;1m 0       \u001b[0m \u001b[38;5;4m 1       \u001b[0m  \u001b[0m\n",
      "  \u001b[38;5;1m 1       \u001b[0m \u001b[38;5;1m 0       \u001b[0m \u001b[38;5;1m 0       \u001b[0m \u001b[38;5;4m 2       \u001b[0m  \u001b[0m\n",
      "  \u001b[38;5;1m 0       \u001b[0m \u001b[38;5;1m 0       \u001b[0m \u001b[38;5;1m 1       \u001b[0m \u001b[38;5;4m 3       \u001b[0m  \u001b[0m\n",
      "  \u001b[38;5;244m 0       \u001b[0m \u001b[38;5;244m 0       \u001b[0m \u001b[38;5;244m 0       \u001b[0m \u001b[38;5;244m 1       \u001b[0m  \u001b[0m\n",
      "\n",
      "The original SE(2) object was \n",
      "  \u001b[38;5;1m 0       \u001b[0m \u001b[38;5;1m-1       \u001b[0m \u001b[38;5;1m 0       \u001b[0m \u001b[38;5;4m 1       \u001b[0m  \u001b[0m\n",
      "  \u001b[38;5;1m 1       \u001b[0m \u001b[38;5;1m 0       \u001b[0m \u001b[38;5;1m 0       \u001b[0m \u001b[38;5;4m 2       \u001b[0m  \u001b[0m\n",
      "  \u001b[38;5;1m 0       \u001b[0m \u001b[38;5;1m 0       \u001b[0m \u001b[38;5;1m 1       \u001b[0m \u001b[38;5;4m 3       \u001b[0m  \u001b[0m\n",
      "  \u001b[38;5;244m 0       \u001b[0m \u001b[38;5;244m 0       \u001b[0m \u001b[38;5;244m 0       \u001b[0m \u001b[38;5;244m 1       \u001b[0m  \u001b[0m\n",
      "\n",
      " and can be converted to: \n",
      "\tA rotation matrix \n",
      "[[ 6.123234e-17 -1.000000e+00  0.000000e+00]\n",
      " [ 1.000000e+00  6.123234e-17  0.000000e+00]\n",
      " [ 0.000000e+00  0.000000e+00  1.000000e+00]]\n",
      " that has size = (3, 3).\n",
      "\tA position vector \n",
      "[1. 2. 3.]\n",
      " that has size = (3,).\n",
      "\tA homogenous transformation matrix \n",
      "[[ 6.123234e-17 -1.000000e+00  0.000000e+00  1.000000e+00]\n",
      " [ 1.000000e+00  6.123234e-17  0.000000e+00  2.000000e+00]\n",
      " [ 0.000000e+00  0.000000e+00  1.000000e+00  3.000000e+00]\n",
      " [ 0.000000e+00  0.000000e+00  0.000000e+00  1.000000e+00]]\n",
      " that has size = (4, 4).\n"
     ]
    }
   ],
   "source": [
    "import numpy as np\n",
    "import spatialmath as sm\n",
    "from math import pi\n",
    "\n",
    "# SE(3)\n",
    "HB = sm.SE3(1,2,3) * sm.SE3().Rz(pi/2)\n",
    "print(HB)\n",
    "\n",
    "# Useful conversions\n",
    "# Rotation\n",
    "RB_np = HB.R\n",
    "# Position\n",
    "pB_np = HB.t\n",
    "# (full) Transformation\n",
    "HB_np = HB.A\n",
    "\n",
    "print(f\"The original SE(2) object was \\n{HB}\\n and can be converted to: \")\n",
    "print(f\"\\tA rotation matrix \\n{RB_np}\\n that has size = {RB_np.shape}.\")\n",
    "print(f\"\\tA position vector \\n{pB_np}\\n that has size = {pB_np.shape}.\")\n",
    "print(f\"\\tA homogenous transformation matrix \\n{HB_np}\\n that has size = {HB_np.shape}.\")"
   ]
  },
  {
   "cell_type": "markdown",
   "metadata": {},
   "source": [
    "## Comparing `numpy` matrices\n",
    "\n",
    "Owing to floating point limitations of computers, use, in general, `numpy.allclose`."
   ]
  },
  {
   "cell_type": "code",
   "execution_count": 17,
   "metadata": {},
   "outputs": [
    {
     "name": "stdout",
     "output_type": "stream",
     "text": [
      "True\n"
     ]
    }
   ],
   "source": [
    "import numpy as np\n",
    "import spatialmath as sm\n",
    "from math import pi, sin, cos\n",
    "\n",
    "# SE(2) with spatialmath\n",
    "HC = sm.SE2(1,2,pi/2)\n",
    "\n",
    "# SE(2) directly from numpy\n",
    "HC_np = np.array(\n",
    "        [[cos(pi/2), -sin(pi/2),  1],\n",
    "         [sin(pi/2),  cos(pi/2),  2],\n",
    "         [0,            0,        1]]\n",
    ")\n",
    "\n",
    "# Compare HC.A and HC_np\n",
    "print(np.allclose(HC.A, HC_np))"
   ]
  },
  {
   "cell_type": "markdown",
   "metadata": {},
   "source": [
    "If you're having problems comparing matrices with \"similar\" dimesions, try to use `numpy.squeeze` when applicable. \n",
    "\n",
    "To understand the problem, see $\\myvec{v}_1$ and $\\myvec{v}_2$ below"
   ]
  },
  {
   "cell_type": "code",
   "execution_count": 18,
   "metadata": {},
   "outputs": [
    {
     "name": "stdout",
     "output_type": "stream",
     "text": [
      "Shapes are not equal, notice that in v1 we have [] and in v2 we have [[]].\n",
      "So, v1.shape=(2,) and v2.shape=(1, 2).\n",
      "True\n"
     ]
    }
   ],
   "source": [
    "import numpy as np\n",
    "from math import pi, sin, cos\n",
    "\n",
    "v1 = np.array([sin(pi/2), cos(pi/2)])\n",
    "v2 = np.array([[sin(pi/2), cos(pi/2)]])\n",
    "\n",
    "print(f\"Shapes are not equal, notice that in v1 we have [] and in v2 we have [[]].\")\n",
    "print(f\"So, v1.shape={v1.shape} and v2.shape={v2.shape}.\")\n",
    "\n",
    "print(np.allclose(v1, v2))"
   ]
  },
  {
   "cell_type": "markdown",
   "metadata": {},
   "source": [
    "To compare, we do"
   ]
  },
  {
   "cell_type": "code",
   "execution_count": 19,
   "metadata": {},
   "outputs": [
    {
     "name": "stdout",
     "output_type": "stream",
     "text": [
      "True\n"
     ]
    }
   ],
   "source": [
    "# Compare v1 and v2\n",
    "print(np.allclose(np.squeeze(v1), np.squeeze(v2)))"
   ]
  }
 ],
 "metadata": {
  "kernelspec": {
   "display_name": ".venv",
   "language": "python",
   "name": "python3"
  },
  "language_info": {
   "codemirror_mode": {
    "name": "ipython",
    "version": 3
   },
   "file_extension": ".py",
   "mimetype": "text/x-python",
   "name": "python",
   "nbconvert_exporter": "python",
   "pygments_lexer": "ipython3",
   "version": "3.12.9"
  }
 },
 "nbformat": 4,
 "nbformat_minor": 2
}
